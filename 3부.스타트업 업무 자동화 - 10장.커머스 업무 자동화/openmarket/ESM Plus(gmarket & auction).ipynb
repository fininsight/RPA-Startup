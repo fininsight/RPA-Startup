{
 "cells": [
  {
   "cell_type": "markdown",
   "metadata": {},
   "source": [
    "# Open Market 자동화\n",
    "## Overview\n",
    "\n",
    "### 인식: 인간처리에 좀 더 가깝게.\n",
    "\n",
    "### 개발 리스트\n",
    "\n",
    "  1. 복수 오픈마켓 주문정보 수집하여 메일로 알림\n",
    "  2. 복수 오픈마켓 재고정보 수집하여 메일로 알림\n",
    "  3. 복수 오픈마켓 부가세 신고자료 취합하여 엑셀로 정리\n",
    "  \n",
    "### 2개의 version\n",
    "\n",
    "1. 브라우저 핸들링 (Selenium)\n",
    "2. 공식 REST API\n",
    "\n",
    "### Open Market List\n",
    "\n",
    "- 지마켓 (http://www.gmarket.co.kr)\n",
    "- 옥션 (http://www.auction.co.kr/\n",
    "- 11번가 (https://www.11st.co.kr/html/main.html)\n",
    "- 스마트스토어 (https://sell.smartstore.naver.com)\n",
    "\n"
   ]
  },
  {
   "cell_type": "markdown",
   "metadata": {},
   "source": [
    "## Version1. 브라우저 핸들링 (selenium)"
   ]
  },
  {
   "cell_type": "markdown",
   "metadata": {},
   "source": [
    "## 1-1. 복수 오픈마켓 주문정보 수집하여 메일로 알림"
   ]
  },
  {
   "cell_type": "markdown",
   "metadata": {},
   "source": [
    "# <공통> (각 사이트마다)\n",
    "\n",
    "1. 초기 설정 (브라우저 설정, 브라우저 위치 등)\n",
    "2. 로그인 페이지 접속\n",
    "3. 로그인 시도\n",
    "4. 주문정보 확인 사이트로 이동\n",
    "5. 주문정보 확인 필터링 걸기\n",
    "6. 엑셀 다운로드 or crawling\n",
    "7. 데이터 가공(엑셀 합치기 or HTML 만들기)\n",
    "8. 메일 보내기"
   ]
  },
  {
   "cell_type": "markdown",
   "metadata": {},
   "source": [
    "#### ESM Plus(Gmarket. & Auction)"
   ]
  },
  {
   "cell_type": "markdown",
   "metadata": {},
   "source": [
    "##### (0) 로그인 페이지 접속"
   ]
  },
  {
   "cell_type": "code",
   "execution_count": 114,
   "metadata": {},
   "outputs": [],
   "source": [
    "## 1. 초기 설정 (브라우저 설정, 브라우저 환경설정(header 등) )\n",
    "\"\"\"\n",
    "정말 많은 brower가 있습니다만,\n",
    "본 예제에서는 OS에 독립적으로 실행되길 원하므로,\n",
    "보편적인 Chrome을 사용하겠습니다.\n",
    "만약 chrome driver가 없다면 아래 링크에서 설치하십시요.\n",
    "- http://chromedriver.storage.googleapis.com/index.html\n",
    "\"\"\"\n",
    "\n",
    "from selenium import webdriver\n",
    "\n",
    "\n",
    "# TODO: Option에 대한 설명 필요.\n",
    "# options = None\n",
    "options = webdriver.ChromeOptions()\n",
    "options.add_experimental_option('prefs', {\n",
    "    \"download.default_directory\": '.'\n",
    "})\n",
    "driver = webdriver.Chrome(options=options)\n",
    "driver.maximize_window()\n",
    "driver.implicitly_wait(30)\n",
    "\n",
    "\n",
    "### 아래와 같은 많은 브라우저들이 있습니다.\n",
    "\n",
    "# driver = webdriver.FireFox\n",
    "# webdriver.FirefoxProfile\n",
    "\n",
    "# driver = webdriver.Ie\n",
    "# driver = webdriver.Opera\n",
    "\n",
    "# driver = webdriver.PhantomJS\n",
    "\n",
    "# driver = webdriver.Remote\n",
    "# webdriver.DesiredCapabilities\n",
    "\n",
    "# driver = webdriver.safairi\n",
    "\n",
    "## ...\n",
    "\n"
   ]
  },
  {
   "cell_type": "markdown",
   "metadata": {},
   "source": [
    "#### ESM Plus(Gmarket. & Auction)\n",
    "##### (2) 로그인 페이지 접속"
   ]
  },
  {
   "cell_type": "code",
   "execution_count": 115,
   "metadata": {},
   "outputs": [],
   "source": [
    "# 관리자 로그인 페이지 접속\n",
    "login_url = \"https://www.esmplus.com/Member/SignIn/LogOn\"\n",
    "\n",
    "driver.get(login_url) # onload wait 포함.\n"
   ]
  },
  {
   "cell_type": "markdown",
   "metadata": {},
   "source": [
    "##### (3) 로그인 시도"
   ]
  },
  {
   "cell_type": "code",
   "execution_count": 116,
   "metadata": {},
   "outputs": [],
   "source": [
    "esm_userid = 'market25'\n",
    "esm_password = 'hsh981129*'\n",
    "\n",
    "# id_input 찾기.\n",
    "id_input = driver.find_element_by_xpath('//*[@id=\"Id\"]')\n",
    "# password_input 찾기.\n",
    "password_input = driver.find_element_by_xpath('//*[@id=\"Password\"]')\n",
    "# login_button 찾기.\n",
    "login_button = driver.find_element_by_xpath('//*[@id=\"btnLogOn\"]/img')\n",
    "\n",
    "actions = webdriver.ActionChains(driver)\n",
    "\n",
    "actions.move_to_element(id_input).click().send_keys(esm_userid)\n",
    "actions.move_to_element(password_input).click().send_keys(esm_password)\n",
    "actions.move_to_element(login_button).click()\n",
    "actions.perform()\n",
    "\n",
    "actions.reset_actions()\n"
   ]
  },
  {
   "cell_type": "markdown",
   "metadata": {},
   "source": [
    "#### 주문정보 확인 사이트로 이동"
   ]
  },
  {
   "cell_type": "code",
   "execution_count": 117,
   "metadata": {},
   "outputs": [],
   "source": [
    "# is redirected to admin/home\n",
    "# print(driver.current_url)\n",
    "# print(driver.current_window_handle)\n",
    "# print(driver.desired_capabilities)\n",
    "\n",
    "# TODO: Driver.switch_to 객체에 대해 공부 필요..(문서에 없음.)\n",
    "\n",
    "actions = webdriver.ActionChains(driver)\n",
    "\n",
    "order_manage_button = driver.find_element_by_xpath('//*[@id=\"TDM002\"]/a')\n",
    "actions.move_to_element(order_manage_button).click()\n",
    "\n",
    "new_order_button = driver.find_element_by_xpath('//*[@id=\"TDM105\"]/a')\n",
    "actions.move_to_element(new_order_button).click()\n",
    "\n",
    "actions.perform()\n",
    "actions.reset_actions()\n",
    "\n",
    "\n"
   ]
  },
  {
   "cell_type": "markdown",
   "metadata": {},
   "source": [
    "#### 주문정보 확인 필터링 걸기"
   ]
  },
  {
   "cell_type": "code",
   "execution_count": 118,
   "metadata": {
    "scrolled": false
   },
   "outputs": [],
   "source": [
    "### 우리는 최근 한달 신규 주문만 조회하겠습니다.\n",
    "\n",
    "actions = webdriver.ActionChains(driver)\n",
    "\n",
    "# 사실 피료 없다.\n",
    "# order_tab = driver.find_element_by_xpath('//*[@id=\"tTDM105\"]/a[2]')\n",
    "# actions.move_to_element(order_tab).click()\n",
    "# actions.perform()\n",
    "# actions.reset_actions()\n",
    "\n",
    "driver.switch_to.window(driver.window_handles[0])\n",
    "driver.switch_to.default_content()\n",
    "driver.switch_to.frame('ifm_TDM105')\n",
    "\n",
    "\n",
    "month1_filter = driver.find_element_by_xpath('//*[@id=\"divSearch\"]/div/div[1]/table/tbody/tr[1]/td[1]/span[4]/a')\n",
    "actions.move_to_element(month1_filter).click()\n",
    "\n",
    "actions.perform()\n",
    "actions.reset_actions()"
   ]
  },
  {
   "cell_type": "markdown",
   "metadata": {},
   "source": [
    "#### 엑셀 다운로드 or crawling"
   ]
  },
  {
   "cell_type": "code",
   "execution_count": 120,
   "metadata": {},
   "outputs": [
    {
     "ename": "NoSuchWindowException",
     "evalue": "Message: no such window: target window already closed\nfrom unknown error: web view not found\n  (Session info: chrome=71.0.3578.98)\n  (Driver info: chromedriver=2.45.615355 (d5698f682d8b2742017df6c81e0bd8e6a3063189),platform=Mac OS X 10.13.5 x86_64)\n",
     "output_type": "error",
     "traceback": [
      "\u001b[0;31m---------------------------------------------------------------------------\u001b[0m",
      "\u001b[0;31mNoSuchWindowException\u001b[0m                     Traceback (most recent call last)",
      "\u001b[0;32m<ipython-input-120-0428ed37bb4a>\u001b[0m in \u001b[0;36m<module>\u001b[0;34m\u001b[0m\n\u001b[0;32m----> 1\u001b[0;31m \u001b[0mdownload_excel\u001b[0m \u001b[0;34m=\u001b[0m \u001b[0mdriver\u001b[0m\u001b[0;34m.\u001b[0m\u001b[0mfind_element_by_xpath\u001b[0m\u001b[0;34m(\u001b[0m\u001b[0;34m'//*[@id=\"excelDown\"]'\u001b[0m\u001b[0;34m)\u001b[0m\u001b[0;34m\u001b[0m\u001b[0m\n\u001b[0m\u001b[1;32m      2\u001b[0m \u001b[0mactions\u001b[0m\u001b[0;34m.\u001b[0m\u001b[0mmove_to_element\u001b[0m\u001b[0;34m(\u001b[0m\u001b[0mdownload_excel\u001b[0m\u001b[0;34m)\u001b[0m\u001b[0;34m.\u001b[0m\u001b[0mclick\u001b[0m\u001b[0;34m(\u001b[0m\u001b[0;34m)\u001b[0m\u001b[0;34m\u001b[0m\u001b[0m\n\u001b[1;32m      3\u001b[0m \u001b[0;34m\u001b[0m\u001b[0m\n\u001b[1;32m      4\u001b[0m \u001b[0mactions\u001b[0m\u001b[0;34m.\u001b[0m\u001b[0mperform\u001b[0m\u001b[0;34m(\u001b[0m\u001b[0;34m)\u001b[0m\u001b[0;34m\u001b[0m\u001b[0m\n\u001b[1;32m      5\u001b[0m \u001b[0mactions\u001b[0m\u001b[0;34m.\u001b[0m\u001b[0mreset_actions\u001b[0m\u001b[0;34m(\u001b[0m\u001b[0;34m)\u001b[0m\u001b[0;34m\u001b[0m\u001b[0m\n",
      "\u001b[0;32m~/Tweakers/tweakers-project/fin-tweak-rpa/.venv/lib/python3.6/site-packages/selenium/webdriver/remote/webdriver.py\u001b[0m in \u001b[0;36mfind_element_by_xpath\u001b[0;34m(self, xpath)\u001b[0m\n\u001b[1;32m    392\u001b[0m             \u001b[0melement\u001b[0m \u001b[0;34m=\u001b[0m \u001b[0mdriver\u001b[0m\u001b[0;34m.\u001b[0m\u001b[0mfind_element_by_xpath\u001b[0m\u001b[0;34m(\u001b[0m\u001b[0;34m'//div/td[1]'\u001b[0m\u001b[0;34m)\u001b[0m\u001b[0;34m\u001b[0m\u001b[0m\n\u001b[1;32m    393\u001b[0m         \"\"\"\n\u001b[0;32m--> 394\u001b[0;31m         \u001b[0;32mreturn\u001b[0m \u001b[0mself\u001b[0m\u001b[0;34m.\u001b[0m\u001b[0mfind_element\u001b[0m\u001b[0;34m(\u001b[0m\u001b[0mby\u001b[0m\u001b[0;34m=\u001b[0m\u001b[0mBy\u001b[0m\u001b[0;34m.\u001b[0m\u001b[0mXPATH\u001b[0m\u001b[0;34m,\u001b[0m \u001b[0mvalue\u001b[0m\u001b[0;34m=\u001b[0m\u001b[0mxpath\u001b[0m\u001b[0;34m)\u001b[0m\u001b[0;34m\u001b[0m\u001b[0m\n\u001b[0m\u001b[1;32m    395\u001b[0m \u001b[0;34m\u001b[0m\u001b[0m\n\u001b[1;32m    396\u001b[0m     \u001b[0;32mdef\u001b[0m \u001b[0mfind_elements_by_xpath\u001b[0m\u001b[0;34m(\u001b[0m\u001b[0mself\u001b[0m\u001b[0;34m,\u001b[0m \u001b[0mxpath\u001b[0m\u001b[0;34m)\u001b[0m\u001b[0;34m:\u001b[0m\u001b[0;34m\u001b[0m\u001b[0m\n",
      "\u001b[0;32m~/Tweakers/tweakers-project/fin-tweak-rpa/.venv/lib/python3.6/site-packages/selenium/webdriver/remote/webdriver.py\u001b[0m in \u001b[0;36mfind_element\u001b[0;34m(self, by, value)\u001b[0m\n\u001b[1;32m    976\u001b[0m         return self.execute(Command.FIND_ELEMENT, {\n\u001b[1;32m    977\u001b[0m             \u001b[0;34m'using'\u001b[0m\u001b[0;34m:\u001b[0m \u001b[0mby\u001b[0m\u001b[0;34m,\u001b[0m\u001b[0;34m\u001b[0m\u001b[0m\n\u001b[0;32m--> 978\u001b[0;31m             'value': value})['value']\n\u001b[0m\u001b[1;32m    979\u001b[0m \u001b[0;34m\u001b[0m\u001b[0m\n\u001b[1;32m    980\u001b[0m     \u001b[0;32mdef\u001b[0m \u001b[0mfind_elements\u001b[0m\u001b[0;34m(\u001b[0m\u001b[0mself\u001b[0m\u001b[0;34m,\u001b[0m \u001b[0mby\u001b[0m\u001b[0;34m=\u001b[0m\u001b[0mBy\u001b[0m\u001b[0;34m.\u001b[0m\u001b[0mID\u001b[0m\u001b[0;34m,\u001b[0m \u001b[0mvalue\u001b[0m\u001b[0;34m=\u001b[0m\u001b[0;32mNone\u001b[0m\u001b[0;34m)\u001b[0m\u001b[0;34m:\u001b[0m\u001b[0;34m\u001b[0m\u001b[0m\n",
      "\u001b[0;32m~/Tweakers/tweakers-project/fin-tweak-rpa/.venv/lib/python3.6/site-packages/selenium/webdriver/remote/webdriver.py\u001b[0m in \u001b[0;36mexecute\u001b[0;34m(self, driver_command, params)\u001b[0m\n\u001b[1;32m    319\u001b[0m         \u001b[0mresponse\u001b[0m \u001b[0;34m=\u001b[0m \u001b[0mself\u001b[0m\u001b[0;34m.\u001b[0m\u001b[0mcommand_executor\u001b[0m\u001b[0;34m.\u001b[0m\u001b[0mexecute\u001b[0m\u001b[0;34m(\u001b[0m\u001b[0mdriver_command\u001b[0m\u001b[0;34m,\u001b[0m \u001b[0mparams\u001b[0m\u001b[0;34m)\u001b[0m\u001b[0;34m\u001b[0m\u001b[0m\n\u001b[1;32m    320\u001b[0m         \u001b[0;32mif\u001b[0m \u001b[0mresponse\u001b[0m\u001b[0;34m:\u001b[0m\u001b[0;34m\u001b[0m\u001b[0m\n\u001b[0;32m--> 321\u001b[0;31m             \u001b[0mself\u001b[0m\u001b[0;34m.\u001b[0m\u001b[0merror_handler\u001b[0m\u001b[0;34m.\u001b[0m\u001b[0mcheck_response\u001b[0m\u001b[0;34m(\u001b[0m\u001b[0mresponse\u001b[0m\u001b[0;34m)\u001b[0m\u001b[0;34m\u001b[0m\u001b[0m\n\u001b[0m\u001b[1;32m    322\u001b[0m             response['value'] = self._unwrap_value(\n\u001b[1;32m    323\u001b[0m                 response.get('value', None))\n",
      "\u001b[0;32m~/Tweakers/tweakers-project/fin-tweak-rpa/.venv/lib/python3.6/site-packages/selenium/webdriver/remote/errorhandler.py\u001b[0m in \u001b[0;36mcheck_response\u001b[0;34m(self, response)\u001b[0m\n\u001b[1;32m    240\u001b[0m                 \u001b[0malert_text\u001b[0m \u001b[0;34m=\u001b[0m \u001b[0mvalue\u001b[0m\u001b[0;34m[\u001b[0m\u001b[0;34m'alert'\u001b[0m\u001b[0;34m]\u001b[0m\u001b[0;34m.\u001b[0m\u001b[0mget\u001b[0m\u001b[0;34m(\u001b[0m\u001b[0;34m'text'\u001b[0m\u001b[0;34m)\u001b[0m\u001b[0;34m\u001b[0m\u001b[0m\n\u001b[1;32m    241\u001b[0m             \u001b[0;32mraise\u001b[0m \u001b[0mexception_class\u001b[0m\u001b[0;34m(\u001b[0m\u001b[0mmessage\u001b[0m\u001b[0;34m,\u001b[0m \u001b[0mscreen\u001b[0m\u001b[0;34m,\u001b[0m \u001b[0mstacktrace\u001b[0m\u001b[0;34m,\u001b[0m \u001b[0malert_text\u001b[0m\u001b[0;34m)\u001b[0m\u001b[0;34m\u001b[0m\u001b[0m\n\u001b[0;32m--> 242\u001b[0;31m         \u001b[0;32mraise\u001b[0m \u001b[0mexception_class\u001b[0m\u001b[0;34m(\u001b[0m\u001b[0mmessage\u001b[0m\u001b[0;34m,\u001b[0m \u001b[0mscreen\u001b[0m\u001b[0;34m,\u001b[0m \u001b[0mstacktrace\u001b[0m\u001b[0;34m)\u001b[0m\u001b[0;34m\u001b[0m\u001b[0m\n\u001b[0m\u001b[1;32m    243\u001b[0m \u001b[0;34m\u001b[0m\u001b[0m\n\u001b[1;32m    244\u001b[0m     \u001b[0;32mdef\u001b[0m \u001b[0m_value_or_default\u001b[0m\u001b[0;34m(\u001b[0m\u001b[0mself\u001b[0m\u001b[0;34m,\u001b[0m \u001b[0mobj\u001b[0m\u001b[0;34m,\u001b[0m \u001b[0mkey\u001b[0m\u001b[0;34m,\u001b[0m \u001b[0mdefault\u001b[0m\u001b[0;34m)\u001b[0m\u001b[0;34m:\u001b[0m\u001b[0;34m\u001b[0m\u001b[0m\n",
      "\u001b[0;31mNoSuchWindowException\u001b[0m: Message: no such window: target window already closed\nfrom unknown error: web view not found\n  (Session info: chrome=71.0.3578.98)\n  (Driver info: chromedriver=2.45.615355 (d5698f682d8b2742017df6c81e0bd8e6a3063189),platform=Mac OS X 10.13.5 x86_64)\n"
     ]
    }
   ],
   "source": [
    "download_excel = driver.find_element_by_xpath('//*[@id=\"excelDown\"]')\n",
    "actions.move_to_element(download_excel).click()\n",
    "\n",
    "actions.perform()\n",
    "actions.reset_actions()\n",
    "\n",
    "# https://selenium-python.readthedocs.io/api.html#module-selenium.webdriver.common.alert\n",
    "\n",
    "alerts = driver.switch_to.alert\n",
    "alerts.accept()\n",
    "\n",
    "\n",
    "print(driver.window_handles)\n",
    "print(dir(driver.window_handles[1]))\n",
    "print(driver.window_handles[1])\n",
    "\n",
    "parent_handle = driver.current_window_handle\n",
    "for win_handle in driver.window_handles:\n",
    "    driver.switch_to.window(win_handle)\n",
    "    if driver.title == '엑셀분할다운로드설정':\n",
    "        actions.move_to_element(driver.find_element_by_xpath('//*[@id=\"popContents\"]/div/a[1]/img')).click()\n",
    "        actions.perform()\n",
    "        actions.reset_actions()\n",
    "        driver.close()\n",
    "        break\n",
    "\n",
    "        driver.switch_to.window(parent_handle)\n",
    "        \n",
    "\n",
    "# driver.switch_to.window(driver.window_handles[-1])\n",
    "\n"
   ]
  },
  {
   "cell_type": "markdown",
   "metadata": {},
   "source": [
    "#### 데이터 가공(엑셀 합치기 or HTML 만들기)\n",
    "#### 메일 보내기"
   ]
  },
  {
   "cell_type": "code",
   "execution_count": null,
   "metadata": {},
   "outputs": [],
   "source": []
  },
  {
   "cell_type": "markdown",
   "metadata": {},
   "source": [
    "\n",
    "\n"
   ]
  },
  {
   "cell_type": "code",
   "execution_count": null,
   "metadata": {},
   "outputs": [],
   "source": []
  },
  {
   "cell_type": "code",
   "execution_count": null,
   "metadata": {},
   "outputs": [],
   "source": []
  },
  {
   "cell_type": "code",
   "execution_count": null,
   "metadata": {},
   "outputs": [],
   "source": []
  },
  {
   "cell_type": "code",
   "execution_count": null,
   "metadata": {},
   "outputs": [],
   "source": []
  },
  {
   "cell_type": "markdown",
   "metadata": {},
   "source": [
    "\n",
    "\n",
    "\n",
    "\n",
    "## 2. 복수 오픈마켓 재고정보 수집하여 메일로 알림\n",
    "\n",
    "0. 각 OpenMarket 점검 시간인지 checking\n",
    "1. 로그인 페이지 접속\n",
    "2. 로그인 시도\n",
    "3. 재고 정보 확인 사이트로 이동\n",
    "4. 재고 정보 수집 필터링 걸기\n",
    "5. 엑셀 다운로드 or crawling\n",
    "6. 데이터 가공(엑셀 합치기 or HTML 만들기)\n",
    "7. 메일 보내기\n",
    "\n",
    "## 3. 복수 오픈마켓 부가세 신고자료 취합하여 엑셀로 정리\n",
    "\n",
    "0. 각 OpenMarket 점검 시간인지 checking\n",
    "1. 로그인 페이지 접속\n",
    "2. 로그인 시도\n",
    "3. 부가세 확인 사이트로 이동\n",
    "4. 부가세 정보 수집 필터링 걸기\n",
    "5. 엑셀 다운로드 or crawling\n",
    "6. 데이터 가공(엑셀 합치기 or HTML 만들기)\n",
    "7. 메일 보내기\n",
    "\n",
    "#### REST API 사용 버전\n",
    "\n",
    "**(보류)**"
   ]
  },
  {
   "cell_type": "code",
   "execution_count": null,
   "metadata": {},
   "outputs": [],
   "source": []
  }
 ],
 "metadata": {
  "kernelspec": {
   "display_name": "Python 3",
   "language": "python",
   "name": "python3"
  },
  "language_info": {
   "codemirror_mode": {
    "name": "ipython",
    "version": 3
   },
   "file_extension": ".py",
   "mimetype": "text/x-python",
   "name": "python",
   "nbconvert_exporter": "python",
   "pygments_lexer": "ipython3",
   "version": "3.7.0"
  }
 },
 "nbformat": 4,
 "nbformat_minor": 2
}
