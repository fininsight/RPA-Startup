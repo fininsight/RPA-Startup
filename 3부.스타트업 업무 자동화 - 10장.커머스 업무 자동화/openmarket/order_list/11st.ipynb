{
 "cells": [
  {
   "cell_type": "markdown",
   "metadata": {},
   "source": [
    "# Open Market 자동화\n",
    "## Overview\n",
    "\n",
    "### 인식: 인간처리에 좀 더 가깝게.\n",
    "\n",
    "### 개발 리스트\n",
    "\n",
    "  1. 복수 오픈마켓 주문정보 수집하여 메일로 알림\n",
    "  2. 복수 오픈마켓 재고정보 수집하여 메일로 알림\n",
    "  3. 복수 오픈마켓 부가세 신고자료 취합하여 엑셀로 정리\n",
    "  \n",
    "### 2개의 version\n",
    "\n",
    "1. 브라우저 핸들링 (Selenium)\n",
    "2. 공식 REST API\n",
    "\n",
    "### Open Market List\n",
    "\n",
    "- 지마켓 (http://www.gmarket.co.kr)\n",
    "- 옥션 (http://www.auction.co.kr/\n",
    "- 11번가 (https://www.11st.co.kr/html/main.html)\n",
    "- 스마트스토어 (https://sell.smartstore.naver.com)\n",
    "\n"
   ]
  },
  {
   "cell_type": "markdown",
   "metadata": {},
   "source": [
    "## Version1. 브라우저 핸들링 (selenium)"
   ]
  },
  {
   "cell_type": "markdown",
   "metadata": {},
   "source": [
    "## 1-1. 복수 오픈마켓 주문정보 수집하여 메일로 알림"
   ]
  },
  {
   "cell_type": "markdown",
   "metadata": {},
   "source": [
    "# <공통> (각 사이트마다)\n",
    "\n",
    "1. 초기 설정 (브라우저 설정, 브라우저 위치 등)\n",
    "2. 로그인 페이지 접속\n",
    "3. 로그인 시도\n",
    "4. 주문정보 확인 사이트로 이동\n",
    "5. 주문정보 확인 필터링 걸기\n",
    "6. 엑셀 다운로드 or crawling\n",
    "7. 데이터 가공(엑셀 합치기 or HTML 만들기)\n",
    "8. 메일 보내기"
   ]
  },
  {
   "cell_type": "markdown",
   "metadata": {},
   "source": [
    "#### 11ST"
   ]
  },
  {
   "cell_type": "markdown",
   "metadata": {},
   "source": [
    "##### (0) 로그인 페이지 접속"
   ]
  },
  {
   "cell_type": "code",
   "execution_count": 1,
   "metadata": {},
   "outputs": [],
   "source": [
    "## 1. 초기 설정 (브라우저 설정, 브라우저 환경설정(header 등) )\n",
    "\"\"\"\n",
    "정말 많은 brower가 있습니다만,\n",
    "본 예제에서는 OS에 독립적으로 실행되길 원하므로,\n",
    "보편적인 Chrome을 사용하겠습니다.\n",
    "만약 chrome driver가 없다면 아래 링크에서 설치하십시요.\n",
    "- http://chromedriver.storage.googleapis.com/index.html\n",
    "\"\"\"\n",
    "\n",
    "from selenium import webdriver\n",
    "\n",
    "\n",
    "# TODO: Option에 대한 설명 필요.\n",
    "# options = None\n",
    "options = webdriver.ChromeOptions()\n",
    "options.add_experimental_option('prefs', {\n",
    "    \"download.default_directory\": '.'\n",
    "})\n",
    "driver = webdriver.Chrome(options=options)\n",
    "driver.maximize_window()\n",
    "driver.implicitly_wait(30)\n",
    "\n",
    "\n",
    "### 아래와 같은 많은 브라우저들이 있습니다.\n",
    "\n",
    "# driver = webdriver.FireFox\n",
    "# webdriver.FirefoxProfile\n",
    "\n",
    "# driver = webdriver.Ie\n",
    "# driver = webdriver.Opera\n",
    "\n",
    "# driver = webdriver.PhantomJS\n",
    "\n",
    "# driver = webdriver.Remote\n",
    "# webdriver.DesiredCapabilities\n",
    "\n",
    "# driver = webdriver.safairi\n",
    "\n",
    "## ...\n",
    "\n"
   ]
  },
  {
   "cell_type": "markdown",
   "metadata": {},
   "source": [
    "#### ESM Plus(Gmarket. & Auction)\n",
    "##### (2) 로그인 페이지 접속"
   ]
  },
  {
   "cell_type": "code",
   "execution_count": 2,
   "metadata": {},
   "outputs": [],
   "source": [
    "# 관리자 로그인 페이지 접속\n",
    "login_url = \"https://login.soffice.11st.co.kr/login/Login.page\"\n",
    "\n",
    "driver.get(login_url) # onload wait 포함.\n"
   ]
  },
  {
   "cell_type": "markdown",
   "metadata": {},
   "source": [
    "##### (3) 로그인 시도"
   ]
  },
  {
   "cell_type": "code",
   "execution_count": 3,
   "metadata": {},
   "outputs": [],
   "source": [
    "esm_userid = 'picturemall'\n",
    "esm_password = 'hsh981129*'\n",
    "\n",
    "# id_input 찾기.\n",
    "id_input = driver.find_element_by_xpath('//*[@id=\"loginName\"]')\n",
    "# password_input 찾기.\n",
    "password_input = driver.find_element_by_xpath('//*[@id=\"passWord\"]')\n",
    "# login_button 찾기.\n",
    "login_button = driver.find_element_by_xpath('//*[@id=\"layBody\"]/div/div/form/div[2]/div/div/fieldset/div/div/input')\n",
    "\n",
    "actions = webdriver.ActionChains(driver)\n",
    "\n",
    "actions.move_to_element(id_input).click().send_keys(esm_userid)\n",
    "actions.move_to_element(password_input).click().send_keys(esm_password)\n",
    "actions.move_to_element(login_button).click()\n",
    "actions.perform()\n",
    "\n",
    "actions.reset_actions()\n"
   ]
  },
  {
   "cell_type": "markdown",
   "metadata": {},
   "source": [
    "##### (예외처리) [Password변경 요청.]"
   ]
  },
  {
   "cell_type": "code",
   "execution_count": 4,
   "metadata": {},
   "outputs": [],
   "source": [
    "# 보류"
   ]
  },
  {
   "cell_type": "markdown",
   "metadata": {},
   "source": [
    "#### 주문정보 확인 사이트로 이동"
   ]
  },
  {
   "cell_type": "code",
   "execution_count": 5,
   "metadata": {},
   "outputs": [],
   "source": [
    "# is redirected to admin/home\n",
    "# print(driver.current_url)\n",
    "# print(driver.current_window_handle)\n",
    "# print(driver.desired_capabilities)\n",
    "\n",
    "# TODO: Driver.switch_to 객체에 대해 공부 필요..(문서에 없음.)\n",
    "\n",
    "actions = webdriver.ActionChains(driver)\n",
    "\n",
    "order_manage_button = driver.find_element_by_xpath('//*[@id=\"gnb2\"]/a')\n",
    "actions.move_to_element(order_manage_button).click()\n",
    "\n",
    "new_order_button = driver.find_element_by_xpath('//*[@id=\"Gnb_ly2\"]/li[1]/a')\n",
    "actions.move_to_element(new_order_button).click()\n",
    "\n",
    "actions.perform()\n",
    "actions.reset_actions()\n",
    "\n",
    "\n"
   ]
  },
  {
   "cell_type": "markdown",
   "metadata": {},
   "source": [
    "#### 주문정보 확인 필터링 걸기"
   ]
  },
  {
   "cell_type": "code",
   "execution_count": 7,
   "metadata": {
    "scrolled": false
   },
   "outputs": [
    {
     "name": "stdout",
     "output_type": "stream",
     "text": [
      "<selenium.webdriver.remote.webelement.WebElement (session=\"956e5e907029967d4a839d8867e886a4\", element=\"0.27454415419087863-3\")>\n"
     ]
    }
   ],
   "source": [
    "### 우리는 최근 한달 신규 주문만 조회하겠습니다.\n",
    "\n",
    "actions = webdriver.ActionChains(driver)\n",
    "\n",
    "# 사실 피료 없다.\n",
    "# order_tab = driver.find_element_by_xpath('//*[@id=\"tTDM105\"]/a[2]')\n",
    "# actions.move_to_element(order_tab).click()\n",
    "# actions.perform()\n",
    "# actions.reset_actions()\n",
    "\n",
    "driver.switch_to.window(driver.window_handles[0])\n",
    "driver.switch_to.default_content()\n",
    "print(driver.find_element_by_xpath('//*[@id=\"Content_ifrm_6201\"]'))\n",
    "driver.switch_to.frame(driver.find_element_by_xpath('//*[@id=\"Content_ifrm_6201\"]'))\n",
    "\n",
    "# print(driver.page_source)\n",
    "\n",
    "deliver_reserved = driver.find_element_by_xpath('//*[@id=\"ext-gen6\"]/div[4]/div[1]/div[3]/ul/li[2]/a')\n",
    "actions.move_to_element(deliver_reserved).click()\n",
    "\n",
    "\n",
    "actions.perform()\n",
    "actions.reset_actions()"
   ]
  },
  {
   "cell_type": "markdown",
   "metadata": {},
   "source": [
    "#### 엑셀 다운로드 or crawling"
   ]
  },
  {
   "cell_type": "code",
   "execution_count": 8,
   "metadata": {},
   "outputs": [],
   "source": [
    "download_excel = driver.find_element_by_xpath('//*[@id=\"ext-gen6\"]/div[4]/div[1]/div[4]/div/a')\n",
    "actions.move_to_element(download_excel).click()\n",
    "\n",
    "actions.perform()\n",
    "actions.reset_actions()\n",
    "\n",
    "# https://selenium-python.readthedocs.io/api.html#module-selenium.webdriver.common.alert\n",
    "\n"
   ]
  },
  {
   "cell_type": "markdown",
   "metadata": {},
   "source": [
    "#### 데이터 가공(엑셀 합치기 or HTML 만들기)\n",
    "#### 메일 보내기"
   ]
  },
  {
   "cell_type": "code",
   "execution_count": null,
   "metadata": {},
   "outputs": [],
   "source": []
  },
  {
   "cell_type": "code",
   "execution_count": null,
   "metadata": {},
   "outputs": [],
   "source": []
  },
  {
   "cell_type": "code",
   "execution_count": null,
   "metadata": {},
   "outputs": [],
   "source": []
  },
  {
   "cell_type": "code",
   "execution_count": null,
   "metadata": {},
   "outputs": [],
   "source": []
  },
  {
   "cell_type": "code",
   "execution_count": null,
   "metadata": {},
   "outputs": [],
   "source": []
  },
  {
   "cell_type": "code",
   "execution_count": null,
   "metadata": {},
   "outputs": [],
   "source": []
  }
 ],
 "metadata": {
  "kernelspec": {
   "display_name": "Python 3",
   "language": "python",
   "name": "python3"
  },
  "language_info": {
   "codemirror_mode": {
    "name": "ipython",
    "version": 3
   },
   "file_extension": ".py",
   "mimetype": "text/x-python",
   "name": "python",
   "nbconvert_exporter": "python",
   "pygments_lexer": "ipython3",
   "version": "3.6.6"
  }
 },
 "nbformat": 4,
 "nbformat_minor": 2
}
