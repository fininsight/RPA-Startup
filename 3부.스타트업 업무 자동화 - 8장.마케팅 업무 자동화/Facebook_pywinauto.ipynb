{
 "cells": [
  {
   "cell_type": "code",
   "execution_count": 1,
   "metadata": {},
   "outputs": [],
   "source": [
    "import os\n",
    "import sys\n",
    "import time\n",
    "\n",
    "from selenium import webdriver\n",
    "from selenium.webdriver.chrome.options import Options\n",
    "import pyautogui\n",
    "from selenium.webdriver.common.keys import Keys\n",
    "\n",
    "import psutil\n",
    "from pywinauto import Application"
   ]
  },
  {
   "cell_type": "code",
   "execution_count": 29,
   "metadata": {},
   "outputs": [],
   "source": [
    "facebook_id = os.getenv('FACEBOOK_ID')\n",
    "facebook_password = os.getenv('FACEBOOK_PASSWORD')\n",
    "driver_path = os.getenv('DRIVER_PATH')"
   ]
  },
  {
   "cell_type": "code",
   "execution_count": 30,
   "metadata": {},
   "outputs": [],
   "source": [
    "target_website = \"https://www.facebook.com/\"\n",
    "file_path = r\"C:\\Users\\amz_o\\Camino.jpg\""
   ]
  },
  {
   "cell_type": "code",
   "execution_count": 31,
   "metadata": {},
   "outputs": [],
   "source": [
    "options = Options()\n",
    "# chrome user agent를 지정해주기\n",
    "options.add_argument(\"user-agent=Mozilla/5.0 (iPhone; CPU iPhone OS 11_0 like Mac OS X) AppleWebKit/604.1.38 (KHTML, like Gecko) Version/11.0 Mobile/15A372 Safari/604.1\")\n",
    "driver = webdriver.Chrome(driver_path, options=options)\n",
    "driver.maximize_window()\n",
    "driver.implicitly_wait(10)"
   ]
  },
  {
   "cell_type": "markdown",
   "metadata": {},
   "source": [
    "### 로그인하기"
   ]
  },
  {
   "cell_type": "code",
   "execution_count": 32,
   "metadata": {},
   "outputs": [],
   "source": [
    "target_website = \"https://www.facebook.com/\"\n",
    "driver.get(target_website)\n",
    "input_id = driver.find_element_by_xpath(\"//input[@type='email'][@name='email']\")\n",
    "input_password = driver.find_element_by_xpath(\"//input[@type='password'][@name='pass']\")\n",
    "button_for_login = driver.find_element_by_xpath(\"//button[@type='button'][@name='login']\")\n",
    "input_id.clear()\n",
    "input_id.send_keys(facebook_id)\n",
    "input_password.clear()\n",
    "input_password.send_keys(facebook_password)\n",
    "button_for_login.click()"
   ]
  },
  {
   "cell_type": "code",
   "execution_count": 33,
   "metadata": {},
   "outputs": [],
   "source": [
    "isNotLogin = True\n",
    "while isNotLogin:\n",
    "    try:\n",
    "        input_button = driver.find_element_by_xpath(\"//div[descendant::div[starts-with(text(), '무슨')]][@onclick][@role='textbox']\") # 포스팅을 위한 area 클릭\n",
    "        input_button.click()\n",
    "        isNotLogin = False\n",
    "    except:\n",
    "        cancel_button = driver.find_element_by_xpath(\"//a[descendant::span[text()='나중에 하기']]\")\n",
    "        cancel_button.click()"
   ]
  },
  {
   "cell_type": "code",
   "execution_count": 34,
   "metadata": {},
   "outputs": [],
   "source": [
    "# input_text = driver.find_element_by_xpath(\"//div[@class='mentions-measurer'][@aria-hidden='true']\")\n",
    "# driver.execute_script(\"arguments[0].innerHTML='페이스북 테스트'\", input_text)\n",
    "# input_text_key = driver.find_element_by_xpath(\"//input[contains(@data-sigil, 'mentionsHiddenInput')]\")\n",
    "# driver.execute_script(\"arguments[0].value = '페이스북 테스트'\", input_text_key)"
   ]
  },
  {
   "cell_type": "markdown",
   "metadata": {},
   "source": [
    "### 사진업로드(2가지 방법 - pywinauto, pyautogui)"
   ]
  },
  {
   "cell_type": "markdown",
   "metadata": {},
   "source": [
    "### pywinauto를 이용한 file dialog 제어"
   ]
  },
  {
   "cell_type": "markdown",
   "metadata": {},
   "source": [
    "### 브라우저를 제어하기 위해서 Process id를 구하는 과정"
   ]
  },
  {
   "cell_type": "code",
   "execution_count": null,
   "metadata": {},
   "outputs": [],
   "source": [
    "button_for_photo = driver.find_element_by_xpath(\"//button[contains(@data-sigil, 'photo-button')]\")\n",
    "button_for_photo.click()\n",
    "\n",
    "import pywinauto\n",
    "\n",
    "chrome_driver_process_id = driver.service.process.pid # 현재 구동되고있는 크롬드라이버의 process id를 얻는다.\n",
    "chrome_driver_process = psutil.Process(chrome_driver_process_id)  # 크롬드라이버의 pid로 psutil의 process 객체를 생성한다.\n",
    "children_process = chrome_driver_process.children(recursive=False)[0] # 크롬드라이버의 자식프로세스인 chrome.exe 프로세스의 id를 얻는다.\n",
    "children_process_id = children_process.pid\n",
    "chrome_application = Application(backend='uia').connect(process=children_process_id) # chrome.exe의 pid로 Application 객체를 생성한다."
   ]
  },
  {
   "cell_type": "markdown",
   "metadata": {},
   "source": [
    "### 그림 및 동영상 파일경로입력 및 확인버튼누르기"
   ]
  },
  {
   "cell_type": "code",
   "execution_count": 35,
   "metadata": {},
   "outputs": [],
   "source": [
    "chrome_application = chrome_application.top_window() # Application객체에서 window specification 객체를 생성한다.\n",
    "file_dialog = chrome_application.OpenDialog # 크롬에서 file dialog부분만을 얻어온다.\n",
    "ok_button = file_dialog.child_window(title_re=\"열기\", control_type=\"Button\", auto_id=\"1\") # 경로입력후 열기버튼객체\n",
    "edit_file_path = file_dialog.child_window(title_re=\"파일 이름.*\", control_type=\"ComboBox\").child_window(title_re=\"파일 이름.*\")\n",
    "edit_file_path.set_focus() # set focus 메소드는 화면으로 띄워줌 ! (보장됨) AOT\n",
    "pyautogui.typewrite(file_path) \n",
    "ok_button.click()"
   ]
  },
  {
   "cell_type": "markdown",
   "metadata": {},
   "source": [
    "### pyautogui"
   ]
  },
  {
   "cell_type": "code",
   "execution_count": 28,
   "metadata": {},
   "outputs": [
    {
     "ename": "AttributeError",
     "evalue": "'NoneType' object has no attribute 'click'",
     "output_type": "error",
     "traceback": [
      "\u001b[1;31m---------------------------------------------------------------------------\u001b[0m",
      "\u001b[1;31mAttributeError\u001b[0m                            Traceback (most recent call last)",
      "\u001b[1;32m<ipython-input-28-5a6f236e8786>\u001b[0m in \u001b[0;36m<module>\u001b[1;34m\u001b[0m\n\u001b[0;32m      2\u001b[0m \u001b[1;33m\u001b[0m\u001b[0m\n\u001b[0;32m      3\u001b[0m \u001b[0mbutton_for_photo\u001b[0m \u001b[1;33m=\u001b[0m \u001b[0mdriver\u001b[0m\u001b[1;33m.\u001b[0m\u001b[0mfind_element_by_xpath\u001b[0m\u001b[1;33m(\u001b[0m\u001b[1;34m\"//button[contains(@data-sigil, 'photo-button')]\"\u001b[0m\u001b[1;33m)\u001b[0m\u001b[1;33m\u001b[0m\u001b[0m\n\u001b[1;32m----> 4\u001b[1;33m \u001b[0mbutton_for_photo\u001b[0m\u001b[1;33m.\u001b[0m\u001b[0mclick\u001b[0m\u001b[1;33m(\u001b[0m\u001b[1;33m)\u001b[0m\u001b[1;33m\u001b[0m\u001b[0m\n\u001b[0m\u001b[0;32m      5\u001b[0m \u001b[0mtime\u001b[0m\u001b[1;33m.\u001b[0m\u001b[0msleep\u001b[0m\u001b[1;33m(\u001b[0m\u001b[1;36m3\u001b[0m\u001b[1;33m)\u001b[0m\u001b[1;33m\u001b[0m\u001b[0m\n\u001b[0;32m      6\u001b[0m \u001b[1;33m\u001b[0m\u001b[0m\n",
      "\u001b[1;31mAttributeError\u001b[0m: 'NoneType' object has no attribute 'click'"
     ]
    }
   ],
   "source": [
    "import pyautogui\n",
    "\n",
    "location_for_input = pyautogui.locateOnScreen('facebook/file_dialog.png', confidence=0.8)\n",
    "coordinates_for_input = pyautogui.center(location_for_input)\n",
    "pyautogui.click(coordinates_for_input)\n",
    "pyautogui.typewrite(file_path) # file 경로를 받아와야함.\n",
    "\n",
    "location_for_button = pyautogui.locateOnScreen('facebook/open.png', confidence=0.8)\n",
    "coordinates_for_button = pyautogui.center(location_for_button)\n",
    "pyautogui.click(coordinates_for_button)\n",
    "button_for_submit = driver.find_element_by_xpath(\"//button[contains(@data-sigil, 'submit_composer')][@type='submit']\")\n",
    "button_for_submit.click()"
   ]
  },
  {
   "cell_type": "markdown",
   "metadata": {},
   "source": [
    "### 글 포스팅하기"
   ]
  },
  {
   "cell_type": "code",
   "execution_count": null,
   "metadata": {},
   "outputs": [],
   "source": [
    "textarea_input = driver.find_element_by_xpath(\"//textarea[@aria-label='무슨 생각을 하고 계신가요?']\")\n",
    "textarea_input.send_keys(\"페이스북테스트\")"
   ]
  },
  {
   "cell_type": "code",
   "execution_count": 39,
   "metadata": {},
   "outputs": [
    {
     "data": {
      "text/plain": [
       "<uia_controls.ButtonWrapper - 'Open', Button, 3713030329720421881>"
      ]
     },
     "execution_count": 39,
     "metadata": {},
     "output_type": "execute_result"
    }
   ],
   "source": [
    "button_for_submit = driver.find_element_by_xpath(\"//button[contains(@data-sigil, 'submit_composer')][@type='submit']\")\n",
    "button_for_submit.click()"
   ]
  }
 ],
 "metadata": {
  "kernelspec": {
   "display_name": "rpa_project",
   "language": "python",
   "name": "rpa_project"
  },
  "language_info": {
   "codemirror_mode": {
    "name": "ipython",
    "version": 3
   },
   "file_extension": ".py",
   "mimetype": "text/x-python",
   "name": "python",
   "nbconvert_exporter": "python",
   "pygments_lexer": "ipython3",
   "version": "3.7.0"
  }
 },
 "nbformat": 4,
 "nbformat_minor": 2
}
