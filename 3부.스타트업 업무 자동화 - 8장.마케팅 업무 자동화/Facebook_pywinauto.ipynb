{
 "cells": [
  {
   "cell_type": "code",
   "execution_count": 23,
   "metadata": {},
   "outputs": [],
   "source": [
    "import os\n",
    "import sys\n",
    "import time\n",
    "\n",
    "from selenium import webdriver\n",
    "from selenium.webdriver.chrome.options import Options\n",
    "import requests\n",
    "import pyautogui\n",
    "from selenium.webdriver.common.keys import Keys\n",
    "\n",
    "import psutil\n",
    "from pywinauto import Application"
   ]
  },
  {
   "cell_type": "code",
   "execution_count": 8,
   "metadata": {},
   "outputs": [],
   "source": [
    "facebook_id = os.getenv('FACEBOOK_ID')\n",
    "facebook_password = os.getenv('FACEBOOK_PASSWORD')\n",
    "driver_path = os.getenv('DRIVER_PATH')"
   ]
  },
  {
   "cell_type": "code",
   "execution_count": 37,
   "metadata": {},
   "outputs": [],
   "source": [
    "target_website = \"https://www.facebook.com/\"\n",
    "file_path = r\"C:\\Users\\amz_o\\Camino.jpg\""
   ]
  },
  {
   "cell_type": "code",
   "execution_count": 11,
   "metadata": {},
   "outputs": [],
   "source": [
    "options = Options()\n",
    "# chrome user agent를 지정해주기\n",
    "options.add_argument(\"user-agent=Mozilla/5.0 (iPhone; CPU iPhone OS 11_0 like Mac OS X) AppleWebKit/604.1.38 (KHTML, like Gecko) Version/11.0 Mobile/15A372 Safari/604.1\")\n",
    "\n",
    "driver = webdriver.Chrome(driver_path, options=options)\n",
    "\n",
    "driver.get(target_website)\n",
    "\n",
    "driver.maximize_window()\n",
    "driver.implicitly_wait(10)\n",
    "\n",
    "\n",
    "input_id = driver.find_element_by_xpath(\"//input[@type='email'][@name='email']\")\n",
    "input_password = driver.find_element_by_xpath(\"//input[@type='password'][@name='pass']\")\n",
    "button_for_login = driver.find_element_by_xpath(\"//button[@type='button'][@name='login']\")\n",
    "\n",
    "input_id.clear()\n",
    "input_id.send_keys(facebook_id)\n",
    "input_password.clear()\n",
    "input_password.send_keys(facebook_password)\n",
    "button_for_login.click()"
   ]
  },
  {
   "cell_type": "code",
   "execution_count": 12,
   "metadata": {},
   "outputs": [],
   "source": [
    "driver.get('https://facebook.com/')"
   ]
  },
  {
   "cell_type": "code",
   "execution_count": 16,
   "metadata": {},
   "outputs": [],
   "source": [
    "input_button = driver.find_element_by_xpath(\"//div[descendant::div[starts-with(text(), '무슨')]][@onclick][@role='textbox']\") # 포스팅을 위한 area 클릭\n",
    "input_button.click()"
   ]
  },
  {
   "cell_type": "code",
   "execution_count": 20,
   "metadata": {},
   "outputs": [],
   "source": [
    "textarea_input = driver.find_element_by_xpath(\"//textarea[@aria-label='무슨 생각을 하고 계신가요?']\")\n",
    "textarea_input.send_keys(\"페이스북테스트\")"
   ]
  },
  {
   "cell_type": "code",
   "execution_count": null,
   "metadata": {},
   "outputs": [],
   "source": [
    "# input_text = driver.find_element_by_xpath(\"//div[@class='mentions-measurer'][@aria-hidden='true']\")\n",
    "# driver.execute_script(\"arguments[0].innerHTML='페이스북 테스트'\", input_text)\n",
    "# input_text_key = driver.find_element_by_xpath(\"//input[contains(@data-sigil, 'mentionsHiddenInput')]\")\n",
    "# driver.execute_script(\"arguments[0].value = '페이스북 테스트'\", input_text_key)"
   ]
  },
  {
   "cell_type": "markdown",
   "metadata": {},
   "source": [
    "### pywinauto를 이용한 file dialog 제어"
   ]
  },
  {
   "cell_type": "markdown",
   "metadata": {},
   "source": [
    "### 브라우저를 제어하기 위해서 Process id를 구하는 과정"
   ]
  },
  {
   "cell_type": "code",
   "execution_count": 31,
   "metadata": {},
   "outputs": [],
   "source": [
    "chrome_driver_process = psutil.Process(driver.service.process.pid) # chrome driver의 child process는 자동화를 진행하고 있는 크롬브라우저임\n",
    "browser_process = chrome_driver_process.children(recursive=False)[0] # 따라서 children 메소드는 현재 프로세스의 자식 프로세스를 가져오는데 크롬드라이버는 자식프로세스로 단 1개의 브라우저 프로세스만 가지고 있음.\n",
    "# 이를 이용하여 첫번째 리스트의 값을 가져옴"
   ]
  },
  {
   "cell_type": "markdown",
   "metadata": {},
   "source": [
    "### 그림 및 동영상 파일경로입력 및 확인버튼누르기"
   ]
  },
  {
   "cell_type": "code",
   "execution_count": 35,
   "metadata": {},
   "outputs": [],
   "source": [
    "browser_application = Application(backend='uia').connect(process=browser_process.pid) # 브라우저의 process id를 이용하여 현 어플리케이션에 connect함\n",
    "dialog_object = browser_application.top_window().OpenDialog # application 객체를 만들면 그 자체로는 핸들링할 수 없음 따라서 top_window를 통해서 windowspecification객체를 반환한 후 OpenDialog를 탐색하여 파일 다이럴로그를 찾는다.\n",
    "ok_button = dialog_object.child_window(title_re='Open', auto_id='1', control_type='Button') # 파일다이얼로그에서 Open 버튼을  찾는다.\n",
    "file_edit = dialog_object.child_window(title_re='File name.*', control_type='ComboBox').child_window(title_re='File name.*') # 파일다이얼로그에서 파일경로를 입력하는 부분을 찾는다.\n",
    " \n",
    "file_edit.set_focus() # 클릭하여 수정할 수 있도록 한다.\n",
    "pyautogui.typewrite(file_path)\n",
    "ok_button.click()"
   ]
  },
  {
   "cell_type": "markdown",
   "metadata": {},
   "source": [
    "### "
   ]
  },
  {
   "cell_type": "code",
   "execution_count": 39,
   "metadata": {},
   "outputs": [
    {
     "data": {
      "text/plain": [
       "<uia_controls.ButtonWrapper - 'Open', Button, 3713030329720421881>"
      ]
     },
     "execution_count": 39,
     "metadata": {},
     "output_type": "execute_result"
    }
   ],
   "source": [
    "button_for_submit = driver.find_element_by_xpath(\"//button[contains(@data-sigil, 'submit_composer')][@type='submit']\")\n",
    "button_for_submit.click()"
   ]
  },
  {
   "cell_type": "code",
   "execution_count": 102,
   "metadata": {},
   "outputs": [],
   "source": [
    "button_for_video = driver.find_element_by_xpath(\"//button[contains(@data-sigil, 'video-button')]\")\n",
    "button_for_video.click()"
   ]
  },
  {
   "cell_type": "code",
   "execution_count": 103,
   "metadata": {},
   "outputs": [],
   "source": [
    "button_for_submit = driver.find_element_by_xpath(\"//button[contains(@data-sigil, 'submit_composer')][@type='submit']\")\n",
    "button_for_submit.click()"
   ]
  },
  {
   "cell_type": "code",
   "execution_count": null,
   "metadata": {},
   "outputs": [],
   "source": []
  }
 ],
 "metadata": {
  "kernelspec": {
   "display_name": "rpa_project",
   "language": "python",
   "name": "rpa_project"
  },
  "language_info": {
   "codemirror_mode": {
    "name": "ipython",
    "version": 3
   },
   "file_extension": ".py",
   "mimetype": "text/x-python",
   "name": "python",
   "nbconvert_exporter": "python",
   "pygments_lexer": "ipython3",
   "version": "3.7.0"
  }
 },
 "nbformat": 4,
 "nbformat_minor": 2
}
