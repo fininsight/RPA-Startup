{
 "cells": [
  {
   "cell_type": "code",
   "execution_count": 25,
   "metadata": {},
   "outputs": [],
   "source": [
    "import time\n",
    "import os\n",
    "\n",
    "\n",
    "from selenium import webdriver\n",
    "from selenium.webdriver.chrome.options import Options\n",
    "from selenium.common.exceptions import NoSuchElementException\n",
    "\n",
    "import pyautogui\n",
    "from pywinauto import Application\n",
    "import psutil"
   ]
  },
  {
   "cell_type": "code",
   "execution_count": 47,
   "metadata": {},
   "outputs": [],
   "source": [
    "instagram_id = os.getenv('INSTAGRAM_ID')\n",
    "instagram_password = os.getenv('INSTAGRAM_PASSWORD')\n",
    "driver_path = os.getenv('DRIVER_PATH')\n",
    "file_path = r\"C:\\Users\\amz_o\\Camino.jpg\""
   ]
  },
  {
   "cell_type": "code",
   "execution_count": 48,
   "metadata": {},
   "outputs": [],
   "source": [
    "def subprocess_for_login():\n",
    "    cancel_button_korean()\n",
    "    app_download_alert()\n",
    "    notification_setting()\n",
    "    \n",
    "def cancel_button_korean():\n",
    "    try:\n",
    "        button_for_login = driver.find_element_by_xpath(\"//button[text()='취소']\")\n",
    "        button_for_login.click()\n",
    "    except NoSuchElementException as e:\n",
    "        pass\n",
    "\n",
    "def app_download_alert():\n",
    "    try:\n",
    "        button_for_login = driver.find_element_by_xpath(\"//a[text()='나중에 하기']\")\n",
    "        button_for_login.click()\n",
    "    except NoSuchElementException as e:\n",
    "        pass\n",
    "    \n",
    "def notification_setting():\n",
    "    try:\n",
    "        button_for_login = driver.find_element_by_xpath(\"//button[text()='나중에 하기']\")\n",
    "        button_for_login.click()\n",
    "    except NoSuchElementException as e:\n",
    "        pass"
   ]
  },
  {
   "cell_type": "markdown",
   "metadata": {},
   "source": [
    "###  로그인 페이지"
   ]
  },
  {
   "cell_type": "markdown",
   "metadata": {},
   "source": [
    "### 로그인"
   ]
  },
  {
   "cell_type": "code",
   "execution_count": 49,
   "metadata": {},
   "outputs": [],
   "source": [
    "def input_clear_and_type(input_tag, sentence):\n",
    "    input_tag.clear()\n",
    "    input_tag.send_keys(sentence)"
   ]
  },
  {
   "cell_type": "markdown",
   "metadata": {},
   "source": [
    "### 브라우저설정 "
   ]
  },
  {
   "cell_type": "code",
   "execution_count": 50,
   "metadata": {},
   "outputs": [],
   "source": [
    "options = Options()\n",
    "# chrome user agent를 지정해주기\n",
    "options.add_argument(\"user-agent=Mozilla/5.0 (iPhone; CPU iPhone OS 11_0 like Mac OS X) AppleWebKit/604.1.38 (KHTML, like Gecko) Version/11.0 Mobile/15A372 Safari/604.1\")\n",
    "driver = webdriver.Chrome(driver_path, options=options)\n",
    "driver.maximize_window()\n",
    "driver.implicitly_wait(3)"
   ]
  },
  {
   "cell_type": "markdown",
   "metadata": {},
   "source": [
    "### 로그인"
   ]
  },
  {
   "cell_type": "code",
   "execution_count": 51,
   "metadata": {},
   "outputs": [],
   "source": [
    "target_website = \"https://www.instagram.com/accounts/login/?hl=ko&source=auth_switcher\"\n",
    "driver.get(target_website)\n",
    "input_id = driver.find_element_by_xpath(\"//input[@aria-label='전화번호, 사용자 이름 또는 이메일'][@name='username'][@type='text']\")\n",
    "input_password = driver.find_element_by_xpath(\"//input[@aria-label='비밀번호'][@name='password'][@type='password']\")\n",
    "button_for_login = driver.find_element_by_xpath(\"//button[@type='submit'][descendant::div[contains(text(),'로그인')]]\")\n",
    "\n",
    "input_id.clear()\n",
    "input_id.send_keys(instagram_id)\n",
    "input_password.clear()\n",
    "input_password.send_keys(instagram_password)\n",
    "\n",
    "button_for_login.click()"
   ]
  },
  {
   "cell_type": "markdown",
   "metadata": {},
   "source": [
    "### 팝업 핸들링"
   ]
  },
  {
   "cell_type": "code",
   "execution_count": 52,
   "metadata": {},
   "outputs": [],
   "source": [
    "subprocess_for_login()"
   ]
  },
  {
   "cell_type": "markdown",
   "metadata": {},
   "source": [
    "### 포스팅을 위한 button object 및 click"
   ]
  },
  {
   "cell_type": "code",
   "execution_count": 56,
   "metadata": {},
   "outputs": [],
   "source": [
    "isNotClicked = True\n",
    "while isNotClicked:\n",
    "    try:\n",
    "        button_for_posting = driver.find_element_by_xpath(\"//div[@role='menuitem'][@tabindex='0']\")\n",
    "        button_for_posting.click()\n",
    "        isNotClicked = False\n",
    "    except:\n",
    "        subprocess_for_login()"
   ]
  },
  {
   "cell_type": "markdown",
   "metadata": {},
   "source": [
    "### pyautogui를 이용한 파일다이얼로그 핸들링"
   ]
  },
  {
   "cell_type": "code",
   "execution_count": null,
   "metadata": {},
   "outputs": [],
   "source": [
    "import pyautogui\n",
    "\n",
    "location_for_input = pyautogui.locateOnScreen('instagram/file_dialog.png', confidence=0.8)\n",
    "coordinates_for_input = pyautogui.center(location_for_input)\n",
    "pyautogui.click(coordinates_for_input)\n",
    "pyautogui.typewrite(file_path) # file 경로를 받아와야함.\n",
    "\n",
    "location_for_button = pyautogui.locateOnScreen('instagram/open.png', confidence=0.8)\n",
    "coordinates_for_button = pyautogui.center(location_for_button)\n",
    "pyautogui.click(coordinates_for_button)"
   ]
  },
  {
   "cell_type": "markdown",
   "metadata": {},
   "source": [
    "### pywinauto를 이용한 파일다이얼로그 핸들링"
   ]
  },
  {
   "cell_type": "code",
   "execution_count": 67,
   "metadata": {},
   "outputs": [],
   "source": [
    "import pywinauto\n",
    "\n",
    "chrome_driver_process_id = driver.service.process.pid # 현재 구동되고있는 크롬드라이버의 process id를 얻는다.\n",
    "chrome_driver_process = psutil.Process(chrome_driver_process_id)  # 크롬드라이버의 pid로 psutil의 process 객체를 생성한다.\n",
    "children_process = chrome_driver_process.children(recursive=False)[0] # 크롬드라이버의 자식프로세스인 chrome.exe 프로세스의 id를 얻는다.\n",
    "children_process_id = children_process.pid\n",
    "chrome_application = Application(backend='uia').connect(process=children_process_id) # chrome.exe의 pid로 Application 객체를 생성한다."
   ]
  },
  {
   "cell_type": "code",
   "execution_count": 68,
   "metadata": {},
   "outputs": [
    {
     "data": {
      "text/plain": [
       "<uia_controls.ButtonWrapper - '열기(O)', Button, 3713039837550487181>"
      ]
     },
     "execution_count": 68,
     "metadata": {},
     "output_type": "execute_result"
    }
   ],
   "source": [
    "chrome_application = chrome_application.top_window() # Application객체에서 window specification 객체를 생성한다.\n",
    "file_dialog = chrome_application.OpenDialog # 크롬에서 file dialog부분만을 얻어온다.\n",
    "ok_button = file_dialog.child_window(title_re=\"열기\", control_type=\"Button\", auto_id=\"1\") # 경로입력후 열기버튼객체\n",
    "edit_file_path = file_dialog.child_window(title_re=\"파일 이름.*\", control_type=\"ComboBox\").child_window(title_re=\"파일 이름.*\")\n",
    "edit_file_path.set_focus() # set focus 메소드는 화면으로 띄워줌 ! (보장됨) AOT\n",
    "pyautogui.typewrite(file_path) \n",
    "ok_button.click()"
   ]
  },
  {
   "cell_type": "code",
   "execution_count": 22,
   "metadata": {},
   "outputs": [],
   "source": [
    "button_for_click = driver.find_element_by_xpath(\"//button[text()='다음']\") # 파일첨부 후 다음버튼누르기\n",
    "button_for_click.click() # 클릭하기"
   ]
  },
  {
   "cell_type": "markdown",
   "metadata": {},
   "source": [
    "### 포스팅하기"
   ]
  },
  {
   "cell_type": "code",
   "execution_count": 23,
   "metadata": {},
   "outputs": [],
   "source": [
    "text_area = driver.find_element_by_xpath(\"//textarea[contains(@aria-label,'문구 입력')][contains(@placeholder,'문구 입력')]\") # 텍스트입력\n",
    "text_area.send_keys(\"인스타그램테스트\")\n",
    "button_for_post = driver.find_element_by_xpath(\"//button[text()='공유하기']\") # 포스팅하기\n",
    "button_for_post.click()"
   ]
  }
 ],
 "metadata": {
  "kernelspec": {
   "display_name": "rpa_project",
   "language": "python",
   "name": "rpa_project"
  },
  "language_info": {
   "codemirror_mode": {
    "name": "ipython",
    "version": 3
   },
   "file_extension": ".py",
   "mimetype": "text/x-python",
   "name": "python",
   "nbconvert_exporter": "python",
   "pygments_lexer": "ipython3",
   "version": "3.7.0"
  }
 },
 "nbformat": 4,
 "nbformat_minor": 2
}
