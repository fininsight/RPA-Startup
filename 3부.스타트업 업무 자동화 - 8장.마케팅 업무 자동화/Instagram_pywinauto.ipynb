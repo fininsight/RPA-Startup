{
 "cells": [
  {
   "cell_type": "code",
   "execution_count": 3,
   "metadata": {},
   "outputs": [],
   "source": [
    "import time\n",
    "import os\n",
    "\n",
    "import numpy as np\n",
    "import cv2\n",
    "from selenium import webdriver\n",
    "from selenium.webdriver.chrome.options import Options\n",
    "from selenium.common.exceptions import NoSuchElementException\n",
    "\n",
    "import pyautogui\n",
    "from pywinauto import Application\n",
    "import psutil"
   ]
  },
  {
   "cell_type": "code",
   "execution_count": 18,
   "metadata": {},
   "outputs": [],
   "source": [
    "instagram_id = os.getenv('INSTAGRAM_ID')\n",
    "instagram_password = os.getenv('INSTAGRAM_PASSWORD')\n",
    "driver_path = os.getenv('DRIVER_PATH')\n",
    "file_path = r\"C:\\Users\\amz_o\\Camino.jpg\""
   ]
  },
  {
   "cell_type": "code",
   "execution_count": 5,
   "metadata": {},
   "outputs": [],
   "source": [
    "def subprocess_for_login():\n",
    "    cancel_button_english()\n",
    "    cancel_button_korean()\n",
    "    app_download_alert()\n",
    "    notification_setting()\n",
    "\n",
    "def cancel_button_english():\n",
    "    try:\n",
    "        button_for_login = driver.find_element_by_xpath(\"//button[text()='Cancel']\")\n",
    "        button_for_login.click()\n",
    "    except NoSuchElementException as e:\n",
    "        pass\n",
    "    \n",
    "def cancel_button_korean():\n",
    "    try:\n",
    "        button_for_login = driver.find_element_by_xpath(\"//button[text()='취소']\")\n",
    "        button_for_login.click()\n",
    "    except NoSuchElementException as e:\n",
    "        pass\n",
    "\n",
    "def app_download_alert():\n",
    "    try:\n",
    "        button_for_login = driver.find_element_by_xpath(\"//a[text()='나중에 하기']\")\n",
    "        button_for_login.click()\n",
    "    except NoSuchElementException as e:\n",
    "        pass\n",
    "    \n",
    "def notification_setting():\n",
    "    try:\n",
    "        button_for_login = driver.find_element_by_xpath(\"//button[text()='나중에 하기']\")\n",
    "        button_for_login.click()\n",
    "    except NoSuchElementException as e:\n",
    "        pass"
   ]
  },
  {
   "cell_type": "markdown",
   "metadata": {},
   "source": [
    "###  로그인 페이지"
   ]
  },
  {
   "cell_type": "markdown",
   "metadata": {},
   "source": [
    "target_website = \"https://www.instagram.com/accounts/login/?hl=ko&source=auth_switcher\""
   ]
  },
  {
   "cell_type": "code",
   "execution_count": 6,
   "metadata": {},
   "outputs": [],
   "source": [
    "target_website = \"https://www.instagram.com/accounts/login/?hl=ko&source=auth_switcher\""
   ]
  },
  {
   "cell_type": "markdown",
   "metadata": {},
   "source": [
    "### 로그인"
   ]
  },
  {
   "cell_type": "code",
   "execution_count": 10,
   "metadata": {},
   "outputs": [],
   "source": [
    "options = Options()\n",
    "# chrome user agent를 지정해주기\n",
    "options.add_argument(\"user-agent=Mozilla/5.0 (iPhone; CPU iPhone OS 11_0 like Mac OS X) AppleWebKit/604.1.38 (KHTML, like Gecko) Version/11.0 Mobile/15A372 Safari/604.1\")\n",
    "\n",
    "driver = webdriver.Chrome(driver_path, options=options)\n",
    "\n",
    "driver.get(target_website)\n",
    "\n",
    "cookies = driver.get_cookies()\n",
    "\n",
    "driver.maximize_window()\n",
    "\n",
    "input_id = driver.find_element_by_xpath(\"//input[@aria-label='전화번호, 사용자 이름 또는 이메일'][@name='username'][@type='text']\")\n",
    "input_password = driver.find_element_by_xpath(\"//input[@aria-label='비밀번호'][@name='password'][@type='password']\")\n",
    "\n",
    "\n",
    "input_id.clear()\n",
    "input_id.send_keys(instagram_id)\n",
    "input_password.clear()\n",
    "input_password.send_keys(instagram_password)\n",
    "button_for_login = driver.find_element_by_xpath(\"//button[@type='submit'][descendant::div[contains(text(),'로그인')]]\")\n",
    "\n",
    "button_for_login.click()"
   ]
  },
  {
   "cell_type": "markdown",
   "metadata": {},
   "source": [
    "### 팝업 핸들링"
   ]
  },
  {
   "cell_type": "code",
   "execution_count": 14,
   "metadata": {},
   "outputs": [],
   "source": [
    "subprocess_for_login()"
   ]
  },
  {
   "cell_type": "markdown",
   "metadata": {},
   "source": [
    "### 포스팅을 위한 button object 및 click"
   ]
  },
  {
   "cell_type": "code",
   "execution_count": 15,
   "metadata": {},
   "outputs": [],
   "source": [
    "button_for_posting = driver.find_element_by_xpath(\"//div[@role='menuitem'][@tabindex='0']\")\n",
    "button_for_posting.click()"
   ]
  },
  {
   "cell_type": "code",
   "execution_count": 20,
   "metadata": {},
   "outputs": [],
   "source": [
    "chrome_driver_process = psutil.Process(driver.service.process.pid)\n",
    "browser_process = chrome_driver_process.children(recursive=False)[0]\n",
    "browser_application = Application(backend='uia').connect(process=browser_process.pid)"
   ]
  },
  {
   "cell_type": "code",
   "execution_count": 21,
   "metadata": {},
   "outputs": [
    {
     "data": {
      "text/plain": [
       "<uia_controls.ButtonWrapper - 'Open', Button, 3713035579252205381>"
      ]
     },
     "execution_count": 21,
     "metadata": {},
     "output_type": "execute_result"
    }
   ],
   "source": [
    "dialog_object = browser_application.top_window().OpenDialog # application 객체를 만들면 그 자체로는 핸들링할 수 없음 따라서 top_window를 통해서 windowspecification객체를 반환한 후 OpenDialog를 탐색하여 파일 다이럴로그를 찾는다.\n",
    "ok_button = dialog_object.child_window(title_re='Open', auto_id='1', control_type='Button') # 파일다이얼로그에서 Open 버튼을  찾는다.\n",
    "file_edit = dialog_object.child_window(title_re='File name.*', control_type='ComboBox').child_window(title_re='File name.*') # 파일다이얼로그에서 파일경로를 입력하는 부분을 찾는다.\n",
    " \n",
    "file_edit.set_focus() # 클릭하여 수정할 수 있도록 한다.\n",
    "pyautogui.typewrite(file_path)\n",
    "ok_button.click()"
   ]
  },
  {
   "cell_type": "code",
   "execution_count": 22,
   "metadata": {},
   "outputs": [],
   "source": [
    "button_for_click = driver.find_element_by_xpath(\"//button[text()='다음']\") # 파일첨부 후 다음버튼누르기\n",
    "button_for_click.click() # 클릭하기"
   ]
  },
  {
   "cell_type": "code",
   "execution_count": 23,
   "metadata": {},
   "outputs": [],
   "source": [
    "text_area = driver.find_element_by_xpath(\"//textarea[contains(@aria-label,'문구 입력')][contains(@placeholder,'문구 입력')]\") # 텍스트입력\n",
    "text_area.send_keys(\"인스타그램테스트\")"
   ]
  },
  {
   "cell_type": "code",
   "execution_count": 24,
   "metadata": {},
   "outputs": [],
   "source": [
    "button_for_post = driver.find_element_by_xpath(\"//button[text()='공유하기']\") # 포스팅하기\n",
    "button_for_post.click()"
   ]
  }
 ],
 "metadata": {
  "kernelspec": {
   "display_name": "rpa_project",
   "language": "python",
   "name": "rpa_project"
  },
  "language_info": {
   "codemirror_mode": {
    "name": "ipython",
    "version": 3
   },
   "file_extension": ".py",
   "mimetype": "text/x-python",
   "name": "python",
   "nbconvert_exporter": "python",
   "pygments_lexer": "ipython3",
   "version": "3.7.0"
  }
 },
 "nbformat": 4,
 "nbformat_minor": 2
}
