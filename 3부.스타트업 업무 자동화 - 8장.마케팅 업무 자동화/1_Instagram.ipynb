{
 "cells": [
  {
   "cell_type": "code",
   "execution_count": 130,
   "metadata": {},
   "outputs": [],
   "source": [
    "import time\n",
    "import os\n",
    "\n",
    "import numpy as np\n",
    "import cv2\n",
    "from selenium import webdriver\n",
    "from selenium.webdriver.chrome.options import Options\n",
    "from selenium.common.exceptions import NoSuchElementException\n",
    "\n",
    "import pyautogui"
   ]
  },
  {
   "cell_type": "code",
   "execution_count": null,
   "metadata": {},
   "outputs": [],
   "source": [
    "instagram_id = os.getenv('INSTAGRAM_ID')\n",
    "instagram_password = os.getenv('INSTAGRAM_PASSWORD')\n",
    "driver_path = os.getenv('DRIVER_PATH')"
   ]
  },
  {
   "cell_type": "code",
   "execution_count": 131,
   "metadata": {},
   "outputs": [],
   "source": [
    "def subprocess_for_login():\n",
    "    cancel_button_english()\n",
    "    cancel_button_korean()\n",
    "    app_download_alert()\n",
    "    notification_setting()\n",
    "\n",
    "def cancel_button_english():\n",
    "    try:\n",
    "        button_for_login = driver.find_element_by_xpath(\"//button[text()='Cancel']\")\n",
    "        button_for_login.click()\n",
    "    except NoSuchElementException as e:\n",
    "        pass\n",
    "    \n",
    "def cancel_button_korean():\n",
    "    try:\n",
    "        button_for_login = driver.find_element_by_xpath(\"//button[text()='취소']\")\n",
    "        button_for_login.click()\n",
    "    except NoSuchElementException as e:\n",
    "        pass\n",
    "\n",
    "def app_download_alert():\n",
    "    try:\n",
    "        button_for_login = driver.find_element_by_xpath(\"//a[text()='나중에 하기']\")\n",
    "        button_for_login.click()\n",
    "    except NoSuchElementException as e:\n",
    "        pass\n",
    "    \n",
    "def notification_setting():\n",
    "    try:\n",
    "        button_for_login = driver.find_element_by_xpath(\"//button[text()='나중에 하기']\")\n",
    "        button_for_login.click()\n",
    "    except NoSuchElementException as e:\n",
    "        pass"
   ]
  },
  {
   "cell_type": "code",
   "execution_count": 132,
   "metadata": {},
   "outputs": [],
   "source": [
    "def click_and_write_current_screen(img_background, gry_background, template, sentence, result_file_path = 'instagram/res.png'):\n",
    "    location = template_match(gry_background, template)\n",
    "    draw_rectangle(img_background, template, location)\n",
    "    click_location = get_click_location(template, location)\n",
    "    cv2.imwrite(result_file_path, img_background)\n",
    "    pyautogui.click(click_location)\n",
    "    pyautogui.typewrite(sentence)\n",
    "    \n",
    "def click_current_screen(img_background, gry_background, template, result_file_path = 'instagram/res.png'):\n",
    "    location = template_match(gry_background, template)\n",
    "    draw_rectangle(img_background, template, location)\n",
    "    click_location = get_click_location(template, location)\n",
    "    cv2.imwrite(result_file_path, img_background)\n",
    "    pyautogui.click(click_location)\n",
    "    \n",
    "def template_match(img_grey, template):\n",
    "    res = cv2.matchTemplate(img_grey, template, cv2.TM_CCOEFF_NORMED)\n",
    "    threshold = get_threshold(res)\n",
    "    result = np.where(res > threshold)\n",
    "    result = zip(*result[::-1])\n",
    "    return list(result)[0]\n",
    "\n",
    "def get_click_location(template, res):\n",
    "    w, h = template.shape[::-1]\n",
    "    return (res[0] + w / 2, res[1] + h / 2)\n",
    "\n",
    "def draw_rectangle(original, template, res):\n",
    "    w, h = template.shape[::-1]\n",
    "    cv2.rectangle(original, res, (res[0] + w, res[1] + h), (0,0,255), 2)\n",
    "\n",
    "def get_threshold(nd_array):\n",
    "    threshold = 0.6\n",
    "    while not select_specific_position(nd_array, threshold):\n",
    "        print(threshold)\n",
    "        threshold += 0.02\n",
    "    \n",
    "    return threshold\n",
    "\n",
    "def select_specific_position(nd_array, threshold):\n",
    "    tmp_array = np.where(nd_array > threshold)\n",
    "    if len(tmp_array) == 2:\n",
    "        return True\n",
    "    else:\n",
    "        return False"
   ]
  },
  {
   "cell_type": "markdown",
   "metadata": {},
   "source": [
    "###  로그인 페이지"
   ]
  },
  {
   "cell_type": "markdown",
   "metadata": {},
   "source": [
    "target_website = \"https://www.instagram.com/accounts/login/?hl=ko&source=auth_switcher\""
   ]
  },
  {
   "cell_type": "code",
   "execution_count": 168,
   "metadata": {},
   "outputs": [],
   "source": [
    "target_website = \"https://www.instagram.com/accounts/login/?hl=ko&source=auth_switcher\""
   ]
  },
  {
   "cell_type": "markdown",
   "metadata": {},
   "source": [
    "### 로그인"
   ]
  },
  {
   "cell_type": "code",
   "execution_count": 146,
   "metadata": {},
   "outputs": [],
   "source": [
    "options = Options()\n",
    "# chrome user agent를 지정해주기\n",
    "options.add_argument(\"user-agent=Mozilla/5.0 (iPhone; CPU iPhone OS 11_0 like Mac OS X) AppleWebKit/604.1.38 (KHTML, like Gecko) Version/11.0 Mobile/15A372 Safari/604.1\")\n",
    "\n",
    "driver = webdriver.Chrome(driver_path, options=options)\n",
    "\n",
    "driver.get(target_website)\n",
    "\n",
    "cookies = driver.get_cookies()\n",
    "\n",
    "driver.maximize_window()\n",
    "\n",
    "input_id = driver.find_element_by_xpath(\"//input[@aria-label='전화번호, 사용자 이름 또는 이메일'][@name='username'][@type='text']\")\n",
    "input_password = driver.find_element_by_xpath(\"//input[@aria-label='비밀번호'][@name='password'][@type='password']\")\n",
    "\n",
    "\n",
    "input_id.clear()\n",
    "input_id.send_keys(\"amz_ojh@naver.com\")\n",
    "input_password.clear()\n",
    "input_password.send_keys(\"wlghksdl78!\")\n",
    "button_for_login = driver.find_element_by_xpath(\"//button[@type='submit'][text()='로그인']\")\n",
    "\n",
    "button_for_login.click()"
   ]
  },
  {
   "cell_type": "markdown",
   "metadata": {},
   "source": [
    "### 팝업 핸들링"
   ]
  },
  {
   "cell_type": "code",
   "execution_count": 151,
   "metadata": {},
   "outputs": [],
   "source": [
    "subprocess_for_login()"
   ]
  },
  {
   "cell_type": "markdown",
   "metadata": {},
   "source": [
    "### 포스팅을 위한 button object 및 click"
   ]
  },
  {
   "cell_type": "code",
   "execution_count": 152,
   "metadata": {},
   "outputs": [],
   "source": [
    "button_for_posting = driver.find_element_by_xpath(\"//div[@role='menuitem'][@tabindex='0']\")\n",
    "button_for_posting.click()"
   ]
  },
  {
   "cell_type": "code",
   "execution_count": 154,
   "metadata": {},
   "outputs": [],
   "source": [
    "pyautogui.screenshot('instagram/current.png')\n",
    "img_file_dialog = cv2.imread('instagram/current.png')\n",
    "grey_file_dialog = cv2.cvtColor(img_file_dialog, cv2.COLOR_BGR2GRAY)\n",
    "template_for_filedialog = cv2.imread('instagram/file_dialog.png', 0)\n",
    "template_for_button = cv2.imread('instagram/open.png', 0)"
   ]
  },
  {
   "cell_type": "markdown",
   "metadata": {},
   "source": [
    "### file path입력"
   ]
  },
  {
   "cell_type": "code",
   "execution_count": 155,
   "metadata": {},
   "outputs": [],
   "source": [
    "file_path = r\"C:\\Users\\amz_o\\Camino.jpg\""
   ]
  },
  {
   "cell_type": "code",
   "execution_count": 156,
   "metadata": {},
   "outputs": [],
   "source": [
    "click_and_write_current_screen(img_file_dialog, grey_file_dialog, template_for_filedialog, file_path)\n",
    "click_current_screen(img_file_dialog, grey_file_dialog, template_for_button)"
   ]
  },
  {
   "cell_type": "code",
   "execution_count": 158,
   "metadata": {},
   "outputs": [],
   "source": [
    "button_for_click = driver.find_element_by_xpath(\"//button[text()='다음']\")"
   ]
  },
  {
   "cell_type": "code",
   "execution_count": 159,
   "metadata": {},
   "outputs": [],
   "source": [
    "button_for_click.click()"
   ]
  },
  {
   "cell_type": "code",
   "execution_count": 164,
   "metadata": {},
   "outputs": [],
   "source": [
    "text_area = driver.find_element_by_xpath(\"//textarea[@aria-label='문구 입력...'][@placeholder='문구 입력...']\")"
   ]
  },
  {
   "cell_type": "code",
   "execution_count": 165,
   "metadata": {},
   "outputs": [],
   "source": [
    "text_area.send_keys(\"gahawegwefwe\")"
   ]
  },
  {
   "cell_type": "code",
   "execution_count": 166,
   "metadata": {},
   "outputs": [],
   "source": [
    "button_for_post = driver.find_element_by_xpath(\"//button[text()='공유하기']\")\n",
    "button_for_post.click()"
   ]
  },
  {
   "cell_type": "code",
   "execution_count": 167,
   "metadata": {},
   "outputs": [],
   "source": []
  },
  {
   "cell_type": "code",
   "execution_count": null,
   "metadata": {},
   "outputs": [],
   "source": []
  }
 ],
 "metadata": {
  "kernelspec": {
   "display_name": "rpa_project",
   "language": "python",
   "name": "rpa_project"
  },
  "language_info": {
   "codemirror_mode": {
    "name": "ipython",
    "version": 3
   },
   "file_extension": ".py",
   "mimetype": "text/x-python",
   "name": "python",
   "nbconvert_exporter": "python",
   "pygments_lexer": "ipython3",
   "version": "3.7.0"
  }
 },
 "nbformat": 4,
 "nbformat_minor": 2
}
