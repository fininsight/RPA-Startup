{
 "cells": [
  {
   "cell_type": "code",
   "execution_count": 2,
   "metadata": {},
   "outputs": [],
   "source": [
    "import os\n",
    "import sys\n",
    "import time\n",
    "\n",
    "from selenium import webdriver\n",
    "from selenium.webdriver.chrome.options import Options\n",
    "from selenium.webdriver.common.keys import Keys\n",
    "import pyautogui\n",
    "from pywinauto import Application\n",
    "import psutil"
   ]
  },
  {
   "cell_type": "markdown",
   "metadata": {},
   "source": [
    "### 트위터 자동포스팅\n",
    "1. 트위터 로그인\n",
    "2. 포스팅선택\n",
    "3. 포스팅작성(텍스트)\n",
    "4. 이미지파일, 동영상파일 첨부\n",
    "5. 포스팅"
   ]
  },
  {
   "cell_type": "code",
   "execution_count": 13,
   "metadata": {},
   "outputs": [],
   "source": [
    "twitter_id = os.getenv('TWITTER_ID')\n",
    "twitter_password = os.getenv('TWITTER_PASSWORD')\n",
    "driver_path = os.getenv('DRIVER_PATH')\n",
    "file_path = os.getenv('FILE_PATH', r\"C:\\Users\\amz_o\\Camino.jpg\")"
   ]
  },
  {
   "cell_type": "code",
   "execution_count": 14,
   "metadata": {},
   "outputs": [],
   "source": [
    "target_website = \"https://twitter.com/\""
   ]
  },
  {
   "cell_type": "markdown",
   "metadata": {},
   "source": [
    "<input autocapitalize=\"none\" autocomplete=\"on\" autocorrect=\"off\" name=\"session[username_or_email]\" placeholder=\"Phone, email, or username\" spellcheck=\"false\" type=\"text\" dir=\"auto\" data-focusable=\"true\" class=\"rn-30o5oe rn-1niwhzg rn-ou6ah9 rn-t12b5v rn-zmljjp rn-pm2fo rn-13yce4e rn-fnigne rn-ndvcnb rn-gxnn5r rn-deolkf rn-homxoj rn-poiln3 rn-7cikom rn-m611by rn-1qfoi16 rn-1mi0q7o rn-1hfyk0a rn-1lrr6ok rn-1dz5y72 rn-1ttztb7 rn-13qz1uu\" value=\"\">\n",
    "<input autocapitalize=\"none\" autocomplete=\"on\" autocorrect=\"off\" name=\"session[password]\" placeholder=\"Password\" spellcheck=\"false\" type=\"password\" dir=\"auto\" data-focusable=\"true\" class=\"rn-30o5oe rn-1niwhzg rn-ou6ah9 rn-t12b5v rn-zmljjp rn-pm2fo rn-13yce4e rn-fnigne rn-ndvcnb rn-gxnn5r rn-deolkf rn-homxoj rn-poiln3 rn-7cikom rn-m611by rn-1qfoi16 rn-1mi0q7o rn-1hfyk0a rn-1lrr6ok rn-1dz5y72 rn-1ttztb7 rn-13qz1uu\" value=\"\">\n",
    "<div role=\"button\" data-focusable=\"true\" tabindex=\"0\" class=\"rn-1oszu61 rn-1niwhzg rn-112kd6t rn-4rwt92 rn-18p3no4 rn-ec560x rn-1bxrh7q rn-waaub4 rn-sqtsar rn-qb5c1y rn-1efd50x rn-14skgim rn-rull8r rn-mm0ijv rn-5kkj8d rn-13l2t4g rn-qklmqi rn-1ljd8xs rn-deolkf rn-1loqt21 rn-6koalj rn-1qe8dj5 rn-1mlwlqe rn-eqz5dr rn-1w2pmg rn-1mnahxq rn-61z16t rn-p1pxzi rn-11wrixw rn-1vuscfd rn-1dhvaqw rn-wk8lta rn-1pl8ijs rn-1mdbw0j rn-1wx0zj rn-bnwqim rn-o7ynqc rn-6416eg rn-lrvibr rn-1lgpqti\" data-testid=\"login-button\"><div class=\"rn-1awozwy rn-13yce4e rn-fnigne rn-ndvcnb rn-gxnn5r rn-deolkf rn-13gxpu9 rn-6koalj rn-1qe8dj5 rn-1mlwlqe rn-18u37iz rn-16y2uox rn-14xgk7a rn-a023e6 rn-o11vmf rn-ebii48 rn-vw2c0b rn-1777fci rn-eljoum rn-1mnahxq rn-61z16t rn-p1pxzi rn-11wrixw rn-dnmrzs rn-bcqeeo rn-wk8lta rn-9aemit rn-1mdbw0j rn-gy4na3 rn-q4m81j rn-bauka4 rn-q42fyq rn-qvutc0\" dir=\"auto\"><span class=\"rn-ndvcnb rn-gxnn5r rn-fnigne rn-13yce4e rn-deolkf rn-homxoj rn-1471scf rn-14xgk7a rn-7cikom rn-o11vmf rn-gul640 rn-ad9z0x rn-p1pxzi rn-11wrixw rn-61z16t rn-1mnahxq rn-dnmrzs rn-bcqeeo rn-11yh6sk rn-buy8e9 rn-1mdbw0j rn-gy4na3 rn-9aemit rn-wk8lta rn-bauka4 rn-1udbk01 rn-3s2u2q rn-qvutc0\" dir=\"auto\" style=\"-webkit-box-orient: vertical; -webkit-line-clamp: 1;\">Log in</span></div></div>"
   ]
  },
  {
   "cell_type": "markdown",
   "metadata": {},
   "source": [
    "### 트위터 로그인"
   ]
  },
  {
   "cell_type": "code",
   "execution_count": 19,
   "metadata": {},
   "outputs": [],
   "source": [
    "options = Options()\n",
    "# chrome user agent를 지정해주기 : facebook은 mobile로 하는게 쉬움.\n",
    "options.add_argument(\"user-agent=Mozilla/5.0 (iPhone; CPU iPhone OS 11_0 like Mac OS X) AppleWebKit/604.1.38 (KHTML, like Gecko) Version/11.0 Mobile/15A372 Safari/604.1\")\n",
    "\n",
    "driver = webdriver.Chrome(driver_path, options=options)\n",
    "\n",
    "driver.get(target_website)\n",
    "\n",
    "driver.maximize_window()\n",
    "driver.implicitly_wait(10)\n",
    "\n",
    "\n",
    "input_id = driver.find_element_by_xpath(\"//input[contains(@name,'username_or_email')][@type='text']\")\n",
    "input_password = driver.find_element_by_xpath(\"//input[contains(@name,'password')][@type='password']\")\n",
    "button_for_login = driver.find_element_by_xpath(\"//div[@role='button'][@data-testid='login-button']\")\n",
    "\n",
    "input_id.clear()\n",
    "input_id.send_keys(twitter_id)\n",
    "input_password.clear()\n",
    "input_password.send_keys(twitter_password)\n",
    "button_for_login.click()"
   ]
  },
  {
   "cell_type": "markdown",
   "metadata": {},
   "source": [
    "### <a href=\"/compose/tweet\" aria-label=\"Compose a Tweet\" role=\"link\" data-focusable=\"true\" class=\"rn-1oszu61 rn-urgr8i rn-1f0fu4f rn-1iih0mj rn-3pxcvb rn-1eqmklk rn-1bxrh7q rn-waaub4 rn-sqtsar rn-qb5c1y rn-1efd50x rn-14skgim rn-rull8r rn-mm0ijv rn-13yce4e rn-fnigne rn-ndvcnb rn-gxnn5r rn-173myy5 rn-deolkf rn-homxoj rn-6koalj rn-1qe8dj5 rn-1mlwlqe rn-eqz5dr rn-ahm1il rn-1mnahxq rn-61z16t rn-p1pxzi rn-11wrixw rn-1vuscfd rn-1dhvaqw rn-wk8lta rn-1pl8ijs rn-1mdbw0j rn-1wx0zj rn-bnwqim rn-bauka4 rn-o7ynqc rn-6416eg rn-lrvibr rn-1lgpqti\" data-testid=\"fab-tweet\"><div class=\"rn-1awozwy rn-13yce4e rn-fnigne rn-ndvcnb rn-gxnn5r rn-deolkf rn-jwli3a rn-6koalj rn-1qe8dj5 rn-1mlwlqe rn-18u37iz rn-16y2uox rn-14xgk7a rn-a023e6 rn-o11vmf rn-ebii48 rn-vw2c0b rn-1777fci rn-eljoum rn-1mnahxq rn-61z16t rn-p1pxzi rn-11wrixw rn-dnmrzs rn-bcqeeo rn-wk8lta rn-9aemit rn-1mdbw0j rn-gy4na3 rn-q4m81j rn-bauka4 rn-q42fyq rn-qvutc0\" dir=\"auto\"><svg viewBox=\"0 0 24 24\" class=\"rn-jwli3a rn-4qtqp9 rn-yyyyoo rn-1qe8dj5 rn-50lct3 rn-1sp7lne rn-dnmrzs rn-bnwqim rn-m6rgpd rn-lrvibr\"><g><path d=\"M8.8 7.2H5.6V3.9c0-.4-.3-.8-.8-.8s-.7.4-.7.8v3.3H.8c-.4 0-.8.3-.8.8s.3.8.8.8h3.3v3.3c0 .4.3.8.8.8s.8-.3.8-.8V8.7H9c.4 0 .8-.3.8-.8s-.5-.7-1-.7zm15-4.9v-.1h-.1c-.1 0-9.2 1.2-14.4 11.7-3.8 7.6-3.6 9.9-3.3 9.9.3.1 3.4-6.5 6.7-9.2 5.2-1.1 6.6-3.6 6.6-3.6s-1.5.2-2.1.2c-.8 0-1.4-.2-1.7-.3 1.3-1.2 2.4-1.5 3.5-1.7.9-.2 1.8-.4 3-1.2 2.2-1.6 1.9-5.5 1.8-5.7z\"></path></g></svg><span class=\"rn-ndvcnb rn-gxnn5r rn-fnigne rn-13yce4e rn-deolkf rn-homxoj rn-1471scf rn-14xgk7a rn-7cikom rn-o11vmf rn-gul640 rn-ad9z0x rn-p1pxzi rn-11wrixw rn-61z16t rn-1mnahxq rn-dnmrzs rn-bcqeeo rn-11yh6sk rn-buy8e9 rn-1mdbw0j rn-gy4na3 rn-9aemit rn-wk8lta rn-bauka4 rn-1udbk01 rn-3s2u2q rn-qvutc0\" dir=\"auto\" style=\"-webkit-box-orient: vertical; -webkit-line-clamp: 1;\">Tweet</span></div></a>"
   ]
  },
  {
   "cell_type": "markdown",
   "metadata": {},
   "source": [
    "### 포스팅을 위한 버튼 클릭"
   ]
  },
  {
   "cell_type": "code",
   "execution_count": 20,
   "metadata": {},
   "outputs": [],
   "source": [
    "input_button = driver.find_element_by_xpath(\"//a[@href='/compose/tweet'][@role='link'][@aria-label='Compose a Tweet']\") # 포스팅을 위한 area 클릭\n",
    "input_button.click()"
   ]
  },
  {
   "cell_type": "markdown",
   "metadata": {},
   "source": [
    "### <textarea autocapitalize=\"sentences\" autocomplete=\"on\" autocorrect=\"on\" placeholder=\"What’s happening?\" spellcheck=\"true\" dir=\"auto\" class=\"rn-30o5oe rn-1niwhzg rn-ou6ah9 rn-t12b5v rn-zmljjp rn-pm2fo rn-13yce4e rn-fnigne rn-ndvcnb rn-gxnn5r rn-deolkf rn-homxoj rn-16y2uox rn-poiln3 rn-7cikom rn-n8qunm rn-m611by rn-1qfoi16 rn-1mi0q7o rn-1hfyk0a rn-1lrr6ok rn-1dz5y72 rn-1ttztb7 rn-13qz1uu\" data-testid=\"tweetTextarea_0\" style=\"height: 46px;\"> </textarea>"
   ]
  },
  {
   "cell_type": "markdown",
   "metadata": {},
   "source": [
    "### 포스팅작성 (텍스트) "
   ]
  },
  {
   "cell_type": "code",
   "execution_count": 21,
   "metadata": {},
   "outputs": [],
   "source": [
    "input_text = driver.find_element_by_xpath(\"//textarea[@autocapitalize='sentences'][@data-testid='tweetTextarea_0']\")\n",
    "input_text.send_keys(\"트위터 테스트\")\n",
    "# driver.execute_script(\"arguments[0].innerHTML='트위터 테스트'\", input_text)"
   ]
  },
  {
   "cell_type": "markdown",
   "metadata": {},
   "source": [
    "<div role=\"button\" class=\"rn-1oszu61 rn-urgr8i rn-1c1gj4h rn-114ovsg rn-oucylx rn-855088 rn-1bxrh7q rn-waaub4 rn-sqtsar rn-qb5c1y rn-1efd50x rn-14skgim rn-rull8r rn-mm0ijv rn-5kkj8d rn-13l2t4g rn-qklmqi rn-1ljd8xs rn-deolkf rn-1loqt21 rn-6koalj rn-1qe8dj5 rn-1mlwlqe rn-eqz5dr rn-1w2pmg rn-1mnahxq rn-61z16t rn-p1pxzi rn-11wrixw rn-1vsu8ta rn-aj3cln rn-wk8lta rn-1pl8ijs rn-1mdbw0j rn-1wx0zj rn-bnwqim rn-o7ynqc rn-6416eg rn-lrvibr rn-1lgpqti\" data-testid=\"tweetButton\" data-focusable=\"true\" tabindex=\"0\"><div class=\"rn-1awozwy rn-13yce4e rn-fnigne rn-ndvcnb rn-gxnn5r rn-deolkf rn-jwli3a rn-6koalj rn-1qe8dj5 rn-1mlwlqe rn-18u37iz rn-16y2uox rn-14xgk7a rn-a023e6 rn-o11vmf rn-ebii48 rn-vw2c0b rn-1777fci rn-eljoum rn-1mnahxq rn-61z16t rn-p1pxzi rn-11wrixw rn-dnmrzs rn-bcqeeo rn-wk8lta rn-9aemit rn-1mdbw0j rn-gy4na3 rn-q4m81j rn-bauka4 rn-q42fyq rn-qvutc0\" dir=\"auto\"><span class=\"rn-ndvcnb rn-gxnn5r rn-fnigne rn-13yce4e rn-deolkf rn-homxoj rn-1471scf rn-14xgk7a rn-7cikom rn-o11vmf rn-gul640 rn-ad9z0x rn-p1pxzi rn-11wrixw rn-61z16t rn-1mnahxq rn-dnmrzs rn-bcqeeo rn-11yh6sk rn-buy8e9 rn-1mdbw0j rn-gy4na3 rn-9aemit rn-wk8lta rn-bauka4 rn-1udbk01 rn-3s2u2q rn-qvutc0\" dir=\"auto\" style=\"-webkit-box-orient: vertical; -webkit-line-clamp: 1;\">Tweet</span></div></div>"
   ]
  },
  {
   "cell_type": "markdown",
   "metadata": {},
   "source": [
    "### 그림파일 or 동영상파일 첨부"
   ]
  },
  {
   "cell_type": "code",
   "execution_count": null,
   "metadata": {},
   "outputs": [],
   "source": [
    "<div class=\"rn-1awozwy rn-13yce4e rn-fnigne rn-ndvcnb rn-gxnn5r rn-deolkf rn-13gxpu9 rn-6koalj rn-1qe8dj5 rn-1mlwlqe rn-18u37iz rn-16y2uox rn-14xgk7a rn-1b6yd1w rn-o11vmf rn-ebii48 rn-vw2c0b rn-1777fci rn-eljoum rn-1mnahxq rn-61z16t rn-p1pxzi rn-11wrixw rn-dnmrzs rn-bcqeeo rn-wk8lta rn-9aemit rn-1mdbw0j rn-gy4na3 rn-q4m81j rn-bauka4 rn-q42fyq rn-qvutc0\" dir=\"auto\"><svg viewBox=\"0 0 24 24\" class=\"rn-13gxpu9 rn-4qtqp9 rn-yyyyoo rn-1qe8dj5 rn-50lct3 rn-dnmrzs rn-bnwqim rn-m6rgpd rn-lrvibr\"><g><path d=\"M19.75 2H4.25C3.01 2 2 3.01 2 4.25v15.5C2 20.99 3.01 22 4.25 22h15.5c1.24 0 2.25-1.01 2.25-2.25V4.25C22 3.01 20.99 2 19.75 2zM4.25 3.5h15.5c.413 0 .75.337.75.75v9.676l-3.858-3.858a.75.75 0 0 0-.53-.22h-.003a.74.74 0 0 0-.532.224l-4.317 4.384-1.813-1.806a.75.75 0 0 0-.53-.22c-.193-.03-.395.08-.535.227L3.5 17.642V4.25c0-.413.337-.75.75-.75zm-.744 16.28l5.418-5.534 6.282 6.254H4.25a.75.75 0 0 1-.744-.72zm16.244.72h-2.42l-5.007-4.987 3.792-3.85 4.385 4.384v3.703c0 .413-.337.75-.75.75z\"></path><circle cx=\"8.868\" cy=\"8.309\" r=\"1.542\"></circle></g></svg><span class=\"rn-ndvcnb rn-gxnn5r rn-fnigne rn-13yce4e rn-deolkf rn-homxoj rn-1471scf rn-14xgk7a rn-7cikom rn-o11vmf rn-gul640 rn-ad9z0x rn-p1pxzi rn-11wrixw rn-61z16t rn-1mnahxq rn-dnmrzs rn-bcqeeo rn-11yh6sk rn-buy8e9 rn-1mdbw0j rn-gy4na3 rn-9aemit rn-wk8lta rn-bauka4 rn-1udbk01 rn-3s2u2q rn-qvutc0\" dir=\"auto\" style=\"-webkit-box-orient: vertical; -webkit-line-clamp: 1;\"></span></div>"
   ]
  },
  {
   "cell_type": "code",
   "execution_count": null,
   "metadata": {},
   "outputs": [],
   "source": [
    "button_for_photo = driver.find_element_by_xpath(\"//div[contains(@aria-label, 'photo')][@role='button'][div[@dir='auto']]\")\n",
    "button_for_photo.click()\n",
    "time.sleep(3) # file dialog를 위한 sleep 3초"
   ]
  },
  {
   "cell_type": "markdown",
   "metadata": {},
   "source": [
    "### CHROME의 process id를 얻어오기"
   ]
  },
  {
   "cell_type": "code",
   "execution_count": null,
   "metadata": {},
   "outputs": [],
   "source": [
    "chromedriver_pid = driver.service.process.pid # chrome driver의 process id 임\n",
    "chromedriver_process = psutil.Process(chromedriver_pid) \n",
    "chrome_pid = 0\n",
    "for children_process in chromedriver_process.children(recursive=False): # chrome driver가 chrome을 child process로 실행시킴\n",
    "    chrome_pid = children_process.pid"
   ]
  },
  {
   "cell_type": "markdown",
   "metadata": {},
   "source": [
    "### process id를 통해서 application 제어하기 "
   ]
  },
  {
   "cell_type": "code",
   "execution_count": 1,
   "metadata": {},
   "outputs": [
    {
     "ename": "NameError",
     "evalue": "name 'Application' is not defined",
     "output_type": "error",
     "traceback": [
      "\u001b[1;31m---------------------------------------------------------------------------\u001b[0m",
      "\u001b[1;31mNameError\u001b[0m                                 Traceback (most recent call last)",
      "\u001b[1;32m<ipython-input-1-3c1f4a162590>\u001b[0m in \u001b[0;36m<module>\u001b[1;34m\u001b[0m\n\u001b[1;32m----> 1\u001b[1;33m \u001b[0mchrome_application\u001b[0m \u001b[1;33m=\u001b[0m \u001b[0mApplication\u001b[0m\u001b[1;33m(\u001b[0m\u001b[0mbackend\u001b[0m\u001b[1;33m=\u001b[0m\u001b[1;34m'uia'\u001b[0m\u001b[1;33m)\u001b[0m\u001b[1;33m.\u001b[0m\u001b[0mconnect\u001b[0m\u001b[1;33m(\u001b[0m\u001b[0mprocess\u001b[0m\u001b[1;33m=\u001b[0m\u001b[0mchrome_pid\u001b[0m\u001b[1;33m)\u001b[0m \u001b[1;31m# chrome process id를 얻어서 application을 제어\u001b[0m\u001b[1;33m\u001b[0m\u001b[0m\n\u001b[0m\u001b[0;32m      2\u001b[0m \u001b[0mfile_dialog\u001b[0m \u001b[1;33m=\u001b[0m \u001b[0mchrome_application\u001b[0m\u001b[1;33m.\u001b[0m\u001b[0mtop_window\u001b[0m\u001b[1;33m(\u001b[0m\u001b[1;33m)\u001b[0m\u001b[1;33m.\u001b[0m\u001b[0mOpenDialog\u001b[0m\u001b[1;33m\u001b[0m\u001b[0m\n\u001b[0;32m      3\u001b[0m \u001b[1;33m\u001b[0m\u001b[0m\n\u001b[0;32m      4\u001b[0m \u001b[1;31m# chromen application에서 top_window() 메소드는 chrome application의 가장 상위 window object를 return함\u001b[0m\u001b[1;33m\u001b[0m\u001b[1;33m\u001b[0m\u001b[0m\n\u001b[0;32m      5\u001b[0m \u001b[1;31m# 가장 상위 window object는 child window로 OpenDialog를 가지고있기에 이를 OpenDialog를 통해서 file dialog만을 가져옴\u001b[0m\u001b[1;33m\u001b[0m\u001b[1;33m\u001b[0m\u001b[0m\n",
      "\u001b[1;31mNameError\u001b[0m: name 'Application' is not defined"
     ]
    }
   ],
   "source": [
    "chrome_application = Application(backend='uia').connect(process=chrome_pid) # chrome process id를 얻어서 application을 제어\n",
    "file_dialog = chrome_application.top_window().OpenDialog \n",
    "\n",
    "# chromen application에서 top_window() 메소드는 chrome application의 가장 상위 window object를 return함\n",
    "# 가장 상위 window object는 child window로 OpenDialog를 가지고있기에 이를 OpenDialog를 통해서 file dialog만을 가져옴"
   ]
  },
  {
   "cell_type": "code",
   "execution_count": null,
   "metadata": {},
   "outputs": [],
   "source": [
    "file_dialog.print_control_identifiers() # file dialog의 ui 계층구조를 보기위한 method"
   ]
  },
  {
   "cell_type": "markdown",
   "metadata": {},
   "source": [
    "### file path를 입력하는 input과 열기버튼 제어하기"
   ]
  },
  {
   "cell_type": "code",
   "execution_count": null,
   "metadata": {},
   "outputs": [],
   "source": [
    "Edit_file_path = file_dialog.child_window(title_re=\"File name.*\", control_type=\"ComboBox\").child_window(title_re=\"File name.*\", control_type=\"Edit\")\n",
    "ok_button = file_dialog.child_window(title_re='Open', auto_id='1', control_type='Button')\n",
    "Edit_file_path.set_focus()\n",
    "pyautogui.typewrite(file_path)\n",
    "ok_button.click()"
   ]
  },
  {
   "cell_type": "markdown",
   "metadata": {},
   "source": [
    "### 포스팅완료"
   ]
  },
  {
   "cell_type": "code",
   "execution_count": 39,
   "metadata": {},
   "outputs": [],
   "source": [
    "button_for_submit = driver.find_element_by_xpath(\"//div[@role='button'][@data-testid='tweetButton']\")\n",
    "button_for_submit.click()"
   ]
  }
 ],
 "metadata": {
  "kernelspec": {
   "display_name": "rpa_project",
   "language": "python",
   "name": "rpa_project"
  },
  "language_info": {
   "codemirror_mode": {
    "name": "ipython",
    "version": 3
   },
   "file_extension": ".py",
   "mimetype": "text/x-python",
   "name": "python",
   "nbconvert_exporter": "python",
   "pygments_lexer": "ipython3",
   "version": "3.7.0"
  }
 },
 "nbformat": 4,
 "nbformat_minor": 2
}
