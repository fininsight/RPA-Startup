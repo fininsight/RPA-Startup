{
 "cells": [
  {
   "cell_type": "code",
   "execution_count": 3,
   "metadata": {},
   "outputs": [],
   "source": [
    "import os\n",
    "import sys\n",
    "import time\n",
    "\n",
    "from selenium import webdriver\n",
    "from selenium.webdriver.chrome.options import Options\n",
    "from selenium.webdriver.common.keys import Keys\n",
    "import pyautogui\n",
    "from pywinauto import Application\n",
    "import psutil"
   ]
  },
  {
   "cell_type": "markdown",
   "metadata": {},
   "source": [
    "### 트위터 자동포스팅\n",
    "1. 트위터 로그인\n",
    "2. 포스팅선택\n",
    "3. 포스팅작성(텍스트)\n",
    "4. 이미지파일, 동영상파일 첨부\n",
    "5. 포스팅"
   ]
  },
  {
   "cell_type": "code",
   "execution_count": 5,
   "metadata": {},
   "outputs": [],
   "source": [
    "twitter_id = os.getenv('TWITTER_ID')\n",
    "twitter_password = os.getenv('TWITTER_PASSWORD')\n",
    "driver_path = os.getenv('DRIVER_PATH')\n",
    "file_path = os.getenv('FILE_PATH')"
   ]
  },
  {
   "cell_type": "code",
   "execution_count": 13,
   "metadata": {},
   "outputs": [],
   "source": [
    "target_website = \"https://mobile.twitter.com/login\""
   ]
  },
  {
   "cell_type": "markdown",
   "metadata": {},
   "source": [
    "<input autocapitalize=\"none\" autocomplete=\"on\" autocorrect=\"off\" name=\"session[username_or_email]\" placeholder=\"Phone, email, or username\" spellcheck=\"false\" type=\"text\" dir=\"auto\" data-focusable=\"true\" class=\"rn-30o5oe rn-1niwhzg rn-ou6ah9 rn-t12b5v rn-zmljjp rn-pm2fo rn-13yce4e rn-fnigne rn-ndvcnb rn-gxnn5r rn-deolkf rn-homxoj rn-poiln3 rn-7cikom rn-m611by rn-1qfoi16 rn-1mi0q7o rn-1hfyk0a rn-1lrr6ok rn-1dz5y72 rn-1ttztb7 rn-13qz1uu\" value=\"\">\n",
    "<input autocapitalize=\"none\" autocomplete=\"on\" autocorrect=\"off\" name=\"session[password]\" placeholder=\"Password\" spellcheck=\"false\" type=\"password\" dir=\"auto\" data-focusable=\"true\" class=\"rn-30o5oe rn-1niwhzg rn-ou6ah9 rn-t12b5v rn-zmljjp rn-pm2fo rn-13yce4e rn-fnigne rn-ndvcnb rn-gxnn5r rn-deolkf rn-homxoj rn-poiln3 rn-7cikom rn-m611by rn-1qfoi16 rn-1mi0q7o rn-1hfyk0a rn-1lrr6ok rn-1dz5y72 rn-1ttztb7 rn-13qz1uu\" value=\"\">\n",
    "<div role=\"button\" data-focusable=\"true\" tabindex=\"0\" class=\"rn-1oszu61 rn-1niwhzg rn-112kd6t rn-4rwt92 rn-18p3no4 rn-ec560x rn-1bxrh7q rn-waaub4 rn-sqtsar rn-qb5c1y rn-1efd50x rn-14skgim rn-rull8r rn-mm0ijv rn-5kkj8d rn-13l2t4g rn-qklmqi rn-1ljd8xs rn-deolkf rn-1loqt21 rn-6koalj rn-1qe8dj5 rn-1mlwlqe rn-eqz5dr rn-1w2pmg rn-1mnahxq rn-61z16t rn-p1pxzi rn-11wrixw rn-1vuscfd rn-1dhvaqw rn-wk8lta rn-1pl8ijs rn-1mdbw0j rn-1wx0zj rn-bnwqim rn-o7ynqc rn-6416eg rn-lrvibr rn-1lgpqti\" data-testid=\"login-button\"><div class=\"rn-1awozwy rn-13yce4e rn-fnigne rn-ndvcnb rn-gxnn5r rn-deolkf rn-13gxpu9 rn-6koalj rn-1qe8dj5 rn-1mlwlqe rn-18u37iz rn-16y2uox rn-14xgk7a rn-a023e6 rn-o11vmf rn-ebii48 rn-vw2c0b rn-1777fci rn-eljoum rn-1mnahxq rn-61z16t rn-p1pxzi rn-11wrixw rn-dnmrzs rn-bcqeeo rn-wk8lta rn-9aemit rn-1mdbw0j rn-gy4na3 rn-q4m81j rn-bauka4 rn-q42fyq rn-qvutc0\" dir=\"auto\"><span class=\"rn-ndvcnb rn-gxnn5r rn-fnigne rn-13yce4e rn-deolkf rn-homxoj rn-1471scf rn-14xgk7a rn-7cikom rn-o11vmf rn-gul640 rn-ad9z0x rn-p1pxzi rn-11wrixw rn-61z16t rn-1mnahxq rn-dnmrzs rn-bcqeeo rn-11yh6sk rn-buy8e9 rn-1mdbw0j rn-gy4na3 rn-9aemit rn-wk8lta rn-bauka4 rn-1udbk01 rn-3s2u2q rn-qvutc0\" dir=\"auto\" style=\"-webkit-box-orient: vertical; -webkit-line-clamp: 1;\">Log in</span></div></div>"
   ]
  },
  {
   "cell_type": "markdown",
   "metadata": {},
   "source": [
    "### 트위터 로그인"
   ]
  },
  {
   "cell_type": "code",
   "execution_count": 17,
   "metadata": {},
   "outputs": [],
   "source": [
    "options = Options()\n",
    "options.add_argument(\"user-agent=Mozilla/5.0 (iPhone; CPU iPhone OS 11_0 like Mac OS X) AppleWebKit/604.1.38 (KHTML, like Gecko) Version/11.0 Mobile/15A372 Safari/604.1\")\n",
    "\n",
    "driver = webdriver.Chrome(driver_path, options=options)\n",
    "driver.maximize_window()\n",
    "driver.implicitly_wait(10)"
   ]
  },
  {
   "cell_type": "markdown",
   "metadata": {},
   "source": [
    "### 트위터로그인"
   ]
  },
  {
   "cell_type": "code",
   "execution_count": 18,
   "metadata": {},
   "outputs": [],
   "source": [
    "driver.get(target_website)\n",
    "\n",
    "input_id = driver.find_element_by_xpath(\"//input[contains(@name,'username_or_email')][@type='text']\")\n",
    "input_password = driver.find_element_by_xpath(\"//input[contains(@name,'password')][@type='password']\")\n",
    "button_for_login = driver.find_element_by_xpath(\"//div[@role='button'][@data-testid='LoginForm_Login_Button']\")\n",
    "\n",
    "input_id.clear()\n",
    "input_id.send_keys(twitter_id)\n",
    "input_password.clear()\n",
    "input_password.send_keys(twitter_password)\n",
    "button_for_login.click()"
   ]
  },
  {
   "cell_type": "markdown",
   "metadata": {},
   "source": [
    "### 포스팅을 위한 버튼 클릭"
   ]
  },
  {
   "cell_type": "code",
   "execution_count": 19,
   "metadata": {},
   "outputs": [],
   "source": [
    "input_button = driver.find_element_by_xpath(\"//a[@href='/compose/tweet'][@role='link'][@aria-label='Compose a Tweet']\") # 포스팅을 위한 area 클릭\n",
    "input_button.click()"
   ]
  },
  {
   "cell_type": "markdown",
   "metadata": {},
   "source": [
    "### <textarea autocapitalize=\"sentences\" autocomplete=\"on\" autocorrect=\"on\" placeholder=\"What’s happening?\" spellcheck=\"true\" dir=\"auto\" class=\"rn-30o5oe rn-1niwhzg rn-ou6ah9 rn-t12b5v rn-zmljjp rn-pm2fo rn-13yce4e rn-fnigne rn-ndvcnb rn-gxnn5r rn-deolkf rn-homxoj rn-16y2uox rn-poiln3 rn-7cikom rn-n8qunm rn-m611by rn-1qfoi16 rn-1mi0q7o rn-1hfyk0a rn-1lrr6ok rn-1dz5y72 rn-1ttztb7 rn-13qz1uu\" data-testid=\"tweetTextarea_0\" style=\"height: 46px;\"> </textarea>"
   ]
  },
  {
   "cell_type": "markdown",
   "metadata": {},
   "source": [
    "### 포스팅작성 (텍스트) "
   ]
  },
  {
   "cell_type": "code",
   "execution_count": 20,
   "metadata": {},
   "outputs": [],
   "source": [
    "input_text = driver.find_element_by_xpath(\"//textarea[@autocapitalize='sentences'][@data-testid='tweetTextarea_0']\")\n",
    "input_text.send_keys(\"트위터 테스트\")\n",
    "# driver.execute_script(\"arguments[0].innerHTML='트위터 테스트'\", input_text)"
   ]
  },
  {
   "cell_type": "markdown",
   "metadata": {},
   "source": [
    "<div role=\"button\" class=\"rn-1oszu61 rn-urgr8i rn-1c1gj4h rn-114ovsg rn-oucylx rn-855088 rn-1bxrh7q rn-waaub4 rn-sqtsar rn-qb5c1y rn-1efd50x rn-14skgim rn-rull8r rn-mm0ijv rn-5kkj8d rn-13l2t4g rn-qklmqi rn-1ljd8xs rn-deolkf rn-1loqt21 rn-6koalj rn-1qe8dj5 rn-1mlwlqe rn-eqz5dr rn-1w2pmg rn-1mnahxq rn-61z16t rn-p1pxzi rn-11wrixw rn-1vsu8ta rn-aj3cln rn-wk8lta rn-1pl8ijs rn-1mdbw0j rn-1wx0zj rn-bnwqim rn-o7ynqc rn-6416eg rn-lrvibr rn-1lgpqti\" data-testid=\"tweetButton\" data-focusable=\"true\" tabindex=\"0\"><div class=\"rn-1awozwy rn-13yce4e rn-fnigne rn-ndvcnb rn-gxnn5r rn-deolkf rn-jwli3a rn-6koalj rn-1qe8dj5 rn-1mlwlqe rn-18u37iz rn-16y2uox rn-14xgk7a rn-a023e6 rn-o11vmf rn-ebii48 rn-vw2c0b rn-1777fci rn-eljoum rn-1mnahxq rn-61z16t rn-p1pxzi rn-11wrixw rn-dnmrzs rn-bcqeeo rn-wk8lta rn-9aemit rn-1mdbw0j rn-gy4na3 rn-q4m81j rn-bauka4 rn-q42fyq rn-qvutc0\" dir=\"auto\"><span class=\"rn-ndvcnb rn-gxnn5r rn-fnigne rn-13yce4e rn-deolkf rn-homxoj rn-1471scf rn-14xgk7a rn-7cikom rn-o11vmf rn-gul640 rn-ad9z0x rn-p1pxzi rn-11wrixw rn-61z16t rn-1mnahxq rn-dnmrzs rn-bcqeeo rn-11yh6sk rn-buy8e9 rn-1mdbw0j rn-gy4na3 rn-9aemit rn-wk8lta rn-bauka4 rn-1udbk01 rn-3s2u2q rn-qvutc0\" dir=\"auto\" style=\"-webkit-box-orient: vertical; -webkit-line-clamp: 1;\">Tweet</span></div></div>"
   ]
  },
  {
   "cell_type": "markdown",
   "metadata": {},
   "source": [
    "### 그림파일 or 동영상파일 첨부"
   ]
  },
  {
   "cell_type": "code",
   "execution_count": null,
   "metadata": {},
   "outputs": [],
   "source": [
    "<div class=\"rn-1awozwy rn-13yce4e rn-fnigne rn-ndvcnb rn-gxnn5r rn-deolkf rn-13gxpu9 rn-6koalj rn-1qe8dj5 rn-1mlwlqe rn-18u37iz rn-16y2uox rn-14xgk7a rn-1b6yd1w rn-o11vmf rn-ebii48 rn-vw2c0b rn-1777fci rn-eljoum rn-1mnahxq rn-61z16t rn-p1pxzi rn-11wrixw rn-dnmrzs rn-bcqeeo rn-wk8lta rn-9aemit rn-1mdbw0j rn-gy4na3 rn-q4m81j rn-bauka4 rn-q42fyq rn-qvutc0\" dir=\"auto\"><svg viewBox=\"0 0 24 24\" class=\"rn-13gxpu9 rn-4qtqp9 rn-yyyyoo rn-1qe8dj5 rn-50lct3 rn-dnmrzs rn-bnwqim rn-m6rgpd rn-lrvibr\"><g><path d=\"M19.75 2H4.25C3.01 2 2 3.01 2 4.25v15.5C2 20.99 3.01 22 4.25 22h15.5c1.24 0 2.25-1.01 2.25-2.25V4.25C22 3.01 20.99 2 19.75 2zM4.25 3.5h15.5c.413 0 .75.337.75.75v9.676l-3.858-3.858a.75.75 0 0 0-.53-.22h-.003a.74.74 0 0 0-.532.224l-4.317 4.384-1.813-1.806a.75.75 0 0 0-.53-.22c-.193-.03-.395.08-.535.227L3.5 17.642V4.25c0-.413.337-.75.75-.75zm-.744 16.28l5.418-5.534 6.282 6.254H4.25a.75.75 0 0 1-.744-.72zm16.244.72h-2.42l-5.007-4.987 3.792-3.85 4.385 4.384v3.703c0 .413-.337.75-.75.75z\"></path><circle cx=\"8.868\" cy=\"8.309\" r=\"1.542\"></circle></g></svg><span class=\"rn-ndvcnb rn-gxnn5r rn-fnigne rn-13yce4e rn-deolkf rn-homxoj rn-1471scf rn-14xgk7a rn-7cikom rn-o11vmf rn-gul640 rn-ad9z0x rn-p1pxzi rn-11wrixw rn-61z16t rn-1mnahxq rn-dnmrzs rn-bcqeeo rn-11yh6sk rn-buy8e9 rn-1mdbw0j rn-gy4na3 rn-9aemit rn-wk8lta rn-bauka4 rn-1udbk01 rn-3s2u2q rn-qvutc0\" dir=\"auto\" style=\"-webkit-box-orient: vertical; -webkit-line-clamp: 1;\"></span></div>"
   ]
  },
  {
   "cell_type": "code",
   "execution_count": 21,
   "metadata": {},
   "outputs": [],
   "source": [
    "button_for_photo = driver.find_element_by_xpath(\"//div[contains(@aria-label, 'photo')][@role='button'][div[@dir='auto']]\")\n",
    "button_for_photo.click()\n",
    "time.sleep(3) # file dialog를 위한 sleep 3초"
   ]
  },
  {
   "cell_type": "markdown",
   "metadata": {},
   "source": [
    "### 사진업로드(2가지 방법 - pywinauto, pyautogui)"
   ]
  },
  {
   "cell_type": "markdown",
   "metadata": {},
   "source": [
    "### pywinauto를 이용한 file dialog 제어"
   ]
  },
  {
   "cell_type": "markdown",
   "metadata": {},
   "source": [
    "### 브라우저를 제어하기 위해서 Process id를 구하는 과정"
   ]
  },
  {
   "cell_type": "code",
   "execution_count": 25,
   "metadata": {},
   "outputs": [],
   "source": [
    "import pywinauto\n",
    "\n",
    "chrome_driver_process_id = driver.service.process.pid # 현재 구동되고있는 크롬드라이버의 process id를 얻는다.\n",
    "chrome_driver_process = psutil.Process(chrome_driver_process_id)  # 크롬드라이버의 pid로 psutil의 process 객체를 생성한다.\n",
    "children_process = chrome_driver_process.children(recursive=False)[0] # 크롬드라이버의 자식프로세스인 chrome.exe 프로세스의 id를 얻는다.\n",
    "children_process_id = children_process.pid\n",
    "chrome_application = Application(backend='uia').connect(process=children_process_id) # chrome.exe의 pid로 Application 객체를 생성한다."
   ]
  },
  {
   "cell_type": "markdown",
   "metadata": {},
   "source": [
    "### 그림 및 동영상 파일경로입력 및 확인버튼누르기"
   ]
  },
  {
   "cell_type": "code",
   "execution_count": 26,
   "metadata": {},
   "outputs": [
    {
     "data": {
      "text/plain": [
       "<uia_controls.ButtonWrapper - '열기(O)', Button, 3713039479265022881>"
      ]
     },
     "execution_count": 26,
     "metadata": {},
     "output_type": "execute_result"
    }
   ],
   "source": [
    "chrome_application = chrome_application.top_window() # Application객체에서 window specification 객체를 생성한다.\n",
    "file_dialog = chrome_application.OpenDialog # 크롬에서 file dialog부분만을 얻어온다.\n",
    "ok_button = file_dialog.child_window(title_re=\"열기\", control_type=\"Button\", auto_id=\"1\") # 경로입력후 열기버튼객체\n",
    "edit_file_path = file_dialog.child_window(title_re=\"파일 이름.*\", control_type=\"ComboBox\").child_window(title_re=\"파일 이름.*\")\n",
    "edit_file_path.set_focus() # set focus 메소드는 화면으로 띄워줌 ! (보장됨) AOT\n",
    "pyautogui.typewrite(file_path) \n",
    "ok_button.click()"
   ]
  },
  {
   "cell_type": "markdown",
   "metadata": {},
   "source": [
    "### Pyautogui를 이용하여 파일다이얼로그 핸들링"
   ]
  },
  {
   "cell_type": "code",
   "execution_count": 24,
   "metadata": {},
   "outputs": [
    {
     "ename": "NoSuchElementException",
     "evalue": "Message: no such element: Unable to locate element: {\"method\":\"xpath\",\"selector\":\"//button[contains(@data-sigil, 'submit_composer')][@type='submit']\"}\n  (Session info: chrome=73.0.3683.86)\n  (Driver info: chromedriver=2.44.609538 (b655c5a60b0b544917107a59d4153d4bf78e1b90),platform=Windows NT 10.0.17134 x86_64)\n",
     "output_type": "error",
     "traceback": [
      "\u001b[1;31m---------------------------------------------------------------------------\u001b[0m",
      "\u001b[1;31mNoSuchElementException\u001b[0m                    Traceback (most recent call last)",
      "\u001b[1;32m<ipython-input-24-c9c66ad18c8b>\u001b[0m in \u001b[0;36m<module>\u001b[1;34m\u001b[0m\n\u001b[0;32m      9\u001b[0m \u001b[0mcoordinates_for_button\u001b[0m \u001b[1;33m=\u001b[0m \u001b[0mpyautogui\u001b[0m\u001b[1;33m.\u001b[0m\u001b[0mcenter\u001b[0m\u001b[1;33m(\u001b[0m\u001b[0mlocation_for_button\u001b[0m\u001b[1;33m)\u001b[0m\u001b[1;33m\u001b[0m\u001b[0m\n\u001b[0;32m     10\u001b[0m \u001b[0mpyautogui\u001b[0m\u001b[1;33m.\u001b[0m\u001b[0mclick\u001b[0m\u001b[1;33m(\u001b[0m\u001b[0mcoordinates_for_button\u001b[0m\u001b[1;33m)\u001b[0m\u001b[1;33m\u001b[0m\u001b[0m\n\u001b[1;32m---> 11\u001b[1;33m \u001b[0mbutton_for_submit\u001b[0m \u001b[1;33m=\u001b[0m \u001b[0mdriver\u001b[0m\u001b[1;33m.\u001b[0m\u001b[0mfind_element_by_xpath\u001b[0m\u001b[1;33m(\u001b[0m\u001b[1;34m\"//button[contains(@data-sigil, 'submit_composer')][@type='submit']\"\u001b[0m\u001b[1;33m)\u001b[0m\u001b[1;33m\u001b[0m\u001b[0m\n\u001b[0m\u001b[0;32m     12\u001b[0m \u001b[0mbutton_for_submit\u001b[0m\u001b[1;33m.\u001b[0m\u001b[0mclick\u001b[0m\u001b[1;33m(\u001b[0m\u001b[1;33m)\u001b[0m\u001b[1;33m\u001b[0m\u001b[0m\n",
      "\u001b[1;32m~\\virtualenvironments\\rpa_project\\lib\\site-packages\\selenium\\webdriver\\remote\\webdriver.py\u001b[0m in \u001b[0;36mfind_element_by_xpath\u001b[1;34m(self, xpath)\u001b[0m\n\u001b[0;32m    392\u001b[0m             \u001b[0melement\u001b[0m \u001b[1;33m=\u001b[0m \u001b[0mdriver\u001b[0m\u001b[1;33m.\u001b[0m\u001b[0mfind_element_by_xpath\u001b[0m\u001b[1;33m(\u001b[0m\u001b[1;34m'//div/td[1]'\u001b[0m\u001b[1;33m)\u001b[0m\u001b[1;33m\u001b[0m\u001b[0m\n\u001b[0;32m    393\u001b[0m         \"\"\"\n\u001b[1;32m--> 394\u001b[1;33m         \u001b[1;32mreturn\u001b[0m \u001b[0mself\u001b[0m\u001b[1;33m.\u001b[0m\u001b[0mfind_element\u001b[0m\u001b[1;33m(\u001b[0m\u001b[0mby\u001b[0m\u001b[1;33m=\u001b[0m\u001b[0mBy\u001b[0m\u001b[1;33m.\u001b[0m\u001b[0mXPATH\u001b[0m\u001b[1;33m,\u001b[0m \u001b[0mvalue\u001b[0m\u001b[1;33m=\u001b[0m\u001b[0mxpath\u001b[0m\u001b[1;33m)\u001b[0m\u001b[1;33m\u001b[0m\u001b[0m\n\u001b[0m\u001b[0;32m    395\u001b[0m \u001b[1;33m\u001b[0m\u001b[0m\n\u001b[0;32m    396\u001b[0m     \u001b[1;32mdef\u001b[0m \u001b[0mfind_elements_by_xpath\u001b[0m\u001b[1;33m(\u001b[0m\u001b[0mself\u001b[0m\u001b[1;33m,\u001b[0m \u001b[0mxpath\u001b[0m\u001b[1;33m)\u001b[0m\u001b[1;33m:\u001b[0m\u001b[1;33m\u001b[0m\u001b[0m\n",
      "\u001b[1;32m~\\virtualenvironments\\rpa_project\\lib\\site-packages\\selenium\\webdriver\\remote\\webdriver.py\u001b[0m in \u001b[0;36mfind_element\u001b[1;34m(self, by, value)\u001b[0m\n\u001b[0;32m    976\u001b[0m         return self.execute(Command.FIND_ELEMENT, {\n\u001b[0;32m    977\u001b[0m             \u001b[1;34m'using'\u001b[0m\u001b[1;33m:\u001b[0m \u001b[0mby\u001b[0m\u001b[1;33m,\u001b[0m\u001b[1;33m\u001b[0m\u001b[0m\n\u001b[1;32m--> 978\u001b[1;33m             'value': value})['value']\n\u001b[0m\u001b[0;32m    979\u001b[0m \u001b[1;33m\u001b[0m\u001b[0m\n\u001b[0;32m    980\u001b[0m     \u001b[1;32mdef\u001b[0m \u001b[0mfind_elements\u001b[0m\u001b[1;33m(\u001b[0m\u001b[0mself\u001b[0m\u001b[1;33m,\u001b[0m \u001b[0mby\u001b[0m\u001b[1;33m=\u001b[0m\u001b[0mBy\u001b[0m\u001b[1;33m.\u001b[0m\u001b[0mID\u001b[0m\u001b[1;33m,\u001b[0m \u001b[0mvalue\u001b[0m\u001b[1;33m=\u001b[0m\u001b[1;32mNone\u001b[0m\u001b[1;33m)\u001b[0m\u001b[1;33m:\u001b[0m\u001b[1;33m\u001b[0m\u001b[0m\n",
      "\u001b[1;32m~\\virtualenvironments\\rpa_project\\lib\\site-packages\\selenium\\webdriver\\remote\\webdriver.py\u001b[0m in \u001b[0;36mexecute\u001b[1;34m(self, driver_command, params)\u001b[0m\n\u001b[0;32m    319\u001b[0m         \u001b[0mresponse\u001b[0m \u001b[1;33m=\u001b[0m \u001b[0mself\u001b[0m\u001b[1;33m.\u001b[0m\u001b[0mcommand_executor\u001b[0m\u001b[1;33m.\u001b[0m\u001b[0mexecute\u001b[0m\u001b[1;33m(\u001b[0m\u001b[0mdriver_command\u001b[0m\u001b[1;33m,\u001b[0m \u001b[0mparams\u001b[0m\u001b[1;33m)\u001b[0m\u001b[1;33m\u001b[0m\u001b[0m\n\u001b[0;32m    320\u001b[0m         \u001b[1;32mif\u001b[0m \u001b[0mresponse\u001b[0m\u001b[1;33m:\u001b[0m\u001b[1;33m\u001b[0m\u001b[0m\n\u001b[1;32m--> 321\u001b[1;33m             \u001b[0mself\u001b[0m\u001b[1;33m.\u001b[0m\u001b[0merror_handler\u001b[0m\u001b[1;33m.\u001b[0m\u001b[0mcheck_response\u001b[0m\u001b[1;33m(\u001b[0m\u001b[0mresponse\u001b[0m\u001b[1;33m)\u001b[0m\u001b[1;33m\u001b[0m\u001b[0m\n\u001b[0m\u001b[0;32m    322\u001b[0m             response['value'] = self._unwrap_value(\n\u001b[0;32m    323\u001b[0m                 response.get('value', None))\n",
      "\u001b[1;32m~\\virtualenvironments\\rpa_project\\lib\\site-packages\\selenium\\webdriver\\remote\\errorhandler.py\u001b[0m in \u001b[0;36mcheck_response\u001b[1;34m(self, response)\u001b[0m\n\u001b[0;32m    240\u001b[0m                 \u001b[0malert_text\u001b[0m \u001b[1;33m=\u001b[0m \u001b[0mvalue\u001b[0m\u001b[1;33m[\u001b[0m\u001b[1;34m'alert'\u001b[0m\u001b[1;33m]\u001b[0m\u001b[1;33m.\u001b[0m\u001b[0mget\u001b[0m\u001b[1;33m(\u001b[0m\u001b[1;34m'text'\u001b[0m\u001b[1;33m)\u001b[0m\u001b[1;33m\u001b[0m\u001b[0m\n\u001b[0;32m    241\u001b[0m             \u001b[1;32mraise\u001b[0m \u001b[0mexception_class\u001b[0m\u001b[1;33m(\u001b[0m\u001b[0mmessage\u001b[0m\u001b[1;33m,\u001b[0m \u001b[0mscreen\u001b[0m\u001b[1;33m,\u001b[0m \u001b[0mstacktrace\u001b[0m\u001b[1;33m,\u001b[0m \u001b[0malert_text\u001b[0m\u001b[1;33m)\u001b[0m\u001b[1;33m\u001b[0m\u001b[0m\n\u001b[1;32m--> 242\u001b[1;33m         \u001b[1;32mraise\u001b[0m \u001b[0mexception_class\u001b[0m\u001b[1;33m(\u001b[0m\u001b[0mmessage\u001b[0m\u001b[1;33m,\u001b[0m \u001b[0mscreen\u001b[0m\u001b[1;33m,\u001b[0m \u001b[0mstacktrace\u001b[0m\u001b[1;33m)\u001b[0m\u001b[1;33m\u001b[0m\u001b[0m\n\u001b[0m\u001b[0;32m    243\u001b[0m \u001b[1;33m\u001b[0m\u001b[0m\n\u001b[0;32m    244\u001b[0m     \u001b[1;32mdef\u001b[0m \u001b[0m_value_or_default\u001b[0m\u001b[1;33m(\u001b[0m\u001b[0mself\u001b[0m\u001b[1;33m,\u001b[0m \u001b[0mobj\u001b[0m\u001b[1;33m,\u001b[0m \u001b[0mkey\u001b[0m\u001b[1;33m,\u001b[0m \u001b[0mdefault\u001b[0m\u001b[1;33m)\u001b[0m\u001b[1;33m:\u001b[0m\u001b[1;33m\u001b[0m\u001b[0m\n",
      "\u001b[1;31mNoSuchElementException\u001b[0m: Message: no such element: Unable to locate element: {\"method\":\"xpath\",\"selector\":\"//button[contains(@data-sigil, 'submit_composer')][@type='submit']\"}\n  (Session info: chrome=73.0.3683.86)\n  (Driver info: chromedriver=2.44.609538 (b655c5a60b0b544917107a59d4153d4bf78e1b90),platform=Windows NT 10.0.17134 x86_64)\n"
     ]
    }
   ],
   "source": [
    "import pyautogui\n",
    "\n",
    "location_for_input = pyautogui.locateOnScreen('twitter/file_dialog.png', confidence=0.8)\n",
    "coordinates_for_input = pyautogui.center(location_for_input)\n",
    "pyautogui.click(coordinates_for_input)\n",
    "pyautogui.typewrite(file_path) # file 경로를 받아와야함.\n",
    "\n",
    "location_for_button = pyautogui.locateOnScreen('twitter/open.png', confidence=0.8)\n",
    "coordinates_for_button = pyautogui.center(location_for_button)\n",
    "pyautogui.click(coordinates_for_button)"
   ]
  },
  {
   "cell_type": "markdown",
   "metadata": {},
   "source": [
    "### 포스팅완료"
   ]
  },
  {
   "cell_type": "code",
   "execution_count": 39,
   "metadata": {},
   "outputs": [],
   "source": [
    "button_for_submit = driver.find_element_by_xpath(\"//div[@role='button'][@data-testid='tweetButton']\")\n",
    "button_for_submit.click()"
   ]
  }
 ],
 "metadata": {
  "kernelspec": {
   "display_name": "rpa_project",
   "language": "python",
   "name": "rpa_project"
  },
  "language_info": {
   "codemirror_mode": {
    "name": "ipython",
    "version": 3
   },
   "file_extension": ".py",
   "mimetype": "text/x-python",
   "name": "python",
   "nbconvert_exporter": "python",
   "pygments_lexer": "ipython3",
   "version": "3.7.0"
  }
 },
 "nbformat": 4,
 "nbformat_minor": 2
}
