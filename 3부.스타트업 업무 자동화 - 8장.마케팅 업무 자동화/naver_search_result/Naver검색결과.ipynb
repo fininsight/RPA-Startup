{
 "cells": [
  {
   "cell_type": "markdown",
   "metadata": {},
   "source": [
    "# 네이버 검색결과 이메일로 발송.\n",
    "\n",
    "1. 전체 검색 결과를 구분별로 가져오기\n",
    "2. 세부 파트별로 가져오기 (블로그, 뉴스, 카페 글)"
   ]
  },
  {
   "cell_type": "markdown",
   "metadata": {},
   "source": [
    "## 1. 전체 검색 결과를 구분별로 가져오기\n",
    "### 설계\n",
    "1. 브라우저 설정 \n",
    "2. target_url(https://search.naver.com/search.naver?query={검색내용}) 설정 및 접속\n",
    "3. HTML 분석 & 내용을 형식별로 구분 (카페, 블로그, 지식In 등)\n",
    "4. 가져올 내용들을 정리 (작성일자, 이미지, description, 제목, 링크, <블로그 이름>, 링크 url 등)\n",
    "5. 시각화 (엑셀, or html) 등"
   ]
  },
  {
   "cell_type": "markdown",
   "metadata": {},
   "source": [
    "#### 1. 브라우저 설정"
   ]
  },
  {
   "cell_type": "code",
   "execution_count": 8,
   "metadata": {},
   "outputs": [],
   "source": [
    "# 1. 브라우저 설정\n",
    "\"\"\"\n",
    "정말 많은 brower가 있습니다만,\n",
    "본 예제에서는 OS에 독립적으로 실행되길 원하므로,\n",
    "보편적인 Chrome을 사용하겠습니다.\n",
    "만약 chrome driver가 없다면 아래 링크에서 설치하십시요.\n",
    "- http://chromedriver.storage.googleapis.com/index.html\n",
    "\"\"\"\n",
    "\n",
    "from selenium import webdriver\n",
    "\n",
    "# TODO: Option에 대한 설명 필요.\n",
    "# options = None\n",
    "options = webdriver.ChromeOptions()\n",
    "options.add_experimental_option('prefs', {\n",
    "    \"download.default_directory\": '.'\n",
    "})\n",
    "driver = webdriver.Chrome(options=options)\n",
    "driver.maximize_window()\n",
    "driver.implicitly_wait(10)\n",
    "\n",
    "\n",
    "### 아래와 같은 많은 브라우저들이 있습니다.\n",
    "\n",
    "# driver = webdriver.FireFox\n",
    "# webdriver.FirefoxProfile\n",
    "\n",
    "# driver = webdriver.Ie\n",
    "# driver = webdriver.Opera\n",
    "\n",
    "# driver = webdriver.PhantomJS\n",
    "\n",
    "# driver = webdriver.Remote\n",
    "# webdriver.DesiredCapabilities\n",
    "\n",
    "# driver = webdriver.safairi\n",
    "\n",
    "## ...\n"
   ]
  },
  {
   "cell_type": "markdown",
   "metadata": {},
   "source": [
    "#### 2. target_url(https://search.naver.com/search.naver?query={검색내용}) 설정 및 접속"
   ]
  },
  {
   "cell_type": "code",
   "execution_count": 9,
   "metadata": {},
   "outputs": [],
   "source": [
    "base_url = 'https://search.naver.com/search.naver?query='\n",
    "search_content = '마약베개'\n",
    "\n",
    "target_url = base_url + search_content\n",
    "\n",
    "driver.get(target_url)"
   ]
  },
  {
   "cell_type": "markdown",
   "metadata": {},
   "source": [
    "#### 3. HTML 분석 (Top-Down 방식) & 내용을 형식별로 구분 (카페, 블로그, 지식In 등)"
   ]
  },
  {
   "cell_type": "code",
   "execution_count": 15,
   "metadata": {},
   "outputs": [],
   "source": [
    "## 검색 결과가 나오는 컨텐츠 \n",
    "## <div id=\"main_pack\" class=\"main_pack\">...</div>\n",
    "main_pack = driver.find_element_by_xpath('//*[@id=\"main_pack\"]')\n",
    "# print(main_pack)\n",
    "# print(dir(main_pack))\n",
    "\n",
    "# 방법1. \n",
    "nx_related_keyword = main_pack.find_element_by_id('nx_related_keywords')\n",
    "nx_brand_search_section = main_pack.find_element_by_class_name('brand_search')\n",
    "nx_powerlink_section = main_pack.find_element_by_class_name('_pl_section')\n",
    "nx_shopping_section = main_pack.find_element_by_id('_shopping_guide_view')\n",
    "nx_blog_section = main_pack.find_element_by_class_name('_prs_blg')\n",
    "nx_cafe_section = main_pack.find_element_by_class_name('_prs_caf')\n",
    "nx_post_section = main_pack.find_element_by_class_name('sp_post')\n",
    "nx_website_section = main_pack.find_element_by_class_name('sp_website')\n",
    "nx_biz_site_section = main_pack.find_element_by_class_name('_bz_section')\n",
    "\n",
    "\n"
   ]
  },
  {
   "cell_type": "markdown",
   "metadata": {},
   "source": [
    "#### 4. 가져올 내용들 스크린샷"
   ]
  },
  {
   "cell_type": "code",
   "execution_count": 51,
   "metadata": {},
   "outputs": [],
   "source": [
    "nx_related_keyword = main_pack.find_element_by_id('nx_related_keywords')\n",
    "nx_brand_search_section = main_pack.find_element_by_class_name('brand_search')\n",
    "nx_powerlink_section = main_pack.find_element_by_class_name('_pl_section')\n",
    "nx_shopping_section = main_pack.find_element_by_id('_shopping_guide_view')\n",
    "nx_blog_section = main_pack.find_element_by_class_name('_prs_blg')\n",
    "nx_cafe_section = main_pack.find_element_by_class_name('_prs_caf')\n",
    "nx_post_section = main_pack.find_element_by_class_name('sp_post')\n",
    "nx_website_section = main_pack.find_element_by_class_name('sp_website')\n",
    "nx_biz_site_section = main_pack.find_element_by_class_name('_bz_section')\n",
    "\n",
    "## 스크린샷을 다음처럼 파일로 저장할 수 있습니다.\n",
    "nx_related_keyword.screenshot('nx_related_keyword.png')\n",
    "\n",
    "## 하지만 우린 스크린샷을 이용해 메일을 보낼 것이기 때문에,\n",
    "## 파일로 저장하지 않고, 이미지를 변수에 저장해보도록 합니다. \n",
    "## 방법은 다음처럼 screenshot_as_base64 을 이용합니다.\n",
    "screenshots = {\n",
    "    'related_keyword': nx_related_keyword.screenshot_as_base64,\n",
    "    'brand_search_section': nx_brand_search_section.screenshot_as_base64,\n",
    "    'powerlink_section': nx_powerlink_section.screenshot_as_base64,\n",
    "    'shopping_section':nx_shopping_section.screenshot_as_base64,\n",
    "    'blog_section':nx_blog_section.screenshot_as_base64,\n",
    "    'cafe_section':nx_cafe_section.screenshot_as_base64,\n",
    "    'post_section':nx_post_section.screenshot_as_base64,\n",
    "    'website_section':nx_website_section.screenshot_as_base64,\n",
    "    'biz_site_section':nx_biz_site_section.screenshot_as_base64\n",
    "}\n",
    "\n"
   ]
  },
  {
   "cell_type": "markdown",
   "metadata": {},
   "source": [
    "#### 5. 스크린샷 이미지 태그로 만들기"
   ]
  },
  {
   "cell_type": "code",
   "execution_count": 49,
   "metadata": {},
   "outputs": [],
   "source": [
    "img_tag_screenshots = {} # img_tag들을 저장할 스크린샷 dictionary\n",
    "\n",
    "for s_shot in screenshots:\n",
    "    # 보기 좋게 최대 사이즈도 정해 놓읍시다.\n",
    "    img_tag_screenshots[s_shot] = f'<img style=\"max-height=600px; max-width:800px;\" src=\"data:image/png;base64, {screenshots[s_shot]}\" />'    \n"
   ]
  },
  {
   "cell_type": "markdown",
   "metadata": {},
   "source": [
    "#### 6. HTML 이미지 태그 메일로 보내기"
   ]
  },
  {
   "cell_type": "code",
   "execution_count": 55,
   "metadata": {},
   "outputs": [],
   "source": [
    "import smtplib, ssl\n",
    "from email.mime.text import MIMEText\n",
    "\n",
    "\n",
    "port = 465  # For SSL\n",
    "smtp_server = \"smtp.naver.com\"\n",
    "sender_email = \"<your email>\"  # 제가 저에게 보냅니다.\n",
    "receiver_email = \"<your email>\"  # 제가 저에게 보냅니다.\n",
    "password = \"<your password>\"\n",
    "\n",
    "subject= f\"[정기수신] {search_content}의 검색결과\" \n",
    "\n",
    "html_message = f\"\"\"\\\n",
    "# {subject}\n",
    "<br/>\n",
    "# {search_content}에 따른 검색결과는 다음과 같습니다.\n",
    "\"\"\"\n",
    "\n",
    "## for문을 이용해 편하게 뽑아내봅시다.\n",
    "for tag_key in img_tag_screenshots:\n",
    "    html_message += \"<br/><br/>\" # 공백 두개 추가합니다.\n",
    "    html_message += f'<h1>{tag_key}</h1> <br/>'\n",
    "    html_message += f'{img_tag_screenshots[tag_key]}' \n",
    "\n",
    "\n",
    "message = MIMEText(html_message, 'html', _charset=\"UTF-8\")\n",
    "message['Subject'] = subject\n",
    "message['From'] = sender_email\n",
    "message['to'] = receiver_email\n",
    "\n",
    "context = ssl.create_default_context()\n",
    "with smtplib.SMTP_SSL(smtp_server, port, context=context) as server:\n",
    "    server.login(sender_email, password)\n",
    "    server.sendmail(sender_email, receiver_email, message.as_string())"
   ]
  },
  {
   "cell_type": "code",
   "execution_count": null,
   "metadata": {},
   "outputs": [],
   "source": []
  },
  {
   "cell_type": "markdown",
   "metadata": {},
   "source": [
    "#### 가져올 내용 정리"
   ]
  },
  {
   "cell_type": "code",
   "execution_count": null,
   "metadata": {},
   "outputs": [],
   "source": [
    "\n",
    "## 연관검색어 형식 구분\n",
    "# keyword 별로 나열.\n",
    "keywords = []\n",
    "# print(dir(related_keywords))\n",
    "\n",
    "keywords_tag = related_keywords.find_elements_by_tag_name('li')\n",
    "for x in keywords_tag:\n",
    "    keywords.append({\n",
    "        'text':x.text,\n",
    "        'link':x.find_element_by_tag_name('a').get_attribute('href')\n",
    "    })\n",
    "# pprint(keywords)\n",
    "\n",
    "## 브랜드 서치 섹션 형식 구분\n",
    "brand_search_section.screenshot('brand_search_section.png') # 해당부분만 스크린샷 찍기\n",
    "\n",
    "## 지식쇼핑 섹션\n",
    "sp_shop_section.screenshot('sp_shop.png')\n",
    "print(\"C\")\n",
    "\n",
    "## 블로그 섹션\n",
    "blog_list = []\n",
    "blog_contents = blog_section.find_element_by_tag_name('ul').find_elements_by_tag_name('li')\n",
    "for blog_content in blog_contents:\n",
    "    title = blog_content.find_element_by_class_name('sh_blog_title')\n",
    "    blog_list.append({\n",
    "        'image':blog_content.find_element_by_class_name('thumb').find_element_by_tag_name('img').get_attribute('src'),\n",
    "        'link':title.get_attribute('href'),\n",
    "        'title':title.text,\n",
    "        'desc':blog_content.find_element_by_class_name('sh_blog_passage').text\n",
    "    })\n",
    "# pprint(blog_list)\n",
    "print(\"Hi\")\n",
    "\n",
    "## cafe 섹션\n",
    "# 자세히 보면 블로그와 구조가 똑같아보여요!\n",
    "cafe_list = []\n",
    "cafe_contents = cafe_section.find_element_by_tag_name('ul').find_elements_by_tag_name('li')\n",
    "for cafe_content in cafe_contents:\n",
    "    title = cafe_content.find_element_by_class_name('sh_cafe_title')\n",
    "    cafe_list.append({\n",
    "        'image':cafe_content.find_element_by_class_name('thumb').find_element_by_tag_name('img').get_attribute('src'),\n",
    "        'link':title.get_attribute('href'),\n",
    "        'title':title.text,\n",
    "        'desc':cafe_content.find_element_by_class_name('sh_cafe_passage').text\n",
    "    })\n",
    "pprint(cafe_list)\n",
    "print(\"HO\")"
   ]
  },
  {
   "cell_type": "code",
   "execution_count": null,
   "metadata": {},
   "outputs": [],
   "source": [
    "## 1. 전체 검색 결과를 구분별로 가져오기\n",
    "### 설계\n",
    "1. 브라우저 설정 \n",
    "2. target_url(https://search.naver.com/search.naver?query={검색내용}) 설정 및 접속\n",
    "3. HTML 분석 & 내용을 형식별로 구분 (카페, 블로그, 지식In 등)\n",
    "4. 가져올 내용들을 정리 (작성일자, 이미지, description, 제목, 링크, <블로그 이름>, 링크 url 등)\n",
    "5. 시각화 (엑셀, or html) 등"
   ]
  }
 ],
 "metadata": {
  "kernelspec": {
   "display_name": "Python 3",
   "language": "python",
   "name": "python3"
  },
  "language_info": {
   "codemirror_mode": {
    "name": "ipython",
    "version": 3
   },
   "file_extension": ".py",
   "mimetype": "text/x-python",
   "name": "python",
   "nbconvert_exporter": "python",
   "pygments_lexer": "ipython3",
   "version": "3.6.6"
  }
 },
 "nbformat": 4,
 "nbformat_minor": 2
}
