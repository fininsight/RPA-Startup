{
 "cells": [
  {
   "cell_type": "markdown",
   "metadata": {},
   "source": [
    "# 네이버 검색결과 이메일로 발송.\n",
    "\n",
    "1. 전체 검색 결과를 구분별로 가져오기\n",
    "2. 세부 파트별로 가져오기 (블로그, 뉴스, 카페 글)"
   ]
  },
  {
   "cell_type": "markdown",
   "metadata": {},
   "source": [
    "## 1. 전체 검색 결과를 구분별로 가져오기\n",
    "### 설계\n",
    "1. 브라우저 설정 \n",
    "2. target_url(https://search.naver.com/search.naver?query={검색내용}) 설정 및 접속\n",
    "3. HTML 분석 & 내용을 형식별로 구분 (카페, 블로그, 지식In 등)\n",
    "4. 가져올 내용들을 정리 (작성일자, 이미지, description, 제목, 링크, <블로그 이름>, 링크 url 등)\n",
    "5. 시각화 (엑셀, or html) 등"
   ]
  },
  {
   "cell_type": "markdown",
   "metadata": {},
   "source": [
    "#### 1. 브라우저 설정"
   ]
  },
  {
   "cell_type": "code",
   "execution_count": 25,
   "metadata": {},
   "outputs": [],
   "source": [
    "# 1. 브라우저 설정\n",
    "\"\"\"\n",
    "정말 많은 brower가 있습니다만,\n",
    "본 예제에서는 OS에 독립적으로 실행되길 원하므로,\n",
    "보편적인 Chrome을 사용하겠습니다.\n",
    "만약 chrome driver가 없다면 아래 링크에서 설치하십시요.\n",
    "- http://chromedriver.storage.googleapis.com/index.html\n",
    "\"\"\"\n",
    "\n",
    "from selenium import webdriver\n",
    "from pprint import pprint\n",
    "\n",
    "\n",
    "# TODO: Option에 대한 설명 필요.\n",
    "# options = None\n",
    "options = webdriver.ChromeOptions()\n",
    "options.add_experimental_option('prefs', {\n",
    "    \"download.default_directory\": '.'\n",
    "})\n",
    "driver = webdriver.Chrome(options=options)\n",
    "driver.maximize_window()\n",
    "driver.implicitly_wait(30)\n",
    "\n",
    "\n",
    "### 아래와 같은 많은 브라우저들이 있습니다.\n",
    "\n",
    "# driver = webdriver.FireFox\n",
    "# webdriver.FirefoxProfile\n",
    "\n",
    "# driver = webdriver.Ie\n",
    "# driver = webdriver.Opera\n",
    "\n",
    "# driver = webdriver.PhantomJS\n",
    "\n",
    "# driver = webdriver.Remote\n",
    "# webdriver.DesiredCapabilities\n",
    "\n",
    "# driver = webdriver.safairi\n",
    "\n",
    "## ...\n"
   ]
  },
  {
   "cell_type": "markdown",
   "metadata": {},
   "source": [
    "#### 2. target_url(https://search.naver.com/search.naver?query={검색내용}) 설정 및 접속"
   ]
  },
  {
   "cell_type": "code",
   "execution_count": 26,
   "metadata": {},
   "outputs": [],
   "source": [
    "base_url = 'https://search.naver.com/search.naver?query='\n",
    "search_content = '마약베개'\n",
    "\n",
    "target_url = base_url + search_content\n",
    "\n",
    "driver.get(target_url)"
   ]
  },
  {
   "cell_type": "markdown",
   "metadata": {},
   "source": [
    "#### 3. HTML 분석 (Top-Down 방식) & 내용을 형식별로 구분 (카페, 블로그, 지식In 등)"
   ]
  },
  {
   "cell_type": "code",
   "execution_count": 27,
   "metadata": {},
   "outputs": [
    {
     "name": "stdout",
     "output_type": "stream",
     "text": [
      "<selenium.webdriver.remote.webelement.WebElement (session=\"cc26da79e4ec89f69a588aa2e3706e8c\", element=\"0.3380293503938192-1\")>\n",
      "['__class__', '__delattr__', '__dict__', '__dir__', '__doc__', '__eq__', '__format__', '__ge__', '__getattribute__', '__gt__', '__hash__', '__init__', '__init_subclass__', '__le__', '__lt__', '__module__', '__ne__', '__new__', '__reduce__', '__reduce_ex__', '__repr__', '__setattr__', '__sizeof__', '__str__', '__subclasshook__', '__weakref__', '_execute', '_id', '_parent', '_upload', '_w3c', 'clear', 'click', 'find_element', 'find_element_by_class_name', 'find_element_by_css_selector', 'find_element_by_id', 'find_element_by_link_text', 'find_element_by_name', 'find_element_by_partial_link_text', 'find_element_by_tag_name', 'find_element_by_xpath', 'find_elements', 'find_elements_by_class_name', 'find_elements_by_css_selector', 'find_elements_by_id', 'find_elements_by_link_text', 'find_elements_by_name', 'find_elements_by_partial_link_text', 'find_elements_by_tag_name', 'find_elements_by_xpath', 'get_attribute', 'get_property', 'id', 'is_displayed', 'is_enabled', 'is_selected', 'location', 'location_once_scrolled_into_view', 'parent', 'rect', 'screenshot', 'screenshot_as_base64', 'screenshot_as_png', 'send_keys', 'size', 'submit', 'tag_name', 'text', 'value_of_css_property']\n"
     ]
    }
   ],
   "source": [
    "## 검색 결과가 나오는 컨텐츠 \n",
    "## <div id=\"main_pack\" class=\"main_pack\">...</div>\n",
    "main_pack = driver.find_element_by_xpath('//*[@id=\"main_pack\"]')\n",
    "print(main_pack)\n",
    "print(dir(main_pack))\n",
    "\n",
    "## 연관검색어\n",
    "related_keywords = main_pack.find_element_by_xpath('//*[@id=\"nx_related_keywords\"]/dl/dd[1]/ul')\n",
    "\n",
    "## 브랜드 서치 섹션\n",
    "# naver는 동적으로 배치가 바뀝니다. 그러므로 식별자(class, id) 없이 무작정 xpath로 path를 복사하면,\n",
    "# 다른 파일에서 동작을 하지 않을 수가 있습니다.\n",
    "# 해당 예제에서는 class를 식별자로 하여 데이터를 가져오기로 합니다.\n",
    "brand_search_section = main_pack.find_element_by_xpath('//*[@class=\"brand_search section\"]')\n",
    "\n",
    "## 지식쇼핑 섹션\n",
    "sp_shop_section = main_pack.find_element_by_class_name('sp_shop_default')  # 이렇게 class로도 찾을 수 있습니다.\n",
    "\n",
    "## 블로그 섹션\n",
    "blog_section = main_pack.find_element_by_class_name('blog')\n",
    "\n",
    "## cafe 섹션 \n",
    "cafe_section = main_pack.find_element_by_class_name('cafe')\n",
    "\n"
   ]
  },
  {
   "cell_type": "markdown",
   "metadata": {},
   "source": [
    "#### 4. 가져올 내용들을 정리 (작성일자, 이미지, description, 제목, 링크, <블로그 이름>, 링크 url 등)"
   ]
  },
  {
   "cell_type": "code",
   "execution_count": null,
   "metadata": {},
   "outputs": [],
   "source": [
    "## 연관검색어 형식 구분\n",
    "# keyword 별로 나열.\n",
    "keywords = []\n",
    "# print(dir(related_keywords))\n",
    "\n",
    "keywords_tag = related_keywords.find_elements_by_tag_name('li')\n",
    "for x in keywords_tag:\n",
    "    keywords.append({\n",
    "        'text':x.text,\n",
    "        'link':x.find_element_by_tag_name('a').get_attribute('href')\n",
    "    })\n",
    "# pprint(keywords)\n",
    "\n",
    "## 브랜드 서치 섹션 형식 구분\n",
    "brand_search_section.screenshot('brand_search_section.png') # 해당부분만 스크린샷 찍기\n",
    "\n",
    "## 지식쇼핑 섹션\n",
    "sp_shop_section.screenshot('sp_shop.png')\n",
    "\n",
    "## 블로그 섹션\n",
    "blog_list = []\n",
    "blog_contents = blog_section.find_element_by_tag_name('ul').find_elements_by_tag_name('li')\n",
    "for blog_content in blog_contents:\n",
    "    title = blog_content.find_element_by_class_name('sh_blog_title')\n",
    "    blog_list.append({\n",
    "        'image':blog_content.find_element_by_class_name('thumb').find_element_by_tag_name('img').get_attribute('src'),\n",
    "        'link':title.get_attribute('href'),\n",
    "        'title':title.text,\n",
    "        'desc':blog_content.find_element_by_class_name('sh_blog_passage').text\n",
    "    })\n",
    "# pprint(blog_list)\n",
    "\n",
    "\n",
    "## cafe 섹션\n",
    "# 자세히 보면 블로그와 구조가 똑같아보여요!\n",
    "cafe_list = []\n",
    "cafe_contents = cafe_section.find_element_by_tag_name('ul').find_elements_by_tag_name('li')\n",
    "for cafe_content in cafe_contents:\n",
    "    title = cafe_content.find_element_by_class_name('sh_cafe_title')\n",
    "    cafe_list.append({\n",
    "        'image':cafe_content.find_element_by_class_name('thumb').find_element_by_tag_name('img').get_attribute('src'),\n",
    "        'link':title.get_attribute('href'),\n",
    "        'title':title.text,\n",
    "        'desc':cafe_content.find_element_by_class_name('sh_cafe_passage').text\n",
    "    })\n",
    "pprint(cafe_list)"
   ]
  },
  {
   "cell_type": "code",
   "execution_count": null,
   "metadata": {},
   "outputs": [],
   "source": []
  },
  {
   "cell_type": "code",
   "execution_count": null,
   "metadata": {},
   "outputs": [],
   "source": [
    "## 1. 전체 검색 결과를 구분별로 가져오기\n",
    "### 설계\n",
    "1. 브라우저 설정 \n",
    "2. target_url(https://search.naver.com/search.naver?query={검색내용}) 설정 및 접속\n",
    "3. HTML 분석 & 내용을 형식별로 구분 (카페, 블로그, 지식In 등)\n",
    "4. 가져올 내용들을 정리 (작성일자, 이미지, description, 제목, 링크, <블로그 이름>, 링크 url 등)\n",
    "5. 시각화 (엑셀, or html) 등"
   ]
  }
 ],
 "metadata": {
  "kernelspec": {
   "display_name": "Python 3",
   "language": "python",
   "name": "python3"
  },
  "language_info": {
   "codemirror_mode": {
    "name": "ipython",
    "version": 3
   },
   "file_extension": ".py",
   "mimetype": "text/x-python",
   "name": "python",
   "nbconvert_exporter": "python",
   "pygments_lexer": "ipython3",
   "version": "3.6.6"
  }
 },
 "nbformat": 4,
 "nbformat_minor": 2
}
