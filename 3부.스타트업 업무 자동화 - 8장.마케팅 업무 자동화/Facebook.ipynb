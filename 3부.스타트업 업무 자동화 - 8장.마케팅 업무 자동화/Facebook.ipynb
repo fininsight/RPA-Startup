{
 "cells": [
  {
   "cell_type": "code",
   "execution_count": 105,
   "metadata": {},
   "outputs": [],
   "source": [
    "import os\n",
    "import sys\n",
    "import time\n",
    "\n",
    "from selenium import webdriver\n",
    "from selenium.webdriver.chrome.options import Options\n",
    "import requests\n",
    "import pyautogui\n",
    "from selenium.webdriver.common.keys import Keys"
   ]
  },
  {
   "cell_type": "code",
   "execution_count": 14,
   "metadata": {},
   "outputs": [],
   "source": [
    "facebook_id = os.getenv('FACEBOOK_ID')\n",
    "facebook_password = os.getenv('FACEBOOK_PASSWORD')\n",
    "driver_path = os.getenv('DRIVER_PATH')\n",
    "file_path = os.getenv('FILE_PATH', r\"C:\\Users\\amz_o\\Camino.jpg\")"
   ]
  },
  {
   "cell_type": "code",
   "execution_count": 12,
   "metadata": {},
   "outputs": [],
   "source": [
    "target_website = \"https://www.facebook.com/\""
   ]
  },
  {
   "cell_type": "code",
   "execution_count": 64,
   "metadata": {},
   "outputs": [],
   "source": [
    "options = Options()\n",
    "# chrome user agent를 지정해주기\n",
    "options.add_argument(\"user-agent=Mozilla/5.0 (iPhone; CPU iPhone OS 11_0 like Mac OS X) AppleWebKit/604.1.38 (KHTML, like Gecko) Version/11.0 Mobile/15A372 Safari/604.1\")\n",
    "\n",
    "driver = webdriver.Chrome(driver_path, options=options)\n",
    "\n",
    "driver.get(target_website)\n",
    "\n",
    "driver.maximize_window()\n",
    "driver.implicitly_wait(10)\n",
    "\n",
    "\n",
    "input_id = driver.find_element_by_xpath(\"//input[@type='email'][@name='email']\")\n",
    "input_password = driver.find_element_by_xpath(\"//input[@type='password'][@name='pass']\")\n",
    "button_for_login = driver.find_element_by_xpath(\"//button[@type='button'][@name='login']\")\n",
    "\n",
    "input_id.clear()\n",
    "input_id.send_keys(facebook_id)\n",
    "input_password.clear()\n",
    "input_password.send_keys(facebook_password)\n",
    "button_for_login.click()"
   ]
  },
  {
   "cell_type": "code",
   "execution_count": null,
   "metadata": {},
   "outputs": [],
   "source": [
    "<a href=\"/login/save-device/cancel/?flow=interstitial_nux&amp;nux_source=regular_login\" role=\"button\" class=\"_54k8 _56bs _26vk _56b_ _56bw _56bt _52jg\" target=\"_self\" data-sigil=\"touchable\"><span class=\"_55sr\">나중에 하기</span></a>"
   ]
  },
  {
   "cell_type": "code",
   "execution_count": 66,
   "metadata": {},
   "outputs": [],
   "source": [
    "driver.get('https://facebook.com/')"
   ]
  },
  {
   "cell_type": "code",
   "execution_count": 67,
   "metadata": {},
   "outputs": [],
   "source": [
    "input_button = driver.find_element_by_xpath(\"//div[starts-with(text(), '무슨')]\") # 포스팅을 위한 area 클릭\n",
    "input_button.click()"
   ]
  },
  {
   "cell_type": "code",
   "execution_count": 96,
   "metadata": {},
   "outputs": [],
   "source": [
    "input_text = driver.find_element_by_xpath(\"//div[@class='mentions-measurer'][@aria-hidden='true']\")\n",
    "driver.execute_script(\"arguments[0].innerHTML='페이스북 테스트'\", input_text)\n",
    "input_text_key = driver.find_element_by_xpath(\"//input[contains(@data-sigil, 'mentionsHiddenInput']\")\n",
    "driver.execute_script(\"arguments[0].value = '페이스북 테스트'\", input_text_key)"
   ]
  },
  {
   "cell_type": "code",
   "execution_count": 121,
   "metadata": {},
   "outputs": [],
   "source": [
    "button_for_photo = driver.find_element_by_xpath(\"//button[contains(@data-sigil, 'photo-button')]\")\n",
    "button_for_photo.click()\n",
    "time.sleep(3)\n",
    "\n",
    "location_for_input = pyautogui.locateOnScreen('facebook/file_dialog.png', confidence=0.8)\n",
    "coordinates_for_input = pyautogui.center(location_for_input)\n",
    "pyautogui.click(coordinates_for_input)\n",
    "pyautogui.typewrite(file_path) # file 경로를 받아와야함.\n",
    "\n",
    "location_for_button = pyautogui.locateOnScreen('facebook/open_button.png', confidence=0.8)\n",
    "coordinates_for_button = pyautogui.center(location_for_button)\n",
    "pyautogui.click(coordinates_for_button)\n",
    "button_for_submit = driver.find_element_by_xpath(\"//button[contains(@data-sigil, 'submit_composer')][@type='submit']\")\n",
    "button_for_submit.click()\n"
   ]
  },
  {
   "cell_type": "code",
   "execution_count": 122,
   "metadata": {},
   "outputs": [
    {
     "name": "stderr",
     "output_type": "stream",
     "text": [
      "C:\\Users\\amz_o\\virtualenvironments\\rpa_project\\lib\\site-packages\\ipykernel_launcher.py:1: DeprecationWarning: use driver.switch_to.alert instead\n",
      "  \"\"\"Entry point for launching an IPython kernel.\n"
     ]
    }
   ],
   "source": [
    "try:\n",
    "    alert = driver.switch_to.alert\n",
    "    alert.accept()\n",
    "except NoAlertPresentException as e:\n",
    "    pass"
   ]
  },
  {
   "cell_type": "code",
   "execution_count": 125,
   "metadata": {},
   "outputs": [],
   "source": []
  },
  {
   "cell_type": "code",
   "execution_count": 102,
   "metadata": {},
   "outputs": [],
   "source": [
    "button_for_video = driver.find_element_by_xpath(\"//button[contains(@data-sigil, 'video-button')]\")\n",
    "button_for_video.click()"
   ]
  },
  {
   "cell_type": "code",
   "execution_count": 103,
   "metadata": {},
   "outputs": [],
   "source": [
    "button_for_submit = driver.find_element_by_xpath(\"//button[contains(@data-sigil, 'submit_composer')][@type='submit']\")\n",
    "button_for_submit.click()"
   ]
  },
  {
   "cell_type": "code",
   "execution_count": null,
   "metadata": {},
   "outputs": [],
   "source": []
  }
 ],
 "metadata": {
  "kernelspec": {
   "display_name": "rpa_project",
   "language": "python",
   "name": "rpa_project"
  },
  "language_info": {
   "codemirror_mode": {
    "name": "ipython",
    "version": 3
   },
   "file_extension": ".py",
   "mimetype": "text/x-python",
   "name": "python",
   "nbconvert_exporter": "python",
   "pygments_lexer": "ipython3",
   "version": "3.7.0"
  }
 },
 "nbformat": 4,
 "nbformat_minor": 2
}
