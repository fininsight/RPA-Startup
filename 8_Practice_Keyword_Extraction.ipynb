{
  "nbformat": 4,
  "nbformat_minor": 0,
  "metadata": {
    "colab": {
      "name": "8 Practice. Keyword Extraction",
      "provenance": [],
      "collapsed_sections": [
        "hpTxmnbx8v6m"
      ],
      "toc_visible": true,
      "include_colab_link": true
    },
    "kernelspec": {
      "name": "python3",
      "display_name": "Python 3"
    }
  },
  "cells": [
    {
      "cell_type": "markdown",
      "metadata": {
        "id": "view-in-github",
        "colab_type": "text"
      },
      "source": [
        "<a href=\"https://colab.research.google.com/github/fininsight/RPA-Startup/blob/master/8_Practice_Keyword_Extraction.ipynb\" target=\"_parent\"><img src=\"https://colab.research.google.com/assets/colab-badge.svg\" alt=\"Open In Colab\"/></a>"
      ]
    },
    {
      "cell_type": "markdown",
      "metadata": {
        "id": "q1Q9mWDrgMUn",
        "colab_type": "text"
      },
      "source": [
        "# 8장. 핵심 키워드 추출 (Keyword Extraction)"
      ]
    },
    {
      "cell_type": "markdown",
      "metadata": {
        "id": "PSZIeetL8Yym",
        "colab_type": "text"
      },
      "source": [
        "# 8-0 데이터 준비"
      ]
    },
    {
      "cell_type": "code",
      "metadata": {
        "id": "_OHg2GEi7ZKI",
        "colab_type": "code",
        "outputId": "80e45f2a-95cd-4135-ef60-e5d4b9214eab",
        "colab": {
          "base_uri": "https://localhost:8080/",
          "height": 442
        }
      },
      "source": [
        "import pandas as pd\n",
        "df = pd.read_csv('2019news_1000.csv')\n",
        "df.head(5)"
      ],
      "execution_count": 13,
      "outputs": [
        {
          "output_type": "execute_result",
          "data": {
            "text/html": [
              "<div>\n",
              "<style scoped>\n",
              "    .dataframe tbody tr th:only-of-type {\n",
              "        vertical-align: middle;\n",
              "    }\n",
              "\n",
              "    .dataframe tbody tr th {\n",
              "        vertical-align: top;\n",
              "    }\n",
              "\n",
              "    .dataframe thead th {\n",
              "        text-align: right;\n",
              "    }\n",
              "</style>\n",
              "<table border=\"1\" class=\"dataframe\">\n",
              "  <thead>\n",
              "    <tr style=\"text-align: right;\">\n",
              "      <th></th>\n",
              "      <th>url</th>\n",
              "      <th>category1</th>\n",
              "      <th>category2</th>\n",
              "      <th>date</th>\n",
              "      <th>title</th>\n",
              "      <th>media</th>\n",
              "      <th>content</th>\n",
              "    </tr>\n",
              "  </thead>\n",
              "  <tbody>\n",
              "    <tr>\n",
              "      <th>0</th>\n",
              "      <td>https://news.naver.com/main/read.nhn?mode=LS2D...</td>\n",
              "      <td>IT/과학</td>\n",
              "      <td>모바일</td>\n",
              "      <td>2019-05-02</td>\n",
              "      <td>인권단체 중국, 신장위구르 소수민족 감시용 모바일앱 가동</td>\n",
              "      <td>연합뉴스</td>\n",
              "      <td>HRW \"개인 정보 수집·보고서 작성·조사 활동에 앱 활용\" \"36가지 감시유형…뒷...</td>\n",
              "    </tr>\n",
              "    <tr>\n",
              "      <th>1</th>\n",
              "      <td>https://news.naver.com/main/read.nhn?mode=LS2D...</td>\n",
              "      <td>IT/과학</td>\n",
              "      <td>모바일</td>\n",
              "      <td>2019-05-09</td>\n",
              "      <td>카카오, 1분기 매출 7000억 넘어서…8분기째 최고치 경신(종합)</td>\n",
              "      <td>뉴시스</td>\n",
              "      <td>영업익 166.0%↑·순이익 19.</td>\n",
              "    </tr>\n",
              "    <tr>\n",
              "      <th>2</th>\n",
              "      <td>https://news.naver.com/main/read.nhn?mode=LS2D...</td>\n",
              "      <td>IT/과학</td>\n",
              "      <td>과학 일반</td>\n",
              "      <td>2019-12-11</td>\n",
              "      <td>테라젠이텍스, '유전체 정보 관리 시스템' 특허 취득</td>\n",
              "      <td>연합뉴스</td>\n",
              "      <td>(서울=연합뉴스) 김잔디 기자 = 테라젠이텍스는 유전체 분석 정보 관리 시스템에 관...</td>\n",
              "    </tr>\n",
              "    <tr>\n",
              "      <th>3</th>\n",
              "      <td>https://news.naver.com/main/read.nhn?mode=LS2D...</td>\n",
              "      <td>IT/과학</td>\n",
              "      <td>컴퓨터</td>\n",
              "      <td>2019-10-14</td>\n",
              "      <td>두나무-삼성증권-딥서치, 비상장 주식 통합 거래 지원 플랫폼 출범</td>\n",
              "      <td>디지털데일리</td>\n",
              "      <td>'증권플러스 비상장' 서비스를 설명중인 두나무 이성현 핀테크사업실장 [디지털데일리 ...</td>\n",
              "    </tr>\n",
              "    <tr>\n",
              "      <th>4</th>\n",
              "      <td>https://news.naver.com/main/read.nhn?mode=LS2D...</td>\n",
              "      <td>IT/과학</td>\n",
              "      <td>통신/뉴미디어</td>\n",
              "      <td>2019-10-24</td>\n",
              "      <td>과기정통부, 태풍 미탁 피해, 특별재난지역 전파사용료 6개월간 전액감면</td>\n",
              "      <td>전자신문</td>\n",
              "      <td>과기정통부 로고 과학기술정보통신부는 18호 태풍 '미탁'으로 인해 특별재난지역으로 ...</td>\n",
              "    </tr>\n",
              "  </tbody>\n",
              "</table>\n",
              "</div>"
            ],
            "text/plain": [
              "                                                 url  ...                                            content\n",
              "0  https://news.naver.com/main/read.nhn?mode=LS2D...  ...  HRW \"개인 정보 수집·보고서 작성·조사 활동에 앱 활용\" \"36가지 감시유형…뒷...\n",
              "1  https://news.naver.com/main/read.nhn?mode=LS2D...  ...                                영업익 166.0%↑·순이익 19.\n",
              "2  https://news.naver.com/main/read.nhn?mode=LS2D...  ...  (서울=연합뉴스) 김잔디 기자 = 테라젠이텍스는 유전체 분석 정보 관리 시스템에 관...\n",
              "3  https://news.naver.com/main/read.nhn?mode=LS2D...  ...  '증권플러스 비상장' 서비스를 설명중인 두나무 이성현 핀테크사업실장 [디지털데일리 ...\n",
              "4  https://news.naver.com/main/read.nhn?mode=LS2D...  ...  과기정통부 로고 과학기술정보통신부는 18호 태풍 '미탁'으로 인해 특별재난지역으로 ...\n",
              "\n",
              "[5 rows x 7 columns]"
            ]
          },
          "metadata": {
            "tags": []
          },
          "execution_count": 13
        }
      ]
    },
    {
      "cell_type": "code",
      "metadata": {
        "id": "ckCiIHmN9qfI",
        "colab_type": "code",
        "colab": {}
      },
      "source": [
        "docs = df['content'].to_list()"
      ],
      "execution_count": 0,
      "outputs": []
    },
    {
      "cell_type": "markdown",
      "metadata": {
        "id": "hpTxmnbx8v6m",
        "colab_type": "text"
      },
      "source": [
        "## Mecab 설치 (필요시)"
      ]
    },
    {
      "cell_type": "code",
      "metadata": {
        "id": "qsWnZkd78qCA",
        "colab_type": "code",
        "outputId": "4d308ba5-5866-4855-b1ed-9428a4802049",
        "colab": {
          "base_uri": "https://localhost:8080/",
          "height": 1000
        }
      },
      "source": [
        "!sudo apt-get install g++ openjdk-7-jdk # Install Java 1.7+\n",
        "!sudo apt-get install python-dev; pip install konlpy     # Python 2.x\n",
        "!sudo apt-get install python3-dev; pip3 install konlpy   # Python 3.x\n",
        "!sudo apt-get install curl\n",
        "!bash <(curl -s https://raw.githubusercontent.com/konlpy/konlpy/master/scripts/mecab.sh)"
      ],
      "execution_count": 3,
      "outputs": [
        {
          "output_type": "stream",
          "text": [
            "Reading package lists... Done\n",
            "Building dependency tree       \n",
            "Reading state information... Done\n",
            "Package openjdk-7-jdk is not available, but is referred to by another package.\n",
            "This may mean that the package is missing, has been obsoleted, or\n",
            "is only available from another source\n",
            "\n",
            "E: Package 'openjdk-7-jdk' has no installation candidate\n",
            "Reading package lists... Done\n",
            "Building dependency tree       \n",
            "Reading state information... Done\n",
            "python-dev is already the newest version (2.7.15~rc1-1).\n",
            "0 upgraded, 0 newly installed, 0 to remove and 25 not upgraded.\n",
            "Collecting konlpy\n",
            "\u001b[?25l  Downloading https://files.pythonhosted.org/packages/85/0e/f385566fec837c0b83f216b2da65db9997b35dd675e107752005b7d392b1/konlpy-0.5.2-py2.py3-none-any.whl (19.4MB)\n",
            "\u001b[K     |████████████████████████████████| 19.4MB 1.2MB/s \n",
            "\u001b[?25hRequirement already satisfied: numpy>=1.6 in /usr/local/lib/python3.6/dist-packages (from konlpy) (1.18.2)\n",
            "Collecting colorama\n",
            "  Downloading https://files.pythonhosted.org/packages/c9/dc/45cdef1b4d119eb96316b3117e6d5708a08029992b2fee2c143c7a0a5cc5/colorama-0.4.3-py2.py3-none-any.whl\n",
            "Collecting tweepy>=3.7.0\n",
            "  Downloading https://files.pythonhosted.org/packages/36/1b/2bd38043d22ade352fc3d3902cf30ce0e2f4bf285be3b304a2782a767aec/tweepy-3.8.0-py2.py3-none-any.whl\n",
            "Requirement already satisfied: lxml>=4.1.0 in /usr/local/lib/python3.6/dist-packages (from konlpy) (4.2.6)\n",
            "Collecting JPype1>=0.7.0\n",
            "\u001b[?25l  Downloading https://files.pythonhosted.org/packages/d7/3c/1dbe5d6943b5c68e8df17c8b3a05db4725eadb5c7b7de437506aa3030701/JPype1-0.7.2-cp36-cp36m-manylinux1_x86_64.whl (2.4MB)\n",
            "\u001b[K     |████████████████████████████████| 2.4MB 50.9MB/s \n",
            "\u001b[?25hCollecting beautifulsoup4==4.6.0\n",
            "\u001b[?25l  Downloading https://files.pythonhosted.org/packages/9e/d4/10f46e5cfac773e22707237bfcd51bbffeaf0a576b0a847ec7ab15bd7ace/beautifulsoup4-4.6.0-py3-none-any.whl (86kB)\n",
            "\u001b[K     |████████████████████████████████| 92kB 13.9MB/s \n",
            "\u001b[?25hRequirement already satisfied: PySocks>=1.5.7 in /usr/local/lib/python3.6/dist-packages (from tweepy>=3.7.0->konlpy) (1.7.1)\n",
            "Requirement already satisfied: requests-oauthlib>=0.7.0 in /usr/local/lib/python3.6/dist-packages (from tweepy>=3.7.0->konlpy) (1.3.0)\n",
            "Requirement already satisfied: requests>=2.11.1 in /usr/local/lib/python3.6/dist-packages (from tweepy>=3.7.0->konlpy) (2.21.0)\n",
            "Requirement already satisfied: six>=1.10.0 in /usr/local/lib/python3.6/dist-packages (from tweepy>=3.7.0->konlpy) (1.12.0)\n",
            "Requirement already satisfied: oauthlib>=3.0.0 in /usr/local/lib/python3.6/dist-packages (from requests-oauthlib>=0.7.0->tweepy>=3.7.0->konlpy) (3.1.0)\n",
            "Requirement already satisfied: certifi>=2017.4.17 in /usr/local/lib/python3.6/dist-packages (from requests>=2.11.1->tweepy>=3.7.0->konlpy) (2019.11.28)\n",
            "Requirement already satisfied: idna<2.9,>=2.5 in /usr/local/lib/python3.6/dist-packages (from requests>=2.11.1->tweepy>=3.7.0->konlpy) (2.8)\n",
            "Requirement already satisfied: chardet<3.1.0,>=3.0.2 in /usr/local/lib/python3.6/dist-packages (from requests>=2.11.1->tweepy>=3.7.0->konlpy) (3.0.4)\n",
            "Requirement already satisfied: urllib3<1.25,>=1.21.1 in /usr/local/lib/python3.6/dist-packages (from requests>=2.11.1->tweepy>=3.7.0->konlpy) (1.24.3)\n",
            "Installing collected packages: colorama, tweepy, JPype1, beautifulsoup4, konlpy\n",
            "  Found existing installation: tweepy 3.6.0\n",
            "    Uninstalling tweepy-3.6.0:\n",
            "      Successfully uninstalled tweepy-3.6.0\n",
            "  Found existing installation: beautifulsoup4 4.6.3\n",
            "    Uninstalling beautifulsoup4-4.6.3:\n",
            "      Successfully uninstalled beautifulsoup4-4.6.3\n",
            "Successfully installed JPype1-0.7.2 beautifulsoup4-4.6.0 colorama-0.4.3 konlpy-0.5.2 tweepy-3.8.0\n",
            "Reading package lists... Done\n",
            "Building dependency tree       \n",
            "Reading state information... Done\n",
            "python3-dev is already the newest version (3.6.7-1~18.04).\n",
            "0 upgraded, 0 newly installed, 0 to remove and 25 not upgraded.\n",
            "Requirement already satisfied: konlpy in /usr/local/lib/python3.6/dist-packages (0.5.2)\n",
            "Requirement already satisfied: colorama in /usr/local/lib/python3.6/dist-packages (from konlpy) (0.4.3)\n",
            "Requirement already satisfied: numpy>=1.6 in /usr/local/lib/python3.6/dist-packages (from konlpy) (1.18.2)\n",
            "Requirement already satisfied: lxml>=4.1.0 in /usr/local/lib/python3.6/dist-packages (from konlpy) (4.2.6)\n",
            "Requirement already satisfied: tweepy>=3.7.0 in /usr/local/lib/python3.6/dist-packages (from konlpy) (3.8.0)\n",
            "Requirement already satisfied: JPype1>=0.7.0 in /usr/local/lib/python3.6/dist-packages (from konlpy) (0.7.2)\n",
            "Requirement already satisfied: beautifulsoup4==4.6.0 in /usr/local/lib/python3.6/dist-packages (from konlpy) (4.6.0)\n",
            "Requirement already satisfied: requests-oauthlib>=0.7.0 in /usr/local/lib/python3.6/dist-packages (from tweepy>=3.7.0->konlpy) (1.3.0)\n",
            "Requirement already satisfied: PySocks>=1.5.7 in /usr/local/lib/python3.6/dist-packages (from tweepy>=3.7.0->konlpy) (1.7.1)\n",
            "Requirement already satisfied: six>=1.10.0 in /usr/local/lib/python3.6/dist-packages (from tweepy>=3.7.0->konlpy) (1.12.0)\n",
            "Requirement already satisfied: requests>=2.11.1 in /usr/local/lib/python3.6/dist-packages (from tweepy>=3.7.0->konlpy) (2.21.0)\n",
            "Requirement already satisfied: oauthlib>=3.0.0 in /usr/local/lib/python3.6/dist-packages (from requests-oauthlib>=0.7.0->tweepy>=3.7.0->konlpy) (3.1.0)\n",
            "Requirement already satisfied: chardet<3.1.0,>=3.0.2 in /usr/local/lib/python3.6/dist-packages (from requests>=2.11.1->tweepy>=3.7.0->konlpy) (3.0.4)\n",
            "Requirement already satisfied: certifi>=2017.4.17 in /usr/local/lib/python3.6/dist-packages (from requests>=2.11.1->tweepy>=3.7.0->konlpy) (2019.11.28)\n",
            "Requirement already satisfied: idna<2.9,>=2.5 in /usr/local/lib/python3.6/dist-packages (from requests>=2.11.1->tweepy>=3.7.0->konlpy) (2.8)\n",
            "Requirement already satisfied: urllib3<1.25,>=1.21.1 in /usr/local/lib/python3.6/dist-packages (from requests>=2.11.1->tweepy>=3.7.0->konlpy) (1.24.3)\n",
            "Reading package lists... Done\n",
            "Building dependency tree       \n",
            "Reading state information... Done\n",
            "curl is already the newest version (7.58.0-2ubuntu3.8).\n",
            "0 upgraded, 0 newly installed, 0 to remove and 25 not upgraded.\n",
            "Installing automake (A dependency for mecab-ko)\n",
            "Get:1 http://security.ubuntu.com/ubuntu bionic-security InRelease [88.7 kB]\n",
            "Get:2 https://cloud.r-project.org/bin/linux/ubuntu bionic-cran35/ InRelease [3,626 B]\n",
            "Ign:3 https://developer.download.nvidia.com/compute/cuda/repos/ubuntu1804/x86_64  InRelease\n",
            "Hit:4 http://ppa.launchpad.net/graphics-drivers/ppa/ubuntu bionic InRelease\n",
            "Hit:5 http://archive.ubuntu.com/ubuntu bionic InRelease\n",
            "Ign:6 https://developer.download.nvidia.com/compute/machine-learning/repos/ubuntu1804/x86_64  InRelease\n",
            "Hit:7 https://developer.download.nvidia.com/compute/cuda/repos/ubuntu1804/x86_64  Release\n",
            "Get:8 https://developer.download.nvidia.com/compute/machine-learning/repos/ubuntu1804/x86_64  Release [564 B]\n",
            "Get:9 https://developer.download.nvidia.com/compute/machine-learning/repos/ubuntu1804/x86_64  Release.gpg [833 B]\n",
            "Get:10 http://archive.ubuntu.com/ubuntu bionic-updates InRelease [88.7 kB]\n",
            "Get:11 http://security.ubuntu.com/ubuntu bionic-security/universe amd64 Packages [832 kB]\n",
            "Get:12 http://ppa.launchpad.net/marutter/c2d4u3.5/ubuntu bionic InRelease [15.4 kB]\n",
            "Get:13 https://cloud.r-project.org/bin/linux/ubuntu bionic-cran35/ Packages [87.7 kB]\n",
            "Get:14 http://security.ubuntu.com/ubuntu bionic-security/main amd64 Packages [861 kB]\n",
            "Get:15 http://security.ubuntu.com/ubuntu bionic-security/restricted amd64 Packages [35.2 kB]\n",
            "Get:16 http://archive.ubuntu.com/ubuntu bionic-backports InRelease [74.6 kB]\n",
            "Get:18 https://developer.download.nvidia.com/compute/machine-learning/repos/ubuntu1804/x86_64  Packages [31.7 kB]\n",
            "Get:19 http://archive.ubuntu.com/ubuntu bionic-updates/universe amd64 Packages [1,362 kB]\n",
            "Get:20 http://ppa.launchpad.net/marutter/c2d4u3.5/ubuntu bionic/main Sources [1,789 kB]\n",
            "Get:21 http://archive.ubuntu.com/ubuntu bionic-updates/restricted amd64 Packages [48.7 kB]\n",
            "Get:22 http://archive.ubuntu.com/ubuntu bionic-updates/main amd64 Packages [1,155 kB]\n",
            "Get:23 http://archive.ubuntu.com/ubuntu bionic-backports/universe amd64 Packages [4,247 B]\n",
            "Get:24 http://ppa.launchpad.net/marutter/c2d4u3.5/ubuntu bionic/main amd64 Packages [863 kB]\n",
            "Fetched 7,342 kB in 3s (2,904 kB/s)\n",
            "Reading package lists... Done\n",
            "Reading package lists... Done\n",
            "Building dependency tree       \n",
            "Reading state information... Done\n",
            "The following additional packages will be installed:\n",
            "  autoconf autotools-dev libsigsegv2 m4\n",
            "Suggested packages:\n",
            "  autoconf-archive gnu-standards autoconf-doc libtool gettext m4-doc\n",
            "The following NEW packages will be installed:\n",
            "  autoconf automake autotools-dev libsigsegv2 m4\n",
            "0 upgraded, 5 newly installed, 0 to remove and 38 not upgraded.\n",
            "Need to get 1,082 kB of archives.\n",
            "After this operation, 3,994 kB of additional disk space will be used.\n",
            "Get:1 http://archive.ubuntu.com/ubuntu bionic/main amd64 libsigsegv2 amd64 2.12-1 [14.7 kB]\n",
            "Get:2 http://archive.ubuntu.com/ubuntu bionic/main amd64 m4 amd64 1.4.18-1 [197 kB]\n",
            "Get:3 http://archive.ubuntu.com/ubuntu bionic/main amd64 autoconf all 2.69-11 [322 kB]\n",
            "Get:4 http://archive.ubuntu.com/ubuntu bionic/main amd64 autotools-dev all 20180224.1 [39.6 kB]\n",
            "Get:5 http://archive.ubuntu.com/ubuntu bionic/main amd64 automake all 1:1.15.1-3ubuntu2 [509 kB]\n",
            "Fetched 1,082 kB in 1s (1,303 kB/s)\n",
            "debconf: unable to initialize frontend: Dialog\n",
            "debconf: (No usable dialog-like program is installed, so the dialog based frontend cannot be used. at /usr/share/perl5/Debconf/FrontEnd/Dialog.pm line 76, <> line 5.)\n",
            "debconf: falling back to frontend: Readline\n",
            "debconf: unable to initialize frontend: Readline\n",
            "debconf: (This frontend requires a controlling tty.)\n",
            "debconf: falling back to frontend: Teletype\n",
            "dpkg-preconfigure: unable to re-open stdin: \n",
            "Selecting previously unselected package libsigsegv2:amd64.\n",
            "(Reading database ... 133872 files and directories currently installed.)\n",
            "Preparing to unpack .../libsigsegv2_2.12-1_amd64.deb ...\n",
            "Unpacking libsigsegv2:amd64 (2.12-1) ...\n",
            "Selecting previously unselected package m4.\n",
            "Preparing to unpack .../archives/m4_1.4.18-1_amd64.deb ...\n",
            "Unpacking m4 (1.4.18-1) ...\n",
            "Selecting previously unselected package autoconf.\n",
            "Preparing to unpack .../autoconf_2.69-11_all.deb ...\n",
            "Unpacking autoconf (2.69-11) ...\n",
            "Selecting previously unselected package autotools-dev.\n",
            "Preparing to unpack .../autotools-dev_20180224.1_all.deb ...\n",
            "Unpacking autotools-dev (20180224.1) ...\n",
            "Selecting previously unselected package automake.\n",
            "Preparing to unpack .../automake_1%3a1.15.1-3ubuntu2_all.deb ...\n",
            "Unpacking automake (1:1.15.1-3ubuntu2) ...\n",
            "Setting up libsigsegv2:amd64 (2.12-1) ...\n",
            "Setting up m4 (1.4.18-1) ...\n",
            "Setting up autotools-dev (20180224.1) ...\n",
            "Setting up autoconf (2.69-11) ...\n",
            "Setting up automake (1:1.15.1-3ubuntu2) ...\n",
            "update-alternatives: using /usr/bin/automake-1.15 to provide /usr/bin/automake (automake) in auto mode\n",
            "Processing triggers for libc-bin (2.27-3ubuntu1) ...\n",
            "/sbin/ldconfig.real: /usr/local/lib/python3.6/dist-packages/ideep4py/lib/libmkldnn.so.0 is not a symbolic link\n",
            "\n",
            "Processing triggers for man-db (2.8.3-2ubuntu0.1) ...\n",
            "Install mecab-ko-dic\n",
            "  % Total    % Received % Xferd  Average Speed   Time    Time     Time  Current\n",
            "                                 Dload  Upload   Total   Spent    Left  Speed\n",
            "  0     0    0     0    0     0      0      0 --:--:-- --:--:-- --:--:--     0\n",
            "100 1381k  100 1381k    0     0  3454k      0 --:--:-- --:--:-- --:--:-- 3454k\n",
            "mecab-0.996-ko-0.9.2/\n",
            "mecab-0.996-ko-0.9.2/example/\n",
            "mecab-0.996-ko-0.9.2/example/example.cpp\n",
            "mecab-0.996-ko-0.9.2/example/example_lattice.cpp\n",
            "mecab-0.996-ko-0.9.2/example/example_lattice.c\n",
            "mecab-0.996-ko-0.9.2/example/example.c\n",
            "mecab-0.996-ko-0.9.2/example/thread_test.cpp\n",
            "mecab-0.996-ko-0.9.2/mecab-config.in\n",
            "mecab-0.996-ko-0.9.2/man/\n",
            "mecab-0.996-ko-0.9.2/man/Makefile.am\n",
            "mecab-0.996-ko-0.9.2/man/mecab.1\n",
            "mecab-0.996-ko-0.9.2/man/Makefile.in\n",
            "mecab-0.996-ko-0.9.2/mecab.iss.in\n",
            "mecab-0.996-ko-0.9.2/config.guess\n",
            "mecab-0.996-ko-0.9.2/README\n",
            "mecab-0.996-ko-0.9.2/COPYING\n",
            "mecab-0.996-ko-0.9.2/CHANGES.md\n",
            "mecab-0.996-ko-0.9.2/README.md\n",
            "mecab-0.996-ko-0.9.2/INSTALL\n",
            "mecab-0.996-ko-0.9.2/config.sub\n",
            "mecab-0.996-ko-0.9.2/configure.in\n",
            "mecab-0.996-ko-0.9.2/swig/\n",
            "mecab-0.996-ko-0.9.2/swig/Makefile\n",
            "mecab-0.996-ko-0.9.2/swig/version.h.in\n",
            "mecab-0.996-ko-0.9.2/swig/version.h\n",
            "mecab-0.996-ko-0.9.2/swig/MeCab.i\n",
            "mecab-0.996-ko-0.9.2/aclocal.m4\n",
            "mecab-0.996-ko-0.9.2/LGPL\n",
            "mecab-0.996-ko-0.9.2/Makefile.am\n",
            "mecab-0.996-ko-0.9.2/configure\n",
            "mecab-0.996-ko-0.9.2/tests/\n",
            "mecab-0.996-ko-0.9.2/tests/autolink/\n",
            "mecab-0.996-ko-0.9.2/tests/autolink/unk.def\n",
            "mecab-0.996-ko-0.9.2/tests/autolink/dicrc\n",
            "mecab-0.996-ko-0.9.2/tests/autolink/dic.csv\n",
            "mecab-0.996-ko-0.9.2/tests/autolink/test\n",
            "mecab-0.996-ko-0.9.2/tests/autolink/char.def\n",
            "mecab-0.996-ko-0.9.2/tests/autolink/matrix.def\n",
            "mecab-0.996-ko-0.9.2/tests/autolink/test.gld\n",
            "mecab-0.996-ko-0.9.2/tests/t9/\n",
            "mecab-0.996-ko-0.9.2/tests/t9/unk.def\n",
            "mecab-0.996-ko-0.9.2/tests/t9/ipadic.pl\n",
            "mecab-0.996-ko-0.9.2/tests/t9/dicrc\n",
            "mecab-0.996-ko-0.9.2/tests/t9/dic.csv\n",
            "mecab-0.996-ko-0.9.2/tests/t9/test\n",
            "mecab-0.996-ko-0.9.2/tests/t9/char.def\n",
            "mecab-0.996-ko-0.9.2/tests/t9/matrix.def\n",
            "mecab-0.996-ko-0.9.2/tests/t9/mkdic.pl\n",
            "mecab-0.996-ko-0.9.2/tests/t9/test.gld\n",
            "mecab-0.996-ko-0.9.2/tests/cost-train/\n",
            "mecab-0.996-ko-0.9.2/tests/cost-train/ipa.train\n",
            "mecab-0.996-ko-0.9.2/tests/cost-train/ipa.test\n",
            "mecab-0.996-ko-0.9.2/tests/cost-train/seed/\n",
            "mecab-0.996-ko-0.9.2/tests/cost-train/seed/rewrite.def\n",
            "mecab-0.996-ko-0.9.2/tests/cost-train/seed/feature.def\n",
            "mecab-0.996-ko-0.9.2/tests/cost-train/seed/unk.def\n",
            "mecab-0.996-ko-0.9.2/tests/cost-train/seed/dicrc\n",
            "mecab-0.996-ko-0.9.2/tests/cost-train/seed/dic.csv\n",
            "mecab-0.996-ko-0.9.2/tests/cost-train/seed/char.def\n",
            "mecab-0.996-ko-0.9.2/tests/cost-train/seed/matrix.def\n",
            "mecab-0.996-ko-0.9.2/tests/run-eval.sh\n",
            "mecab-0.996-ko-0.9.2/tests/run-cost-train.sh\n",
            "mecab-0.996-ko-0.9.2/tests/Makefile.am\n",
            "mecab-0.996-ko-0.9.2/tests/katakana/\n",
            "mecab-0.996-ko-0.9.2/tests/katakana/unk.def\n",
            "mecab-0.996-ko-0.9.2/tests/katakana/dicrc\n",
            "mecab-0.996-ko-0.9.2/tests/katakana/dic.csv\n",
            "mecab-0.996-ko-0.9.2/tests/katakana/test\n",
            "mecab-0.996-ko-0.9.2/tests/katakana/char.def\n",
            "mecab-0.996-ko-0.9.2/tests/katakana/matrix.def\n",
            "mecab-0.996-ko-0.9.2/tests/katakana/test.gld\n",
            "mecab-0.996-ko-0.9.2/tests/eval/\n",
            "mecab-0.996-ko-0.9.2/tests/eval/answer\n",
            "mecab-0.996-ko-0.9.2/tests/eval/system\n",
            "mecab-0.996-ko-0.9.2/tests/eval/test.gld\n",
            "mecab-0.996-ko-0.9.2/tests/shiin/\n",
            "mecab-0.996-ko-0.9.2/tests/shiin/unk.def\n",
            "mecab-0.996-ko-0.9.2/tests/shiin/dicrc\n",
            "mecab-0.996-ko-0.9.2/tests/shiin/dic.csv\n",
            "mecab-0.996-ko-0.9.2/tests/shiin/test\n",
            "mecab-0.996-ko-0.9.2/tests/shiin/char.def\n",
            "mecab-0.996-ko-0.9.2/tests/shiin/matrix.def\n",
            "mecab-0.996-ko-0.9.2/tests/shiin/mkdic.pl\n",
            "mecab-0.996-ko-0.9.2/tests/shiin/test.gld\n",
            "mecab-0.996-ko-0.9.2/tests/latin/\n",
            "mecab-0.996-ko-0.9.2/tests/latin/unk.def\n",
            "mecab-0.996-ko-0.9.2/tests/latin/dicrc\n",
            "mecab-0.996-ko-0.9.2/tests/latin/dic.csv\n",
            "mecab-0.996-ko-0.9.2/tests/latin/test\n",
            "mecab-0.996-ko-0.9.2/tests/latin/char.def\n",
            "mecab-0.996-ko-0.9.2/tests/latin/matrix.def\n",
            "mecab-0.996-ko-0.9.2/tests/latin/test.gld\n",
            "mecab-0.996-ko-0.9.2/tests/chartype/\n",
            "mecab-0.996-ko-0.9.2/tests/chartype/unk.def\n",
            "mecab-0.996-ko-0.9.2/tests/chartype/dicrc\n",
            "mecab-0.996-ko-0.9.2/tests/chartype/dic.csv\n",
            "mecab-0.996-ko-0.9.2/tests/chartype/test\n",
            "mecab-0.996-ko-0.9.2/tests/chartype/char.def\n",
            "mecab-0.996-ko-0.9.2/tests/chartype/matrix.def\n",
            "mecab-0.996-ko-0.9.2/tests/chartype/test.gld\n",
            "mecab-0.996-ko-0.9.2/tests/run-dics.sh\n",
            "mecab-0.996-ko-0.9.2/tests/ngram/\n",
            "mecab-0.996-ko-0.9.2/tests/ngram/unk.def\n",
            "mecab-0.996-ko-0.9.2/tests/ngram/dicrc\n",
            "mecab-0.996-ko-0.9.2/tests/ngram/dic.csv\n",
            "mecab-0.996-ko-0.9.2/tests/ngram/test\n",
            "mecab-0.996-ko-0.9.2/tests/ngram/char.def\n",
            "mecab-0.996-ko-0.9.2/tests/ngram/matrix.def\n",
            "mecab-0.996-ko-0.9.2/tests/ngram/test.gld\n",
            "mecab-0.996-ko-0.9.2/tests/Makefile.in\n",
            "mecab-0.996-ko-0.9.2/ltmain.sh\n",
            "mecab-0.996-ko-0.9.2/config.rpath\n",
            "mecab-0.996-ko-0.9.2/config.h.in\n",
            "mecab-0.996-ko-0.9.2/mecabrc.in\n",
            "mecab-0.996-ko-0.9.2/GPL\n",
            "mecab-0.996-ko-0.9.2/Makefile.train\n",
            "mecab-0.996-ko-0.9.2/ChangeLog\n",
            "mecab-0.996-ko-0.9.2/install-sh\n",
            "mecab-0.996-ko-0.9.2/AUTHORS\n",
            "mecab-0.996-ko-0.9.2/doc/\n",
            "mecab-0.996-ko-0.9.2/doc/bindings.html\n",
            "mecab-0.996-ko-0.9.2/doc/posid.html\n",
            "mecab-0.996-ko-0.9.2/doc/unk.html\n",
            "mecab-0.996-ko-0.9.2/doc/learn.html\n",
            "mecab-0.996-ko-0.9.2/doc/format.html\n",
            "mecab-0.996-ko-0.9.2/doc/libmecab.html\n",
            "mecab-0.996-ko-0.9.2/doc/mecab.css\n",
            "mecab-0.996-ko-0.9.2/doc/feature.html\n",
            "mecab-0.996-ko-0.9.2/doc/Makefile.am\n",
            "mecab-0.996-ko-0.9.2/doc/soft.html\n",
            "mecab-0.996-ko-0.9.2/doc/en/\n",
            "mecab-0.996-ko-0.9.2/doc/en/bindings.html\n",
            "mecab-0.996-ko-0.9.2/doc/dic-detail.html\n",
            "mecab-0.996-ko-0.9.2/doc/flow.png\n",
            "mecab-0.996-ko-0.9.2/doc/mecab.html\n",
            "mecab-0.996-ko-0.9.2/doc/index.html\n",
            "mecab-0.996-ko-0.9.2/doc/result.png\n",
            "mecab-0.996-ko-0.9.2/doc/doxygen/\n",
            "mecab-0.996-ko-0.9.2/doc/doxygen/tab_a.png\n",
            "mecab-0.996-ko-0.9.2/doc/doxygen/globals_eval.html\n",
            "mecab-0.996-ko-0.9.2/doc/doxygen/classMeCab_1_1Tagger-members.html\n",
            "mecab-0.996-ko-0.9.2/doc/doxygen/functions_vars.html\n",
            "mecab-0.996-ko-0.9.2/doc/doxygen/doxygen.css\n",
            "mecab-0.996-ko-0.9.2/doc/doxygen/tab_r.gif\n",
            "mecab-0.996-ko-0.9.2/doc/doxygen/classMeCab_1_1Lattice.html\n",
            "mecab-0.996-ko-0.9.2/doc/doxygen/functions.html\n",
            "mecab-0.996-ko-0.9.2/doc/doxygen/classMeCab_1_1Tagger.html\n",
            "mecab-0.996-ko-0.9.2/doc/doxygen/mecab_8h_source.html\n",
            "mecab-0.996-ko-0.9.2/doc/doxygen/tabs.css\n",
            "mecab-0.996-ko-0.9.2/doc/doxygen/nav_f.png\n",
            "mecab-0.996-ko-0.9.2/doc/doxygen/tab_b.png\n",
            "mecab-0.996-ko-0.9.2/doc/doxygen/globals.html\n",
            "mecab-0.996-ko-0.9.2/doc/doxygen/nav_h.png\n",
            "mecab-0.996-ko-0.9.2/doc/doxygen/tab_h.png\n",
            "mecab-0.996-ko-0.9.2/doc/doxygen/classMeCab_1_1Model.html\n",
            "mecab-0.996-ko-0.9.2/doc/doxygen/globals_func.html\n",
            "mecab-0.996-ko-0.9.2/doc/doxygen/closed.png\n",
            "mecab-0.996-ko-0.9.2/doc/doxygen/tab_l.gif\n",
            "mecab-0.996-ko-0.9.2/doc/doxygen/structmecab__path__t-members.html\n",
            "mecab-0.996-ko-0.9.2/doc/doxygen/functions_func.html\n",
            "mecab-0.996-ko-0.9.2/doc/doxygen/globals_type.html\n",
            "mecab-0.996-ko-0.9.2/doc/doxygen/classMeCab_1_1Lattice-members.html\n",
            "mecab-0.996-ko-0.9.2/doc/doxygen/structmecab__node__t.html\n",
            "mecab-0.996-ko-0.9.2/doc/doxygen/namespacemembers_func.html\n",
            "mecab-0.996-ko-0.9.2/doc/doxygen/tab_s.png\n",
            "mecab-0.996-ko-0.9.2/doc/doxygen/structmecab__dictionary__info__t-members.html\n",
            "mecab-0.996-ko-0.9.2/doc/doxygen/namespacemembers_type.html\n",
            "mecab-0.996-ko-0.9.2/doc/doxygen/classMeCab_1_1Model-members.html\n",
            "mecab-0.996-ko-0.9.2/doc/doxygen/structmecab__dictionary__info__t.html\n",
            "mecab-0.996-ko-0.9.2/doc/doxygen/namespaces.html\n",
            "mecab-0.996-ko-0.9.2/doc/doxygen/namespacemembers.html\n",
            "mecab-0.996-ko-0.9.2/doc/doxygen/namespaceMeCab.html\n",
            "mecab-0.996-ko-0.9.2/doc/doxygen/structmecab__path__t.html\n",
            "mecab-0.996-ko-0.9.2/doc/doxygen/files.html\n",
            "mecab-0.996-ko-0.9.2/doc/doxygen/structmecab__node__t-members.html\n",
            "mecab-0.996-ko-0.9.2/doc/doxygen/index.html\n",
            "mecab-0.996-ko-0.9.2/doc/doxygen/annotated.html\n",
            "mecab-0.996-ko-0.9.2/doc/doxygen/globals_defs.html\n",
            "mecab-0.996-ko-0.9.2/doc/doxygen/classes.html\n",
            "mecab-0.996-ko-0.9.2/doc/doxygen/mecab_8h-source.html\n",
            "mecab-0.996-ko-0.9.2/doc/doxygen/doxygen.png\n",
            "mecab-0.996-ko-0.9.2/doc/doxygen/tab_b.gif\n",
            "mecab-0.996-ko-0.9.2/doc/doxygen/bc_s.png\n",
            "mecab-0.996-ko-0.9.2/doc/doxygen/open.png\n",
            "mecab-0.996-ko-0.9.2/doc/doxygen/mecab_8h.html\n",
            "mecab-0.996-ko-0.9.2/doc/dic.html\n",
            "mecab-0.996-ko-0.9.2/doc/partial.html\n",
            "mecab-0.996-ko-0.9.2/doc/feature.png\n",
            "mecab-0.996-ko-0.9.2/doc/Makefile.in\n",
            "mecab-0.996-ko-0.9.2/missing\n",
            "mecab-0.996-ko-0.9.2/BSD\n",
            "mecab-0.996-ko-0.9.2/NEWS\n",
            "mecab-0.996-ko-0.9.2/mkinstalldirs\n",
            "mecab-0.996-ko-0.9.2/src/\n",
            "mecab-0.996-ko-0.9.2/src/dictionary.h\n",
            "mecab-0.996-ko-0.9.2/src/writer.h\n",
            "mecab-0.996-ko-0.9.2/src/utils.h\n",
            "mecab-0.996-ko-0.9.2/src/string_buffer.cpp\n",
            "mecab-0.996-ko-0.9.2/src/tokenizer.cpp\n",
            "mecab-0.996-ko-0.9.2/src/make.bat\n",
            "mecab-0.996-ko-0.9.2/src/mecab.h\n",
            "mecab-0.996-ko-0.9.2/src/freelist.h\n",
            "mecab-0.996-ko-0.9.2/src/string_buffer.h\n",
            "mecab-0.996-ko-0.9.2/src/learner_tagger.h\n",
            "mecab-0.996-ko-0.9.2/src/dictionary_compiler.cpp\n",
            "mecab-0.996-ko-0.9.2/src/eval.cpp\n",
            "mecab-0.996-ko-0.9.2/src/mecab-system-eval.cpp\n",
            "mecab-0.996-ko-0.9.2/src/darts.h\n",
            "mecab-0.996-ko-0.9.2/src/param.h\n",
            "mecab-0.996-ko-0.9.2/src/char_property.h\n",
            "mecab-0.996-ko-0.9.2/src/learner_node.h\n",
            "mecab-0.996-ko-0.9.2/src/mecab-dict-gen.cpp\n",
            "mecab-0.996-ko-0.9.2/src/mecab-dict-index.cpp\n",
            "mecab-0.996-ko-0.9.2/src/winmain.h\n",
            "mecab-0.996-ko-0.9.2/src/thread.h\n",
            "mecab-0.996-ko-0.9.2/src/context_id.cpp\n",
            "mecab-0.996-ko-0.9.2/src/Makefile.am\n",
            "mecab-0.996-ko-0.9.2/src/connector.h\n",
            "mecab-0.996-ko-0.9.2/src/common.h\n",
            "mecab-0.996-ko-0.9.2/src/dictionary_rewriter.cpp\n",
            "mecab-0.996-ko-0.9.2/src/Makefile.msvc.in\n",
            "mecab-0.996-ko-0.9.2/src/dictionary_rewriter.h\n",
            "mecab-0.996-ko-0.9.2/src/feature_index.h\n",
            "mecab-0.996-ko-0.9.2/src/iconv_utils.cpp\n",
            "mecab-0.996-ko-0.9.2/src/char_property.cpp\n",
            "mecab-0.996-ko-0.9.2/src/mecab-test-gen.cpp\n",
            "mecab-0.996-ko-0.9.2/src/tagger.cpp\n",
            "mecab-0.996-ko-0.9.2/src/mecab-cost-train.cpp\n",
            "mecab-0.996-ko-0.9.2/src/learner.cpp\n",
            "mecab-0.996-ko-0.9.2/src/dictionary.cpp\n",
            "mecab-0.996-ko-0.9.2/src/lbfgs.cpp\n",
            "mecab-0.996-ko-0.9.2/src/ucs.h\n",
            "mecab-0.996-ko-0.9.2/src/writer.cpp\n",
            "mecab-0.996-ko-0.9.2/src/learner_tagger.cpp\n",
            "mecab-0.996-ko-0.9.2/src/lbfgs.h\n",
            "mecab-0.996-ko-0.9.2/src/libmecab.cpp\n",
            "mecab-0.996-ko-0.9.2/src/tokenizer.h\n",
            "mecab-0.996-ko-0.9.2/src/mecab.cpp\n",
            "mecab-0.996-ko-0.9.2/src/utils.cpp\n",
            "mecab-0.996-ko-0.9.2/src/dictionary_generator.cpp\n",
            "mecab-0.996-ko-0.9.2/src/param.cpp\n",
            "mecab-0.996-ko-0.9.2/src/context_id.h\n",
            "mecab-0.996-ko-0.9.2/src/mmap.h\n",
            "mecab-0.996-ko-0.9.2/src/viterbi.h\n",
            "mecab-0.996-ko-0.9.2/src/viterbi.cpp\n",
            "mecab-0.996-ko-0.9.2/src/stream_wrapper.h\n",
            "mecab-0.996-ko-0.9.2/src/feature_index.cpp\n",
            "mecab-0.996-ko-0.9.2/src/nbest_generator.h\n",
            "mecab-0.996-ko-0.9.2/src/ucstable.h\n",
            "mecab-0.996-ko-0.9.2/src/nbest_generator.cpp\n",
            "mecab-0.996-ko-0.9.2/src/iconv_utils.h\n",
            "mecab-0.996-ko-0.9.2/src/connector.cpp\n",
            "mecab-0.996-ko-0.9.2/src/Makefile.in\n",
            "mecab-0.996-ko-0.9.2/src/scoped_ptr.h\n",
            "mecab-0.996-ko-0.9.2/Makefile.in\n",
            "checking for a BSD-compatible install... /usr/bin/install -c\n",
            "checking whether build environment is sane... yes\n",
            "checking for a thread-safe mkdir -p... /bin/mkdir -p\n",
            "checking for gawk... no\n",
            "checking for mawk... mawk\n",
            "checking whether make sets $(MAKE)... yes\n",
            "checking for gcc... gcc\n",
            "checking whether the C compiler works... yes\n",
            "checking for C compiler default output file name... a.out\n",
            "checking for suffix of executables... \n",
            "checking whether we are cross compiling... no\n",
            "checking for suffix of object files... o\n",
            "checking whether we are using the GNU C compiler... yes\n",
            "checking whether gcc accepts -g... yes\n",
            "checking for gcc option to accept ISO C89... none needed\n",
            "checking for style of include used by make... GNU\n",
            "checking dependency style of gcc... none\n",
            "checking for g++... g++\n",
            "checking whether we are using the GNU C++ compiler... yes\n",
            "checking whether g++ accepts -g... yes\n",
            "checking dependency style of g++... none\n",
            "checking how to run the C preprocessor... gcc -E\n",
            "checking for grep that handles long lines and -e... /bin/grep\n",
            "checking for egrep... /bin/grep -E\n",
            "checking whether gcc needs -traditional... no\n",
            "checking whether make sets $(MAKE)... (cached) yes\n",
            "checking build system type... x86_64-unknown-linux-gnu\n",
            "checking host system type... x86_64-unknown-linux-gnu\n",
            "checking how to print strings... printf\n",
            "checking for a sed that does not truncate output... /bin/sed\n",
            "checking for fgrep... /bin/grep -F\n",
            "checking for ld used by gcc... /usr/bin/ld\n",
            "checking if the linker (/usr/bin/ld) is GNU ld... yes\n",
            "checking for BSD- or MS-compatible name lister (nm)... /usr/bin/nm -B\n",
            "checking the name lister (/usr/bin/nm -B) interface... BSD nm\n",
            "checking whether ln -s works... yes\n",
            "checking the maximum length of command line arguments... 1572864\n",
            "checking whether the shell understands some XSI constructs... yes\n",
            "checking whether the shell understands \"+=\"... yes\n",
            "checking how to convert x86_64-unknown-linux-gnu file names to x86_64-unknown-linux-gnu format... func_convert_file_noop\n",
            "checking how to convert x86_64-unknown-linux-gnu file names to toolchain format... func_convert_file_noop\n",
            "checking for /usr/bin/ld option to reload object files... -r\n",
            "checking for objdump... objdump\n",
            "checking how to recognize dependent libraries... pass_all\n",
            "checking for dlltool... dlltool\n",
            "checking how to associate runtime and link libraries... printf %s\\n\n",
            "checking for ar... ar\n",
            "checking for archiver @FILE support... @\n",
            "checking for strip... strip\n",
            "checking for ranlib... ranlib\n",
            "checking command to parse /usr/bin/nm -B output from gcc object... ok\n",
            "checking for sysroot... no\n",
            "./configure: line 7378: /usr/bin/file: No such file or directory\n",
            "checking for mt... no\n",
            "checking if : is a manifest tool... no\n",
            "checking for ANSI C header files... yes\n",
            "checking for sys/types.h... yes\n",
            "checking for sys/stat.h... yes\n",
            "checking for stdlib.h... yes\n",
            "checking for string.h... yes\n",
            "checking for memory.h... yes\n",
            "checking for strings.h... yes\n",
            "checking for inttypes.h... yes\n",
            "checking for stdint.h... yes\n",
            "checking for unistd.h... yes\n",
            "checking for dlfcn.h... yes\n",
            "checking for objdir... .libs\n",
            "checking if gcc supports -fno-rtti -fno-exceptions... no\n",
            "checking for gcc option to produce PIC... -fPIC -DPIC\n",
            "checking if gcc PIC flag -fPIC -DPIC works... yes\n",
            "checking if gcc static flag -static works... yes\n",
            "checking if gcc supports -c -o file.o... yes\n",
            "checking if gcc supports -c -o file.o... (cached) yes\n",
            "checking whether the gcc linker (/usr/bin/ld) supports shared libraries... yes\n",
            "checking whether -lc should be explicitly linked in... no\n",
            "checking dynamic linker characteristics... GNU/Linux ld.so\n",
            "checking how to hardcode library paths into programs... immediate\n",
            "checking whether stripping libraries is possible... yes\n",
            "checking if libtool supports shared libraries... yes\n",
            "checking whether to build shared libraries... yes\n",
            "checking whether to build static libraries... yes\n",
            "checking how to run the C++ preprocessor... g++ -E\n",
            "checking for ld used by g++... /usr/bin/ld\n",
            "checking if the linker (/usr/bin/ld) is GNU ld... yes\n",
            "checking whether the g++ linker (/usr/bin/ld) supports shared libraries... yes\n",
            "checking for g++ option to produce PIC... -fPIC -DPIC\n",
            "checking if g++ PIC flag -fPIC -DPIC works... yes\n",
            "checking if g++ static flag -static works... yes\n",
            "checking if g++ supports -c -o file.o... yes\n",
            "checking if g++ supports -c -o file.o... (cached) yes\n",
            "checking whether the g++ linker (/usr/bin/ld) supports shared libraries... yes\n",
            "checking dynamic linker characteristics... (cached) GNU/Linux ld.so\n",
            "checking how to hardcode library paths into programs... immediate\n",
            "checking for library containing strerror... none required\n",
            "checking whether byte ordering is bigendian... no\n",
            "checking for ld used by GCC... /usr/bin/ld\n",
            "checking if the linker (/usr/bin/ld) is GNU ld... yes\n",
            "checking for shared library run path origin... done\n",
            "checking for iconv... yes\n",
            "checking for working iconv... yes\n",
            "checking for iconv declaration... \n",
            "         extern size_t iconv (iconv_t cd, char * *inbuf, size_t *inbytesleft, char * *outbuf, size_t *outbytesleft);\n",
            "checking for ANSI C header files... (cached) yes\n",
            "checking for an ANSI C-conforming const... yes\n",
            "checking whether byte ordering is bigendian... (cached) no\n",
            "checking for string.h... (cached) yes\n",
            "checking for stdlib.h... (cached) yes\n",
            "checking for unistd.h... (cached) yes\n",
            "checking fcntl.h usability... yes\n",
            "checking fcntl.h presence... yes\n",
            "checking for fcntl.h... yes\n",
            "checking for stdint.h... (cached) yes\n",
            "checking for sys/stat.h... (cached) yes\n",
            "checking sys/mman.h usability... yes\n",
            "checking sys/mman.h presence... yes\n",
            "checking for sys/mman.h... yes\n",
            "checking sys/times.h usability... yes\n",
            "checking sys/times.h presence... yes\n",
            "checking for sys/times.h... yes\n",
            "checking for sys/types.h... (cached) yes\n",
            "checking dirent.h usability... yes\n",
            "checking dirent.h presence... yes\n",
            "checking for dirent.h... yes\n",
            "checking ctype.h usability... yes\n",
            "checking ctype.h presence... yes\n",
            "checking for ctype.h... yes\n",
            "checking for sys/types.h... (cached) yes\n",
            "checking io.h usability... no\n",
            "checking io.h presence... no\n",
            "checking for io.h... no\n",
            "checking windows.h usability... no\n",
            "checking windows.h presence... no\n",
            "checking for windows.h... no\n",
            "checking pthread.h usability... yes\n",
            "checking pthread.h presence... yes\n",
            "checking for pthread.h... yes\n",
            "checking for off_t... yes\n",
            "checking for size_t... yes\n",
            "checking size of char... 1\n",
            "checking size of short... 2\n",
            "checking size of int... 4\n",
            "checking size of long... 8\n",
            "checking size of long long... 8\n",
            "checking size of size_t... 8\n",
            "checking for size_t... (cached) yes\n",
            "checking for unsigned long long int... yes\n",
            "checking for stdlib.h... (cached) yes\n",
            "checking for unistd.h... (cached) yes\n",
            "checking for sys/param.h... yes\n",
            "checking for getpagesize... yes\n",
            "checking for working mmap... yes\n",
            "checking for main in -lstdc++... yes\n",
            "checking for pthread_create in -lpthread... yes\n",
            "checking for pthread_join in -lpthread... yes\n",
            "checking for getenv... yes\n",
            "checking for opendir... yes\n",
            "checking whether make is GNU Make... yes\n",
            "checking if g++ supports stl <vector> (required)... yes\n",
            "checking if g++ supports stl <list> (required)... yes\n",
            "checking if g++ supports stl <map> (required)... yes\n",
            "checking if g++ supports stl <set> (required)... yes\n",
            "checking if g++ supports stl <queue> (required)... yes\n",
            "checking if g++ supports stl <functional> (required)... yes\n",
            "checking if g++ supports stl <algorithm> (required)... yes\n",
            "checking if g++ supports stl <string> (required)... yes\n",
            "checking if g++ supports stl <iostream> (required)... yes\n",
            "checking if g++ supports stl <sstream> (required)... yes\n",
            "checking if g++ supports stl <fstream> (required)... yes\n",
            "checking if g++ supports template <class T> (required)... yes\n",
            "checking if g++ supports const_cast<> (required)... yes\n",
            "checking if g++ supports static_cast<> (required)... yes\n",
            "checking if g++ supports reinterpret_cast<> (required)... yes\n",
            "checking if g++ supports namespaces (required) ... yes\n",
            "checking if g++ supports __thread (optional)... yes\n",
            "checking if g++ supports template <class T> (required)... yes\n",
            "checking if g++ supports GCC native atomic operations (optional)... yes\n",
            "checking if g++ supports OSX native atomic operations (optional)... no\n",
            "checking if g++ environment provides all required features... yes\n",
            "configure: creating ./config.status\n",
            "config.status: creating Makefile\n",
            "config.status: creating src/Makefile\n",
            "config.status: creating src/Makefile.msvc\n",
            "config.status: creating man/Makefile\n",
            "config.status: creating doc/Makefile\n",
            "config.status: creating tests/Makefile\n",
            "config.status: creating swig/version.h\n",
            "config.status: creating mecab.iss\n",
            "config.status: creating mecab-config\n",
            "config.status: creating mecabrc\n",
            "config.status: creating config.h\n",
            "config.status: executing depfiles commands\n",
            "config.status: executing libtool commands\n",
            "config.status: executing default commands\n",
            "make  all-recursive\n",
            "make[1]: Entering directory '/tmp/mecab-0.996-ko-0.9.2'\n",
            "Making all in src\n",
            "make[2]: Entering directory '/tmp/mecab-0.996-ko-0.9.2/src'\n",
            "/bin/bash ../libtool --tag=CXX   --mode=compile g++ -DHAVE_CONFIG_H -I. -I.. -DDIC_VERSION=102   -DMECAB_DEFAULT_RC=\"\\\"/usr/local/etc/mecabrc\\\"\"    -O3 -Wall  -c -o viterbi.lo viterbi.cpp\n",
            "libtool: compile:  g++ -DHAVE_CONFIG_H -I. -I.. -DDIC_VERSION=102 -DMECAB_DEFAULT_RC=\\\"/usr/local/etc/mecabrc\\\" -O3 -Wall -c viterbi.cpp  -fPIC -DPIC -o .libs/viterbi.o\n",
            "In file included from \u001b[01m\u001b[Kviterbi.cpp:14:0\u001b[m\u001b[K:\n",
            "\u001b[01m\u001b[Kparam.h:30:13:\u001b[m\u001b[K \u001b[01;35m\u001b[Kwarning: \u001b[m\u001b[K'\u001b[01m\u001b[KTarget {anonymous}::lexical_cast(Source) [with Target = std::__cxx11::basic_string<char>; Source = std::__cxx11::basic_string<char>]\u001b[m\u001b[K' defined but not used [\u001b[01;35m\u001b[K-Wunused-function\u001b[m\u001b[K]\n",
            " std::string \u001b[01;35m\u001b[Klexical_cast<std::string, std::string>\u001b[m\u001b[K(std::string arg) {\n",
            "             \u001b[01;35m\u001b[K^~~~~~~~~~~~~~~~~~~~~~~~~~~~~~~~~~~~~~\u001b[m\u001b[K\n",
            "libtool: compile:  g++ -DHAVE_CONFIG_H -I. -I.. -DDIC_VERSION=102 -DMECAB_DEFAULT_RC=\\\"/usr/local/etc/mecabrc\\\" -O3 -Wall -c viterbi.cpp -o viterbi.o >/dev/null 2>&1\n",
            "/bin/bash ../libtool --tag=CXX   --mode=compile g++ -DHAVE_CONFIG_H -I. -I.. -DDIC_VERSION=102   -DMECAB_DEFAULT_RC=\"\\\"/usr/local/etc/mecabrc\\\"\"    -O3 -Wall  -c -o tagger.lo tagger.cpp\n",
            "libtool: compile:  g++ -DHAVE_CONFIG_H -I. -I.. -DDIC_VERSION=102 -DMECAB_DEFAULT_RC=\\\"/usr/local/etc/mecabrc\\\" -O3 -Wall -c tagger.cpp  -fPIC -DPIC -o .libs/tagger.o\n",
            "libtool: compile:  g++ -DHAVE_CONFIG_H -I. -I.. -DDIC_VERSION=102 -DMECAB_DEFAULT_RC=\\\"/usr/local/etc/mecabrc\\\" -O3 -Wall -c tagger.cpp -o tagger.o >/dev/null 2>&1\n",
            "/bin/bash ../libtool --tag=CXX   --mode=compile g++ -DHAVE_CONFIG_H -I. -I.. -DDIC_VERSION=102   -DMECAB_DEFAULT_RC=\"\\\"/usr/local/etc/mecabrc\\\"\"    -O3 -Wall  -c -o utils.lo utils.cpp\n",
            "libtool: compile:  g++ -DHAVE_CONFIG_H -I. -I.. -DDIC_VERSION=102 -DMECAB_DEFAULT_RC=\\\"/usr/local/etc/mecabrc\\\" -O3 -Wall -c utils.cpp  -fPIC -DPIC -o .libs/utils.o\n",
            "libtool: compile:  g++ -DHAVE_CONFIG_H -I. -I.. -DDIC_VERSION=102 -DMECAB_DEFAULT_RC=\\\"/usr/local/etc/mecabrc\\\" -O3 -Wall -c utils.cpp -o utils.o >/dev/null 2>&1\n",
            "/bin/bash ../libtool --tag=CXX   --mode=compile g++ -DHAVE_CONFIG_H -I. -I.. -DDIC_VERSION=102   -DMECAB_DEFAULT_RC=\"\\\"/usr/local/etc/mecabrc\\\"\"    -O3 -Wall  -c -o eval.lo eval.cpp\n",
            "libtool: compile:  g++ -DHAVE_CONFIG_H -I. -I.. -DDIC_VERSION=102 -DMECAB_DEFAULT_RC=\\\"/usr/local/etc/mecabrc\\\" -O3 -Wall -c eval.cpp  -fPIC -DPIC -o .libs/eval.o\n",
            "libtool: compile:  g++ -DHAVE_CONFIG_H -I. -I.. -DDIC_VERSION=102 -DMECAB_DEFAULT_RC=\\\"/usr/local/etc/mecabrc\\\" -O3 -Wall -c eval.cpp -o eval.o >/dev/null 2>&1\n",
            "/bin/bash ../libtool --tag=CXX   --mode=compile g++ -DHAVE_CONFIG_H -I. -I.. -DDIC_VERSION=102   -DMECAB_DEFAULT_RC=\"\\\"/usr/local/etc/mecabrc\\\"\"    -O3 -Wall  -c -o iconv_utils.lo iconv_utils.cpp\n",
            "libtool: compile:  g++ -DHAVE_CONFIG_H -I. -I.. -DDIC_VERSION=102 -DMECAB_DEFAULT_RC=\\\"/usr/local/etc/mecabrc\\\" -O3 -Wall -c iconv_utils.cpp  -fPIC -DPIC -o .libs/iconv_utils.o\n",
            "libtool: compile:  g++ -DHAVE_CONFIG_H -I. -I.. -DDIC_VERSION=102 -DMECAB_DEFAULT_RC=\\\"/usr/local/etc/mecabrc\\\" -O3 -Wall -c iconv_utils.cpp -o iconv_utils.o >/dev/null 2>&1\n",
            "/bin/bash ../libtool --tag=CXX   --mode=compile g++ -DHAVE_CONFIG_H -I. -I.. -DDIC_VERSION=102   -DMECAB_DEFAULT_RC=\"\\\"/usr/local/etc/mecabrc\\\"\"    -O3 -Wall  -c -o dictionary_rewriter.lo dictionary_rewriter.cpp\n",
            "libtool: compile:  g++ -DHAVE_CONFIG_H -I. -I.. -DDIC_VERSION=102 -DMECAB_DEFAULT_RC=\\\"/usr/local/etc/mecabrc\\\" -O3 -Wall -c dictionary_rewriter.cpp  -fPIC -DPIC -o .libs/dictionary_rewriter.o\n",
            "libtool: compile:  g++ -DHAVE_CONFIG_H -I. -I.. -DDIC_VERSION=102 -DMECAB_DEFAULT_RC=\\\"/usr/local/etc/mecabrc\\\" -O3 -Wall -c dictionary_rewriter.cpp -o dictionary_rewriter.o >/dev/null 2>&1\n",
            "/bin/bash ../libtool --tag=CXX   --mode=compile g++ -DHAVE_CONFIG_H -I. -I.. -DDIC_VERSION=102   -DMECAB_DEFAULT_RC=\"\\\"/usr/local/etc/mecabrc\\\"\"    -O3 -Wall  -c -o dictionary_generator.lo dictionary_generator.cpp\n",
            "libtool: compile:  g++ -DHAVE_CONFIG_H -I. -I.. -DDIC_VERSION=102 -DMECAB_DEFAULT_RC=\\\"/usr/local/etc/mecabrc\\\" -O3 -Wall -c dictionary_generator.cpp  -fPIC -DPIC -o .libs/dictionary_generator.o\n",
            "libtool: compile:  g++ -DHAVE_CONFIG_H -I. -I.. -DDIC_VERSION=102 -DMECAB_DEFAULT_RC=\\\"/usr/local/etc/mecabrc\\\" -O3 -Wall -c dictionary_generator.cpp -o dictionary_generator.o >/dev/null 2>&1\n",
            "/bin/bash ../libtool --tag=CXX   --mode=compile g++ -DHAVE_CONFIG_H -I. -I.. -DDIC_VERSION=102   -DMECAB_DEFAULT_RC=\"\\\"/usr/local/etc/mecabrc\\\"\"    -O3 -Wall  -c -o dictionary_compiler.lo dictionary_compiler.cpp\n",
            "libtool: compile:  g++ -DHAVE_CONFIG_H -I. -I.. -DDIC_VERSION=102 -DMECAB_DEFAULT_RC=\\\"/usr/local/etc/mecabrc\\\" -O3 -Wall -c dictionary_compiler.cpp  -fPIC -DPIC -o .libs/dictionary_compiler.o\n",
            "libtool: compile:  g++ -DHAVE_CONFIG_H -I. -I.. -DDIC_VERSION=102 -DMECAB_DEFAULT_RC=\\\"/usr/local/etc/mecabrc\\\" -O3 -Wall -c dictionary_compiler.cpp -o dictionary_compiler.o >/dev/null 2>&1\n",
            "/bin/bash ../libtool --tag=CXX   --mode=compile g++ -DHAVE_CONFIG_H -I. -I.. -DDIC_VERSION=102   -DMECAB_DEFAULT_RC=\"\\\"/usr/local/etc/mecabrc\\\"\"    -O3 -Wall  -c -o context_id.lo context_id.cpp\n",
            "libtool: compile:  g++ -DHAVE_CONFIG_H -I. -I.. -DDIC_VERSION=102 -DMECAB_DEFAULT_RC=\\\"/usr/local/etc/mecabrc\\\" -O3 -Wall -c context_id.cpp  -fPIC -DPIC -o .libs/context_id.o\n",
            "libtool: compile:  g++ -DHAVE_CONFIG_H -I. -I.. -DDIC_VERSION=102 -DMECAB_DEFAULT_RC=\\\"/usr/local/etc/mecabrc\\\" -O3 -Wall -c context_id.cpp -o context_id.o >/dev/null 2>&1\n",
            "/bin/bash ../libtool --tag=CXX   --mode=compile g++ -DHAVE_CONFIG_H -I. -I.. -DDIC_VERSION=102   -DMECAB_DEFAULT_RC=\"\\\"/usr/local/etc/mecabrc\\\"\"    -O3 -Wall  -c -o connector.lo connector.cpp\n",
            "libtool: compile:  g++ -DHAVE_CONFIG_H -I. -I.. -DDIC_VERSION=102 -DMECAB_DEFAULT_RC=\\\"/usr/local/etc/mecabrc\\\" -O3 -Wall -c connector.cpp  -fPIC -DPIC -o .libs/connector.o\n",
            "libtool: compile:  g++ -DHAVE_CONFIG_H -I. -I.. -DDIC_VERSION=102 -DMECAB_DEFAULT_RC=\\\"/usr/local/etc/mecabrc\\\" -O3 -Wall -c connector.cpp -o connector.o >/dev/null 2>&1\n",
            "/bin/bash ../libtool --tag=CXX   --mode=compile g++ -DHAVE_CONFIG_H -I. -I.. -DDIC_VERSION=102   -DMECAB_DEFAULT_RC=\"\\\"/usr/local/etc/mecabrc\\\"\"    -O3 -Wall  -c -o nbest_generator.lo nbest_generator.cpp\n",
            "libtool: compile:  g++ -DHAVE_CONFIG_H -I. -I.. -DDIC_VERSION=102 -DMECAB_DEFAULT_RC=\\\"/usr/local/etc/mecabrc\\\" -O3 -Wall -c nbest_generator.cpp  -fPIC -DPIC -o .libs/nbest_generator.o\n",
            "libtool: compile:  g++ -DHAVE_CONFIG_H -I. -I.. -DDIC_VERSION=102 -DMECAB_DEFAULT_RC=\\\"/usr/local/etc/mecabrc\\\" -O3 -Wall -c nbest_generator.cpp -o nbest_generator.o >/dev/null 2>&1\n",
            "/bin/bash ../libtool --tag=CXX   --mode=compile g++ -DHAVE_CONFIG_H -I. -I.. -DDIC_VERSION=102   -DMECAB_DEFAULT_RC=\"\\\"/usr/local/etc/mecabrc\\\"\"    -O3 -Wall  -c -o writer.lo writer.cpp\n",
            "libtool: compile:  g++ -DHAVE_CONFIG_H -I. -I.. -DDIC_VERSION=102 -DMECAB_DEFAULT_RC=\\\"/usr/local/etc/mecabrc\\\" -O3 -Wall -c writer.cpp  -fPIC -DPIC -o .libs/writer.o\n",
            "libtool: compile:  g++ -DHAVE_CONFIG_H -I. -I.. -DDIC_VERSION=102 -DMECAB_DEFAULT_RC=\\\"/usr/local/etc/mecabrc\\\" -O3 -Wall -c writer.cpp -o writer.o >/dev/null 2>&1\n",
            "/bin/bash ../libtool --tag=CXX   --mode=compile g++ -DHAVE_CONFIG_H -I. -I.. -DDIC_VERSION=102   -DMECAB_DEFAULT_RC=\"\\\"/usr/local/etc/mecabrc\\\"\"    -O3 -Wall  -c -o string_buffer.lo string_buffer.cpp\n",
            "libtool: compile:  g++ -DHAVE_CONFIG_H -I. -I.. -DDIC_VERSION=102 -DMECAB_DEFAULT_RC=\\\"/usr/local/etc/mecabrc\\\" -O3 -Wall -c string_buffer.cpp  -fPIC -DPIC -o .libs/string_buffer.o\n",
            "libtool: compile:  g++ -DHAVE_CONFIG_H -I. -I.. -DDIC_VERSION=102 -DMECAB_DEFAULT_RC=\\\"/usr/local/etc/mecabrc\\\" -O3 -Wall -c string_buffer.cpp -o string_buffer.o >/dev/null 2>&1\n",
            "/bin/bash ../libtool --tag=CXX   --mode=compile g++ -DHAVE_CONFIG_H -I. -I.. -DDIC_VERSION=102   -DMECAB_DEFAULT_RC=\"\\\"/usr/local/etc/mecabrc\\\"\"    -O3 -Wall  -c -o param.lo param.cpp\n",
            "libtool: compile:  g++ -DHAVE_CONFIG_H -I. -I.. -DDIC_VERSION=102 -DMECAB_DEFAULT_RC=\\\"/usr/local/etc/mecabrc\\\" -O3 -Wall -c param.cpp  -fPIC -DPIC -o .libs/param.o\n",
            "libtool: compile:  g++ -DHAVE_CONFIG_H -I. -I.. -DDIC_VERSION=102 -DMECAB_DEFAULT_RC=\\\"/usr/local/etc/mecabrc\\\" -O3 -Wall -c param.cpp -o param.o >/dev/null 2>&1\n",
            "/bin/bash ../libtool --tag=CXX   --mode=compile g++ -DHAVE_CONFIG_H -I. -I.. -DDIC_VERSION=102   -DMECAB_DEFAULT_RC=\"\\\"/usr/local/etc/mecabrc\\\"\"    -O3 -Wall  -c -o tokenizer.lo tokenizer.cpp\n",
            "libtool: compile:  g++ -DHAVE_CONFIG_H -I. -I.. -DDIC_VERSION=102 -DMECAB_DEFAULT_RC=\\\"/usr/local/etc/mecabrc\\\" -O3 -Wall -c tokenizer.cpp  -fPIC -DPIC -o .libs/tokenizer.o\n",
            "libtool: compile:  g++ -DHAVE_CONFIG_H -I. -I.. -DDIC_VERSION=102 -DMECAB_DEFAULT_RC=\\\"/usr/local/etc/mecabrc\\\" -O3 -Wall -c tokenizer.cpp -o tokenizer.o >/dev/null 2>&1\n",
            "/bin/bash ../libtool --tag=CXX   --mode=compile g++ -DHAVE_CONFIG_H -I. -I.. -DDIC_VERSION=102   -DMECAB_DEFAULT_RC=\"\\\"/usr/local/etc/mecabrc\\\"\"    -O3 -Wall  -c -o char_property.lo char_property.cpp\n",
            "libtool: compile:  g++ -DHAVE_CONFIG_H -I. -I.. -DDIC_VERSION=102 -DMECAB_DEFAULT_RC=\\\"/usr/local/etc/mecabrc\\\" -O3 -Wall -c char_property.cpp  -fPIC -DPIC -o .libs/char_property.o\n",
            "libtool: compile:  g++ -DHAVE_CONFIG_H -I. -I.. -DDIC_VERSION=102 -DMECAB_DEFAULT_RC=\\\"/usr/local/etc/mecabrc\\\" -O3 -Wall -c char_property.cpp -o char_property.o >/dev/null 2>&1\n",
            "/bin/bash ../libtool --tag=CXX   --mode=compile g++ -DHAVE_CONFIG_H -I. -I.. -DDIC_VERSION=102   -DMECAB_DEFAULT_RC=\"\\\"/usr/local/etc/mecabrc\\\"\"    -O3 -Wall  -c -o dictionary.lo dictionary.cpp\n",
            "libtool: compile:  g++ -DHAVE_CONFIG_H -I. -I.. -DDIC_VERSION=102 -DMECAB_DEFAULT_RC=\\\"/usr/local/etc/mecabrc\\\" -O3 -Wall -c dictionary.cpp  -fPIC -DPIC -o .libs/dictionary.o\n",
            "libtool: compile:  g++ -DHAVE_CONFIG_H -I. -I.. -DDIC_VERSION=102 -DMECAB_DEFAULT_RC=\\\"/usr/local/etc/mecabrc\\\" -O3 -Wall -c dictionary.cpp -o dictionary.o >/dev/null 2>&1\n",
            "/bin/bash ../libtool --tag=CXX   --mode=compile g++ -DHAVE_CONFIG_H -I. -I.. -DDIC_VERSION=102   -DMECAB_DEFAULT_RC=\"\\\"/usr/local/etc/mecabrc\\\"\"    -O3 -Wall  -c -o feature_index.lo feature_index.cpp\n",
            "libtool: compile:  g++ -DHAVE_CONFIG_H -I. -I.. -DDIC_VERSION=102 -DMECAB_DEFAULT_RC=\\\"/usr/local/etc/mecabrc\\\" -O3 -Wall -c feature_index.cpp  -fPIC -DPIC -o .libs/feature_index.o\n",
            "libtool: compile:  g++ -DHAVE_CONFIG_H -I. -I.. -DDIC_VERSION=102 -DMECAB_DEFAULT_RC=\\\"/usr/local/etc/mecabrc\\\" -O3 -Wall -c feature_index.cpp -o feature_index.o >/dev/null 2>&1\n",
            "/bin/bash ../libtool --tag=CXX   --mode=compile g++ -DHAVE_CONFIG_H -I. -I.. -DDIC_VERSION=102   -DMECAB_DEFAULT_RC=\"\\\"/usr/local/etc/mecabrc\\\"\"    -O3 -Wall  -c -o lbfgs.lo lbfgs.cpp\n",
            "libtool: compile:  g++ -DHAVE_CONFIG_H -I. -I.. -DDIC_VERSION=102 -DMECAB_DEFAULT_RC=\\\"/usr/local/etc/mecabrc\\\" -O3 -Wall -c lbfgs.cpp  -fPIC -DPIC -o .libs/lbfgs.o\n",
            "libtool: compile:  g++ -DHAVE_CONFIG_H -I. -I.. -DDIC_VERSION=102 -DMECAB_DEFAULT_RC=\\\"/usr/local/etc/mecabrc\\\" -O3 -Wall -c lbfgs.cpp -o lbfgs.o >/dev/null 2>&1\n",
            "/bin/bash ../libtool --tag=CXX   --mode=compile g++ -DHAVE_CONFIG_H -I. -I.. -DDIC_VERSION=102   -DMECAB_DEFAULT_RC=\"\\\"/usr/local/etc/mecabrc\\\"\"    -O3 -Wall  -c -o learner_tagger.lo learner_tagger.cpp\n",
            "libtool: compile:  g++ -DHAVE_CONFIG_H -I. -I.. -DDIC_VERSION=102 -DMECAB_DEFAULT_RC=\\\"/usr/local/etc/mecabrc\\\" -O3 -Wall -c learner_tagger.cpp  -fPIC -DPIC -o .libs/learner_tagger.o\n",
            "\u001b[01m\u001b[Klearner_tagger.cpp:25:7:\u001b[m\u001b[K \u001b[01;35m\u001b[Kwarning: \u001b[m\u001b[K'\u001b[01m\u001b[Kchar* MeCab::{anonymous}::mystrdup(const string&)\u001b[m\u001b[K' defined but not used [\u001b[01;35m\u001b[K-Wunused-function\u001b[m\u001b[K]\n",
            " char *\u001b[01;35m\u001b[Kmystrdup\u001b[m\u001b[K(const std::string &str) {\n",
            "       \u001b[01;35m\u001b[K^~~~~~~~\u001b[m\u001b[K\n",
            "libtool: compile:  g++ -DHAVE_CONFIG_H -I. -I.. -DDIC_VERSION=102 -DMECAB_DEFAULT_RC=\\\"/usr/local/etc/mecabrc\\\" -O3 -Wall -c learner_tagger.cpp -o learner_tagger.o >/dev/null 2>&1\n",
            "/bin/bash ../libtool --tag=CXX   --mode=compile g++ -DHAVE_CONFIG_H -I. -I.. -DDIC_VERSION=102   -DMECAB_DEFAULT_RC=\"\\\"/usr/local/etc/mecabrc\\\"\"    -O3 -Wall  -c -o learner.lo learner.cpp\n",
            "libtool: compile:  g++ -DHAVE_CONFIG_H -I. -I.. -DDIC_VERSION=102 -DMECAB_DEFAULT_RC=\\\"/usr/local/etc/mecabrc\\\" -O3 -Wall -c learner.cpp  -fPIC -DPIC -o .libs/learner.o\n",
            "libtool: compile:  g++ -DHAVE_CONFIG_H -I. -I.. -DDIC_VERSION=102 -DMECAB_DEFAULT_RC=\\\"/usr/local/etc/mecabrc\\\" -O3 -Wall -c learner.cpp -o learner.o >/dev/null 2>&1\n",
            "/bin/bash ../libtool --tag=CXX   --mode=compile g++ -DHAVE_CONFIG_H -I. -I.. -DDIC_VERSION=102   -DMECAB_DEFAULT_RC=\"\\\"/usr/local/etc/mecabrc\\\"\"    -O3 -Wall  -c -o libmecab.lo libmecab.cpp\n",
            "libtool: compile:  g++ -DHAVE_CONFIG_H -I. -I.. -DDIC_VERSION=102 -DMECAB_DEFAULT_RC=\\\"/usr/local/etc/mecabrc\\\" -O3 -Wall -c libmecab.cpp  -fPIC -DPIC -o .libs/libmecab.o\n",
            "libtool: compile:  g++ -DHAVE_CONFIG_H -I. -I.. -DDIC_VERSION=102 -DMECAB_DEFAULT_RC=\\\"/usr/local/etc/mecabrc\\\" -O3 -Wall -c libmecab.cpp -o libmecab.o >/dev/null 2>&1\n",
            "/bin/bash ../libtool --tag=CXX   --mode=link g++  -O3 -Wall  -no-undefined -version-info 2:0:0  -o libmecab.la -rpath /usr/local/lib viterbi.lo tagger.lo utils.lo eval.lo iconv_utils.lo dictionary_rewriter.lo dictionary_generator.lo dictionary_compiler.lo context_id.lo connector.lo nbest_generator.lo writer.lo string_buffer.lo param.lo tokenizer.lo char_property.lo dictionary.lo feature_index.lo lbfgs.lo learner_tagger.lo learner.lo libmecab.lo  -lpthread -lpthread  -lstdc++ \n",
            "libtool: link: g++  -fPIC -DPIC -shared -nostdlib /usr/lib/gcc/x86_64-linux-gnu/7/../../../x86_64-linux-gnu/crti.o /usr/lib/gcc/x86_64-linux-gnu/7/crtbeginS.o  .libs/viterbi.o .libs/tagger.o .libs/utils.o .libs/eval.o .libs/iconv_utils.o .libs/dictionary_rewriter.o .libs/dictionary_generator.o .libs/dictionary_compiler.o .libs/context_id.o .libs/connector.o .libs/nbest_generator.o .libs/writer.o .libs/string_buffer.o .libs/param.o .libs/tokenizer.o .libs/char_property.o .libs/dictionary.o .libs/feature_index.o .libs/lbfgs.o .libs/learner_tagger.o .libs/learner.o .libs/libmecab.o   -lpthread -L/usr/lib/gcc/x86_64-linux-gnu/7 -L/usr/lib/gcc/x86_64-linux-gnu/7/../../../x86_64-linux-gnu -L/usr/lib/gcc/x86_64-linux-gnu/7/../../../../lib -L/lib/x86_64-linux-gnu -L/lib/../lib -L/usr/lib/x86_64-linux-gnu -L/usr/lib/../lib -L/usr/local/cuda/lib64/stubs -L/usr/lib/gcc/x86_64-linux-gnu/7/../../.. -lstdc++ -lm -lc -lgcc_s /usr/lib/gcc/x86_64-linux-gnu/7/crtendS.o /usr/lib/gcc/x86_64-linux-gnu/7/../../../x86_64-linux-gnu/crtn.o  -O3   -Wl,-soname -Wl,libmecab.so.2 -o .libs/libmecab.so.2.0.0\n",
            "libtool: link: (cd \".libs\" && rm -f \"libmecab.so.2\" && ln -s \"libmecab.so.2.0.0\" \"libmecab.so.2\")\n",
            "libtool: link: (cd \".libs\" && rm -f \"libmecab.so\" && ln -s \"libmecab.so.2.0.0\" \"libmecab.so\")\n",
            "libtool: link: ar cru .libs/libmecab.a  viterbi.o tagger.o utils.o eval.o iconv_utils.o dictionary_rewriter.o dictionary_generator.o dictionary_compiler.o context_id.o connector.o nbest_generator.o writer.o string_buffer.o param.o tokenizer.o char_property.o dictionary.o feature_index.o lbfgs.o learner_tagger.o learner.o libmecab.o\n",
            "ar: `u' modifier ignored since `D' is the default (see `U')\n",
            "libtool: link: ranlib .libs/libmecab.a\n",
            "libtool: link: ( cd \".libs\" && rm -f \"libmecab.la\" && ln -s \"../libmecab.la\" \"libmecab.la\" )\n",
            "g++ -DHAVE_CONFIG_H -I. -I.. -DDIC_VERSION=102   -DMECAB_DEFAULT_RC=\"\\\"/usr/local/etc/mecabrc\\\"\"    -O3 -Wall  -c -o mecab.o mecab.cpp\n",
            "/bin/bash ../libtool --tag=CXX   --mode=link g++  -O3 -Wall    -o mecab mecab.o libmecab.la -lpthread -lpthread  -lstdc++ \n",
            "libtool: link: g++ -O3 -Wall -o .libs/mecab mecab.o  ./.libs/libmecab.so -lpthread -lstdc++\n",
            "g++ -DHAVE_CONFIG_H -I. -I.. -DDIC_VERSION=102   -DMECAB_DEFAULT_RC=\"\\\"/usr/local/etc/mecabrc\\\"\"    -O3 -Wall  -c -o mecab-dict-index.o mecab-dict-index.cpp\n",
            "/bin/bash ../libtool --tag=CXX   --mode=link g++  -O3 -Wall    -o mecab-dict-index mecab-dict-index.o libmecab.la -lpthread -lpthread  -lstdc++ \n",
            "libtool: link: g++ -O3 -Wall -o .libs/mecab-dict-index mecab-dict-index.o  ./.libs/libmecab.so -lpthread -lstdc++\n",
            "g++ -DHAVE_CONFIG_H -I. -I.. -DDIC_VERSION=102   -DMECAB_DEFAULT_RC=\"\\\"/usr/local/etc/mecabrc\\\"\"    -O3 -Wall  -c -o mecab-dict-gen.o mecab-dict-gen.cpp\n",
            "/bin/bash ../libtool --tag=CXX   --mode=link g++  -O3 -Wall    -o mecab-dict-gen mecab-dict-gen.o libmecab.la -lpthread -lpthread  -lstdc++ \n",
            "libtool: link: g++ -O3 -Wall -o .libs/mecab-dict-gen mecab-dict-gen.o  ./.libs/libmecab.so -lpthread -lstdc++\n",
            "g++ -DHAVE_CONFIG_H -I. -I.. -DDIC_VERSION=102   -DMECAB_DEFAULT_RC=\"\\\"/usr/local/etc/mecabrc\\\"\"    -O3 -Wall  -c -o mecab-cost-train.o mecab-cost-train.cpp\n",
            "/bin/bash ../libtool --tag=CXX   --mode=link g++  -O3 -Wall    -o mecab-cost-train mecab-cost-train.o libmecab.la -lpthread -lpthread  -lstdc++ \n",
            "libtool: link: g++ -O3 -Wall -o .libs/mecab-cost-train mecab-cost-train.o  ./.libs/libmecab.so -lpthread -lstdc++\n",
            "g++ -DHAVE_CONFIG_H -I. -I.. -DDIC_VERSION=102   -DMECAB_DEFAULT_RC=\"\\\"/usr/local/etc/mecabrc\\\"\"    -O3 -Wall  -c -o mecab-system-eval.o mecab-system-eval.cpp\n",
            "/bin/bash ../libtool --tag=CXX   --mode=link g++  -O3 -Wall    -o mecab-system-eval mecab-system-eval.o libmecab.la -lpthread -lpthread  -lstdc++ \n",
            "libtool: link: g++ -O3 -Wall -o .libs/mecab-system-eval mecab-system-eval.o  ./.libs/libmecab.so -lpthread -lstdc++\n",
            "g++ -DHAVE_CONFIG_H -I. -I.. -DDIC_VERSION=102   -DMECAB_DEFAULT_RC=\"\\\"/usr/local/etc/mecabrc\\\"\"    -O3 -Wall  -c -o mecab-test-gen.o mecab-test-gen.cpp\n",
            "/bin/bash ../libtool --tag=CXX   --mode=link g++  -O3 -Wall    -o mecab-test-gen mecab-test-gen.o libmecab.la -lpthread -lpthread  -lstdc++ \n",
            "libtool: link: g++ -O3 -Wall -o .libs/mecab-test-gen mecab-test-gen.o  ./.libs/libmecab.so -lpthread -lstdc++\n",
            "make[2]: Leaving directory '/tmp/mecab-0.996-ko-0.9.2/src'\n",
            "Making all in man\n",
            "make[2]: Entering directory '/tmp/mecab-0.996-ko-0.9.2/man'\n",
            "make[2]: Nothing to be done for 'all'.\n",
            "make[2]: Leaving directory '/tmp/mecab-0.996-ko-0.9.2/man'\n",
            "Making all in doc\n",
            "make[2]: Entering directory '/tmp/mecab-0.996-ko-0.9.2/doc'\n",
            "make[2]: Nothing to be done for 'all'.\n",
            "make[2]: Leaving directory '/tmp/mecab-0.996-ko-0.9.2/doc'\n",
            "Making all in tests\n",
            "make[2]: Entering directory '/tmp/mecab-0.996-ko-0.9.2/tests'\n",
            "make[2]: Nothing to be done for 'all'.\n",
            "make[2]: Leaving directory '/tmp/mecab-0.996-ko-0.9.2/tests'\n",
            "make[2]: Entering directory '/tmp/mecab-0.996-ko-0.9.2'\n",
            "make[2]: Leaving directory '/tmp/mecab-0.996-ko-0.9.2'\n",
            "make[1]: Leaving directory '/tmp/mecab-0.996-ko-0.9.2'\n",
            "Making check in src\n",
            "make[1]: Entering directory '/tmp/mecab-0.996-ko-0.9.2/src'\n",
            "make[1]: Nothing to be done for 'check'.\n",
            "make[1]: Leaving directory '/tmp/mecab-0.996-ko-0.9.2/src'\n",
            "Making check in man\n",
            "make[1]: Entering directory '/tmp/mecab-0.996-ko-0.9.2/man'\n",
            "make[1]: Nothing to be done for 'check'.\n",
            "make[1]: Leaving directory '/tmp/mecab-0.996-ko-0.9.2/man'\n",
            "Making check in doc\n",
            "make[1]: Entering directory '/tmp/mecab-0.996-ko-0.9.2/doc'\n",
            "make[1]: Nothing to be done for 'check'.\n",
            "make[1]: Leaving directory '/tmp/mecab-0.996-ko-0.9.2/doc'\n",
            "Making check in tests\n",
            "make[1]: Entering directory '/tmp/mecab-0.996-ko-0.9.2/tests'\n",
            "make  check-TESTS\n",
            "make[2]: Entering directory '/tmp/mecab-0.996-ko-0.9.2/tests'\n",
            "./pos-id.def is not found. minimum setting is used\n",
            "reading ./unk.def ... 2\n",
            "emitting double-array: 100% |###########################################| \n",
            "./model.def is not found. skipped.\n",
            "./pos-id.def is not found. minimum setting is used\n",
            "reading ./dic.csv ... 177\n",
            "emitting double-array: 100% |###########################################| \n",
            "reading ./matrix.def ... 178x178\n",
            "emitting matrix      : 100% |###########################################| \n",
            "\n",
            "done!\n",
            "./pos-id.def is not found. minimum setting is used\n",
            "reading ./unk.def ... 2\n",
            "emitting double-array: 100% |###########################################| \n",
            "./model.def is not found. skipped.\n",
            "./pos-id.def is not found. minimum setting is used\n",
            "reading ./dic.csv ... 83\n",
            "emitting double-array: 100% |###########################################| \n",
            "reading ./matrix.def ... 84x84\n",
            "emitting matrix      : 100% |###########################################| \n",
            "\n",
            "done!\n",
            "./pos-id.def is not found. minimum setting is used\n",
            "reading ./unk.def ... 2\n",
            "emitting double-array: 100% |###########################################| \n",
            "./model.def is not found. skipped.\n",
            "./pos-id.def is not found. minimum setting is used\n",
            "reading ./dic.csv ... 450\n",
            "emitting double-array: 100% |###########################################| \n",
            "reading ./matrix.def ... 1x1\n",
            "\n",
            "done!\n",
            "./pos-id.def is not found. minimum setting is used\n",
            "reading ./unk.def ... 2\n",
            "emitting double-array: 100% |###########################################| \n",
            "./model.def is not found. skipped.\n",
            "./pos-id.def is not found. minimum setting is used\n",
            "reading ./dic.csv ... 162\n",
            "emitting double-array: 100% |###########################################| \n",
            "reading ./matrix.def ... 3x3\n",
            "emitting matrix      : 100% |###########################################| \n",
            "\n",
            "done!\n",
            "./pos-id.def is not found. minimum setting is used\n",
            "reading ./unk.def ... 2\n",
            "emitting double-array: 100% |###########################################| \n",
            "./model.def is not found. skipped.\n",
            "./pos-id.def is not found. minimum setting is used\n",
            "reading ./dic.csv ... 4\n",
            "emitting double-array: 100% |###########################################| \n",
            "reading ./matrix.def ... 1x1\n",
            "\n",
            "done!\n",
            "./pos-id.def is not found. minimum setting is used\n",
            "reading ./unk.def ... 11\n",
            "emitting double-array: 100% |###########################################| \n",
            "./model.def is not found. skipped.\n",
            "./pos-id.def is not found. minimum setting is used\n",
            "reading ./dic.csv ... 1\n",
            "reading ./matrix.def ... 1x1\n",
            "\n",
            "done!\n",
            "./pos-id.def is not found. minimum setting is used\n",
            "reading ./unk.def ... 2\n",
            "emitting double-array: 100% |###########################################| \n",
            "./model.def is not found. skipped.\n",
            "./pos-id.def is not found. minimum setting is used\n",
            "reading ./dic.csv ... 1\n",
            "reading ./matrix.def ... 1x1\n",
            "\n",
            "done!\n",
            "PASS: run-dics.sh\n",
            "PASS: run-eval.sh\n",
            "seed/pos-id.def is not found. minimum setting is used\n",
            "reading seed/unk.def ... 40\n",
            "emitting double-array: 100% |###########################################| \n",
            "seed/model.def is not found. skipped.\n",
            "seed/pos-id.def is not found. minimum setting is used\n",
            "reading seed/dic.csv ... 4335\n",
            "emitting double-array: 100% |###########################################| \n",
            "reading seed/matrix.def ... 1x1\n",
            "\n",
            "done!\n",
            "reading corpus ...\n",
            "Number of sentences: 34\n",
            "Number of features:  64108\n",
            "eta:                 0.00005\n",
            "freq:                1\n",
            "eval-size:           6\n",
            "unk-eval-size:       4\n",
            "threads:             1\n",
            "charset:             EUC-JP\n",
            "C(sigma^2):          1.00000\n",
            "\n",
            "iter=0 err=1.00000 F=0.35771 target=2406.28355 diff=1.00000\n",
            "iter=1 err=0.97059 F=0.65652 target=1484.25231 diff=0.38318\n",
            "iter=2 err=0.91176 F=0.79331 target=863.32765 diff=0.41834\n",
            "iter=3 err=0.85294 F=0.89213 target=596.72480 diff=0.30881\n",
            "iter=4 err=0.61765 F=0.95467 target=336.30744 diff=0.43641\n",
            "iter=5 err=0.50000 F=0.96702 target=246.53039 diff=0.26695\n",
            "iter=6 err=0.35294 F=0.95472 target=188.93963 diff=0.23361\n",
            "iter=7 err=0.20588 F=0.99106 target=168.62665 diff=0.10751\n",
            "iter=8 err=0.05882 F=0.99777 target=158.64865 diff=0.05917\n",
            "iter=9 err=0.08824 F=0.99665 target=154.14530 diff=0.02839\n",
            "iter=10 err=0.08824 F=0.99665 target=151.94257 diff=0.01429\n",
            "iter=11 err=0.02941 F=0.99888 target=147.20825 diff=0.03116\n",
            "iter=12 err=0.00000 F=1.00000 target=147.34956 diff=0.00096\n",
            "iter=13 err=0.02941 F=0.99888 target=146.32592 diff=0.00695\n",
            "iter=14 err=0.00000 F=1.00000 target=145.77299 diff=0.00378\n",
            "iter=15 err=0.02941 F=0.99888 target=145.24641 diff=0.00361\n",
            "iter=16 err=0.00000 F=1.00000 target=144.96490 diff=0.00194\n",
            "iter=17 err=0.02941 F=0.99888 target=144.90246 diff=0.00043\n",
            "iter=18 err=0.00000 F=1.00000 target=144.75959 diff=0.00099\n",
            "iter=19 err=0.00000 F=1.00000 target=144.71727 diff=0.00029\n",
            "iter=20 err=0.00000 F=1.00000 target=144.66337 diff=0.00037\n",
            "iter=21 err=0.00000 F=1.00000 target=144.61349 diff=0.00034\n",
            "iter=22 err=0.00000 F=1.00000 target=144.62987 diff=0.00011\n",
            "iter=23 err=0.00000 F=1.00000 target=144.60060 diff=0.00020\n",
            "iter=24 err=0.00000 F=1.00000 target=144.59125 diff=0.00006\n",
            "iter=25 err=0.00000 F=1.00000 target=144.58619 diff=0.00004\n",
            "iter=26 err=0.00000 F=1.00000 target=144.58219 diff=0.00003\n",
            "iter=27 err=0.00000 F=1.00000 target=144.58059 diff=0.00001\n",
            "\n",
            "Done! writing model file ... \n",
            "model-ipadic.c1.0.f1.model is not a binary model. reopen it as text mode...\n",
            "reading seed/unk.def ... 40\n",
            "reading seed/dic.csv ... 4335\n",
            "emitting model-ipadic.c1.0.f1.dic/left-id.def/ model-ipadic.c1.0.f1.dic/right-id.def\n",
            "emitting model-ipadic.c1.0.f1.dic/unk.def ... 40\n",
            "emitting model-ipadic.c1.0.f1.dic/dic.csv ... 4335\n",
            "emitting matrix      : 100% |###########################################| \n",
            "copying seed/char.def to model-ipadic.c1.0.f1.dic/char.def\n",
            "copying seed/rewrite.def to model-ipadic.c1.0.f1.dic/rewrite.def\n",
            "copying seed/dicrc to model-ipadic.c1.0.f1.dic/dicrc\n",
            "copying seed/feature.def to model-ipadic.c1.0.f1.dic/feature.def\n",
            "copying model-ipadic.c1.0.f1.model to model-ipadic.c1.0.f1.dic/model.def\n",
            "\n",
            "done!\n",
            "model-ipadic.c1.0.f1.dic/pos-id.def is not found. minimum setting is used\n",
            "reading model-ipadic.c1.0.f1.dic/unk.def ... 40\n",
            "emitting double-array: 100% |###########################################| \n",
            "model-ipadic.c1.0.f1.dic/pos-id.def is not found. minimum setting is used\n",
            "reading model-ipadic.c1.0.f1.dic/dic.csv ... 4335\n",
            "emitting double-array: 100% |###########################################| \n",
            "reading model-ipadic.c1.0.f1.dic/matrix.def ... 346x346\n",
            "emitting matrix      : 100% |###########################################| \n",
            "\n",
            "done!\n",
            "              precision          recall         F\n",
            "LEVEL 0:    12.8959(57/442) 11.8998(57/479) 12.3779\n",
            "LEVEL 1:    12.2172(54/442) 11.2735(54/479) 11.7264\n",
            "LEVEL 2:    11.7647(52/442) 10.8559(52/479) 11.2921\n",
            "LEVEL 4:    11.7647(52/442) 10.8559(52/479) 11.2921\n",
            "PASS: run-cost-train.sh\n",
            "==================\n",
            "All 3 tests passed\n",
            "==================\n",
            "make[2]: Leaving directory '/tmp/mecab-0.996-ko-0.9.2/tests'\n",
            "make[1]: Leaving directory '/tmp/mecab-0.996-ko-0.9.2/tests'\n",
            "make[1]: Entering directory '/tmp/mecab-0.996-ko-0.9.2'\n",
            "make[1]: Leaving directory '/tmp/mecab-0.996-ko-0.9.2'\n",
            "Making install in src\n",
            "make[1]: Entering directory '/tmp/mecab-0.996-ko-0.9.2/src'\n",
            "make[2]: Entering directory '/tmp/mecab-0.996-ko-0.9.2/src'\n",
            "test -z \"/usr/local/lib\" || /bin/mkdir -p \"/usr/local/lib\"\n",
            " /bin/bash ../libtool   --mode=install /usr/bin/install -c   libmecab.la '/usr/local/lib'\n",
            "libtool: install: /usr/bin/install -c .libs/libmecab.so.2.0.0 /usr/local/lib/libmecab.so.2.0.0\n",
            "libtool: install: (cd /usr/local/lib && { ln -s -f libmecab.so.2.0.0 libmecab.so.2 || { rm -f libmecab.so.2 && ln -s libmecab.so.2.0.0 libmecab.so.2; }; })\n",
            "libtool: install: (cd /usr/local/lib && { ln -s -f libmecab.so.2.0.0 libmecab.so || { rm -f libmecab.so && ln -s libmecab.so.2.0.0 libmecab.so; }; })\n",
            "libtool: install: /usr/bin/install -c .libs/libmecab.lai /usr/local/lib/libmecab.la\n",
            "libtool: install: /usr/bin/install -c .libs/libmecab.a /usr/local/lib/libmecab.a\n",
            "libtool: install: chmod 644 /usr/local/lib/libmecab.a\n",
            "libtool: install: ranlib /usr/local/lib/libmecab.a\n",
            "libtool: finish: PATH=\"/usr/local/sbin:/usr/local/bin:/usr/sbin:/usr/bin:/sbin:/bin:/snap/bin:/sbin\" ldconfig -n /usr/local/lib\n",
            "----------------------------------------------------------------------\n",
            "Libraries have been installed in:\n",
            "   /usr/local/lib\n",
            "\n",
            "If you ever happen to want to link against installed libraries\n",
            "in a given directory, LIBDIR, you must either use libtool, and\n",
            "specify the full pathname of the library, or use the `-LLIBDIR'\n",
            "flag during linking and do at least one of the following:\n",
            "   - add LIBDIR to the `LD_LIBRARY_PATH' environment variable\n",
            "     during execution\n",
            "   - add LIBDIR to the `LD_RUN_PATH' environment variable\n",
            "     during linking\n",
            "   - use the `-Wl,-rpath -Wl,LIBDIR' linker flag\n",
            "   - have your system administrator add LIBDIR to `/etc/ld.so.conf'\n",
            "\n",
            "See any operating system documentation about shared libraries for\n",
            "more information, such as the ld(1) and ld.so(8) manual pages.\n",
            "----------------------------------------------------------------------\n",
            "test -z \"/usr/local/bin\" || /bin/mkdir -p \"/usr/local/bin\"\n",
            "  /bin/bash ../libtool   --mode=install /usr/bin/install -c mecab '/usr/local/bin'\n",
            "libtool: install: /usr/bin/install -c .libs/mecab /usr/local/bin/mecab\n",
            "test -z \"/usr/local/libexec/mecab\" || /bin/mkdir -p \"/usr/local/libexec/mecab\"\n",
            "  /bin/bash ../libtool   --mode=install /usr/bin/install -c mecab-dict-index mecab-dict-gen mecab-cost-train mecab-system-eval mecab-test-gen '/usr/local/libexec/mecab'\n",
            "libtool: install: /usr/bin/install -c .libs/mecab-dict-index /usr/local/libexec/mecab/mecab-dict-index\n",
            "libtool: install: /usr/bin/install -c .libs/mecab-dict-gen /usr/local/libexec/mecab/mecab-dict-gen\n",
            "libtool: install: /usr/bin/install -c .libs/mecab-cost-train /usr/local/libexec/mecab/mecab-cost-train\n",
            "libtool: install: /usr/bin/install -c .libs/mecab-system-eval /usr/local/libexec/mecab/mecab-system-eval\n",
            "libtool: install: /usr/bin/install -c .libs/mecab-test-gen /usr/local/libexec/mecab/mecab-test-gen\n",
            "test -z \"/usr/local/include\" || /bin/mkdir -p \"/usr/local/include\"\n",
            " /usr/bin/install -c -m 644 mecab.h '/usr/local/include'\n",
            "make[2]: Leaving directory '/tmp/mecab-0.996-ko-0.9.2/src'\n",
            "make[1]: Leaving directory '/tmp/mecab-0.996-ko-0.9.2/src'\n",
            "Making install in man\n",
            "make[1]: Entering directory '/tmp/mecab-0.996-ko-0.9.2/man'\n",
            "make[2]: Entering directory '/tmp/mecab-0.996-ko-0.9.2/man'\n",
            "make[2]: Nothing to be done for 'install-exec-am'.\n",
            "test -z \"/usr/local/share/man/man1\" || /bin/mkdir -p \"/usr/local/share/man/man1\"\n",
            " /usr/bin/install -c -m 644 mecab.1 '/usr/local/share/man/man1'\n",
            "make[2]: Leaving directory '/tmp/mecab-0.996-ko-0.9.2/man'\n",
            "make[1]: Leaving directory '/tmp/mecab-0.996-ko-0.9.2/man'\n",
            "Making install in doc\n",
            "make[1]: Entering directory '/tmp/mecab-0.996-ko-0.9.2/doc'\n",
            "make[2]: Entering directory '/tmp/mecab-0.996-ko-0.9.2/doc'\n",
            "make[2]: Nothing to be done for 'install-exec-am'.\n",
            "make[2]: Nothing to be done for 'install-data-am'.\n",
            "make[2]: Leaving directory '/tmp/mecab-0.996-ko-0.9.2/doc'\n",
            "make[1]: Leaving directory '/tmp/mecab-0.996-ko-0.9.2/doc'\n",
            "Making install in tests\n",
            "make[1]: Entering directory '/tmp/mecab-0.996-ko-0.9.2/tests'\n",
            "make[2]: Entering directory '/tmp/mecab-0.996-ko-0.9.2/tests'\n",
            "make[2]: Nothing to be done for 'install-exec-am'.\n",
            "make[2]: Nothing to be done for 'install-data-am'.\n",
            "make[2]: Leaving directory '/tmp/mecab-0.996-ko-0.9.2/tests'\n",
            "make[1]: Leaving directory '/tmp/mecab-0.996-ko-0.9.2/tests'\n",
            "make[1]: Entering directory '/tmp/mecab-0.996-ko-0.9.2'\n",
            "make[2]: Entering directory '/tmp/mecab-0.996-ko-0.9.2'\n",
            "test -z \"/usr/local/bin\" || /bin/mkdir -p \"/usr/local/bin\"\n",
            " /usr/bin/install -c mecab-config '/usr/local/bin'\n",
            "test -z \"/usr/local/etc\" || /bin/mkdir -p \"/usr/local/etc\"\n",
            " /usr/bin/install -c -m 644 mecabrc '/usr/local/etc'\n",
            "make[2]: Leaving directory '/tmp/mecab-0.996-ko-0.9.2'\n",
            "make[1]: Leaving directory '/tmp/mecab-0.996-ko-0.9.2'\n",
            "Install mecab-ko-dic\n",
            "Install mecab-ko-dic\n",
            "  % Total    % Received % Xferd  Average Speed   Time    Time     Time  Current\n",
            "                                 Dload  Upload   Total   Spent    Left  Speed\n",
            "  0     0    0     0    0     0      0      0 --:--:-- --:--:-- --:--:--     0\n",
            "100 47.4M  100 47.4M    0     0  44.1M      0  0:00:01  0:00:01 --:--:--  111M\n",
            "mecab-ko-dic-2.1.1-20180720/\n",
            "mecab-ko-dic-2.1.1-20180720/configure\n",
            "mecab-ko-dic-2.1.1-20180720/COPYING\n",
            "mecab-ko-dic-2.1.1-20180720/autogen.sh\n",
            "mecab-ko-dic-2.1.1-20180720/Place-station.csv\n",
            "mecab-ko-dic-2.1.1-20180720/NNG.csv\n",
            "mecab-ko-dic-2.1.1-20180720/README\n",
            "mecab-ko-dic-2.1.1-20180720/EF.csv\n",
            "mecab-ko-dic-2.1.1-20180720/MAG.csv\n",
            "mecab-ko-dic-2.1.1-20180720/Preanalysis.csv\n",
            "mecab-ko-dic-2.1.1-20180720/NNB.csv\n",
            "mecab-ko-dic-2.1.1-20180720/Person-actor.csv\n",
            "mecab-ko-dic-2.1.1-20180720/VV.csv\n",
            "mecab-ko-dic-2.1.1-20180720/Makefile.in\n",
            "mecab-ko-dic-2.1.1-20180720/matrix.def\n",
            "mecab-ko-dic-2.1.1-20180720/EC.csv\n",
            "mecab-ko-dic-2.1.1-20180720/NNBC.csv\n",
            "mecab-ko-dic-2.1.1-20180720/clean\n",
            "mecab-ko-dic-2.1.1-20180720/ChangeLog\n",
            "mecab-ko-dic-2.1.1-20180720/J.csv\n",
            "mecab-ko-dic-2.1.1-20180720/.keep\n",
            "mecab-ko-dic-2.1.1-20180720/feature.def\n",
            "mecab-ko-dic-2.1.1-20180720/Foreign.csv\n",
            "mecab-ko-dic-2.1.1-20180720/XPN.csv\n",
            "mecab-ko-dic-2.1.1-20180720/EP.csv\n",
            "mecab-ko-dic-2.1.1-20180720/NR.csv\n",
            "mecab-ko-dic-2.1.1-20180720/left-id.def\n",
            "mecab-ko-dic-2.1.1-20180720/Place.csv\n",
            "mecab-ko-dic-2.1.1-20180720/Symbol.csv\n",
            "mecab-ko-dic-2.1.1-20180720/dicrc\n",
            "mecab-ko-dic-2.1.1-20180720/NP.csv\n",
            "mecab-ko-dic-2.1.1-20180720/ETM.csv\n",
            "mecab-ko-dic-2.1.1-20180720/IC.csv\n",
            "mecab-ko-dic-2.1.1-20180720/Place-address.csv\n",
            "mecab-ko-dic-2.1.1-20180720/Group.csv\n",
            "mecab-ko-dic-2.1.1-20180720/model.def\n",
            "mecab-ko-dic-2.1.1-20180720/XSN.csv\n",
            "mecab-ko-dic-2.1.1-20180720/INSTALL\n",
            "mecab-ko-dic-2.1.1-20180720/rewrite.def\n",
            "mecab-ko-dic-2.1.1-20180720/Inflect.csv\n",
            "mecab-ko-dic-2.1.1-20180720/configure.ac\n",
            "mecab-ko-dic-2.1.1-20180720/NNP.csv\n",
            "mecab-ko-dic-2.1.1-20180720/CoinedWord.csv\n",
            "mecab-ko-dic-2.1.1-20180720/XSV.csv\n",
            "mecab-ko-dic-2.1.1-20180720/pos-id.def\n",
            "mecab-ko-dic-2.1.1-20180720/Makefile.am\n",
            "mecab-ko-dic-2.1.1-20180720/unk.def\n",
            "mecab-ko-dic-2.1.1-20180720/missing\n",
            "mecab-ko-dic-2.1.1-20180720/VCP.csv\n",
            "mecab-ko-dic-2.1.1-20180720/install-sh\n",
            "mecab-ko-dic-2.1.1-20180720/Hanja.csv\n",
            "mecab-ko-dic-2.1.1-20180720/MAJ.csv\n",
            "mecab-ko-dic-2.1.1-20180720/XSA.csv\n",
            "mecab-ko-dic-2.1.1-20180720/Wikipedia.csv\n",
            "mecab-ko-dic-2.1.1-20180720/tools/\n",
            "mecab-ko-dic-2.1.1-20180720/tools/add-userdic.sh\n",
            "mecab-ko-dic-2.1.1-20180720/tools/mecab-bestn.sh\n",
            "mecab-ko-dic-2.1.1-20180720/tools/convert_for_using_store.sh\n",
            "mecab-ko-dic-2.1.1-20180720/user-dic/\n",
            "mecab-ko-dic-2.1.1-20180720/user-dic/nnp.csv\n",
            "mecab-ko-dic-2.1.1-20180720/user-dic/place.csv\n",
            "mecab-ko-dic-2.1.1-20180720/user-dic/person.csv\n",
            "mecab-ko-dic-2.1.1-20180720/user-dic/README.md\n",
            "mecab-ko-dic-2.1.1-20180720/NorthKorea.csv\n",
            "mecab-ko-dic-2.1.1-20180720/VX.csv\n",
            "mecab-ko-dic-2.1.1-20180720/right-id.def\n",
            "mecab-ko-dic-2.1.1-20180720/VA.csv\n",
            "mecab-ko-dic-2.1.1-20180720/char.def\n",
            "mecab-ko-dic-2.1.1-20180720/NEWS\n",
            "mecab-ko-dic-2.1.1-20180720/MM.csv\n",
            "mecab-ko-dic-2.1.1-20180720/ETN.csv\n",
            "mecab-ko-dic-2.1.1-20180720/AUTHORS\n",
            "mecab-ko-dic-2.1.1-20180720/Person.csv\n",
            "mecab-ko-dic-2.1.1-20180720/XR.csv\n",
            "mecab-ko-dic-2.1.1-20180720/VCN.csv\n",
            "Looking in current directory for macros.\n",
            "configure.ac:2: warning: AM_INIT_AUTOMAKE: two- and three-arguments forms are deprecated.  For more info, see:\n",
            "configure.ac:2: http://www.gnu.org/software/automake/manual/automake.html#Modernize-AM_005fINIT_005fAUTOMAKE-invocation\n",
            "checking for a BSD-compatible install... /usr/bin/install -c\n",
            "checking whether build environment is sane... yes\n",
            "/tmp/mecab-ko-dic-2.1.1-20180720/missing: Unknown `--is-lightweight' option\n",
            "Try `/tmp/mecab-ko-dic-2.1.1-20180720/missing --help' for more information\n",
            "configure: WARNING: 'missing' script is too old or missing\n",
            "checking for a thread-safe mkdir -p... /bin/mkdir -p\n",
            "checking for gawk... no\n",
            "checking for mawk... mawk\n",
            "checking whether make sets $(MAKE)... yes\n",
            "checking whether make supports nested variables... yes\n",
            "checking for mecab-config... /usr/local/bin/mecab-config\n",
            "checking that generated files are newer than configure... done\n",
            "configure: creating ./config.status\n",
            "config.status: creating Makefile\n",
            "/usr/local/lib\n",
            "/sbin/ldconfig.real: /usr/local/lib/python3.6/dist-packages/ideep4py/lib/libmkldnn.so.0 is not a symbolic link\n",
            "\n",
            "/usr/local/libexec/mecab/mecab-dict-index -d . -o . -f UTF-8 -t UTF-8\n",
            "reading ./unk.def ... 13\n",
            "emitting double-array: 100% |###########################################| \n",
            "reading ./XSV.csv ... 23\n",
            "reading ./NNG.csv ... 208524\n",
            "reading ./VCN.csv ... 7\n",
            "reading ./Person.csv ... 196459\n",
            "reading ./EP.csv ... 51\n",
            "reading ./XSA.csv ... 19\n",
            "reading ./NorthKorea.csv ... 3\n",
            "reading ./CoinedWord.csv ... 148\n",
            "reading ./VCP.csv ... 9\n",
            "reading ./Place-station.csv ... 1145\n",
            "reading ./VX.csv ... 125\n",
            "reading ./Foreign.csv ... 11690\n",
            "reading ./Inflect.csv ... 44820\n",
            "reading ./Hanja.csv ... 125750\n",
            "reading ./NP.csv ... 342\n",
            "reading ./IC.csv ... 1305\n",
            "reading ./MAG.csv ... 14242\n",
            "reading ./XSN.csv ... 124\n",
            "reading ./VA.csv ... 2360\n",
            "reading ./NNBC.csv ... 677\n",
            "reading ./Symbol.csv ... 16\n",
            "reading ./J.csv ... 416\n",
            "reading ./MM.csv ... 453\n",
            "reading ./XPN.csv ... 83\n",
            "reading ./ETN.csv ... 14\n",
            "reading ./XR.csv ... 3637\n",
            "reading ./NR.csv ... 482\n",
            "reading ./Preanalysis.csv ... 5\n",
            "reading ./NNP.csv ... 2371\n",
            "reading ./Person-actor.csv ... 99230\n",
            "reading ./Group.csv ... 3176\n",
            "reading ./MAJ.csv ... 240\n",
            "reading ./ETM.csv ... 133\n",
            "reading ./EC.csv ... 2547\n",
            "reading ./NNB.csv ... 140\n",
            "reading ./Place.csv ... 30303\n",
            "reading ./VV.csv ... 7331\n",
            "reading ./Wikipedia.csv ... 36762\n",
            "reading ./Place-address.csv ... 19301\n",
            "reading ./EF.csv ... 1820\n",
            "emitting double-array: 100% |###########################################| \n",
            "reading ./matrix.def ... 3822x2693\n",
            "emitting matrix      : 100% |###########################################| \n",
            "\n",
            "done!\n",
            "echo To enable dictionary, rewrite /usr/local/etc/mecabrc as \\\"dicdir = /usr/local/lib/mecab/dic/mecab-ko-dic\\\"\n",
            "To enable dictionary, rewrite /usr/local/etc/mecabrc as \"dicdir = /usr/local/lib/mecab/dic/mecab-ko-dic\"\n",
            "make[1]: Entering directory '/tmp/mecab-ko-dic-2.1.1-20180720'\n",
            "make[1]: Nothing to be done for 'install-exec-am'.\n",
            " /bin/mkdir -p '/usr/local/lib/mecab/dic/mecab-ko-dic'\n",
            " /usr/bin/install -c -m 644 model.bin matrix.bin char.bin sys.dic unk.dic left-id.def right-id.def rewrite.def pos-id.def dicrc '/usr/local/lib/mecab/dic/mecab-ko-dic'\n",
            "make[1]: Leaving directory '/tmp/mecab-ko-dic-2.1.1-20180720'\n",
            "Install mecab-python\n",
            "/tmp /tmp/mecab-ko-dic-2.1.1-20180720\n",
            "Cloning into 'mecab-python-0.996'...\n",
            "remote: Counting objects: 17, done.\u001b[K\n",
            "remote: Compressing objects: 100% (16/16), done.\u001b[K\n",
            "remote: Total 17 (delta 3), reused 0 (delta 0)\u001b[K\n",
            "Unpacking objects: 100% (17/17), done.\n",
            "/tmp/mecab-ko-dic-2.1.1-20180720\n",
            "Processing /tmp/mecab-python-0.996\n",
            "Building wheels for collected packages: mecab-python\n",
            "  Building wheel for mecab-python (setup.py) ... \u001b[?25l\u001b[?25hdone\n",
            "  Created wheel for mecab-python: filename=mecab_python-0.996_ko_0.9.2-cp36-cp36m-linux_x86_64.whl size=140582 sha256=795cb9b2ece98a09fb123752be511b6f8e2b78c328b90554223dd9d65da32079\n",
            "  Stored in directory: /root/.cache/pip/wheels/99/75/a6/e9e73a1dbd73579383644942ef18a6d17ad728a3052a1147fb\n",
            "Successfully built mecab-python\n",
            "Installing collected packages: mecab-python\n",
            "Successfully installed mecab-python-0.996-ko-0.9.2\n",
            "Done.\n"
          ],
          "name": "stdout"
        }
      ]
    },
    {
      "cell_type": "markdown",
      "metadata": {
        "id": "jxsBfWirA9ao",
        "colab_type": "text"
      },
      "source": [
        "# 8-1 TF-IDF 활용 핵심키워드 추출"
      ]
    },
    {
      "cell_type": "markdown",
      "metadata": {
        "id": "u8UYUNHDNMVp",
        "colab_type": "text"
      },
      "source": [
        "## 실습 1. sklearn 활용\n"
      ]
    },
    {
      "cell_type": "markdown",
      "metadata": {
        "id": "Of0dQ_ALpLw6",
        "colab_type": "text"
      },
      "source": [
        "### 1) 전처리"
      ]
    },
    {
      "cell_type": "code",
      "metadata": {
        "id": "tfGX-_IxAbgt",
        "colab_type": "code",
        "outputId": "fcbcb1b8-3c76-4b6a-e1ec-32d0d616d587",
        "colab": {
          "base_uri": "https://localhost:8080/",
          "height": 54
        }
      },
      "source": [
        "from konlpy.tag import Mecab\n",
        "mecab = Mecab()\n",
        "\n",
        "preprocessed_docs = []\n",
        "for doc in docs :\n",
        "  # 명사와 동사만으로 문서 전처리\n",
        "  preprocessed_docs.append(' '.join([token[0] for token in mecab.pos(doc) if token[1][0] in ['N', 'V']]))"
      ],
      "execution_count": 0,
      "outputs": [
        {
          "output_type": "execute_result",
          "data": {
            "text/plain": [
              "'부실 대응 도마 위 이용자 불만 폭주 아이 뉴스 민혜정 기자 페이스북 한나절 동안 접속 장애 겪 굴욕 겪 페이스북 장애 일어난지 하루 만 서비스 복구 공지 냈 이 영어 외 이용자 알 쉽 않 억 명 쓰 플랫 폼 업체 책임 대응 방식 이 질타 쏟아졌 일 페이스북 측 어제 서버 설정 변경 인해 연쇄 인 문제 발생 지난 시간 걸쳐 해당 이슈 해결 시스템 정상 복구 말 한국 시간 지난 일 새벽 시 시간 동안 페이스북 자회사 서비스 인 인 스타 그램 왓츠 앱 등 게시물 업로드 오류 메신저 접속 불능 앱 구동 실패 등 장애 일어났 미국 유럽 아시아 등지 대부분 국가 발생 페이스북 지난 일 간 동안 서비스 장애 겪 페이스북 페이스북 서버 설정 변경 탓 이 사고 원인 밝혔 정도 설명 통해선 정기 점검 이 시스템 개편 따른 장애 였 알 어려운 상황 이 페이스북 지난 월 페이스북 메신저 왓츠 앱 인 스타 그램 다이렉트 메시지 통합 계획 발표 바 있 작업 일환 탓 이 관측 나왔 인터넷 업계 관계자 서버 설정 변경 차원 있 때문 원인 때문 이 추정 어렵 복구 시간 봤 때 가볍 않 문제 였 것 보인다 말 앞서 페이스북 서비스 관리 잇단 허점 드러냈 지난해 월 소셜 로그인 개인 정보 유출 사태 천 만 명 피해 입 월 해킹 공격 당해 천만 이용자 개인 정보 유출 페이스북 인 스타 그램 접속 장애 일어나 했 업계 관계자 소셜 로그인 페이스북 갖 있 개인 정보 업체 넘어갈 위험 안 있 대량 고객 데이터 갖 있 서비스 인데 해킹 공격 주요 대상 될 수 밖 없 말 페이스북 부 서비스 동영상 서비스 늘리 있 서버 네트워크 부담 갈 수 밖 없 이 약점 드러내 있 덧붙였 페이스북 이번 사태 대응 기업 규모 걸맞 않 안일 방식 이 지적 나온다 페이스북 경쟁 인 트위터 통해 영어 번 오류 해결 경과 알렸 뿐 이 페이스북 한국 시간 일 오전 시 분 번 문제점 인지 있 공지 뒤 일 오전 시 분 번 디 도스 공격 아니 라는 입장 밝혔 마지막 서버 설정 변경 탓 이 문제 해결 트윗 이 번 공지 가 나간 뒤 시간 이상 지난 일 오전 시 분 문제 해결 입장 내놓 것 인 스타 그램 페이스북 복구 됐 서비스 정상 공지 트위터 우리 돌아왔 글 유명 오프라 윈프리 환호 사진 게재 빈축 샀 사태 인식 못한다고 있 이용자 비난 쏟아진 것 국내 이용자 언론 보도 외 한국어 된 공지 받 어려웠 서비스 먹통 되 페이스북 활용 온 광고주 소셜 로그인 활용 게임 업체 속 끓여야 했 정부 사태 파악 나섰 이후 행정 인 제재 내릴 가능 높 않 방송 통신 위원회 관계자 파악 중 이 이후 이용자 피해 현황 점검 볼 계획 말 전례 볼 때 해외 기업 서비스 문제 발생 소관 부처 인 방통 위나 과학 기술 정보 통신부 한국 지사 담당자 불러 관계 파악 피해 상황 점검 그치 경우 많 조사 단계 이르 서버 등 국내 없 제재 내리 쉽 않 제재 내리 행정 소송 응수 한다 방통 위 지난해 월 페이스북 접속 경로 임의 변경 통신 속도 떨어뜨렸 과징금 억 천 만 원 부과 페이스북 이 불복 행정소송 제기 업계 관계자 최근 대리인 제도 국회 통과 등 국내 해외 기업 책임 있 자세 요구 있 규제 적용 한계 있 국내 이용자 업체 손해 보 형국 말'"
            ]
          },
          "metadata": {
            "tags": []
          },
          "execution_count": 97
        }
      ]
    },
    {
      "cell_type": "code",
      "metadata": {
        "id": "lOeWfvkzYwN5",
        "colab_type": "code",
        "outputId": "99a26297-d311-4b27-9427-4e6dccc3ece1",
        "colab": {
          "base_uri": "https://localhost:8080/",
          "height": 54
        }
      },
      "source": [
        "preprocessed_docs[0]"
      ],
      "execution_count": 0,
      "outputs": [
        {
          "output_type": "execute_result",
          "data": {
            "text/plain": [
              "'개인 정보 수집 보고서 작성 조사 활동 앱 활용 가지 감시 유형 뒷문 출입 전기 써도 감시 대상 서울 연합뉴스 정재용 기자 중국 신장 新疆 위구르 웨 이우 자치구 당국 위구르 족 이슬람교 믿 소수 민족 대한 감시 위해 전용 모바일 애플리케이션 입 활용 있 것 알려졌 영국 일간 가디언 일 현지 시간 국제 인권 단체 휴먼 라이츠 워치 보고서 인용 신장 위구르 자치구 당국 이슬람교도 대한 광범위 감시망 하나 감시 전용 모바일 앱 활용 있 보도 중국 신장위 구르 자치구 내 교육 수용소 로이터 통신 사진 캡처 휴먼 라이츠 워치 따르 신장 위구르 자치구 당국 모바일 앱 이슬람교 소수 민족 대한 개인 정보 수집 감시 대상 대한 보고서 작성 조사 활동 하 데 활용 있 감시 전용 모바일 앱 신장위 구르 자치구 경찰 프로그램 인 통합 공동 운영 플랫 폼 연결 있 신장 위구르 자치구 지역 가동 있 광범위 감시망 일부분 이 신장 위구르 자치구 공안 당국 지역 내 곳곳 얼굴 인식 카메라 설치 검문소 설치 가정 건물 곳곳 감시 카메라 설치 등 광범위 감시망 가동 있 휴먼 라이츠 워치 독일 베를린 소재 보안 감시 전문 회사 인 큐어 도움 받 감시 전용 앱 시스템 역추적 밝혔 감시 전용 앱 중국 국유 기업 인 중국 전자 과기 집단 공사 中國 科 산하 자회사 년 개발 휴먼 라이츠 워치 전했 휴먼 라이츠 워치 마야 왕 중국 담당 선임 연구원 중국 정부 신장 위구르 자치구 주민 삶 모니터링 있 의심 가 사람 가려내 그 대한 추가 조사 하 있 말 감시 앱 당국 주의 기울여야 할 가지 개인 유형 분류 있 가지 유형 이웃 교류 않 앞문 이용 않 자 기간 출타 귀향 자 열성 모스크 금품 기부 자 이례 전기 사용 가정 등 유해 않 행위 포함 있 휴먼 라이츠 워치 전했 앱 공안 당국 의심 가 사람 추가 조사 데 활용 휴먼 라이츠 워치 전했 휴먼 라이츠 워치 신장 위구르 자치구 만 명 달하 위구르 족 소수 민족 이슬람교도 교육 수용소 수용 것 추정 중국 당국 교육 수용소 이슬람교도 대상 이슬람교 부정 공산당 대해 충성 세뇌 교육 하 하 이슬람교 금지 돼지고기 강제 먹 하 등 인권 탄압 하 있 국제 인권 단체 비판 있 중국 당국 교육 수용소 테러리즘 극단주의 대응 데 필요 인도 직업 교육 센터 주장 있 중국 국무원 문판 공실 지난 월 발표 신장 반 테러 극단주의 척결 투쟁 인권 보장 백서 통해 년 이후 신장 당국 천 개 폭력 테러리스트 조직 분쇄 만 천 명 테러리스트 검거 밝힌 바 있 네이버 홈 연합뉴스 채널 구독 하 놀 쇼 미 뉴스 본 뉴스 영상'"
            ]
          },
          "metadata": {
            "tags": []
          },
          "execution_count": 133
        }
      ]
    },
    {
      "cell_type": "markdown",
      "metadata": {
        "id": "JqZ9ONgLpOzv",
        "colab_type": "text"
      },
      "source": [
        "### 2) TF-IDF 계산"
      ]
    },
    {
      "cell_type": "code",
      "metadata": {
        "id": "Okub07GQ-KJe",
        "colab_type": "code",
        "outputId": "d65e4392-38df-4a53-f20d-95bb61fe7b78",
        "colab": {
          "base_uri": "https://localhost:8080/",
          "height": 34
        }
      },
      "source": [
        "from sklearn.feature_extraction.text import CountVectorizer\n",
        "\n",
        "count_vectorizer = CountVectorizer(max_df=0.85, max_features=10000)\n",
        "word_count_vector = count_vectorizer.fit_transform(preprocessed_docs)\n",
        "list(cv.vocabulary_.keys())[:10]"
      ],
      "execution_count": 0,
      "outputs": [
        {
          "output_type": "execute_result",
          "data": {
            "text/plain": [
              "['개인', '정보', '수집', '보고서', '작성', '조사', '활동', '활용', '가지', '감시']"
            ]
          },
          "metadata": {
            "tags": []
          },
          "execution_count": 68
        }
      ]
    },
    {
      "cell_type": "code",
      "metadata": {
        "id": "em3l3IS5kRP-",
        "colab_type": "code",
        "outputId": "ea7dca5a-46f5-41e4-f1a7-9689311b3d3f",
        "colab": {
          "base_uri": "https://localhost:8080/",
          "height": 34
        }
      },
      "source": [
        "from sklearn.feature_extraction.text import TfidfTransformer\n",
        "\n",
        "tfidf_transformer = TfidfTransformer(smooth_idf=True, use_idf=True)\n",
        "tfidf_transformer.fit(word_count_vector)"
      ],
      "execution_count": 0,
      "outputs": [
        {
          "output_type": "execute_result",
          "data": {
            "text/plain": [
              "TfidfTransformer(norm='l2', smooth_idf=True, sublinear_tf=False, use_idf=True)"
            ]
          },
          "metadata": {
            "tags": []
          },
          "execution_count": 69
        }
      ]
    },
    {
      "cell_type": "markdown",
      "metadata": {
        "id": "an6Cngd2Cwjg",
        "colab_type": "text"
      },
      "source": [
        "### 3) 핵심키워드 추출"
      ]
    },
    {
      "cell_type": "code",
      "metadata": {
        "id": "yKrcZ9rh-5Rt",
        "colab_type": "code",
        "colab": {}
      },
      "source": [
        "def sort_keywords(coo):\n",
        "    return sorted(zip(coo.col, coo.data), key=lambda x: (x[1], x[0]), reverse=True)\n",
        " \n",
        "def extract_keywords(feature_names, sorted_keywords, n=5):\n",
        "    return [(feature_names[idx], score) for idx, score in sorted_keywords[:n]]"
      ],
      "execution_count": 0,
      "outputs": []
    },
    {
      "cell_type": "code",
      "metadata": {
        "id": "u_8wXmex-1gr",
        "colab_type": "code",
        "outputId": "bd56be2e-66ba-4730-8c73-2819692cc467",
        "colab": {
          "base_uri": "https://localhost:8080/",
          "height": 207
        }
      },
      "source": [
        "doc_num = 50\n",
        "doc = preprocessed_docs[doc_num] # 핵심키워드 추출할 문서 조회\n",
        "\n",
        "feature_names = count_vectorizer.get_feature_names() # TF-IDF 단어 목록\n",
        "tf_idf_vector = tfidf_transformer.transform(count_vectorizer.transform([doc])) # 문서의 tf-idf 추출\n",
        "sorted_keywords = sort_keywords(tf_idf_vector.tocoo()) # TF-IDF를 기준으로 역순 정렬\n",
        " \n",
        "# 사용자가 지정한 갯수만큼 키워드 추출\n",
        "keywords = extract_keywords(feature_names, sorted_keywords, 5)\n",
        " \n",
        "print(\"\\n===== 원문 =====\")\n",
        "print(docs[doc_num])\n",
        "print(\"\\n=== 핵심키워드 ===\")\n",
        "for k in keywords:\n",
        "    print(k)"
      ],
      "execution_count": 0,
      "outputs": [
        {
          "output_type": "stream",
          "text": [
            "\n",
            "===== 원문 =====\n",
            "과기정통부, 22일 유영민 장관 등 참석해 기념행사 2021년까지 1516억원 투입, 5100여종 데이터 구축 민간 클라우드 통한 외부연계체계도..\"개방성 강화\" [이데일리 이재운 기자] 국가 차원의 빅데이터 활용 시대가 열린다. 새로운 산업 창출과 기존 산업의 변화에 이르는 ‘혁신성장’을 위한 센터가 문을 연다. 10개 분야에 걸쳐 ‘데이터 경제’의 발전을 위한 정부의 청사진을 현실로 구현하는데 앞장선다는 계획이다. 22일 과학기술정보통신부는 서울 중구 대한상공회의소에서 데이터 생태계 조성과 혁신 성장의 기반 마련을 위한 ‘빅데이터 플랫폼 및 센터’ 출범식 행사를 개최했다. 유영민 과기정통부 장관을 비롯해 노웅래 국회 과학기술정보방송통신위원회 위원장 등 300여명이 참가했다. ◇10개 분야 100개 센터..3년간 1516억원 투입 이미지: 픽사베이 빅데이터는 데이터 활용을 통해 혁신성장을 이루자는 문재인 정부의 경제 성장 핵심 요소중 하나다. 문재인 대통령이 직접 올 들어 데이터 활용과 이에 따른 정보보호(보안)에 대한 중요성을 강조하기도 했다. 이런 맥락 속에서 빅데이터센터는 공공과 민간이 협업해 활용도 높은 양질의 데이터를 생산·구축하고, 플랫폼은 이를 수집·분석·유통하는 역할을 담당한다. 과기정통부는 분야별 플랫폼 10개소와 이와 연계된 기관별 센터 100개소를 구축하는데 3년간 총 1516억원을 투입할 계획이며, 올해 우선 640억원 규모의 사업을 추진하고 있다. 대상 분야는 △금융(BC카드) △환경(한국수자원공사) △문화(한국문화정보원) △교통(한국교통연구원) △헬스케어(국립암센터) △유통·소비(매일방송) △통신(KT) △중소기업(더존비즈온) △지역경제(경기도청) △산림(한국임업진흥원) 등으로 현재 1차 공모를 통해 72개 빅데이터 센터를 선정했고, 다음달 8일까지 2차 공모를 통해 28개를 추가 선정해 총 100개를 지원, 운영할 계획이다. 이를 통해 데이터 생태계를 혁신하고 기업의 경쟁력을 제고하는 역할을 수행한다. 주요 활용 전략·사례를 보면 빅데이터 활용을 통해 ‘신(新) 시장’을 창출하는 방안을 담고 있다. 금융 플랫폼의 경우 소상공인 신용평가 고도화 등을 통해 금융 취약 계층 대상 중금리 대출이자를 2%p 절감해 연간 1조원의 신규대출을 창출할 전망이다. 유통·소비와 중소기업 플랫폼은 소상공인이나 중소기업의 폐업률 감소를, 문화 플랫폼은 문화·예술 관람률과 생활체육 참여율을 높이는 방안을 모색한다. 의료비 절감(헬스케어)과 기업의 매출 향상을 통한 산업 육성(통신·산림) 등도 눈길을 끈다. 과기정통부 제공 ◇2021년까지 5100여종 데이터 구축..AI 알고리즘 제공도 센터는 우선 분야별 데이터 부족 문제를 해소하기 위해 올해 말까지 시장 수요가 높은 1400여종 신규 데이터를 생산ㆍ구축하고, 사업이 완료되는 2021년까지 총 5100여종 양질의 풍부한 데이터를 생산·구축해 시장에 공급할 계획이다. 특히 공공과 민간 사이 데이터 파일형식 등이 달라 호환이 제대로 이뤄지지 못한 문제를 해소하기 위해 개방형 표준을 적용하고, 품질관리기준도 마련해 운영한다. 기업들이 실제 활용 가능한 최신 데이터를 확보하는데도 수개월이 소요된다는 문제점을 개선하기 위한 방안도 추진한다. 센터와 플랫폼 간 연계체계에는 민간 클라우드를 기반으로 활용하고, 센터에 축적된 데이터도 계속 외부와 개방·공유하며 최신·연속성을 확보한다는 계획이다. 100개 센터에서 수집된 데이터를 융합·분석한 뒤 맞춤형 데이터 제작 등 양질의 데이터로 재생산하고, 기업들이 필요로 하는 데이터를 원하는 형태로 즉시 활용할 수 있도록 제공할 계획이다. 다양한 분석 도구는 물론 인공지능(AI) 학습 알고리즘도 제공해 이용자가 보다 사용하기 편리한 환경을 제공한다. 이밖에 필요한 데이터를 쉽게 등록하고 검색할 수 있도록 기준을 마련하고, 데이터 보유와 관리에 대한 체계(거버넌스)를 논의하는 ‘데이터 얼라이언스’를 구성해 보다 안전하게 이용하는 방안도 마련했다. 유영민 과기정통부 장관은 “오늘 출범식은 대한민국이 데이터 강국으로 가기 위한 초석을 놓은 자리”라며 “세계 주요국들보다 데이터 경제로 나아가는 발걸음이 다소 늦었지만, 빅데이터 플랫폼과 센터를 지렛대로 우리나라의 낙후된 데이터 생태계를 혁신하고 기업의 경쟁력을 한 단계 제고할 수 있도록 정책적 역량을 집중하겠다”고 밝혔다. 이재운 (jwlee@edaily.co.kr) 네이버 홈에서 ‘이데일리’ 뉴스 [구독하기▶] 꿀잼가득 [영상보기▶] , 청춘뉘우스~ [스냅타임▶] ＜ⓒ종합 경제정보 미디어 이데일리 - 무단전재 & 재배포 금지＞\n",
            "\n",
            "=== 핵심키워드 ===\n",
            "('데이터', 0.6051843216101871)\n",
            "('센터', 0.21014561385875455)\n",
            "('활용', 0.16727861454293114)\n",
            "('정통부', 0.15964707982143292)\n",
            "('과기', 0.1581082892197962)\n"
          ],
          "name": "stdout"
        }
      ]
    },
    {
      "cell_type": "code",
      "metadata": {
        "id": "8KvZCsYFZE21",
        "colab_type": "code",
        "outputId": "6b88b5c8-8a4b-4638-935b-9aa72ffaea72",
        "colab": {
          "base_uri": "https://localhost:8080/",
          "height": 425
        }
      },
      "source": [
        "tf_idf_vector.tocoo().col"
      ],
      "execution_count": 0,
      "outputs": [
        {
          "output_type": "execute_result",
          "data": {
            "text/plain": [
              "array([9980, 9892, 9863, 9839, 9831, 9765, 9733, 9730, 9720, 9692, 9679,\n",
              "       9677, 9646, 9632, 9621, 9589, 9441, 9426, 9363, 9357, 9345, 9302,\n",
              "       9301, 9242, 9218, 9114, 9087, 8986, 8871, 8847, 8845, 8828, 8826,\n",
              "       8696, 8650, 8553, 8458, 8395, 8350, 8327, 8314, 8294, 8271, 8215,\n",
              "       8184, 8178, 8172, 8156, 8066, 8047, 8045, 8037, 8010, 7979, 7854,\n",
              "       7846, 7813, 7737, 7726, 7702, 7643, 7599, 7528, 7462, 7434, 7433,\n",
              "       7419, 7412, 7376, 7375, 7374, 7301, 7288, 7268, 7221, 7215, 7180,\n",
              "       7048, 6965, 6887, 6726, 6666, 6648, 6644, 6597, 6584, 6580, 6565,\n",
              "       6483, 6444, 6435, 6416, 6389, 6315, 6313, 6302, 6301, 6253, 6178,\n",
              "       6152, 6145, 6111, 6085, 6051, 6031, 5935, 5917, 5870, 5838, 5793,\n",
              "       5765, 5757, 5749, 5747, 5746, 5732, 5716, 5609, 5544, 5416, 5204,\n",
              "       5139, 5103, 5045, 5003, 4862, 4811, 4795, 4785, 4772, 4708, 4623,\n",
              "       4604, 4599, 4548, 4493, 4476, 4408, 4334, 4297, 4294, 4293, 4281,\n",
              "       4246, 4173, 4124, 4116, 4077, 4063, 4051, 4020, 3947, 3820, 3815,\n",
              "       3755, 3643, 3607, 3598, 3550, 3498, 3392, 3336, 3330, 3310, 3291,\n",
              "       3256, 3103, 3058, 3022, 3014, 3013, 3012, 3011, 2961, 2944, 2873,\n",
              "       2749, 2743, 2736, 2717, 2619, 2423, 2378, 2342, 2103, 2098, 2095,\n",
              "       2056, 2055, 2041, 2036, 1993, 1889, 1863, 1830, 1807, 1730, 1720,\n",
              "       1690, 1660, 1630, 1584, 1410, 1358, 1244, 1242, 1231, 1218, 1204,\n",
              "       1185, 1162, 1149, 1124, 1120, 1114, 1024,  979,  923,  920,  914,\n",
              "        893,  872,  850,  752,  747,  732,  710,  677,  675,  654,  645,\n",
              "        631,  624,  524,  507,  506,  460,  456,  452,  423,  345,  338,\n",
              "        275,  245,  228,  225,  222,  204,  196,  165,  141,   13],\n",
              "      dtype=int32)"
            ]
          },
          "metadata": {
            "tags": []
          },
          "execution_count": 138
        }
      ]
    },
    {
      "cell_type": "code",
      "metadata": {
        "id": "kUVTXBYrZMiU",
        "colab_type": "code",
        "outputId": "83191f6a-6465-4b04-f7b3-55ec187648f1",
        "colab": {
          "base_uri": "https://localhost:8080/",
          "height": 884
        }
      },
      "source": [
        "tf_idf_vector.tocoo().data"
      ],
      "execution_count": 0,
      "outputs": [
        {
          "output_type": "execute_result",
          "data": {
            "text/plain": [
              "array([0.02818237, 0.03673488, 0.16727861, 0.03921881, 0.04281563,\n",
              "       0.03840193, 0.02535626, 0.03203574, 0.02655687, 0.02647408,\n",
              "       0.10954454, 0.031825  , 0.02570544, 0.02035989, 0.02283968,\n",
              "       0.05148309, 0.05634015, 0.03114248, 0.02043187, 0.03476527,\n",
              "       0.03985823, 0.02823783, 0.15763613, 0.02796572, 0.02901161,\n",
              "       0.01927958, 0.02807304, 0.03005539, 0.08342517, 0.07841916,\n",
              "       0.04737842, 0.02740859, 0.06391756, 0.0230863 , 0.05462562,\n",
              "       0.03162166, 0.02703461, 0.03069992, 0.07891687, 0.03438531,\n",
              "       0.03887209, 0.01958432, 0.05841173, 0.04310106, 0.03454856,\n",
              "       0.07546925, 0.02419342, 0.041808  , 0.08179652, 0.01829877,\n",
              "       0.02023252, 0.02651533, 0.02581444, 0.02295048, 0.01683579,\n",
              "       0.01694587, 0.04310106, 0.0211398 , 0.08237125, 0.02698951,\n",
              "       0.03916864, 0.01952207, 0.02465494, 0.02306344, 0.06419339,\n",
              "       0.06026429, 0.15964708, 0.0196346 , 0.03471403, 0.03779139,\n",
              "       0.06306007, 0.05995929, 0.02818237, 0.012291  , 0.02014915,\n",
              "       0.02099432, 0.01987957, 0.05999799, 0.02110716, 0.04387485,\n",
              "       0.02499499, 0.08057534, 0.02528887, 0.01925588, 0.02552822,\n",
              "       0.02676915, 0.03454856, 0.03013215, 0.04310106, 0.02961507,\n",
              "       0.02807304, 0.07979612, 0.11725335, 0.02704436, 0.07628517,\n",
              "       0.01865008, 0.02176126, 0.03132942, 0.03500745, 0.02456556,\n",
              "       0.03248171, 0.02765522, 0.05397903, 0.02818237, 0.0340034 ,\n",
              "       0.02577788, 0.02858217, 0.01653972, 0.02907564, 0.0279128 ,\n",
              "       0.03284027, 0.02402941, 0.0796706 , 0.02840744, 0.0437062 ,\n",
              "       0.02588826, 0.15116556, 0.041808  , 0.10466857, 0.0669841 ,\n",
              "       0.02456556, 0.03248171, 0.04748053, 0.05020623, 0.02379178,\n",
              "       0.02444849, 0.02509131, 0.06011079, 0.04125571, 0.02596303,\n",
              "       0.03985823, 0.03172244, 0.03563827, 0.05777126, 0.21014561,\n",
              "       0.01814054, 0.04043709, 0.04419784, 0.01084497, 0.02239615,\n",
              "       0.07050362, 0.02812745, 0.09337556, 0.01995914, 0.06285041,\n",
              "       0.05759115, 0.0781689 , 0.02379178, 0.01761848, 0.03395541,\n",
              "       0.02368921, 0.03627105, 0.09979568, 0.0578744 , 0.02535626,\n",
              "       0.02266669, 0.0236386 , 0.02444849, 0.02198417, 0.03525181,\n",
              "       0.01209526, 0.09016101, 0.04541891, 0.01193259, 0.02202216,\n",
              "       0.03908445, 0.10622747, 0.0204755 , 0.08310013, 0.03392149,\n",
              "       0.03604929, 0.02322538, 0.02812745, 0.01222736, 0.02690036,\n",
              "       0.03005539, 0.0369815 , 0.0247763 , 0.041808  , 0.02786036,\n",
              "       0.0758701 , 0.02304067, 0.02301799, 0.02643313, 0.03284027,\n",
              "       0.06205061, 0.60518432, 0.02512377, 0.04243042, 0.01962199,\n",
              "       0.0630452 , 0.03486844, 0.0256339 , 0.03840193, 0.02453607,\n",
              "       0.02128903, 0.01257141, 0.031825  , 0.02490025, 0.02292815,\n",
              "       0.04241854, 0.01139367, 0.03096138, 0.03627105, 0.03789013,\n",
              "       0.01950971, 0.00899257, 0.08114962, 0.03379687, 0.03978552,\n",
              "       0.03908445, 0.01993249, 0.01178087, 0.06396817, 0.03114248,\n",
              "       0.01919705, 0.0208524 , 0.01927958, 0.02659871, 0.12991769,\n",
              "       0.01974935, 0.01090064, 0.05397903, 0.03811649, 0.03271827,\n",
              "       0.04541891, 0.15810829, 0.03142521, 0.02341617, 0.02588826,\n",
              "       0.0607374 , 0.02419342, 0.04849828, 0.02947543, 0.09914965,\n",
              "       0.03192942, 0.07103725, 0.05044453, 0.0173912 , 0.02515642,\n",
              "       0.03087291, 0.02823783, 0.03985823, 0.0204755 , 0.06671139,\n",
              "       0.02027467, 0.09062979, 0.01925588, 0.01953447, 0.0369815 ,\n",
              "       0.02416576, 0.01515707])"
            ]
          },
          "metadata": {
            "tags": []
          },
          "execution_count": 139
        }
      ]
    },
    {
      "cell_type": "markdown",
      "metadata": {
        "id": "lwQjPYuxNy4K",
        "colab_type": "text"
      },
      "source": [
        "\n",
        "---\n"
      ]
    },
    {
      "cell_type": "markdown",
      "metadata": {
        "colab_type": "text",
        "id": "XTNnFrNhOrA3"
      },
      "source": [
        "## 실습 2. gensim 활용\n"
      ]
    },
    {
      "cell_type": "markdown",
      "metadata": {
        "colab_type": "text",
        "id": "aE-YzDI6OrA5"
      },
      "source": [
        "### 1) 전처리"
      ]
    },
    {
      "cell_type": "code",
      "metadata": {
        "colab_type": "code",
        "id": "edVMwQBuOrA6",
        "colab": {}
      },
      "source": [
        "from konlpy.tag import Mecab\n",
        "mecab = Mecab()\n",
        "\n",
        "preprocessed_docs = []\n",
        "for doc in docs :\n",
        "  # 명사와 동사만으로 문서 전처리\n",
        "  preprocessed_docs.append(' '.join([token[0] for token in mecab.pos(doc) if token[1][0] in ['N', 'V']]))"
      ],
      "execution_count": 0,
      "outputs": []
    },
    {
      "cell_type": "markdown",
      "metadata": {
        "colab_type": "text",
        "id": "cWGsCRJUOrA8"
      },
      "source": [
        "### 2) TF-IDF 계산"
      ]
    },
    {
      "cell_type": "code",
      "metadata": {
        "colab_type": "code",
        "outputId": "973ab7be-58aa-4773-c977-563565972737",
        "id": "H-SxIw5rQx-y",
        "colab": {
          "base_uri": "https://localhost:8080/",
          "height": 54
        }
      },
      "source": [
        "preprocessed_docs[0]"
      ],
      "execution_count": 0,
      "outputs": [
        {
          "output_type": "execute_result",
          "data": {
            "text/plain": [
              "'개인 정보 수집 보고서 작성 조사 활동 앱 활용 가지 감시 유형 뒷문 출입 전기 써도 감시 대상 서울 연합뉴스 정재용 기자 중국 신장 新疆 위구르 웨 이우 자치구 당국 위구르 족 이슬람교 믿 소수 민족 대한 감시 위해 전용 모바일 애플리케이션 입 활용 있 것 알려졌 영국 일간 가디언 일 현지 시간 국제 인권 단체 휴먼 라이츠 워치 보고서 인용 신장 위구르 자치구 당국 이슬람교도 대한 광범위 감시망 하나 감시 전용 모바일 앱 활용 있 보도 중국 신장위 구르 자치구 내 교육 수용소 로이터 통신 사진 캡처 휴먼 라이츠 워치 따르 신장 위구르 자치구 당국 모바일 앱 이슬람교 소수 민족 대한 개인 정보 수집 감시 대상 대한 보고서 작성 조사 활동 하 데 활용 있 감시 전용 모바일 앱 신장위 구르 자치구 경찰 프로그램 인 통합 공동 운영 플랫 폼 연결 있 신장 위구르 자치구 지역 가동 있 광범위 감시망 일부분 이 신장 위구르 자치구 공안 당국 지역 내 곳곳 얼굴 인식 카메라 설치 검문소 설치 가정 건물 곳곳 감시 카메라 설치 등 광범위 감시망 가동 있 휴먼 라이츠 워치 독일 베를린 소재 보안 감시 전문 회사 인 큐어 도움 받 감시 전용 앱 시스템 역추적 밝혔 감시 전용 앱 중국 국유 기업 인 중국 전자 과기 집단 공사 中國 科 산하 자회사 년 개발 휴먼 라이츠 워치 전했 휴먼 라이츠 워치 마야 왕 중국 담당 선임 연구원 중국 정부 신장 위구르 자치구 주민 삶 모니터링 있 의심 가 사람 가려내 그 대한 추가 조사 하 있 말 감시 앱 당국 주의 기울여야 할 가지 개인 유형 분류 있 가지 유형 이웃 교류 않 앞문 이용 않 자 기간 출타 귀향 자 열성 모스크 금품 기부 자 이례 전기 사용 가정 등 유해 않 행위 포함 있 휴먼 라이츠 워치 전했 앱 공안 당국 의심 가 사람 추가 조사 데 활용 휴먼 라이츠 워치 전했 휴먼 라이츠 워치 신장 위구르 자치구 만 명 달하 위구르 족 소수 민족 이슬람교도 교육 수용소 수용 것 추정 중국 당국 교육 수용소 이슬람교도 대상 이슬람교 부정 공산당 대해 충성 세뇌 교육 하 하 이슬람교 금지 돼지고기 강제 먹 하 등 인권 탄압 하 있 국제 인권 단체 비판 있 중국 당국 교육 수용소 테러리즘 극단주의 대응 데 필요 인도 직업 교육 센터 주장 있 중국 국무원 문판 공실 지난 월 발표 신장 반 테러 극단주의 척결 투쟁 인권 보장 백서 통해 년 이후 신장 당국 천 개 폭력 테러리스트 조직 분쇄 만 천 명 테러리스트 검거 밝힌 바 있 네이버 홈 연합뉴스 채널 구독 하 놀 쇼 미 뉴스 본 뉴스 영상'"
            ]
          },
          "metadata": {
            "tags": []
          },
          "execution_count": 108
        }
      ]
    },
    {
      "cell_type": "code",
      "metadata": {
        "colab_type": "code",
        "id": "NCUzeqp3OrA9",
        "colab": {}
      },
      "source": [
        "from gensim.models import TfidfModel\n",
        "from gensim.corpora import Dictionary\n",
        "\n",
        "document_ls = [doc.split() for doc in preprocessed_docs]\n",
        "dct = Dictionary(document_ls) # 인덱스(key) - 단어(valuue) 인 딕셔너리 생성\n",
        "corpus = [dct.doc2bow(doc) for doc in document_ls] # 각 문서에 포함된 단어를 인덱스로 변환하여 corpus 생성\n",
        "tfidf = TfidfModel(corpus) # TF-IDF 산출"
      ],
      "execution_count": 0,
      "outputs": []
    },
    {
      "cell_type": "markdown",
      "metadata": {
        "colab_type": "text",
        "id": "wBT2h57bOrBF"
      },
      "source": [
        "### 3) 핵심키워드 추출"
      ]
    },
    {
      "cell_type": "code",
      "metadata": {
        "id": "Xk0Tbo21RddA",
        "colab_type": "code",
        "colab": {}
      },
      "source": [
        "def sort_keywords(tfidf):\n",
        "    return sorted(tfidf, key=lambda x: (x[1], x[0]), reverse=True)\n",
        "\n",
        "def extract_keywords(feature_names, sorted_keywords, n=5):\n",
        "    return [(feature_names[idx], score) for idx, score in sorted_keywords[:n]]"
      ],
      "execution_count": 0,
      "outputs": []
    },
    {
      "cell_type": "code",
      "metadata": {
        "id": "_8T0QSKVRfUt",
        "colab_type": "code",
        "outputId": "a146fae4-a91d-430a-b312-977a0b53e738",
        "colab": {
          "base_uri": "https://localhost:8080/",
          "height": 207
        }
      },
      "source": [
        "doc_num = 50\n",
        "doc = corpus[doc_num]\n",
        "\n",
        "sorted_keywords = sort_keywords(tfidf[doc]) # TF-IDF를 기준으로 역순 정렬\n",
        "\n",
        "# 사용자가 지정한 갯수만큼 키워드 추출\n",
        "keywords = extract_keywords(dct, sorted_keywords, 5)\n",
        "\n",
        "#print(\"\\n===== 원문 =====\")\n",
        "#print(docs[doc_num])\n",
        "print(\"\\n=== 핵심키워드 ===\")\n",
        "for k in keywords:\n",
        "    print(k)"
      ],
      "execution_count": 0,
      "outputs": [
        {
          "output_type": "stream",
          "text": [
            "\n",
            "===== 원문 =====\n",
            "과기정통부, 22일 유영민 장관 등 참석해 기념행사 2021년까지 1516억원 투입, 5100여종 데이터 구축 민간 클라우드 통한 외부연계체계도..\"개방성 강화\" [이데일리 이재운 기자] 국가 차원의 빅데이터 활용 시대가 열린다. 새로운 산업 창출과 기존 산업의 변화에 이르는 ‘혁신성장’을 위한 센터가 문을 연다. 10개 분야에 걸쳐 ‘데이터 경제’의 발전을 위한 정부의 청사진을 현실로 구현하는데 앞장선다는 계획이다. 22일 과학기술정보통신부는 서울 중구 대한상공회의소에서 데이터 생태계 조성과 혁신 성장의 기반 마련을 위한 ‘빅데이터 플랫폼 및 센터’ 출범식 행사를 개최했다. 유영민 과기정통부 장관을 비롯해 노웅래 국회 과학기술정보방송통신위원회 위원장 등 300여명이 참가했다. ◇10개 분야 100개 센터..3년간 1516억원 투입 이미지: 픽사베이 빅데이터는 데이터 활용을 통해 혁신성장을 이루자는 문재인 정부의 경제 성장 핵심 요소중 하나다. 문재인 대통령이 직접 올 들어 데이터 활용과 이에 따른 정보보호(보안)에 대한 중요성을 강조하기도 했다. 이런 맥락 속에서 빅데이터센터는 공공과 민간이 협업해 활용도 높은 양질의 데이터를 생산·구축하고, 플랫폼은 이를 수집·분석·유통하는 역할을 담당한다. 과기정통부는 분야별 플랫폼 10개소와 이와 연계된 기관별 센터 100개소를 구축하는데 3년간 총 1516억원을 투입할 계획이며, 올해 우선 640억원 규모의 사업을 추진하고 있다. 대상 분야는 △금융(BC카드) △환경(한국수자원공사) △문화(한국문화정보원) △교통(한국교통연구원) △헬스케어(국립암센터) △유통·소비(매일방송) △통신(KT) △중소기업(더존비즈온) △지역경제(경기도청) △산림(한국임업진흥원) 등으로 현재 1차 공모를 통해 72개 빅데이터 센터를 선정했고, 다음달 8일까지 2차 공모를 통해 28개를 추가 선정해 총 100개를 지원, 운영할 계획이다. 이를 통해 데이터 생태계를 혁신하고 기업의 경쟁력을 제고하는 역할을 수행한다. 주요 활용 전략·사례를 보면 빅데이터 활용을 통해 ‘신(新) 시장’을 창출하는 방안을 담고 있다. 금융 플랫폼의 경우 소상공인 신용평가 고도화 등을 통해 금융 취약 계층 대상 중금리 대출이자를 2%p 절감해 연간 1조원의 신규대출을 창출할 전망이다. 유통·소비와 중소기업 플랫폼은 소상공인이나 중소기업의 폐업률 감소를, 문화 플랫폼은 문화·예술 관람률과 생활체육 참여율을 높이는 방안을 모색한다. 의료비 절감(헬스케어)과 기업의 매출 향상을 통한 산업 육성(통신·산림) 등도 눈길을 끈다. 과기정통부 제공 ◇2021년까지 5100여종 데이터 구축..AI 알고리즘 제공도 센터는 우선 분야별 데이터 부족 문제를 해소하기 위해 올해 말까지 시장 수요가 높은 1400여종 신규 데이터를 생산ㆍ구축하고, 사업이 완료되는 2021년까지 총 5100여종 양질의 풍부한 데이터를 생산·구축해 시장에 공급할 계획이다. 특히 공공과 민간 사이 데이터 파일형식 등이 달라 호환이 제대로 이뤄지지 못한 문제를 해소하기 위해 개방형 표준을 적용하고, 품질관리기준도 마련해 운영한다. 기업들이 실제 활용 가능한 최신 데이터를 확보하는데도 수개월이 소요된다는 문제점을 개선하기 위한 방안도 추진한다. 센터와 플랫폼 간 연계체계에는 민간 클라우드를 기반으로 활용하고, 센터에 축적된 데이터도 계속 외부와 개방·공유하며 최신·연속성을 확보한다는 계획이다. 100개 센터에서 수집된 데이터를 융합·분석한 뒤 맞춤형 데이터 제작 등 양질의 데이터로 재생산하고, 기업들이 필요로 하는 데이터를 원하는 형태로 즉시 활용할 수 있도록 제공할 계획이다. 다양한 분석 도구는 물론 인공지능(AI) 학습 알고리즘도 제공해 이용자가 보다 사용하기 편리한 환경을 제공한다. 이밖에 필요한 데이터를 쉽게 등록하고 검색할 수 있도록 기준을 마련하고, 데이터 보유와 관리에 대한 체계(거버넌스)를 논의하는 ‘데이터 얼라이언스’를 구성해 보다 안전하게 이용하는 방안도 마련했다. 유영민 과기정통부 장관은 “오늘 출범식은 대한민국이 데이터 강국으로 가기 위한 초석을 놓은 자리”라며 “세계 주요국들보다 데이터 경제로 나아가는 발걸음이 다소 늦었지만, 빅데이터 플랫폼과 센터를 지렛대로 우리나라의 낙후된 데이터 생태계를 혁신하고 기업의 경쟁력을 한 단계 제고할 수 있도록 정책적 역량을 집중하겠다”고 밝혔다. 이재운 (jwlee@edaily.co.kr) 네이버 홈에서 ‘이데일리’ 뉴스 [구독하기▶] 꿀잼가득 [영상보기▶] , 청춘뉘우스~ [스냅타임▶] ＜ⓒ종합 경제정보 미디어 이데일리 - 무단전재 & 재배포 금지＞\n",
            "\n",
            "=== 핵심키워드 ===\n",
            "('데이터', 0.5422023031674827)\n",
            "('센터', 0.1865296230644992)\n",
            "('정통부', 0.16702809038367816)\n",
            "('과기', 0.16503376007952408)\n",
            "('여종', 0.1644458485859292)\n"
          ],
          "name": "stdout"
        }
      ]
    },
    {
      "cell_type": "code",
      "metadata": {
        "id": "8gBGnkhCZSlw",
        "colab_type": "code",
        "outputId": "0ba00fe0-2adb-4df1-b84e-1c4b41595e80",
        "colab": {
          "base_uri": "https://localhost:8080/",
          "height": 1000
        }
      },
      "source": [
        "tfidf[doc]"
      ],
      "execution_count": 0,
      "outputs": [
        {
          "output_type": "execute_result",
          "data": {
            "text/plain": [
              "[(3, 0.01337327749910916),\n",
              " (12, 0.07961836859132126),\n",
              " (22, 0.025626768965769035),\n",
              " (26, 0.16503376007952408),\n",
              " (30, 0.0065023328846374965),\n",
              " (38, 0.0076235248341356456),\n",
              " (42, 0.06646178242882343),\n",
              " (44, 0.0040721906269567615),\n",
              " (46, 0.007130323730948768),\n",
              " (47, 0.036159323472858225),\n",
              " (49, 0.008630567601833113),\n",
              " (52, 0.025300907946158153),\n",
              " (54, 0.029655197766370538),\n",
              " (56, 0.03190024983646517),\n",
              " (58, 0.046128012705960036),\n",
              " (63, 0.026379329226690052),\n",
              " (69, 0.0075574720138512855),\n",
              " (71, 0.011387854764851893),\n",
              " (83, 0.007816788935358652),\n",
              " (89, 0.023783350118042373),\n",
              " (97, 0.015062526584036184),\n",
              " (101, 0.006431431569247853),\n",
              " (105, 0.1865296230644992),\n",
              " (111, 0.06196433926912652),\n",
              " (125, 0.023247238390293388),\n",
              " (129, 0.013687249354049597),\n",
              " (131, 0.029832430530027754),\n",
              " (136, 0.01968363885220424),\n",
              " (140, 0.03677579374920728),\n",
              " (144, 0.01715079936411847),\n",
              " (148, 0.009047835433745849),\n",
              " (153, 0.002950215325846557),\n",
              " (157, 0.0071047969319443394),\n",
              " (167, 0.050799200576934385),\n",
              " (168, 0.029458323012191753),\n",
              " (178, 0.014204990450456529),\n",
              " (184, 0.017569808031541415),\n",
              " (196, 0.05930099928380869),\n",
              " (198, 0.05559335618713609),\n",
              " (202, 0.1472152230435504),\n",
              " (204, 0.14921916524197915),\n",
              " (205, 0.029523656477597974),\n",
              " (206, 0.005728627662236958),\n",
              " (207, 0.018651334858354195),\n",
              " (211, 0.016626752477012632),\n",
              " (213, 0.14667290276365105),\n",
              " (219, 0.01192500789988974),\n",
              " (225, 0.03379737749534487),\n",
              " (227, 0.12126125762436539),\n",
              " (229, 0.01801405611584896),\n",
              " (230, 0.028289042107704714),\n",
              " (232, 0.02436149636556431),\n",
              " (236, 0.5422023031674827),\n",
              " (238, 0.026325135649334024),\n",
              " (244, 0.01798195795329225),\n",
              " (245, 0.05158859344674201),\n",
              " (246, 0.09024026302479314),\n",
              " (247, 0.15072702639641702),\n",
              " (250, 0.01625319087492736),\n",
              " (254, 0.0708747884844935),\n",
              " (267, 0.017946529556679608),\n",
              " (272, 0.01732783286399391),\n",
              " (274, 0.01406465856803478),\n",
              " (285, 0.028292115311282295),\n",
              " (288, 0.025392551672264358),\n",
              " (297, 0.025170336738595877),\n",
              " (299, 0.018707012293061206),\n",
              " (307, 0.08201043514204082),\n",
              " (311, 0.017075750648921077),\n",
              " (313, 0.035926706676773196),\n",
              " (316, 0.017474616709751895),\n",
              " (322, 0.03215223464120136),\n",
              " (326, 0.027951669436196237),\n",
              " (328, 0.01616382267256235),\n",
              " (332, 0.056917635603844136),\n",
              " (338, 0.0219541028265322),\n",
              " (342, 0.06713186078793595),\n",
              " (354, 0.031160878403867904),\n",
              " (357, 0.020681758273319424),\n",
              " (360, 0.02063322372272585),\n",
              " (370, 0.028491161024072193),\n",
              " (378, 0.03675816327063207),\n",
              " (384, 0.041810094461195),\n",
              " (389, 0.034122416918820196),\n",
              " (414, 0.04870837280684119),\n",
              " (416, 0.03262834983804691),\n",
              " (417, 0.06026199197651406),\n",
              " (421, 0.07961233364527862),\n",
              " (435, 0.03356593039396798),\n",
              " (443, 0.04485520259171796),\n",
              " (448, 0.03513961606308283),\n",
              " (455, 0.01593001780254241),\n",
              " (468, 0.04562434780040927),\n",
              " (474, 0.017181033935459937),\n",
              " (478, 0.028641812296964792),\n",
              " (483, 0.050877608037276485),\n",
              " (484, 0.10268551083193653),\n",
              " (488, 0.03979437892985842),\n",
              " (505, 0.04311961224347107),\n",
              " (533, 0.02855234058717964),\n",
              " (542, 0.16702809038367816),\n",
              " (549, 0.02757658153394941),\n",
              " (562, 0.026537444548426208),\n",
              " (566, 0.033508631486372106),\n",
              " (570, 0.011156660127924314),\n",
              " (577, 0.024202840249004813),\n",
              " (588, 0.018048052604958627),\n",
              " (591, 0.015728234964713133),\n",
              " (605, 0.025485348179852912),\n",
              " (612, 0.02675604498893168),\n",
              " (614, 0.024859025873763534),\n",
              " (624, 0.01845070574240305),\n",
              " (636, 0.02709659276123051),\n",
              " (648, 0.017780368814447767),\n",
              " (653, 0.09354469870325229),\n",
              " (657, 0.049547478169571925),\n",
              " (662, 0.017780368814447767),\n",
              " (674, 0.021839279884726934),\n",
              " (676, 0.023895411387913495),\n",
              " (681, 0.017474616709751895),\n",
              " (693, 0.022747460984535364),\n",
              " (694, 0.021505159760152298),\n",
              " (697, 0.022812173900204635),\n",
              " (709, 0.024606067660882726),\n",
              " (714, 0.04093164814975207),\n",
              " (716, 0.07945137529768057),\n",
              " (737, 0.018290518445871),\n",
              " (744, 0.03476127609855084),\n",
              " (751, 0.029637142472922772),\n",
              " (753, 0.042235844909771884),\n",
              " (757, 0.021726216750919826),\n",
              " (764, 0.024689427023309483),\n",
              " (765, 0.053574668704074464),\n",
              " (770, 0.04705661906302288),\n",
              " (772, 0.022463078768496063),\n",
              " (805, 0.023933146636845724),\n",
              " (809, 0.05997855012226463),\n",
              " (812, 0.1644458485859292),\n",
              " (823, 0.08291651090214422),\n",
              " (839, 0.02857053420545352),\n",
              " (841, 0.023421648997683737),\n",
              " (844, 0.017506210869738532),\n",
              " (845, 0.01715079936411847),\n",
              " (846, 0.01845070574240305),\n",
              " (850, 0.014772749373408285),\n",
              " (859, 0.019188096991665102),\n",
              " (866, 0.024523639707469427),\n",
              " (870, 0.023933146636845724),\n",
              " (880, 0.008192279065383744),\n",
              " (881, 0.018707012293061206),\n",
              " (886, 0.04311961224347107),\n",
              " (887, 0.08537443291861392),\n",
              " (890, 0.008024003730538859),\n",
              " (900, 0.03908687976514074),\n",
              " (902, 0.05122725194676324),\n",
              " (906, 0.08948267892153292),\n",
              " (908, 0.023783350118042373),\n",
              " (922, 0.021211632883880678),\n",
              " (927, 0.023933146636845724),\n",
              " (930, 0.016378058419270074),\n",
              " (948, 0.024731462607590116),\n",
              " (949, 0.008273348288692587),\n",
              " (955, 0.017633958219082015),\n",
              " (957, 0.01749039687637041),\n",
              " (961, 0.019554995945717454),\n",
              " (966, 0.08217872007498855),\n",
              " (969, 0.02345703144000017),\n",
              " (976, 0.02204140828430915),\n",
              " (1003, 0.01936926578439421),\n",
              " (1033, 0.07635734993420587),\n",
              " (1042, 0.021159496800588797),\n",
              " (1047, 0.019596912110081105),\n",
              " (1072, 0.028430011383762385),\n",
              " (1074, 0.02648379176589352),\n",
              " (1094, 0.028156749585279174),\n",
              " (1099, 0.023212845670279883),\n",
              " (1124, 0.024482768549847555),\n",
              " (1179, 0.01855946287299021),\n",
              " (1181, 0.02345703144000017),\n",
              " (1203, 0.02916102727607722),\n",
              " (1211, 0.02857053420545352),\n",
              " (1248, 0.01974552310831019),\n",
              " (1288, 0.03203785676742321),\n",
              " (1300, 0.05936561735962196),\n",
              " (1311, 0.01761786829976758),\n",
              " (1315, 0.02198308999577716),\n",
              " (1321, 0.02090420402278936),\n",
              " (1323, 0.028499938211402984),\n",
              " (1324, 0.022219181346215915),\n",
              " (1351, 0.0203485366269796),\n",
              " (1361, 0.05429802871447962),\n",
              " (1387, 0.011485199392284632),\n",
              " (1462, 0.0655046794656695),\n",
              " (1489, 0.04662383097276648),\n",
              " (1517, 0.030506054437717707),\n",
              " (1530, 0.029589280530166556),\n",
              " (1532, 0.026430526371450366),\n",
              " (1544, 0.054907249872648604),\n",
              " (1551, 0.08426996073510022),\n",
              " (1564, 0.026377642811073774),\n",
              " (1598, 0.02294332802265422),\n",
              " (1604, 0.025626768965769035),\n",
              " (1621, 0.03660464834198046),\n",
              " (1638, 0.035203626793254617),\n",
              " (1690, 0.02572257843034506),\n",
              " (1694, 0.02134360822965348),\n",
              " (1722, 0.036818495926046683),\n",
              " (1732, 0.061768913231151225),\n",
              " (1821, 0.021867818508639402),\n",
              " (1876, 0.030414410711611498),\n",
              " (1877, 0.03300675201590482),\n",
              " (1899, 0.02494531019165634),\n",
              " (1911, 0.025165542220155043),\n",
              " (1913, 0.019513316597105142),\n",
              " (1918, 0.022012191513125782),\n",
              " (1944, 0.017181033935459937),\n",
              " (1962, 0.018220425518756536),\n",
              " (1966, 0.10593516706357407),\n",
              " (2041, 0.02857053420545352),\n",
              " (2085, 0.022683310796994764),\n",
              " (2106, 0.02294332802265422),\n",
              " (2182, 0.04575491900797154),\n",
              " (2200, 0.04002993531966952),\n",
              " (2209, 0.024647629602257273),\n",
              " (2211, 0.024647629602257273),\n",
              " (2239, 0.031814287383028966),\n",
              " (2242, 0.028430011383762385),\n",
              " (2300, 0.034588501896471),\n",
              " (2348, 0.028224121972076636),\n",
              " (2375, 0.02494531019165634),\n",
              " (2376, 0.04193199869150003),\n",
              " (2382, 0.03442984577991151),\n",
              " (2481, 0.028859874234234046),\n",
              " (2613, 0.027893249250451474),\n",
              " (2637, 0.07051924236067997),\n",
              " (2665, 0.03203785676742321),\n",
              " (2679, 0.029395244569581903),\n",
              " (2714, 0.06216238855364843),\n",
              " (2716, 0.02553218786153074),\n",
              " (2846, 0.02703873187574801),\n",
              " (2848, 0.07406828106992845),\n",
              " (2853, 0.033543514149215733),\n",
              " (2883, 0.04155959185963294),\n",
              " (2945, 0.01839692257528413),\n",
              " (2946, 0.059774483700478616),\n",
              " (3140, 0.03327025235073252),\n",
              " (3190, 0.043364331310917464),\n",
              " (3191, 0.04391104250181356),\n",
              " (3192, 0.028641812296964792),\n",
              " (3193, 0.03340561807673564),\n",
              " (3194, 0.03023446947185481),\n",
              " (3195, 0.06277300466299099),\n",
              " (3196, 0.03275233973283475),\n",
              " (3197, 0.05407746375149602),\n",
              " (3198, 0.024564738560737275),\n",
              " (3199, 0.05096006549953109),\n",
              " (3200, 0.03238645193470603),\n",
              " (3201, 0.04285535536895361),\n",
              " (3202, 0.03908687976514074),\n",
              " (3203, 0.04847783407637082),\n",
              " (3204, 0.047492742937561394),\n",
              " (3205, 0.03327025235073252),\n",
              " (3206, 0.03192522518909204),\n",
              " (3207, 0.04193199869150003),\n",
              " (3208, 0.0657568984307269),\n",
              " (3209, 0.034588501896471),\n",
              " (3210, 0.04662383097276648),\n",
              " (3211, 0.04002993531966952),\n",
              " (3212, 0.03098216963456326),\n",
              " (3213, 0.026924354001969866),\n",
              " (3214, 0.03599795938102896),\n",
              " (3215, 0.04285535536895361),\n",
              " (3216, 0.03774185260350026),\n",
              " (3217, 0.08571071073790722),\n",
              " (3218, 0.028499938211402984),\n",
              " (3219, 0.07548370520700053),\n",
              " (3220, 0.058949998262035314),\n",
              " (3221, 0.038250828545464126),\n",
              " (3222, 0.03313732578001077),\n",
              " (3223, 0.04391104250181356),\n",
              " (3224, 0.04584656273407774),\n",
              " (3225, 0.05260624570301474),\n",
              " (3226, 0.06283325123392144),\n",
              " (3227, 0.11179721221996412),\n",
              " (3228, 0.029719570426336075),\n",
              " (3229, 0.029084578663646502),\n",
              " (3230, 0.05407746375149602),\n",
              " (3231, 0.034122416918820196),\n",
              " (3232, 0.1285660661068608),\n",
              " (3233, 0.04847783407637082),\n",
              " (3234, 0.031081194276824216),\n",
              " (3235, 0.08900307114487453),\n",
              " (3236, 0.04961503833789061),\n",
              " (3237, 0.06283325123392144),\n",
              " (3238, 0.0411114621464823),\n",
              " (3239, 0.024047524510623874),\n",
              " (3240, 0.04847783407637082),\n",
              " (3241, 0.04662383097276648),\n",
              " (3242, 0.036818495926046683),\n",
              " (3243, 0.04847783407637082),\n",
              " (3244, 0.08672866262183493),\n",
              " (3245, 0.031814287383028966),\n",
              " (3246, 0.03098216963456326),\n",
              " (3247, 0.04961503833789061),\n",
              " (3248, 0.04391104250181356),\n",
              " (3249, 0.03238645193470603),\n",
              " (3250, 0.04285535536895361),\n",
              " (3251, 0.039702004661924355)]"
            ]
          },
          "metadata": {
            "tags": []
          },
          "execution_count": 140
        }
      ]
    },
    {
      "cell_type": "markdown",
      "metadata": {
        "id": "hZpm1wtTqxL-",
        "colab_type": "text"
      },
      "source": [
        "\n",
        "\n",
        "---\n",
        "\n"
      ]
    },
    {
      "cell_type": "markdown",
      "metadata": {
        "id": "mfekkYshBAVS",
        "colab_type": "text"
      },
      "source": [
        "# 8-2 Textrank\n",
        "https://web.eecs.umich.edu/~mihalcea/papers/mihalcea.emnlp04.pdf"
      ]
    },
    {
      "cell_type": "markdown",
      "metadata": {
        "id": "bn58myMFF-nN",
        "colab_type": "text"
      },
      "source": [
        "<img src=\"https://3.bp.blogspot.com/-yp0Lr3ec5EY/XIs6znCcO_I/AAAAAAAAAPY/xtZxe_OYtH0xeuWsp4Qd4DQrunGMpVQmQCLcBGAs/s640/keyword-extraction-textrank.png\" />"
      ]
    },
    {
      "cell_type": "markdown",
      "metadata": {
        "colab_type": "text",
        "id": "kxZBz6vLlyga"
      },
      "source": [
        "## 실습 1. 행렬 활용 \n"
      ]
    },
    {
      "cell_type": "markdown",
      "metadata": {
        "colab_type": "text",
        "id": "9QmtIyyHlygg"
      },
      "source": [
        "### 1) 토큰화 (Tokenization)\n",
        "\n",
        "분석 텍스트 정제"
      ]
    },
    {
      "cell_type": "code",
      "metadata": {
        "colab_type": "code",
        "id": "WtCEayuDlygd",
        "colab": {}
      },
      "source": [
        "from konlpy.tag import Mecab\n",
        "mecab = Mecab()\n",
        "\n",
        "doc_num = 50\n",
        "doc = docs[doc_num]\n",
        "\n",
        "nodes = [token for token in mecab.pos(doc) if token[1] in ['NNG', 'NNP']]\n",
        "tokens = [token for token in mecab.pos(doc)]"
      ],
      "execution_count": 0,
      "outputs": []
    },
    {
      "cell_type": "markdown",
      "metadata": {
        "colab_type": "text",
        "id": "YBJSuIvKlygw"
      },
      "source": [
        "### 2) Unique한 토큰 목록 생성\n",
        "\n",
        "그래프 생성을 위해서 Unique한 토큰 목록 생성"
      ]
    },
    {
      "cell_type": "code",
      "metadata": {
        "colab_type": "code",
        "outputId": "4538da3f-f1ad-482c-8b74-56dd3cb27642",
        "id": "h5_DwRpOlygz",
        "colab": {
          "base_uri": "https://localhost:8080/",
          "height": 187
        }
      },
      "source": [
        "vocab = list(set(nodes))\n",
        "vacab2idx = {vocab[i]:i for i in range(0, len(vocab))} #vocab을 인덱스로 변환\n",
        "idx2vocab = {i:vocab[i] for i in range(0, len(vocab))} #인덱스를 vocab으로 변환\n",
        "vocab[:10]"
      ],
      "execution_count": 118,
      "outputs": [
        {
          "output_type": "execute_result",
          "data": {
            "text/plain": [
              "[('배포', 'NNG'),\n",
              " ('조성', 'NNG'),\n",
              " ('마련', 'NNG'),\n",
              " ('시대', 'NNG'),\n",
              " ('연속', 'NNG'),\n",
              " ('임업', 'NNG'),\n",
              " ('클라우드', 'NNP'),\n",
              " ('파일', 'NNG'),\n",
              " ('지렛대', 'NNG'),\n",
              " ('경쟁력', 'NNG')]"
            ]
          },
          "metadata": {
            "tags": []
          },
          "execution_count": 118
        }
      ]
    },
    {
      "cell_type": "markdown",
      "metadata": {
        "colab_type": "text",
        "id": "P9Tvibn1lyg3"
      },
      "source": [
        "### 3) 그래프 생성 (weighted edge 계산)\n",
        "\n",
        "*   TextRank는 그래프 기반 모델\n",
        "*   각 단어(토큰)은 그래프의 노드(vertex) \n",
        "*   weighted_edge 행렬은 노드간 가중치 정보를 담고 있음\n",
        "*   weighted_edge[i][j] 는 i번째 단어와 j번째 단어의 가중치를 의미\n",
        "*   weighted_edge[i][j] 가 0인 경우는 노드간 연결이 없음을 의미\n",
        "*   모든 노드는 1로 초기화"
      ]
    },
    {
      "cell_type": "code",
      "metadata": {
        "colab_type": "code",
        "id": "nP8PJUnMlyg3",
        "colab": {}
      },
      "source": [
        "import numpy as np\n",
        "import math\n",
        "vocab_len = len(vocab)\n",
        "\n",
        "# 토큰별로 그래프 edge를 Matrix 형태로 생성\n",
        "weighted_edge = np.zeros((vocab_len,vocab_len),dtype=np.float32)\n",
        "\n",
        "# 각 토큰 노드별로 스코어 1로 초기화\n",
        "score = np.ones((vocab_len),dtype=np.float32)\n",
        "\n",
        "# coocurrence를 판단하기 위한 window 사이즈 설정\n",
        "window_size = 3\n",
        "covered_coocurrences = []\n",
        "\n",
        "for window_start in range(0,(len(tokens)-window_size+1)):\n",
        "    window = tokens[window_start : window_start+window_size]\n",
        "    for i in range(window_size) :\n",
        "        for j in range(i+1, window_size) : \n",
        "            if (window[i] in vocab_dict.keys()) & (window[j] in vocab_dict.keys()) : #윈도 내 단어가 노드에 속하는 경우만 엣지로 연결\n",
        "                index_of_i = window_start + i\n",
        "                index_of_j = window_start + j\n",
        "                \n",
        "                if [index_of_i,index_of_j] not in covered_coocurrences:\n",
        "                  weighted_edge[vacab2idx[window[i]]][vacab2idx[window[j]]]=1\n",
        "                  covered_coocurrences.append([index_of_i,index_of_j])\n",
        "                \n",
        "for i in range(0,vocab_len):\n",
        "  sumi = weighted_edge[i].sum() #각 노드별 보유한 edge 수\n",
        "  weighted_edge[i] = weighted_edge[i]/sumi if sumi > 0 else 0 #edge 가중치"
      ],
      "execution_count": 0,
      "outputs": []
    },
    {
      "cell_type": "markdown",
      "metadata": {
        "colab_type": "text",
        "id": "loXJ9c7jlyg8"
      },
      "source": [
        "### 4) 각 노드의 score계산\n",
        "각 노드와 연결된 weighted edge의 값을 합산"
      ]
    },
    {
      "cell_type": "code",
      "metadata": {
        "colab_type": "code",
        "id": "R9IOS9Oolyg8",
        "colab": {}
      },
      "source": [
        "MAX_ITERATIONS = 50\n",
        "d=0.85\n",
        "threshold = 0.0001 #convergence threshold\n",
        "\n",
        "for iter in range(0,MAX_ITERATIONS):\n",
        "    prev_score = np.copy(score)\n",
        "    \n",
        "    for i in range(0,vocab_len):        \n",
        "        summation = 0\n",
        "        for j in range(0,vocab_len):\n",
        "            if weighted_edge[j][i] != 0:\n",
        "                summation += weighted_edge[j][i]*score[j]\n",
        "                \n",
        "        score[i] = (1-d) + d*(summation)\n",
        "    \n",
        "    if np.sum(np.fabs(prev_score-score)) <= threshold: #convergence condition\n",
        "        break\n"
      ],
      "execution_count": 0,
      "outputs": []
    },
    {
      "cell_type": "markdown",
      "metadata": {
        "colab_type": "text",
        "id": "wia32INGlyhA"
      },
      "source": [
        "### 5) 핵심 단어 추출"
      ]
    },
    {
      "cell_type": "code",
      "metadata": {
        "colab_type": "code",
        "outputId": "478d5536-82af-4618-d992-04505170b8b4",
        "id": "DMVQR-TqlyhB",
        "colab": {
          "base_uri": "https://localhost:8080/",
          "height": 136
        }
      },
      "source": [
        "sorted_index = np.flip(np.argsort(score),0)\n",
        "\n",
        "n = 5\n",
        "\n",
        "print(\"\\n=== 핵심키워드 ===\")\n",
        "for i in range(0,n):\n",
        "    print(str(idx2vocab[sorted_index[i]])+\" : \" + str(score[sorted_index[i]]))"
      ],
      "execution_count": 115,
      "outputs": [
        {
          "output_type": "stream",
          "text": [
            "\n",
            "=== 핵심키워드 ===\n",
            "('데이터', 'NNG') : 4.5316987\n",
            "('계획', 'NNG') : 1.9233934\n",
            "('폼', 'NNG') : 1.5738008\n",
            "('센터', 'NNG') : 1.3369576\n",
            "('활용', 'NNG') : 1.127823\n"
          ],
          "name": "stdout"
        }
      ]
    },
    {
      "cell_type": "code",
      "metadata": {
        "id": "AXThGqhpOoaU",
        "colab_type": "code",
        "colab": {
          "base_uri": "https://localhost:8080/",
          "height": 34
        },
        "outputId": "81c5a25d-6a37-4278-af83-d8e3bc6d8dc3"
      },
      "source": [
        "sorted_index[0]"
      ],
      "execution_count": 93,
      "outputs": [
        {
          "output_type": "execute_result",
          "data": {
            "text/plain": [
              "252"
            ]
          },
          "metadata": {
            "tags": []
          },
          "execution_count": 93
        }
      ]
    },
    {
      "cell_type": "markdown",
      "metadata": {
        "id": "vOuNI7WSBcgU",
        "colab_type": "text"
      },
      "source": [
        "---"
      ]
    },
    {
      "cell_type": "markdown",
      "metadata": {
        "id": "YZ8Uu6Rqbfyi",
        "colab_type": "text"
      },
      "source": [
        "## 실습 2. 그래프 활용 "
      ]
    },
    {
      "cell_type": "code",
      "metadata": {
        "id": "Nk06RCeMbfyk",
        "colab_type": "code",
        "colab": {}
      },
      "source": [
        "from konlpy.tag import Mecab\n",
        "mecab = Mecab()\n",
        "\n",
        "doc_num = 50\n",
        "\n",
        "processed_text = [token for token in mecab.pos(docs[doc_num]) if token[1][0] in ['N', 'V']]"
      ],
      "execution_count": 0,
      "outputs": []
    },
    {
      "cell_type": "code",
      "metadata": {
        "id": "Ntj2zdldgZdu",
        "colab_type": "code",
        "outputId": "620cf33b-c0a4-4c0f-d17a-05372df41a4d",
        "colab": {
          "base_uri": "https://localhost:8080/",
          "height": 187
        }
      },
      "source": [
        "processed_text[:10]"
      ],
      "execution_count": 27,
      "outputs": [
        {
          "output_type": "execute_result",
          "data": {
            "text/plain": [
              "[('과기', 'NNG'),\n",
              " ('정통부', 'NNG'),\n",
              " ('일', 'NNBC'),\n",
              " ('유영민', 'NNP'),\n",
              " ('장관', 'NNG'),\n",
              " ('등', 'NNB'),\n",
              " ('참석', 'NNG'),\n",
              " ('기념행사', 'NNG'),\n",
              " ('년', 'NNBC'),\n",
              " ('억', 'NR')]"
            ]
          },
          "metadata": {
            "tags": []
          },
          "execution_count": 27
        }
      ]
    },
    {
      "cell_type": "markdown",
      "metadata": {
        "id": "683iA8igbfym",
        "colab_type": "text"
      },
      "source": [
        "### 1) 토큰화 (Tokenization)\n",
        "\n",
        "분석 텍스트 정제"
      ]
    },
    {
      "cell_type": "code",
      "metadata": {
        "id": "3SxuV1Zkbfyn",
        "colab_type": "code",
        "colab": {}
      },
      "source": [
        "from konlpy.tag import Mecab\n",
        "mecab = Mecab()\n",
        "\n",
        "doc_num = 50\n",
        "doc = docs[doc_num]\n",
        "\n",
        "nodes = [token for token in mecab.pos(doc) if token[1] in ['NNG','NNP']] #NNG, NNP를 스코어 계산 대상(노드)로 제한\n",
        "tokens = [token for token in mecab.pos(doc)] #탐색할 토큰 전체"
      ],
      "execution_count": 0,
      "outputs": []
    },
    {
      "cell_type": "markdown",
      "metadata": {
        "id": "iY8re-9gbfy9",
        "colab_type": "text"
      },
      "source": [
        "### 2) 그래프 생성 (weighted edge 계산)\n",
        "\n",
        "*   TextRank는 그래프 기반 모델\n",
        "*   각 단어(토큰)은 그래프의 노드(vertex) 없음을 의미\n",
        "*   모든 노드는 1로 초기화"
      ]
    },
    {
      "cell_type": "code",
      "metadata": {
        "id": "phYnQIcBbfy9",
        "colab_type": "code",
        "colab": {}
      },
      "source": [
        "import numpy as np\n",
        "import math\n",
        "import networkx as nx\n",
        "\n",
        "# 윈도내 동시 등장한 토큰으로 그래프를 생성\n",
        "def connect(nodes, tokens) :            \n",
        "    window_size = 3 # coocurrence를 판단하기 위한 window 사이즈 설정\n",
        "\n",
        "    edges = []\n",
        "    for window_start in range(0,(len(tokens)-window_size+1)):\n",
        "        window = tokens[window_start:window_start+window_size]\n",
        "        for i in range(window_size) :\n",
        "            for j in range(i+1, window_size) : \n",
        "                if (window[i] in nodes) & (window[j] in nodes) : #윈도 내 단어가 노드에 속하는 경우만 엣지로 연결\n",
        "                    edges.append((window[i], window[j]))\n",
        "    return edges\n",
        "\n",
        "graph=nx.diamond_graph()\n",
        "graph.clear() \n",
        "graph.add_nodes_from(list(set(nodes))) #node 등록\n",
        "graph.add_edges_from(connect(nodes, tokens)) #edge 연결    "
      ],
      "execution_count": 0,
      "outputs": []
    },
    {
      "cell_type": "markdown",
      "metadata": {
        "id": "3c4KZdyufiBM",
        "colab_type": "text"
      },
      "source": [
        "### 3) 스코어 계산 및 핵심키워드 추출"
      ]
    },
    {
      "cell_type": "code",
      "metadata": {
        "id": "h5pHA1WverhB",
        "colab_type": "code",
        "outputId": "2a81d6af-7df3-48e6-bde7-2cfe9407e728",
        "colab": {
          "base_uri": "https://localhost:8080/",
          "height": 102
        }
      },
      "source": [
        "scores = nx.pagerank(graph) #pagerank 계산\n",
        "rank = sorted(scores.items(), key=lambda x: x[1], reverse=True) #score 역순 정렬\n",
        "print(\"\\n=== 핵심키워드 ===\")\n",
        "rank[:5]"
      ],
      "execution_count": 78,
      "outputs": [
        {
          "output_type": "execute_result",
          "data": {
            "text/plain": [
              "[(('데이터', 'NNG'), 0.04437596221316631),\n",
              " (('센터', 'NNG'), 0.016370726888361505),\n",
              " (('한국', 'NNP'), 0.012525069989612309),\n",
              " (('경제', 'NNG'), 0.011828185965183424),\n",
              " (('활용', 'NNG'), 0.010934411559620855)]"
            ]
          },
          "metadata": {
            "tags": []
          },
          "execution_count": 78
        }
      ]
    },
    {
      "cell_type": "markdown",
      "metadata": {
        "id": "8VsT2BazfadH",
        "colab_type": "text"
      },
      "source": [
        "---"
      ]
    },
    {
      "cell_type": "markdown",
      "metadata": {
        "id": "kqX9Fid_a-S1",
        "colab_type": "text"
      },
      "source": [
        "## 실습 3. TextRank 핵심 구 추출"
      ]
    },
    {
      "cell_type": "markdown",
      "metadata": {
        "id": "Tm_CV9CEbz2K",
        "colab_type": "text"
      },
      "source": [
        "### 1) 불용어를 기준으로 구 추출"
      ]
    },
    {
      "cell_type": "code",
      "metadata": {
        "id": "zGyVMVbubfzJ",
        "colab_type": "code",
        "outputId": "2b8cad6e-9bb7-4ff9-d844-47dadd81f98f",
        "colab": {
          "base_uri": "https://localhost:8080/",
          "height": 54
        }
      },
      "source": [
        "phrases = []\n",
        "phrase = \" \"\n",
        "\n",
        "for word in tokens:\n",
        "    if word[1][0] != 'N':\n",
        "      if phrase != \" \":\n",
        "        phrases.append(str(phrase).strip())\n",
        "      phrase = \" \"\n",
        "    else :\n",
        "        phrase+=str(word[0])\n",
        "        phrase+=\" \"\n",
        "\n",
        "print(phrases)"
      ],
      "execution_count": 0,
      "outputs": [
        {
          "output_type": "stream",
          "text": [
            "['과기 정통부', '일 유영민 장관 등 참석', '기념행사', '년', '억 원 투입', '여종 데이터 구축 민간 클라우드', '외부 연계 체계', '개방', '강화', '데일리 이재운 기자', '국가 차원', '빅 데이터 활용 시대', '산업 창출', '기존 산업', '변화', '혁신', '장', '센터', '문', '개 분야', '데이터 경제', '발전', '정부', '청사진', '현실', '구현', '데', '계획', '일 과학 기술 정보 통신부', '서울 중구 대한 상공 회의소', '데이터 생태', '조성', '혁신 성장', '기반 마련', '빅 데이터 플랫 폼', '센터', '출범식 행사', '개최', '유영민 과기 정통부 장관', '노웅래 국회 과학 기술 정보 방송 통신 위원회 위원장 등', '명', '참가', '개 분야', '개 센터', '년 간', '억 원 투입 이미지', '픽사 베이 빅 데이터', '데이터 활용', '혁신', '장', '문재', '정부', '경제 성장 핵심 요소 중 하나', '문재인 대통령', '데이터 활용', '이', '정보 보호', '보안', '중요', '강조', '맥락 속', '빅 데이터 센터', '공공', '민간', '협업', '활용', '양질', '데이터', '생산', '구축', '플랫 폼', '이', '수집', '분석', '유통', '역할', '담당', '과기 정통부', '분야', '플랫 폼', '개소', '이', '연계', '기관', '센터', '개소', '구축', '데', '년', '억 원', '투입', '계획', '올해', '억 원 규모', '사업', '추진', '대상 분야', '금융', '카드', '환경', '한국 수자원 공사', '문화', '한국 문화 정보원', '교통', '한국 교통 연구원', '헬 스케어', '국립암센터', '유통', '소비', '매일 방송', '통신', '중소기업', '비즈', '지역 경제', '경기도 청', '산림', '한국 임업', '흥원', '등', '차 공모', '개 빅 데이터 센터', '선정', '다음 달', '일', '차 공모', '개', '추가 선정', '개', '지원', '운영', '계획', '이', '데이터 생태계', '혁신', '기업', '경쟁력', '제고', '역할', '수행', '주요 활용 전략', '사례', '빅 데이터 활용', '신', '新', '시장', '창출', '방안', '금융 플랫 폼', '경우 소 상공', '신용 평가 고도', '등', '금융 취약 계층 대상 중 금리 대출', '절감', '연간', '조 원', '신규 대출', '창출', '전망', '유통', '소비', '중소기업 플랫 폼', '소상 공인', '중소기업', '폐업', '감소', '문화 플랫 폼', '문화', '예술 관람', '생활 체육 참여', '방안', '모색', '의료비 절감', '헬스 케어', '기업', '매출 향상', '산업 육성', '통신', '산림', '등', '눈길', '과기 정통부 제공', '년', '여종 데이터 구축', '알고리즘 제공', '센터', '분야', '데이터 부족 문제', '해소', '올해 말', '시장 수요', '여종 신규 데이터', '생산', '구축', '사업', '완료', '년', '여종 양질', '데이터', '생산', '구축', '시장', '공급', '계획', '공공', '민간 사이 데이터 파일 형식 등', '호환', '문제', '해소', '개방', '표준', '적용', '품질 관리 기준', '마련', '운영', '기업', '실제 활용 가능', '최신 데이터', '확보', '데', '수개월', '소요', '문제점', '개선', '방안', '추진', '센터', '플랫폼 간 연계 체계', '민간 클라우드', '기반', '활용', '센터', '축적', '데이터', '외부', '개방', '공유', '최신', '연속', '확보', '계획', '개 센터', '수집', '데이터', '융합', '분석', '뒤 맞춤', '데이터 제작 등 양질', '데이터', '생산', '기업', '필요', '데이터', '형태', '활용', '수', '제공', '계획', '분석 도구', '인공지능', '학습 알고리즘', '제공', '이용자', '사용', '편리', '환경', '제공', '밖', '필요', '데이터', '등록', '검색', '수', '기준', '마련', '데이터 보유', '관리', '체계', '거버넌스', '논의', '데이터 얼라이언스', '구성', '이용', '방안', '마련', '유영민 과기 정통부 장관', '오늘 출범식', '대한민국', '데이터 강국', '초석', '자리', '세계 주요 국', '데이터 경제', '발걸음', '빅 데이터 플랫 폼', '센터', '지렛대', '우리나라', '낙후', '데이터 생태계', '혁신', '기업', '경쟁력', '단계 제고', '수', '정책', '역량', '집중', '이재운', '네이버 홈', '데일리', '뉴스', '구독', '꿀 잼', '영상', '청춘 뉘 우스', '스냅 타임', '종합 경제 정보 미디어', '데일리', '무단 전재', '배포 금지']\n"
          ],
          "name": "stdout"
        }
      ]
    },
    {
      "cell_type": "code",
      "metadata": {
        "id": "1RKObP9ebfzM",
        "colab_type": "code",
        "outputId": "01584f77-2abb-47dd-a899-11c41973233b",
        "colab": {
          "base_uri": "https://localhost:8080/",
          "height": 54
        }
      },
      "source": [
        "unique_phrases = []\n",
        "\n",
        "for phrase in phrases:\n",
        "    if phrase not in unique_phrases:\n",
        "        unique_phrases.append(phrase)\n",
        "\n",
        "print(unique_phrases)"
      ],
      "execution_count": 0,
      "outputs": [
        {
          "output_type": "stream",
          "text": [
            "['과기 정통부', '일 유영민 장관 등 참석', '기념행사', '년', '억 원 투입', '여종 데이터 구축 민간 클라우드', '외부 연계 체계', '개방', '강화', '데일리 이재운 기자', '국가 차원', '빅 데이터 활용 시대', '산업 창출', '기존 산업', '변화', '혁신', '장', '센터', '문', '개 분야', '데이터 경제', '발전', '정부', '청사진', '현실', '구현', '데', '계획', '일 과학 기술 정보 통신부', '서울 중구 대한 상공 회의소', '데이터 생태', '조성', '혁신 성장', '기반 마련', '빅 데이터 플랫 폼', '출범식 행사', '개최', '유영민 과기 정통부 장관', '노웅래 국회 과학 기술 정보 방송 통신 위원회 위원장 등', '명', '참가', '개 센터', '년 간', '억 원 투입 이미지', '픽사 베이 빅 데이터', '데이터 활용', '문재', '경제 성장 핵심 요소 중 하나', '문재인 대통령', '이', '정보 보호', '보안', '중요', '강조', '맥락 속', '빅 데이터 센터', '공공', '민간', '협업', '활용', '양질', '데이터', '생산', '구축', '플랫 폼', '수집', '분석', '유통', '역할', '담당', '분야', '개소', '연계', '기관', '억 원', '투입', '올해', '억 원 규모', '사업', '추진', '대상 분야', '금융', '카드', '환경', '한국 수자원 공사', '문화', '한국 문화 정보원', '교통', '한국 교통 연구원', '헬 스케어', '국립암센터', '소비', '매일 방송', '통신', '중소기업', '비즈', '지역 경제', '경기도 청', '산림', '한국 임업', '흥원', '등', '차 공모', '개 빅 데이터 센터', '선정', '다음 달', '일', '개', '추가 선정', '지원', '운영', '데이터 생태계', '기업', '경쟁력', '제고', '수행', '주요 활용 전략', '사례', '빅 데이터 활용', '신', '新', '시장', '창출', '방안', '금융 플랫 폼', '경우 소 상공', '신용 평가 고도', '금융 취약 계층 대상 중 금리 대출', '절감', '연간', '조 원', '신규 대출', '전망', '중소기업 플랫 폼', '소상 공인', '폐업', '감소', '문화 플랫 폼', '예술 관람', '생활 체육 참여', '모색', '의료비 절감', '헬스 케어', '매출 향상', '산업 육성', '눈길', '과기 정통부 제공', '여종 데이터 구축', '알고리즘 제공', '데이터 부족 문제', '해소', '올해 말', '시장 수요', '여종 신규 데이터', '완료', '여종 양질', '공급', '민간 사이 데이터 파일 형식 등', '호환', '문제', '표준', '적용', '품질 관리 기준', '마련', '실제 활용 가능', '최신 데이터', '확보', '수개월', '소요', '문제점', '개선', '플랫폼 간 연계 체계', '민간 클라우드', '기반', '축적', '외부', '공유', '최신', '연속', '융합', '뒤 맞춤', '데이터 제작 등 양질', '필요', '형태', '수', '제공', '분석 도구', '인공지능', '학습 알고리즘', '이용자', '사용', '편리', '밖', '등록', '검색', '기준', '데이터 보유', '관리', '체계', '거버넌스', '논의', '데이터 얼라이언스', '구성', '이용', '오늘 출범식', '대한민국', '데이터 강국', '초석', '자리', '세계 주요 국', '발걸음', '지렛대', '우리나라', '낙후', '단계 제고', '정책', '역량', '집중', '이재운', '네이버 홈', '데일리', '뉴스', '구독', '꿀 잼', '영상', '청춘 뉘 우스', '스냅 타임', '종합 경제 정보 미디어', '무단 전재', '배포 금지']\n"
          ],
          "name": "stdout"
        }
      ]
    },
    {
      "cell_type": "markdown",
      "metadata": {
        "id": "rHbAUAfFbfzR",
        "colab_type": "text"
      },
      "source": [
        "### 2) 각 구의 Score 계산\n",
        "\n",
        "앞서 산출한 각 단어별 점수를 합산"
      ]
    },
    {
      "cell_type": "code",
      "metadata": {
        "id": "R4DP76OsbfzR",
        "colab_type": "code",
        "colab": {}
      },
      "source": [
        "phrase_scores = []\n",
        "keywords = []\n",
        "for phrase in unique_phrases:\n",
        "    phrase_score=0\n",
        "    keyword = ''\n",
        "    for word in phrase:\n",
        "        keyword += str(word)\n",
        "        keyword += \" \"\n",
        "        phrase_score+=score[vocabulary.index(word)]\n",
        "    phrase_scores.append(phrase_score)\n",
        "    keywords.append(keyword.strip())\n",
        "\n",
        "i=0\n",
        "for keyword in keywords:\n",
        "    print(\"Keyword: '\"+str(keyword)+\"', Score: \"+str(phrase_scores[i]))\n",
        "    i+=1"
      ],
      "execution_count": 0,
      "outputs": []
    },
    {
      "cell_type": "markdown",
      "metadata": {
        "id": "0fw0Je8EbfzU",
        "colab_type": "text"
      },
      "source": [
        "### 3) 각 구를 Score로 정렬하여 핵심 구 추출"
      ]
    },
    {
      "cell_type": "code",
      "metadata": {
        "id": "wpdzhcBBbfzV",
        "colab_type": "code",
        "outputId": "a5eccbea-4319-403c-a05b-9282248c92c7",
        "colab": {
          "base_uri": "https://localhost:8080/",
          "height": 233
        }
      },
      "source": [
        "sorted_index = np.flip(np.argsort(phrase_scores),0)\n",
        "\n",
        "keywords_num = 10\n",
        "\n",
        "print(\"Keywords:\\n\")\n",
        "\n",
        "for i in range(0,keywords_num):\n",
        "    print(str(keywords[sorted_index[i]])+\", \")"
      ],
      "execution_count": 0,
      "outputs": [
        {
          "output_type": "stream",
          "text": [
            "Keywords:\n",
            "\n",
            "FAANG stock optimist, \n",
            "FAANG stock, \n",
            "stock market, \n",
            "large-cap tech stock, \n",
            "Robo Global Bill Studebaker, \n",
            "value stock, \n",
            "pricey stock, \n",
            "market-weight stock, \n",
            "next several month, \n",
            "Bill Studebaker, \n"
          ],
          "name": "stdout"
        }
      ]
    },
    {
      "cell_type": "markdown",
      "metadata": {
        "id": "kiz-Q64iXOaY",
        "colab_type": "text"
      },
      "source": [
        "\n",
        "\n",
        "---\n",
        "\n"
      ]
    },
    {
      "cell_type": "markdown",
      "metadata": {
        "id": "GpFwfuGlpFL9",
        "colab_type": "text"
      },
      "source": [
        "## 실습 4. gensim 활용"
      ]
    },
    {
      "cell_type": "code",
      "metadata": {
        "id": "fW7gy7_7ooKb",
        "colab_type": "code",
        "outputId": "07ad4967-4656-4c51-c355-d16a6997692e",
        "colab": {
          "base_uri": "https://localhost:8080/",
          "height": 34
        }
      },
      "source": [
        "from gensim.summarization import keywords\n",
        "keywords(doc, words=5).split('\\n')"
      ],
      "execution_count": 38,
      "outputs": [
        {
          "output_type": "execute_result",
          "data": {
            "text/plain": [
              "['데이터', '데이터를', '계획이다', '빅데이터', '문재인']"
            ]
          },
          "metadata": {
            "tags": []
          },
          "execution_count": 38
        }
      ]
    },
    {
      "cell_type": "code",
      "metadata": {
        "id": "MXlGMN3V0MlT",
        "colab_type": "code",
        "colab": {}
      },
      "source": [
        "keywords?"
      ],
      "execution_count": 0,
      "outputs": []
    },
    {
      "cell_type": "code",
      "metadata": {
        "id": "QPwuCEAo0OKf",
        "colab_type": "code",
        "colab": {
          "base_uri": "https://localhost:8080/",
          "height": 34
        },
        "outputId": "c7c324ae-d6a6-4f87-f02f-5bb11ca220aa"
      },
      "source": [
        "d = ' '.join([t[0] for t in processed_text])\n",
        "print(\"\\n=== 핵심키워드 ===\")\n",
        "keywords(d, words=10).split('\\n')"
      ],
      "execution_count": 42,
      "outputs": [
        {
          "output_type": "execute_result",
          "data": {
            "text/plain": [
              "['데이터', '데일리 이재운', '문재인 대통령', '열린다 새로운', '스케어 국립암센터', '발걸음']"
            ]
          },
          "metadata": {
            "tags": []
          },
          "execution_count": 42
        }
      ]
    },
    {
      "cell_type": "code",
      "metadata": {
        "id": "vwDd8BAR0lZl",
        "colab_type": "code",
        "colab": {}
      },
      "source": [
        ""
      ],
      "execution_count": 0,
      "outputs": []
    }
  ]
}