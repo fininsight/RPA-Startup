{
 "cells": [
  {
   "cell_type": "markdown",
   "metadata": {},
   "source": [
    "# 슬랙연동하기"
   ]
  },
  {
   "cell_type": "code",
   "execution_count": null,
   "metadata": {},
   "outputs": [],
   "source": [
    "#pip install slackclient\n",
    "\n",
    "#git clone https://github.com/slackapi/python-slackclient.git\n",
    "#pip install -r requirements.txt"
   ]
  },
  {
   "cell_type": "code",
   "execution_count": 10,
   "metadata": {},
   "outputs": [
    {
     "data": {
      "text/plain": [
       "{'ok': False,\n",
       " 'error': 'invalid_auth',\n",
       " 'headers': {'Content-Type': 'application/json; charset=utf-8',\n",
       "  'Content-Length': '55',\n",
       "  'Connection': 'keep-alive',\n",
       "  'Date': 'Tue, 05 Feb 2019 11:23:39 GMT',\n",
       "  'Server': 'Apache',\n",
       "  'X-XSS-Protection': '0',\n",
       "  'X-Slack-Req-Id': 'ec3ec34a-1759-41f9-9c5e-a0f058e20d68',\n",
       "  'Vary': 'Accept-Encoding',\n",
       "  'X-Content-Type-Options': 'nosniff',\n",
       "  'Strict-Transport-Security': 'max-age=31536000; includeSubDomains; preload',\n",
       "  'Referrer-Policy': 'no-referrer',\n",
       "  'Content-Encoding': 'gzip',\n",
       "  'Access-Control-Allow-Origin': '*',\n",
       "  'X-Via': 'haproxy-www-ip0b',\n",
       "  'X-Cache': 'Miss from cloudfront',\n",
       "  'Via': '1.1 293ce9f5063fb9a1453675c7521eda04.cloudfront.net (CloudFront)',\n",
       "  'X-Amz-Cf-Id': '3t4BLMix7mFJtmS54uGcyItHwe6Odx4tlwb_3-JMO-9OQ2yt-zifww=='}}"
      ]
     },
     "execution_count": 10,
     "metadata": {},
     "output_type": "execute_result"
    }
   ],
   "source": [
    "import os\n",
    "from slackclient import SlackClient\n",
    "\n",
    "slack_token = '462866924950.541812509377' #os.environ[\"SLACK_API_TOKEN\"]\n",
    "sc = SlackClient(slack_token)\n",
    "\n",
    "sc.api_call(\n",
    "  \"chat.postMessage\",\n",
    "  channel=\"23-rpa\",\n",
    "  text=\"Hello from Python! :tada:\"\n",
    ")"
   ]
  },
  {
   "cell_type": "code",
   "execution_count": 3,
   "metadata": {},
   "outputs": [
    {
     "data": {
      "text/plain": [
       "environ({'TERM_PROGRAM': 'Apple_Terminal', 'SHELL': '/bin/bash', 'TERM': 'xterm-color', 'TMPDIR': '/var/folders/5_/hp93v4lj4n14lr6lpm8hzw2h0000gn/T/', 'CONDA_SHLVL': '1', 'Apple_PubSub_Socket_Render': '/private/tmp/com.apple.launchd.KTLsEUQiFW/Render', 'CONDA_PROMPT_MODIFIER': '', 'TERM_PROGRAM_VERSION': '421.1', 'TERM_SESSION_ID': 'E61D0C9B-2FBA-49EE-9CA9-E51D4073A60C', 'USER': 'leeminho', 'CONDA_EXE': '/anaconda3/bin/conda', 'SSH_AUTH_SOCK': '/private/tmp/com.apple.launchd.BZQZj5W2rC/Listeners', 'PATH': '/Users/leeminho/anaconda3/bin:/Users/leeminho/anaconda3/bin:/Users/leeminho/anaconda2/bin:/anaconda3/bin:/usr/local/bin:/usr/bin:/bin:/usr/sbin:/sbin:/usr/local/share/dotnet:~/.dotnet/tools:/Library/Frameworks/Mono.framework/Versions/Current/Commands:/Applications/Xamarin Workbooks.app/Contents/SharedSupport/path-bin', 'CONDA_PREFIX': '/anaconda3', 'PWD': '/Users/leeminho/Documents/workspace/rpa1-startup', 'LANG': 'ko_KR.UTF-8', 'XPC_FLAGS': '0x0', 'XPC_SERVICE_NAME': '0', 'SHLVL': '1', 'HOME': '/Users/leeminho', 'CONDA_PYTHON_EXE': '/anaconda3/bin/python', 'LOGNAME': 'leeminho', 'CONDA_DEFAULT_ENV': 'base', '_': '/Users/leeminho/anaconda3/bin/jupyter', 'OLDPWD': '/Users/leeminho/Documents/workspace', 'JPY_PARENT_PID': '2134', 'CLICOLOR': '1', 'PAGER': 'cat', 'GIT_PAGER': 'cat', 'MPLBACKEND': 'module://ipykernel.pylab.backend_inline'})"
      ]
     },
     "execution_count": 3,
     "metadata": {},
     "output_type": "execute_result"
    }
   ],
   "source": [
    "os.environ\n"
   ]
  }
 ],
 "metadata": {
  "kernelspec": {
   "display_name": "Python 3",
   "language": "python",
   "name": "python3"
  },
  "language_info": {
   "codemirror_mode": {
    "name": "ipython",
    "version": 3
   },
   "file_extension": ".py",
   "mimetype": "text/x-python",
   "name": "python",
   "nbconvert_exporter": "python",
   "pygments_lexer": "ipython3",
   "version": "3.6.5"
  }
 },
 "nbformat": 4,
 "nbformat_minor": 2
}
