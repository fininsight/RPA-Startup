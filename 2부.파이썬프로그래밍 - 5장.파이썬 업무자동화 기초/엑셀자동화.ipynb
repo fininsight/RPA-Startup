{
 "cells": [
  {
   "cell_type": "code",
   "execution_count": 9,
   "metadata": {},
   "outputs": [],
   "source": [
    "#https://openpyxl.readthedocs.io/en/stable/\n",
    "\n",
    "from openpyxl import Workbook\n"
   ]
  },
  {
   "cell_type": "markdown",
   "metadata": {},
   "source": [
    "## Excel 쓰기"
   ]
  },
  {
   "cell_type": "code",
   "execution_count": null,
   "metadata": {},
   "outputs": [],
   "source": [
    "wb = Workbook()\n",
    "\n",
    "# grab the active worksheet\n",
    "ws = wb.active\n",
    "\n",
    "# Data can be assigned directly to cells\n",
    "ws['A1'] = 42\n",
    "\n",
    "# Rows can also be appended\n",
    "ws.append([1, 2, 3])\n",
    "\n",
    "# Python types will automatically be converted\n",
    "import datetime\n",
    "ws['A2'] = datetime.datetime.now()\n",
    "\n",
    "# Save the file\n",
    "wb.save(\"sample.xlsx\")"
   ]
  },
  {
   "cell_type": "markdown",
   "metadata": {},
   "source": [
    "## Excel 읽기"
   ]
  },
  {
   "cell_type": "code",
   "execution_count": 10,
   "metadata": {},
   "outputs": [
    {
     "name": "stdout",
     "output_type": "stream",
     "text": [
      "42\n",
      "None\n",
      "None\n",
      "2019-02-05 22:19:21.244470\n",
      "2\n",
      "3\n"
     ]
    }
   ],
   "source": [
    "\n",
    "\n",
    "from openpyxl import load_workbook\n",
    "wb = load_workbook(filename='sample.xlsx', read_only=True)\n",
    "ws = wb['Sheet']\n",
    "\n",
    "for row in ws.rows:\n",
    "    for cell in row:\n",
    "        print(cell.value)"
   ]
  },
  {
   "cell_type": "code",
   "execution_count": 6,
   "metadata": {},
   "outputs": [
    {
     "ename": "AttributeError",
     "evalue": "'ReadOnlyWorksheet' object has no attribute 'insert_rows'",
     "output_type": "error",
     "traceback": [
      "\u001b[0;31m---------------------------------------------------------------------------\u001b[0m",
      "\u001b[0;31mAttributeError\u001b[0m                            Traceback (most recent call last)",
      "\u001b[0;32m<ipython-input-6-f819de36ae85>\u001b[0m in \u001b[0;36m<module>\u001b[0;34m()\u001b[0m\n\u001b[0;32m----> 1\u001b[0;31m \u001b[0mws\u001b[0m\u001b[0;34m.\u001b[0m\u001b[0minsert_rows\u001b[0m\u001b[0;34m(\u001b[0m\u001b[0;36m7\u001b[0m\u001b[0;34m)\u001b[0m\u001b[0;34m\u001b[0m\u001b[0m\n\u001b[0m",
      "\u001b[0;31mAttributeError\u001b[0m: 'ReadOnlyWorksheet' object has no attribute 'insert_rows'"
     ]
    }
   ],
   "source": [
    "ws.insert_rows(7)"
   ]
  },
  {
   "cell_type": "markdown",
   "metadata": {},
   "source": [
    "## Chart"
   ]
  },
  {
   "cell_type": "code",
   "execution_count": 11,
   "metadata": {},
   "outputs": [],
   "source": [
    "wb = Workbook()\n",
    "ws = wb.active\n",
    "for i in range(10):\n",
    "    ws.append([i])\n",
    "\n",
    "from openpyxl.chart import BarChart, Reference, Series\n",
    "values = Reference(ws, min_col=1, min_row=1, max_col=1, max_row=10)\n",
    "chart = BarChart()\n",
    "chart.add_data(values)\n",
    "ws.add_chart(chart, \"E15\")\n",
    "wb.save(\"SampleChart.xlsx\")"
   ]
  },
  {
   "cell_type": "markdown",
   "metadata": {},
   "source": [
    "### Bar & Column Chart"
   ]
  },
  {
   "cell_type": "code",
   "execution_count": 12,
   "metadata": {},
   "outputs": [],
   "source": [
    "from openpyxl import Workbook\n",
    "from openpyxl.chart import BarChart, Series, Reference\n",
    "\n",
    "wb = Workbook(write_only=True)\n",
    "ws = wb.create_sheet()\n",
    "\n",
    "rows = [\n",
    "    ('Number', 'Batch 1', 'Batch 2'),\n",
    "    (2, 10, 30),\n",
    "    (3, 40, 60),\n",
    "    (4, 50, 70),\n",
    "    (5, 20, 10),\n",
    "    (6, 10, 40),\n",
    "    (7, 50, 30),\n",
    "]\n",
    "\n",
    "\n",
    "for row in rows:\n",
    "    ws.append(row)\n",
    "\n",
    "\n",
    "chart1 = BarChart()\n",
    "chart1.type = \"col\"\n",
    "chart1.style = 10\n",
    "chart1.title = \"Bar Chart\"\n",
    "chart1.y_axis.title = 'Test number'\n",
    "chart1.x_axis.title = 'Sample length (mm)'\n",
    "\n",
    "data = Reference(ws, min_col=2, min_row=1, max_row=7, max_col=3)\n",
    "cats = Reference(ws, min_col=1, min_row=2, max_row=7)\n",
    "chart1.add_data(data, titles_from_data=True)\n",
    "chart1.set_categories(cats)\n",
    "chart1.shape = 4\n",
    "ws.add_chart(chart1, \"A10\")\n",
    "\n",
    "from copy import deepcopy\n",
    "\n",
    "chart2 = deepcopy(chart1)\n",
    "chart2.style = 11\n",
    "chart2.type = \"bar\"\n",
    "chart2.title = \"Horizontal Bar Chart\"\n",
    "\n",
    "ws.add_chart(chart2, \"G10\")\n",
    "\n",
    "\n",
    "chart3 = deepcopy(chart1)\n",
    "chart3.type = \"col\"\n",
    "chart3.style = 12\n",
    "chart3.grouping = \"stacked\"\n",
    "chart3.overlap = 100\n",
    "chart3.title = 'Stacked Chart'\n",
    "\n",
    "ws.add_chart(chart3, \"A27\")\n",
    "\n",
    "\n",
    "chart4 = deepcopy(chart1)\n",
    "chart4.type = \"bar\"\n",
    "chart4.style = 13\n",
    "chart4.grouping = \"percentStacked\"\n",
    "chart4.overlap = 100\n",
    "chart4.title = 'Percent Stacked Chart'\n",
    "\n",
    "ws.add_chart(chart4, \"G27\")\n",
    "\n",
    "wb.save(\"bar.xlsx\")"
   ]
  },
  {
   "cell_type": "markdown",
   "metadata": {},
   "source": [
    "### Line Chart"
   ]
  },
  {
   "cell_type": "code",
   "execution_count": 13,
   "metadata": {},
   "outputs": [],
   "source": [
    "from datetime import date\n",
    "\n",
    "from openpyxl import Workbook\n",
    "from openpyxl.chart import (\n",
    "    LineChart,\n",
    "    Reference,\n",
    ")\n",
    "from openpyxl.chart.axis import DateAxis\n",
    "\n",
    "wb = Workbook()\n",
    "ws = wb.active\n",
    "\n",
    "rows = [\n",
    "    ['Date', 'Batch 1', 'Batch 2', 'Batch 3'],\n",
    "    [date(2015,9, 1), 40, 30, 25],\n",
    "    [date(2015,9, 2), 40, 25, 30],\n",
    "    [date(2015,9, 3), 50, 30, 45],\n",
    "    [date(2015,9, 4), 30, 25, 40],\n",
    "    [date(2015,9, 5), 25, 35, 30],\n",
    "    [date(2015,9, 6), 20, 40, 35],\n",
    "]\n",
    "\n",
    "for row in rows:\n",
    "    ws.append(row)\n",
    "\n",
    "c1 = LineChart()\n",
    "c1.title = \"Line Chart\"\n",
    "c1.style = 13\n",
    "c1.y_axis.title = 'Size'\n",
    "c1.x_axis.title = 'Test Number'\n",
    "\n",
    "data = Reference(ws, min_col=2, min_row=1, max_col=4, max_row=7)\n",
    "c1.add_data(data, titles_from_data=True)\n",
    "\n",
    "# Style the lines\n",
    "s1 = c1.series[0]\n",
    "s1.marker.symbol = \"triangle\"\n",
    "s1.marker.graphicalProperties.solidFill = \"FF0000\" # Marker filling\n",
    "s1.marker.graphicalProperties.line.solidFill = \"FF0000\" # Marker outline\n",
    "\n",
    "s1.graphicalProperties.line.noFill = True\n",
    "\n",
    "s2 = c1.series[1]\n",
    "s2.graphicalProperties.line.solidFill = \"00AAAA\"\n",
    "s2.graphicalProperties.line.dashStyle = \"sysDot\"\n",
    "s2.graphicalProperties.line.width = 100050 # width in EMUs\n",
    "\n",
    "s2 = c1.series[2]\n",
    "s2.smooth = True # Make the line smooth\n",
    "\n",
    "ws.add_chart(c1, \"A10\")\n",
    "\n",
    "from copy import deepcopy\n",
    "stacked = deepcopy(c1)\n",
    "stacked.grouping = \"stacked\"\n",
    "stacked.title = \"Stacked Line Chart\"\n",
    "ws.add_chart(stacked, \"A27\")\n",
    "\n",
    "percent_stacked = deepcopy(c1)\n",
    "percent_stacked.grouping = \"percentStacked\"\n",
    "percent_stacked.title = \"Percent Stacked Line Chart\"\n",
    "ws.add_chart(percent_stacked, \"A44\")\n",
    "\n",
    "# Chart with date axis\n",
    "c2 = LineChart()\n",
    "c2.title = \"Date Axis\"\n",
    "c2.style = 12\n",
    "c2.y_axis.title = \"Size\"\n",
    "c2.y_axis.crossAx = 500\n",
    "c2.x_axis = DateAxis(crossAx=100)\n",
    "c2.x_axis.number_format = 'd-mmm'\n",
    "c2.x_axis.majorTimeUnit = \"days\"\n",
    "c2.x_axis.title = \"Date\"\n",
    "\n",
    "c2.add_data(data, titles_from_data=True)\n",
    "dates = Reference(ws, min_col=1, min_row=2, max_row=7)\n",
    "c2.set_categories(dates)\n",
    "\n",
    "ws.add_chart(c2, \"A61\")\n",
    "\n",
    "wb.save(\"line.xlsx\")"
   ]
  }
 ],
 "metadata": {
  "kernelspec": {
   "display_name": "Python 3",
   "language": "python",
   "name": "python3"
  },
  "language_info": {
   "codemirror_mode": {
    "name": "ipython",
    "version": 3
   },
   "file_extension": ".py",
   "mimetype": "text/x-python",
   "name": "python",
   "nbconvert_exporter": "python",
   "pygments_lexer": "ipython3",
   "version": "3.6.5"
  }
 },
 "nbformat": 4,
 "nbformat_minor": 2
}
