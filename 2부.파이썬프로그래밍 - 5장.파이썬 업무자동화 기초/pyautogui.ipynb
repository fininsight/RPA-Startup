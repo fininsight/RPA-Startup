{
 "cells": [
  {
   "cell_type": "markdown",
   "metadata": {},
   "source": [
    "# 1) pyautogui 설치하기"
   ]
  },
  {
   "cell_type": "code",
   "execution_count": 3,
   "metadata": {},
   "outputs": [],
   "source": [
    "#window\n",
    "#C:\\Python34\\pip.exe install pyautogui\n",
    "\n",
    "#linux\n",
    "#pip3 install python3-xlib\n",
    "#sudo apt-get install scrot\n",
    "#sudo apt-get install python3-tk\n",
    "#sudo apt-get install python3-dev\n",
    "#pip3 install pyautogui\n",
    "\n",
    "\n",
    "#mac\n",
    "#pip3 install pyobjc-core\n",
    "#pip3 install pyobjc\n",
    "#pip3 install pyautogui"
   ]
  },
  {
   "cell_type": "code",
   "execution_count": 23,
   "metadata": {},
   "outputs": [
    {
     "data": {
      "text/plain": [
       "Size(width=1680, height=1050)"
      ]
     },
     "execution_count": 23,
     "metadata": {},
     "output_type": "execute_result"
    }
   ],
   "source": [
    "import pyautogui\n",
    "\n",
    "# 화면 해상도 조회\n",
    "pyautogui.size()"
   ]
  },
  {
   "cell_type": "code",
   "execution_count": 21,
   "metadata": {},
   "outputs": [
    {
     "data": {
      "text/plain": [
       "Point(x=2036, y=733)"
      ]
     },
     "execution_count": 21,
     "metadata": {},
     "output_type": "execute_result"
    }
   ],
   "source": [
    "# 현재 마우스 포인터 위치를 조회\n",
    "pyautogui.position()"
   ]
  },
  {
   "cell_type": "markdown",
   "metadata": {},
   "source": [
    "***"
   ]
  },
  {
   "cell_type": "markdown",
   "metadata": {},
   "source": [
    "# 2) 마우스 제어하기"
   ]
  },
  {
   "cell_type": "markdown",
   "metadata": {},
   "source": [
    "## 마우스 이동하기"
   ]
  },
  {
   "cell_type": "markdown",
   "metadata": {},
   "source": [
    "* moveTo(x, y) : (x, y)의 좌표로 마우스를 이동한다.\n",
    "* move(a, b) : 현재 마우스 위치를 기준으로 x축 a만큼, y축으로 b만큼 이동한다."
   ]
  },
  {
   "cell_type": "code",
   "execution_count": 5,
   "metadata": {},
   "outputs": [],
   "source": [
    "# x:100, y:200 위치로 이동하기\n",
    "pyautogui.moveTo(100, 200)"
   ]
  },
  {
   "cell_type": "code",
   "execution_count": 6,
   "metadata": {},
   "outputs": [],
   "source": [
    "# mac (retina)의 경우 나누기2를 해줘야함\n",
    "pyautogui.moveTo(1054, 822)"
   ]
  },
  {
   "cell_type": "code",
   "execution_count": 11,
   "metadata": {},
   "outputs": [],
   "source": [
    "# 현재 마우스 위치에서 50px 왼쪽(x축으로)으로 이동\n",
    "# 양수는 오른쪽으로, 음수는 왼쪽으로 이동\n",
    "pyautogui.move(-50, 0)"
   ]
  },
  {
   "cell_type": "code",
   "execution_count": 12,
   "metadata": {},
   "outputs": [],
   "source": [
    "# 현재 마우스 위치에서 50px 아래로(y축으로) 이동\n",
    "# 양수는 아래쪽으로, 음수는 위쪽으로 이동\n",
    "pyautogui.move(0, 50)"
   ]
  },
  {
   "cell_type": "markdown",
   "metadata": {},
   "source": [
    "## 마우스 드래그하기"
   ]
  },
  {
   "cell_type": "markdown",
   "metadata": {},
   "source": [
    "* dragTo(a, b, button='left') : (a, b)좌표로 지정된 버튼을 클릭한 상태로 드래그 한다. 버튼은 별도로 지정하지 않으면 기본적으로 왼쪽 버튼을 클릭한다.\n",
    "* drag(a, b, button='left') : 현재 마우스 위치를 기준으로 x축 a만큼, y축으로 b만큼 이동하며 드래그 한다. 버튼은 별도로 지정하지 않으면 기본적으로 왼쪽 버튼을 클릭한다.\n",
    "\n",
    "\n",
    "버튼 종류는 left, middle, right가 있다."
   ]
  },
  {
   "cell_type": "code",
   "execution_count": 18,
   "metadata": {},
   "outputs": [],
   "source": [
    "# 왼쪽 버튼을 클릭하며 (100, 200) 좌표로 드래그 \n",
    "pyautogui.dragTo(100, 200, button='left')     "
   ]
  },
  {
   "cell_type": "code",
   "execution_count": 16,
   "metadata": {},
   "outputs": [],
   "source": [
    "# 왼쪽 버튼을 클릭하며 (300, 400) 좌표로 2초 동안 드래그 \n",
    "pyautogui.dragTo(300, 400,  , button='left')  "
   ]
  },
  {
   "cell_type": "code",
   "execution_count": 20,
   "metadata": {},
   "outputs": [],
   "source": [
    "# 오른쪽 버튼 클릭하며 왼쪽으로 30px 이동. 2초 동안 드래그\n",
    "pyautogui.drag(30, 0, 2, button='right') "
   ]
  },
  {
   "cell_type": "markdown",
   "metadata": {},
   "source": [
    "## 마우스 클릭"
   ]
  },
  {
   "cell_type": "markdown",
   "metadata": {},
   "source": [
    "* click() : 현재 마우스 위치에서 클릭한다.\n",
    "* click(x, y) : (x, y)좌표에서 마우스를 클릭한다.\n",
    "* click(button) : 지정된(left, middle, right) 마우스 버튼을 클릭한다.\n",
    "* click(clicks) : 지정된 클릭회수(clicks) 만큼 마우스 위치에서 클릭한다.\n",
    "* click(interval) : 2번 이상 클릭할 경우, 클릭 간 대기시간(interval) 후 다시 클릭한다.\n",
    "* doubleclick() : 현재 마우스 위치에서 더블클릭한다."
   ]
  },
  {
   "cell_type": "code",
   "execution_count": 27,
   "metadata": {},
   "outputs": [],
   "source": [
    "# 현재 위치에서 마우스 왼쪽 버튼 클릭\n",
    "pyautogui.click() "
   ]
  },
  {
   "cell_type": "code",
   "execution_count": 28,
   "metadata": {},
   "outputs": [],
   "source": [
    "# (100, 200) 좌표에서 마우스 왼쪽 버튼을 클릭\n",
    "pyautogui.click(x=100, y=200)  "
   ]
  },
  {
   "cell_type": "code",
   "execution_count": 29,
   "metadata": {},
   "outputs": [],
   "source": [
    "# 현재 위치에서 마우스 오른쪽 버튼 클릭\n",
    "pyautogui.click(button='right')  "
   ]
  },
  {
   "cell_type": "code",
   "execution_count": 30,
   "metadata": {},
   "outputs": [],
   "source": [
    "# 현재 위치에서 마우스 왼쪽 버튼 두번 클릭(=더블클릭)\n",
    "pyautogui.click(clicks=2)  "
   ]
  },
  {
   "cell_type": "code",
   "execution_count": 31,
   "metadata": {},
   "outputs": [],
   "source": [
    "# 현재 위치에서 마우스 왼쪽 버튼 두번 클릭(=더블클릭)하는데 클릭 간 0.25초 대기 시간 있음\n",
    "pyautogui.click(clicks=2, interval=0.25)  "
   ]
  },
  {
   "cell_type": "code",
   "execution_count": 32,
   "metadata": {},
   "outputs": [],
   "source": [
    "# 현재 위치에서 마우스 오른쪽 버튼 세번 클릭하는데 클릭간 0.25초 대기 시간 있음\n",
    "pyautogui.click(button='right', clicks=3, interval=0.25)  "
   ]
  },
  {
   "cell_type": "code",
   "execution_count": 33,
   "metadata": {},
   "outputs": [],
   "source": [
    "# 현재 위치에서 마우스 왼쪽버튼 더블클릭\n",
    "pyautogui.doubleClick()  "
   ]
  },
  {
   "cell_type": "markdown",
   "metadata": {},
   "source": [
    "***"
   ]
  },
  {
   "cell_type": "markdown",
   "metadata": {},
   "source": [
    "# 3) 키보드 제어하기"
   ]
  },
  {
   "cell_type": "markdown",
   "metadata": {},
   "source": [
    "* typewrite(text) : text 를 타이핑 한다\n",
    "* press(key) : 지정된 키를 입력한다.\n",
    "* keyDown(key) : 지정된 키를 누르고 있는다.\n",
    "* keyUp(key) : 지정된 키 누르고 있던 것을 해제한다.\n",
    "* hotKey(key1, key2, ..) : 지정 단축키를 입력한다."
   ]
  },
  {
   "cell_type": "code",
   "execution_count": 28,
   "metadata": {},
   "outputs": [],
   "source": [
    "# (1054, 822) 위치를 클릭하고 \"hello world!\"를 입력\n",
    "pyautogui.click(x=1054, y=822) \n",
    "pyautogui.typewrite('Hello world!')"
   ]
  },
  {
   "cell_type": "code",
   "execution_count": null,
   "metadata": {},
   "outputs": [],
   "source": [
    "# 'Hello world!'를 입력하는데 각 문자 입력시 마다 0.25초 대기\n",
    "pyautogui.typewrite('Hello world!', interval=0.25) "
   ]
  },
  {
   "cell_type": "code",
   "execution_count": null,
   "metadata": {},
   "outputs": [],
   "source": [
    "pyautogui.press('enter')  # Enter키 입력\n",
    "pyautogui.press('f1')     # F1 키 입력\n",
    "pyautogui.press('left')   # 왼쪽키 입력"
   ]
  },
  {
   "cell_type": "markdown",
   "metadata": {},
   "source": [
    "<pre>['\\t', '\\n', '\\r', ' ', '!', '\"', '#', '$', '%', '&', \"'\", '(',')', '*', '+', ',', '-', '.', '/', '0', '1', '2', '3', '4', '5', '6', '7','8', '9', ':', ';', '<', '=', '>', '?', '@', '[', '\\\\', ']', '^', '_', '`','a', 'b', 'c', 'd', 'e','f', 'g', 'h', 'i', 'j', 'k', 'l', 'm', 'n', 'o','p', 'q', 'r', 's', 't', 'u', 'v', 'w', 'x', 'y', 'z', '{', '|', '}', '~','accept', 'add', 'alt', 'altleft', 'altright', 'apps', 'backspace','browserback', 'browserfavorites', 'browserforward', 'browserhome','browserrefresh', 'browsersearch', 'browserstop', 'capslock', 'clear','convert', 'ctrl', 'ctrlleft', 'ctrlright', 'decimal', 'del', 'delete','divide', 'down', 'end', 'enter', 'esc', 'escape', 'execute', 'f1', 'f10','f11', 'f12', 'f13', 'f14', 'f15', 'f16', 'f17', 'f18', 'f19', 'f2', 'f20','f21', 'f22', 'f23', 'f24', 'f3', 'f4', 'f5', 'f6', 'f7', 'f8', 'f9','final', 'fn', 'hanguel', 'hangul', 'hanja', 'help', 'home', 'insert', 'junja','kana', 'kanji', 'launchapp1', 'launchapp2', 'launchmail','launchmediaselect', 'left', 'modechange', 'multiply', 'nexttrack','nonconvert', 'num0', 'num1', 'num2', 'num3', 'num4', 'num5', 'num6','num7', 'num8', 'num9', 'numlock', 'pagedown', 'pageup', 'pause', 'pgdn','pgup', 'playpause', 'prevtrack', 'print', 'printscreen', 'prntscrn','prtsc', 'prtscr', 'return', 'right', 'scrolllock', 'select', 'separator','shift', 'shiftleft', 'shiftright', 'sleep', 'space', 'stop', 'subtract', 'tab','up', 'volumedown', 'volumemute', 'volumeup', 'win', 'winleft', 'winright', 'yen','command', 'option', 'optionleft', 'optionright']</pre>"
   ]
  },
  {
   "cell_type": "code",
   "execution_count": null,
   "metadata": {},
   "outputs": [],
   "source": [
    "pyautogui.keyDown('shift')  # shift키를 누르고 있음\n",
    "pyautogui.press('left')     # 왼쪽키 입력\n",
    "pyautogui.press('left')     # 왼쪽키 입력\n",
    "pyautogui.press('left')     # 왼쪽키 입력\n",
    "pyautogui.keyUp('shift')    # shift키 누르가 해제"
   ]
  },
  {
   "cell_type": "code",
   "execution_count": null,
   "metadata": {},
   "outputs": [],
   "source": [
    "pyautogui.press(['left', 'left', 'left']) # 왼쪽키를 세번 누름"
   ]
  },
  {
   "cell_type": "code",
   "execution_count": null,
   "metadata": {},
   "outputs": [],
   "source": [
    "pyautogui.hotkey('ctrl', 'shift', 'esc') # ctrl + shift + esc 키를 누름"
   ]
  },
  {
   "cell_type": "code",
   "execution_count": 29,
   "metadata": {},
   "outputs": [],
   "source": [
    "pyautogui.keyDown('ctrl') #ctrl 키를 누르고 있음\n",
    "pyautogui.keyDown('shift') #shift 키를 누르고 있음\n",
    "pyautogui.keyDown('esc') #esc 키를 누르고 있음\n",
    "pyautogui.keyUp('esc') #esc 키 누르기 해제\n",
    "pyautogui.keyUp('shift') #shift 키 누르기 해제\n",
    "pyautogui.keyUp('ctrl') #ctrl 키 누르기 해제\n"
   ]
  },
  {
   "cell_type": "markdown",
   "metadata": {},
   "source": [
    "***"
   ]
  },
  {
   "cell_type": "markdown",
   "metadata": {},
   "source": [
    "# 4) 스크린샷이용한 마우스 제어하기"
   ]
  },
  {
   "cell_type": "markdown",
   "metadata": {},
   "source": [
    "* screenshot() : 현재 화면 스크린샷 생성한다.\n",
    "* screenshot(filename) : 현재 화면 스크린샷을 생성해서 filename으로 저정한다 \n",
    "* locateOnScreen(filename) : 현재 화면 내에서 filename에 해당하는 이미지와 일치는 위치를 조회한다.\n",
    "* center() : 찾은 위치의 가운데 위취를 조회한다."
   ]
  },
  {
   "cell_type": "code",
   "execution_count": 8,
   "metadata": {},
   "outputs": [],
   "source": [
    "# 현재 화면 스크린샷을 생성하여 im1 변수에 저장\n",
    "im1 = pyautogui.screenshot()"
   ]
  },
  {
   "cell_type": "code",
   "execution_count": 9,
   "metadata": {},
   "outputs": [],
   "source": [
    "# 현재 화면 스크린샷을 생성하여 my_screenshot.png 파일로 저장하고 im2 변수에 저장\n",
    "im2 = pyautogui.screenshot('my_screenshot.png')"
   ]
  },
  {
   "cell_type": "code",
   "execution_count": 20,
   "metadata": {},
   "outputs": [],
   "source": [
    "# 화면 내에서 텔레그램 버튼 이미지와 일치 위치는 찾아서 조회 (사각형 좌표를 조회)\n",
    "buttonTelegramlocation = pyautogui.locateOnScreen('telegram_btn.png')\n",
    "buttonTelegramlocation"
   ]
  },
  {
   "cell_type": "code",
   "execution_count": 23,
   "metadata": {},
   "outputs": [
    {
     "data": {
      "text/plain": [
       "Point(x=3163, y=1445)"
      ]
     },
     "execution_count": 23,
     "metadata": {},
     "output_type": "execute_result"
    }
   ],
   "source": [
    "# 찾은 위치(사각형 좌표)의 중심 좌표를 조회\n",
    "buttonTelegramPoint = pyautogui.center(buttonTelegramlocation)\n",
    "buttonTelegramPoint"
   ]
  },
  {
   "cell_type": "code",
   "execution_count": null,
   "metadata": {},
   "outputs": [],
   "source": [
    "# ㅇ\n",
    "buttonTelegramX, buttonTelegramY = buttonTelegramPoint\n",
    "pyautogui.click(buttonTelegramX, buttonTelegramY)  "
   ]
  },
  {
   "cell_type": "code",
   "execution_count": null,
   "metadata": {},
   "outputs": [],
   "source": [
    "pyautogui.click('telegram_btn.png') # a shortcut version to click on the center of where the 7 button was found"
   ]
  },
  {
   "cell_type": "code",
   "execution_count": null,
   "metadata": {},
   "outputs": [],
   "source": [
    "button7location = pyautogui.locateOnScreen('calc7key.png', grayscale=True)\n",
    ">>> button7location\n",
    "(1416, 562, 50, 41)"
   ]
  }
 ],
 "metadata": {
  "kernelspec": {
   "display_name": "Python 3",
   "language": "python",
   "name": "python3"
  },
  "language_info": {
   "codemirror_mode": {
    "name": "ipython",
    "version": 3
   },
   "file_extension": ".py",
   "mimetype": "text/x-python",
   "name": "python",
   "nbconvert_exporter": "python",
   "pygments_lexer": "ipython3",
   "version": "3.6.5"
  }
 },
 "nbformat": 4,
 "nbformat_minor": 2
}
