{
 "cells": [
  {
   "cell_type": "code",
   "execution_count": 11,
   "metadata": {},
   "outputs": [],
   "source": [
    "from pywinauto import Application"
   ]
  },
  {
   "cell_type": "markdown",
   "metadata": {},
   "source": [
    "### backend란? \n",
    "\n",
    "pywinauto를 설치하고나면 해야하는 것은 어떤 어플리케이션에\n",
    " 접근하는 기술(pywinauto 백엔드)를 사용할 지를 정해야 한다.\n",
    "\n",
    "- Win32 API(backend=\"win32\") 현재 디폴트값\n",
    "\n",
    "MFC, VB6, VCL,  간단한 WinForms과 대부분 레거시 앱에 대한 통제가 필요할 때 사용됨.\n",
    "\n",
    "- MS UI Automation\n",
    "\n",
    "Winforms, WPF, 스토어앱들, Qt5, 브라우저(크롬의 경우에는 —force-renderer-accessibility 라는 플래그를 실행전에 켜주어야 한다.\n",
    "\n",
    "이 예제에서는 kakao talk을 다룰 것 이기 때문에 backend로 uia(MS UI Automation)를 사용할 것이다. 만일 backend로 win32 api를 이용할 것이라면 backend='win32'를 지정해주면된다."
   ]
  },
  {
   "cell_type": "markdown",
   "metadata": {},
   "source": [
    "### pywinauto는 2가지 방법으로 window application을 제어할 수 있다.\n",
    "- start\n",
    "제어하려는 어플리케이션이 실행되지 않았을 때, 실행시키는 동시에 해당 어플리케이션을 Application object로 얻을 수 있.\n",
    "\n",
    "- connect\n",
    "이미 실행된 어플리케이션의 process id , title, file경로 등을 통해서 Application object를 얻을 수 있다."
   ]
  },
  {
   "cell_type": "code",
   "execution_count": 47,
   "metadata": {},
   "outputs": [],
   "source": [
    "kakao_application = Application(backend='uia').start(r\"C:\\Program Files (x86)\\Kakao\\KakaoTalk\\KakaoTalk.exe\")"
   ]
  },
  {
   "cell_type": "markdown",
   "metadata": {},
   "source": [
    "### psutil module로 process id를 얻고 그 process id를 이용하여 Application객체를 만들 수 있다. 하지만, 동일한 이름의 process가 많은 경우에는 적합하지 않다. "
   ]
  },
  {
   "cell_type": "code",
   "execution_count": 48,
   "metadata": {},
   "outputs": [
    {
     "name": "stdout",
     "output_type": "stream",
     "text": [
      "KakaoTalk.exe\n"
     ]
    }
   ],
   "source": [
    "process_id = 0\n",
    "process_handle = 0\n",
    "import psutil\n",
    "for process in psutil.process_iter():\n",
    "    if \"Kakao\" in process.name():\n",
    "        print(process.name())\n",
    "        process_id = process.pid \n",
    "        \n",
    "\n",
    "kakao_application = Application(backend='uia').connect(process=process_id)"
   ]
  },
  {
   "cell_type": "markdown",
   "metadata": {},
   "source": [
    "### Application 객체에서 WindowSpecification으로 변환하기\n",
    "WindowSpecification 클래스는 pywinauto api의 핵심 개념이다. \n",
    "WindowSpecification은 매칭/탐색 알고리즘을 이용하여 실제 윈도우 객체를 얻을 수 있다.\n",
    "Application객체에서 WindowSpecification객체로의 첫 진입점은 top_window메소드를 통해서 이루어진다."
   ]
  },
  {
   "cell_type": "code",
   "execution_count": 49,
   "metadata": {},
   "outputs": [],
   "source": [
    "top_window_object = kakao_application.top_window()"
   ]
  },
  {
   "cell_type": "markdown",
   "metadata": {},
   "source": [
    "### application 구조 탐색하기 : print_control_identifiers\n",
    "print_control_identifiers를 이용하여 application의 계층구조를 볼 수 있다. HTML처럼 계층구조임."
   ]
  },
  {
   "cell_type": "code",
   "execution_count": 50,
   "metadata": {},
   "outputs": [
    {
     "name": "stdout",
     "output_type": "stream",
     "text": [
      "Control Identifiers:\n",
      "\n",
      "Dialog - 'KakaoTalk'    (L1107, T134, R1831, B897)\n",
      "['KakaoTalk', 'KakaoTalkDialog', 'Dialog']\n",
      "child_window(title=\"KakaoTalk\", control_type=\"Window\")\n",
      "   | \n",
      "   | Pane - 'KakaoTalkEdgeWnd'    (L1107, T134, R1831, B897)\n",
      "   | ['Pane', 'KakaoTalkEdgeWndPane', 'KakaoTalkEdgeWnd', 'Pane0', 'Pane1']\n",
      "   | child_window(title=\"KakaoTalkEdgeWnd\", control_type=\"Pane\")\n",
      "   | \n",
      "   | Pane - 'OnlineMainView_0x000505f6'    (L1108, T165, R1830, B795)\n",
      "   | ['Pane2', 'OnlineMainView_0x000505f6Pane', 'OnlineMainView_0x000505f6']\n",
      "   | child_window(title=\"OnlineMainView_0x000505f6\", auto_id=\"132\", control_type=\"Pane\")\n",
      "   |    | \n",
      "   |    | Pane - 'ContactListView_0x000700bc'    (L1108, T227, R1830, B795)\n",
      "   |    | ['Pane3', 'ContactListView_0x000700bcPane', 'ContactListView_0x000700bc']\n",
      "   |    | child_window(title=\"ContactListView_0x000700bc\", auto_id=\"130\", control_type=\"Pane\")\n",
      "   |    |    | \n",
      "   |    |    | Pane - 'ContactListCtrl_0x00020352'    (L1108, T270, R1830, B795)\n",
      "   |    |    | ['Pane4', 'ContactListCtrl_0x00020352Pane', 'ContactListCtrl_0x00020352']\n",
      "   |    |    | child_window(title=\"ContactListCtrl_0x00020352\", auto_id=\"1003\", control_type=\"Pane\")\n",
      "   |    |    |    | \n",
      "   |    |    |    | Pane - ''    (L1816, T270, R1830, B795)\n",
      "   |    |    |    | ['', 'Pane5', '0', '1']\n",
      "   |    |    |    | child_window(auto_id=\"202\", control_type=\"Pane\")\n",
      "   | \n",
      "   | Pane - ''    (L1108, T796, R1830, B896)\n",
      "   | ['2', 'Pane6']\n",
      "   | child_window(auto_id=\"1071\", control_type=\"Pane\")\n"
     ]
    }
   ],
   "source": [
    "top_window_object.print_control_identifiers()"
   ]
  },
  {
   "cell_type": "markdown",
   "metadata": {},
   "source": [
    "가장 최상위에 Dialog control type이며, 이름은 KakaoTalk인 windowSpecification 객체로 이루어져있고 이 최상위 객체는 자식으로 3개의 Pane WindowSpecification객체를 가지고 있다. 자식으로 이동하기 위해서는 \n",
    "\n",
    "   | Pane - 'KakaoTalkEdgeWnd'    (L1107, T134, R1831, B897)\n",
    "   | ['Pane', 'KakaoTalkEdgeWndPane', 'KakaoTalkEdgeWnd', 'Pane0', 'Pane1']\n",
    "   | child_window(title=\"KakaoTalkEdgeWnd\", control_type=\"Pane\")\n",
    "\n",
    "top_window_object.child_window(title=\"KakaoTalkEdge\\nd\", control_type=\"Pane\") \n",
    "\n",
    "top_window_object.child_window(title_re=\"KakaoTalkEdge\\nd\", control_type=\"Pane\") # title_re 는 regular expression을 이용하기임 \n",
    "\n",
    "top_window_object.Pane \n",
    "\n",
    "top_window_object.KakaoTalkEdgeWndPane \n",
    "\n",
    "top_window_object.KakaoTalkEdgeWnd \n",
    "\n",
    "top_window_object.Pane0\n",
    "\n",
    "top_window_object.Pane1 \n",
    "\n",
    "top_window_object[\"Pane1\"] \n",
    "\n",
    "top_window_object[\"Pane0\"]\n",
    "\n",
    "top_window_object[\"KakaoTalkEdgeWnd\"]\n",
    "\n",
    "top_window_object.window(title=\"KakaoTalkEdgeWndPane\")\n",
    "\n",
    "등이다. title이 명확하지 않은 경우에는 title_re를 통해서 regular expression 방식으로 찾을 수 있다. 혹은\n",
    "['Pane', 'KakaoTalkEdgeWndPane', 'KakaoTalkEdgeWnd', 'Pane0', 'Pane1'] 이러한 리스트중 하나를 골라서 attribute에 접근하듯 접근자 . 을 이용하여 접근 할 수도 있으며 dictionary처럼 [\"attribute이름\"]을 통해 접근할 수도 있다. "
   ]
  },
  {
   "cell_type": "markdown",
   "metadata": {},
   "source": [
    "### 각 컨트롤 타입마다 할 수 있는 행위들이 지정되어 있음. control_type을 본 후  https://pywinauto.readthedocs.io/en/latest/controls_overview.html 에서 참고하여 제어할 것"
   ]
  },
  {
   "cell_type": "code",
   "execution_count": null,
   "metadata": {},
   "outputs": [],
   "source": []
  }
 ],
 "metadata": {
  "kernelspec": {
   "display_name": "rpa_project",
   "language": "python",
   "name": "rpa_project"
  },
  "language_info": {
   "codemirror_mode": {
    "name": "ipython",
    "version": 3
   },
   "file_extension": ".py",
   "mimetype": "text/x-python",
   "name": "python",
   "nbconvert_exporter": "python",
   "pygments_lexer": "ipython3",
   "version": "3.7.0"
  }
 },
 "nbformat": 4,
 "nbformat_minor": 2
}
