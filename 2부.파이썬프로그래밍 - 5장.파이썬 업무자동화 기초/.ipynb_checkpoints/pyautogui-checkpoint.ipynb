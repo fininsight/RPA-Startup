{
 "cells": [
  {
   "cell_type": "markdown",
   "metadata": {},
   "source": [
    "# pyautogui 설치하기"
   ]
  },
  {
   "cell_type": "code",
   "execution_count": 17,
   "metadata": {},
   "outputs": [],
   "source": [
    "#window\n",
    "#C:\\Python34\\pip.exe install pyautogui\n",
    "\n",
    "#linux\n",
    "#pip3 install python3-xlib\n",
    "#sudo apt-get install scrot\n",
    "#sudo apt-get install python3-tk\n",
    "#sudo apt-get install python3-dev\n",
    "#pip3 install pyautogui\n",
    "\n",
    "\n",
    "#mac\n",
    "#pip3 install pyobjc-core\n",
    "#pip3 install pyobjc\n",
    "#pip3 install pyautogui"
   ]
  },
  {
   "cell_type": "code",
   "execution_count": 18,
   "metadata": {},
   "outputs": [
    {
     "data": {
      "text/plain": [
       "Point(x=3689, y=542)"
      ]
     },
     "execution_count": 18,
     "metadata": {},
     "output_type": "execute_result"
    }
   ],
   "source": [
    "import pyautogui\n",
    "\n",
    "pyautogui.size()\n",
    "pyautogui.position()"
   ]
  },
  {
   "cell_type": "markdown",
   "metadata": {},
   "source": [
    "# 마우스 제어하기"
   ]
  },
  {
   "cell_type": "markdown",
   "metadata": {},
   "source": [
    "## 마우스 이동하기"
   ]
  },
  {
   "cell_type": "code",
   "execution_count": 19,
   "metadata": {},
   "outputs": [],
   "source": [
    "# x:100, y:200 위치로 이동하기\n",
    "pyautogui.moveTo(100, 200)"
   ]
  },
  {
   "cell_type": "code",
   "execution_count": 23,
   "metadata": {},
   "outputs": [],
   "source": [
    "# mac (retina)의 경우 나누기2를 해줘야함\n",
    "pyautogui.moveTo(3398/2, 195/2)"
   ]
  },
  {
   "cell_type": "code",
   "execution_count": 21,
   "metadata": {},
   "outputs": [],
   "source": [
    "# 현재 마우스 위치에서 50px 아래로 이동\n",
    "pyautogui.move(0, 50)"
   ]
  },
  {
   "cell_type": "code",
   "execution_count": 22,
   "metadata": {},
   "outputs": [],
   "source": [
    "# 현재 마우스 위치에서 50px 왼쪽으로 이동\n",
    "pyautogui.move(-50, 0)"
   ]
  },
  {
   "cell_type": "markdown",
   "metadata": {},
   "source": [
    "## 마우스 드래그하기"
   ]
  },
  {
   "cell_type": "code",
   "execution_count": 24,
   "metadata": {},
   "outputs": [],
   "source": [
    "# drag mouse to X of 100, Y of 200 while holding down left mouse button\n",
    "pyautogui.dragTo(100, 200, button='left')     "
   ]
  },
  {
   "cell_type": "code",
   "execution_count": null,
   "metadata": {},
   "outputs": [],
   "source": [
    "# drag mouse to X of 300, Y of 400 over 2 seconds while holding down left mouse button\n",
    "pyautogui.dragTo(300, 400, 2, button='left')  "
   ]
  },
  {
   "cell_type": "code",
   "execution_count": null,
   "metadata": {},
   "outputs": [],
   "source": [
    "# drag the mouse left 30 pixels over 2 seconds while holding down the right mouse button\n",
    "pyautogui.drag(30, 0, 2, button='right') "
   ]
  }
 ],
 "metadata": {
  "kernelspec": {
   "display_name": "Python 3",
   "language": "python",
   "name": "python3"
  },
  "language_info": {
   "codemirror_mode": {
    "name": "ipython",
    "version": 3
   },
   "file_extension": ".py",
   "mimetype": "text/x-python",
   "name": "python",
   "nbconvert_exporter": "python",
   "pygments_lexer": "ipython3",
   "version": "3.6.5"
  }
 },
 "nbformat": 4,
 "nbformat_minor": 2
}
