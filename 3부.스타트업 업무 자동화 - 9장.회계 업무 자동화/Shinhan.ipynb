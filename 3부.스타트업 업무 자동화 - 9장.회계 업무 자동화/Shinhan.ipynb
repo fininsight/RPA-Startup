{
 "cells": [
  {
   "cell_type": "code",
   "execution_count": 2,
   "metadata": {},
   "outputs": [],
   "source": [
    "import os\n",
    "import time\n",
    "\n",
    "\n",
    "from selenium import webdriver\n",
    "from selenium.webdriver.chrome.options import Options\n",
    "from selenium.webdriver.support.ui import Select\n",
    "from selenium.webdriver.common.action_chains import ActionChains\n",
    "\n",
    "from selenium.webdriver.common.by import By\n",
    "from selenium.webdriver.support.ui import WebDriverWait\n",
    "from selenium.webdriver.support import expected_conditions as EC\n",
    "\n",
    "import pyautogui\n"
   ]
  },
  {
   "cell_type": "code",
   "execution_count": 18,
   "metadata": {},
   "outputs": [],
   "source": [
    "certificate_password = os.getenv(\"CERTIFICATE_PASSWORD\")\n",
    "driver_path = os.getenv(\"DRIVER_PATH\", \"C:/dev/Chrome/chromedriver\")\n",
    "file_download_path = os.getenv(\"FILE_DOWNLOAD_PATH\", \"C:\\\\dev\\\\files\")\n",
    "date_from = \"20190201\"\n",
    "date_to = \"20190310\"\n",
    "account_info_path = os.getenv(\"ACCOUNT_INFO_PATH\", \"bank/계좌내역_통합1.xlsx\")"
   ]
  },
  {
   "cell_type": "markdown",
   "metadata": {},
   "source": [
    "### <a id=\"btn_certLogin\" class=\"w2anchor2 \" href=\"javascript:void(null);\">공인인증서로그인</a>"
   ]
  },
  {
   "cell_type": "code",
   "execution_count": 43,
   "metadata": {},
   "outputs": [],
   "source": [
    "\n",
    "# def find_clickable_element_by_xpath_until_finding(driver, xpath):\n",
    "#     O"
   ]
  },
  {
   "cell_type": "code",
   "execution_count": null,
   "metadata": {},
   "outputs": [],
   "source": []
  },
  {
   "cell_type": "code",
   "execution_count": 48,
   "metadata": {},
   "outputs": [],
   "source": [
    "options = Options()\n",
    "# chrome user agent를 지정해주기\n",
    "options.add_argument(\"user-agent=Mozilla/5.0 (Windows NT 10.0; Win64; x64) AppleWebKit/537.36 (KHTML, like Gecko) Chrome/60.0.3112.113 Safari/537.36\")\n",
    "\n",
    "#     \"download.default_directory\" : // String which specifies where to download files to by default.\n",
    "#     \"download.prompt_for_download\" : // Boolean which specifies whether we should ask the user if we should download // a file (true) or just download it automatically.\n",
    "#     \"download.directory_upgrade\" : // Boolean that records if the download directory was changed by an // upgrade a unsafe location to a safe location.\n",
    "#     \"safebrowsing.enabled\" : \n",
    "\n",
    "options.add_experimental_option('prefs', {\n",
    "    \"download.default_directory\": file_download_path,\n",
    "    \"download.prompt_for_download\": False,\n",
    "    \"download.directory_upgrade\": True,\n",
    "    \"safebrowsing.enabled\": True\n",
    "})\n",
    "\n",
    "driver = webdriver.Chrome(driver_path, options=options)\n",
    "driver.implicitly_wait(10)\n",
    "driver.maximize_window()\n"
   ]
  },
  {
   "cell_type": "markdown",
   "metadata": {},
   "source": [
    "<tr id=\"id=cn%3DyessignCA%20Class%202%2Cou%3DAccreditedCA%2Co%3Dyessign%2Cc%3Dkr&amp;sn=24%3A36%3A18%3A41%3A\" class=\"data active\"><td><span class=\"ico cert1\">정상</span><span>은행/신용카드/보험(개인) - 신한은행</span></td><td><a href=\"javascript:void(null);\"><span>오지환()</span></a></td><td><a href=\"javascript:void(null);\"><span>2019-10-23</span></a></td><td><a href=\"javascript:void(null);\"><span>금융결제원</span></a></td></tr>"
   ]
  },
  {
   "cell_type": "markdown",
   "metadata": {},
   "source": [
    "### <input type=\"password\" title=\"password\" id=\"INI_userPw\" name=\"INI_userPw\" autocomplete=\"off\" placeholder=\"인증서 암호는 대소문자를 구분합니다.\" data-enc=\"on\" tk_security=\"true\">"
   ]
  },
  {
   "cell_type": "code",
   "execution_count": 49,
   "metadata": {},
   "outputs": [],
   "source": [
    "driver.get(\"https://bank.shinhan.com/index.jsp#252400000000\") #신한은행 로그인 화면\n",
    "button_for_certificate = driver.find_element_by_xpath(\"//a[@id='btn_certLogin']\")\n",
    "time.sleep(4)\n",
    "button_for_certificate.click()"
   ]
  },
  {
   "cell_type": "markdown",
   "metadata": {},
   "source": [
    "### 인증서 로그인"
   ]
  },
  {
   "cell_type": "markdown",
   "metadata": {},
   "source": [
    "#### 인증서선택"
   ]
  },
  {
   "cell_type": "code",
   "execution_count": 50,
   "metadata": {},
   "outputs": [],
   "source": [
    "certificate_tag = driver.find_element_by_xpath(\"//tr[descendant::span[contains(text(), '오지환')]]\") # 이 정보는 있어야함.\n",
    "certificate_tag.click()\n",
    "input_certificate = driver.find_element_by_xpath(\"//input[@id='INI_userPw']\")\n",
    "input_certificate.click()\n",
    "driver.execute_script(\"arguments[0].focus();\", input_certificate)\n",
    "time.sleep(2)\n",
    "pyautogui.typewrite(certificate_password)\n",
    "\n",
    "time.sleep(1)\n",
    "button_for_click = driver.find_element_by_xpath(\"//button[text()='확인'][@id='INI_certSubmit']\")\n",
    "button_for_click.click()"
   ]
  },
  {
   "cell_type": "markdown",
   "metadata": {},
   "source": [
    "### <a id=\"wq_uuid_203\" class=\"w2group\" href=\"javascript:void(null);\"><span id=\"wq_uuid_204\" class=\"w2span \">조회</span></a>"
   ]
  },
  {
   "cell_type": "code",
   "execution_count": 52,
   "metadata": {},
   "outputs": [],
   "source": [
    "# <a id=\"btn_personal\" class=\"w2anchor2 on\" href=\"javascript:void(null);\">개인</a>"
   ]
  },
  {
   "cell_type": "code",
   "execution_count": 54,
   "metadata": {},
   "outputs": [],
   "source": [
    "personal_info_button = driver.find_element_by_xpath(\"//a[@id='btn_personal'][text()='개인']\")\n",
    "personal_info_button.click()\n",
    "\n",
    "inquiry_account_info = driver.find_element_by_xpath(\"//a[contains(@href,'javascript:shbObj.IB00000RF01.fncShowGridClick')][text()='조회'][1]\")\n",
    "inquiry_account_info.click()"
   ]
  },
  {
   "cell_type": "code",
   "execution_count": null,
   "metadata": {},
   "outputs": [],
   "source": [
    "selector_for_enquiry = driver.find_element_by_xpath(\"//select[@title='조회계좌번호']\")\n",
    "selector_for_enquiry = Select(selector_for_enquiry)"
   ]
  },
  {
   "cell_type": "markdown",
   "metadata": {},
   "source": [
    "### <a id=\"wfr_grd_inq_btngrp_div_btn_downFile\" style=\"visibility: visible;\" class=\"w2anchor2 \" href=\"javascript:void(null);\" aria-hidden=\"false\">파일저장</a>"
   ]
  },
  {
   "cell_type": "code",
   "execution_count": 114,
   "metadata": {},
   "outputs": [],
   "source": [
    "def find_element_by_xpath_until_presence(driver, xpath):\n",
    "    wait = WebDriverWait(driver, 10)\n",
    "    return wait.until(EC.presence_of_element_located((By.XPATH, xpath)))\n",
    "\n",
    "def find_element_by_xpath_until_visible(driver, xpath):\n",
    "    wait = WebDriverWait(driver, 10)\n",
    "    return wait.until(EC.visibility_of_element_located((By.XPATH, xpath)))\n",
    "\n",
    "def find_element_by_xpath_until_clickable(driver, xpath, waiting_time=10):\n",
    "    wait = WebDriverWait(driver, waiting_time)\n",
    "    return wait.until(EC.element_to_be_clickable((By.XPATH, xpath)))"
   ]
  },
  {
   "cell_type": "markdown",
   "metadata": {},
   "source": [
    "### <a id=\"wfr_grd_inq_btngrp_div_btn_downFile\" style=\"visibility: visible;\" class=\"w2anchor2 \" href=\"javascript:void(null);\" aria-hidden=\"false\">파일저장</a>"
   ]
  },
  {
   "cell_type": "code",
   "execution_count": 99,
   "metadata": {},
   "outputs": [],
   "source": [
    "selector_for_enquiry = driver.find_element_by_xpath(\"//select[@title='조회계좌번호']\")\n",
    "selector_for_enquiry = Select(selector_for_enquiry)\n",
    "\n",
    "for account in account_list:\n",
    "    selector_for_enquiry = driver.find_element_by_xpath(\"//select[@title='조회계좌번호']\")\n",
    "    selector_for_enquiry = Select(selector_for_enquiry)\n",
    "    if account in selector_for_enquiry.options:\n",
    "        print(account)\n"
   ]
  },
  {
   "cell_type": "code",
   "execution_count": 124,
   "metadata": {},
   "outputs": [
    {
     "name": "stdout",
     "output_type": "stream",
     "text": [
      "<selenium.webdriver.remote.webelement.WebElement (session=\"29c74179a0b98753f7f4fa76071857ea\", element=\"0.796658959909399-166\")>\n",
      "<selenium.webdriver.remote.webelement.WebElement (session=\"29c74179a0b98753f7f4fa76071857ea\", element=\"0.796658959909399-175\")>\n"
     ]
    }
   ],
   "source": [
    "account_number_list = []\n",
    "\n",
    "selector_for_enquiry = driver.find_element_by_xpath(\"//select[@title='조회계좌번호']\")\n",
    "selector_for_enquiry = Select(selector_for_enquiry)\n",
    "\n",
    "for option in selector_for_enquiry.options:\n",
    "    if option.get_attribute(\"value\") == \"선택\":\n",
    "        continue\n",
    "    account_number_list.append(option.get_attribute(\"value\"))\n",
    "    inquiry_account_info(driver, option.get_attribute(\"value\"))"
   ]
  },
  {
   "cell_type": "markdown",
   "metadata": {},
   "source": [
    "<select class=\"w2selectbox_native_select\" id=\"sbx_accno_input_0\" title=\"조회계좌번호\"><option>110-332-717310 [신한 주거래 우대통장(저…]</option><option>223-073-782806 [마이홈플랜 주택청약 종합…]</option></select>\n",
    "<input id=\"wfr_searchCalendar_ica_fr_input\" name=\"wfr_searchCalendar_ica_fr_input\" class=\"w2inputCalendar_divInput\" title=\"시작일자\" style=\"width: 88px; height: 28px;\">\n",
    "<input id=\"wfr_searchCalendar_ica_to_input\" name=\"wfr_searchCalendar_ica_to_input\" class=\"w2inputCalendar_divInput\" title=\"종료일자\" style=\"width: 88px; height: 28px;\">\n",
    "<a id=\"btn_inquiry\" class=\"w2anchor2 btnTySky01 large\" href=\"javascript:void(null);\">조회</a>\n",
    "<a id=\"wfr_grd_inq_btngrp_div_btn_downFile\" style=\"visibility: visible;\" class=\"w2anchor2 \" href=\"javascript:void(null);\" aria-hidden=\"false\">파일저장</a>\n",
    "<input type=\"checkbox\" class=\"w2checkbox_input\" name=\"cbx_columnAll_input\" index=\"0\" id=\"cbx_columnAll_input_0\">\n",
    "<a id=\"btn_saveXls\" class=\"w2anchor2 btnTyBlue01 large\" href=\"javascript:void(null);\">엑셀저장</a>"
   ]
  },
  {
   "cell_type": "code",
   "execution_count": null,
   "metadata": {},
   "outputs": [],
   "source": [
    "def inquiry_account_info(driver, account_info):\n",
    "    selector_for_enquiry = driver.find_element_by_xpath(\"//select[@title='조회계좌번호']\")\n",
    "    selector_for_enquiry = Select(selector_for_enquiry)\n",
    "\n",
    "    for option in selector_for_enquiry.options:\n",
    "        \n",
    "        if account_info in option.get_attribute(\"value\"):\n",
    "            option.click()\n",
    "            break\n",
    "        \n",
    "    #     <a id=\"btn_inquiry\" class=\"w2anchor2 btnTySky01 large\" href=\"javascript:void(null);\">조회</a>\n",
    "    #     enquiry_duration_from = driver.find_element_by_xpath(\"//input[@id='wfr_searchCalendar_ica_fr_input']\")\n",
    "    #     enquiry_duration_to = driver.find_element_by_xpath(\"//input[@id='wfr_searchCalendar_ica_to_input']\")\n",
    "    #     enquiry_button = driver.find_element_by_xpath(\"//a[@id='btn_inquiry']\")\n",
    "    #     download_popup_button = driver.find_element_by_xpath(\"//a[@id='wfr_grd_inq_btngrp_div_btn_downFile']\")\n",
    "    enquiry_duration_from = find_element_by_xpath_until_find(driver, \"//input[@id='wfr_searchCalendar_ica_fr_input']\")\n",
    "    enquiry_duration_to = find_element_by_xpath_until_find(driver, \"//input[@id='wfr_searchCalendar_ica_to_input']\")\n",
    "    enquiry_button = find_element_by_xpath_until_find(driver, \"//a[@id='btn_inquiry']\")\n",
    "\n",
    "    enquiry_duration_from.clear()\n",
    "    enquiry_duration_from.send_keys(date_from)\n",
    "    enquiry_duration_to.clear()\n",
    "    enquiry_duration_to.send_keys(date_to)\n",
    "    driver.execute_script(\"arguments[0].click();\", enquiry_button)\n",
    "    time.sleep(3)\n",
    "#     enquiry_button.click()\n",
    "\n",
    "\n",
    "    download_popup_button = find_element_by_xpath_until_clickable(driver, \"//a[@id='wfr_grd_inq_btngrp_div_btn_downFile']\")\n",
    "    download_popup_button.click()\n",
    "    driver.execute_script(\"document.getElementById('wfr_grd_inq_btngrp_div_btn_downFile').click();\")\n",
    "\n",
    "    print(download_popup_button)\n",
    "#     print(download_popup_button.__dict__)\n",
    "#     actions = ActionChains(driver)\n",
    "#     actions.move_to_element(download_popup_button).click().perform()\n",
    "\n",
    "\n",
    "#     download_popup_button.click()\n",
    "    time.sleep(3)\n",
    "    iframe = driver.find_element_by_xpath(\"//iframe[@title='파일저장 프레임']\")\n",
    "    driver.switch_to.frame(iframe)\n",
    "    checkbox_for_download = driver.find_element_by_xpath(\"//input[@id='cbx_columnAll_input_0']\")\n",
    "    excel_download_button = driver.find_element_by_xpath(\"//a[@id='btn_saveXls'][text()='엑셀저장']\")\n",
    "    checkbox_for_download.click()\n",
    "    excel_download_button.click()\n",
    "    driver.switch_to.default_content()"
   ]
  },
  {
   "cell_type": "markdown",
   "metadata": {},
   "source": [
    "### 거래내역취합"
   ]
  },
  {
   "cell_type": "code",
   "execution_count": 19,
   "metadata": {},
   "outputs": [],
   "source": [
    "import glob\n",
    "import pandas as pd \n",
    "from openpyxl import load_workbook\n",
    "from xlrd import open_workbook"
   ]
  },
  {
   "cell_type": "markdown",
   "metadata": {},
   "source": [
    "### 신한은행에서 다운로드받은 내역은 신한은행_거래내역조회_{거래일시}로 되어있기에 신한은행*.xls로 검색함\n",
    "*가 의미하는 바는 신한은행으로 시작하는 모든 파일명 중 .xls 확장자만을 가지기"
   ]
  },
  {
   "cell_type": "code",
   "execution_count": 30,
   "metadata": {},
   "outputs": [
    {
     "name": "stdout",
     "output_type": "stream",
     "text": [
      "['C:\\\\dev\\\\files\\\\신한은행_거래내역조회_20190310131658.xls']\n"
     ]
    }
   ],
   "source": [
    "folder_path = os.path.join(file_download_path, \"신한은행*.xls\")\n",
    "file_list = glob.glob(folder_path)\n",
    "print(file_list)"
   ]
  },
  {
   "cell_type": "markdown",
   "metadata": {},
   "source": [
    "### b3셀에 계좌정보가 들어있음.\n",
    "이 다운로드 받은 엑셀파일은 시트가 1개라서 따로 시트를 찾는 로직을 작성할 필요가없다."
   ]
  },
  {
   "cell_type": "code",
   "execution_count": 31,
   "metadata": {},
   "outputs": [
    {
     "ename": "FileNotFoundError",
     "evalue": "[Errno 2] No such file or directory: 'C:\\\\dev\\\\files\\\\신한은행_거래내역조회_20190310131456.xls'",
     "output_type": "error",
     "traceback": [
      "\u001b[1;31m---------------------------------------------------------------------------\u001b[0m",
      "\u001b[1;31mFileNotFoundError\u001b[0m                         Traceback (most recent call last)",
      "\u001b[1;32m<ipython-input-31-29792525625e>\u001b[0m in \u001b[0;36m<module>\u001b[1;34m\u001b[0m\n\u001b[1;32m----> 1\u001b[1;33m \u001b[0mdf_result\u001b[0m \u001b[1;33m=\u001b[0m \u001b[0mpd\u001b[0m\u001b[1;33m.\u001b[0m\u001b[0mread_excel\u001b[0m\u001b[1;33m(\u001b[0m\u001b[0mio\u001b[0m\u001b[1;33m=\u001b[0m\u001b[1;34m\"C:\\\\dev\\\\files\\\\신한은행_거래내역조회_20190310131456.xls\"\u001b[0m\u001b[1;33m,\u001b[0m \u001b[0mskiprows\u001b[0m\u001b[1;33m=\u001b[0m\u001b[1;36m6\u001b[0m\u001b[1;33m,\u001b[0m \u001b[0mheader\u001b[0m\u001b[1;33m=\u001b[0m\u001b[1;36m0\u001b[0m\u001b[1;33m)\u001b[0m\u001b[1;33m\u001b[0m\u001b[0m\n\u001b[0m\u001b[0;32m      2\u001b[0m \u001b[1;33m\u001b[0m\u001b[0m\n\u001b[0;32m      3\u001b[0m \u001b[1;33m\u001b[0m\u001b[0m\n\u001b[0;32m      4\u001b[0m \u001b[0mprint\u001b[0m\u001b[1;33m(\u001b[0m\u001b[0mdf_result\u001b[0m\u001b[1;33m.\u001b[0m\u001b[0mcolumns\u001b[0m\u001b[1;33m)\u001b[0m\u001b[1;33m\u001b[0m\u001b[0m\n",
      "\u001b[1;32m~\\virtualenvironments\\rpa_project\\lib\\site-packages\\pandas\\util\\_decorators.py\u001b[0m in \u001b[0;36mwrapper\u001b[1;34m(*args, **kwargs)\u001b[0m\n\u001b[0;32m    176\u001b[0m                 \u001b[1;32melse\u001b[0m\u001b[1;33m:\u001b[0m\u001b[1;33m\u001b[0m\u001b[0m\n\u001b[0;32m    177\u001b[0m                     \u001b[0mkwargs\u001b[0m\u001b[1;33m[\u001b[0m\u001b[0mnew_arg_name\u001b[0m\u001b[1;33m]\u001b[0m \u001b[1;33m=\u001b[0m \u001b[0mnew_arg_value\u001b[0m\u001b[1;33m\u001b[0m\u001b[0m\n\u001b[1;32m--> 178\u001b[1;33m             \u001b[1;32mreturn\u001b[0m \u001b[0mfunc\u001b[0m\u001b[1;33m(\u001b[0m\u001b[1;33m*\u001b[0m\u001b[0margs\u001b[0m\u001b[1;33m,\u001b[0m \u001b[1;33m**\u001b[0m\u001b[0mkwargs\u001b[0m\u001b[1;33m)\u001b[0m\u001b[1;33m\u001b[0m\u001b[0m\n\u001b[0m\u001b[0;32m    179\u001b[0m         \u001b[1;32mreturn\u001b[0m \u001b[0mwrapper\u001b[0m\u001b[1;33m\u001b[0m\u001b[0m\n\u001b[0;32m    180\u001b[0m     \u001b[1;32mreturn\u001b[0m \u001b[0m_deprecate_kwarg\u001b[0m\u001b[1;33m\u001b[0m\u001b[0m\n",
      "\u001b[1;32m~\\virtualenvironments\\rpa_project\\lib\\site-packages\\pandas\\util\\_decorators.py\u001b[0m in \u001b[0;36mwrapper\u001b[1;34m(*args, **kwargs)\u001b[0m\n\u001b[0;32m    176\u001b[0m                 \u001b[1;32melse\u001b[0m\u001b[1;33m:\u001b[0m\u001b[1;33m\u001b[0m\u001b[0m\n\u001b[0;32m    177\u001b[0m                     \u001b[0mkwargs\u001b[0m\u001b[1;33m[\u001b[0m\u001b[0mnew_arg_name\u001b[0m\u001b[1;33m]\u001b[0m \u001b[1;33m=\u001b[0m \u001b[0mnew_arg_value\u001b[0m\u001b[1;33m\u001b[0m\u001b[0m\n\u001b[1;32m--> 178\u001b[1;33m             \u001b[1;32mreturn\u001b[0m \u001b[0mfunc\u001b[0m\u001b[1;33m(\u001b[0m\u001b[1;33m*\u001b[0m\u001b[0margs\u001b[0m\u001b[1;33m,\u001b[0m \u001b[1;33m**\u001b[0m\u001b[0mkwargs\u001b[0m\u001b[1;33m)\u001b[0m\u001b[1;33m\u001b[0m\u001b[0m\n\u001b[0m\u001b[0;32m    179\u001b[0m         \u001b[1;32mreturn\u001b[0m \u001b[0mwrapper\u001b[0m\u001b[1;33m\u001b[0m\u001b[0m\n\u001b[0;32m    180\u001b[0m     \u001b[1;32mreturn\u001b[0m \u001b[0m_deprecate_kwarg\u001b[0m\u001b[1;33m\u001b[0m\u001b[0m\n",
      "\u001b[1;32m~\\virtualenvironments\\rpa_project\\lib\\site-packages\\pandas\\io\\excel.py\u001b[0m in \u001b[0;36mread_excel\u001b[1;34m(io, sheet_name, header, names, index_col, usecols, squeeze, dtype, engine, converters, true_values, false_values, skiprows, nrows, na_values, parse_dates, date_parser, thousands, comment, skipfooter, convert_float, **kwds)\u001b[0m\n\u001b[0;32m    305\u001b[0m \u001b[1;33m\u001b[0m\u001b[0m\n\u001b[0;32m    306\u001b[0m     \u001b[1;32mif\u001b[0m \u001b[1;32mnot\u001b[0m \u001b[0misinstance\u001b[0m\u001b[1;33m(\u001b[0m\u001b[0mio\u001b[0m\u001b[1;33m,\u001b[0m \u001b[0mExcelFile\u001b[0m\u001b[1;33m)\u001b[0m\u001b[1;33m:\u001b[0m\u001b[1;33m\u001b[0m\u001b[0m\n\u001b[1;32m--> 307\u001b[1;33m         \u001b[0mio\u001b[0m \u001b[1;33m=\u001b[0m \u001b[0mExcelFile\u001b[0m\u001b[1;33m(\u001b[0m\u001b[0mio\u001b[0m\u001b[1;33m,\u001b[0m \u001b[0mengine\u001b[0m\u001b[1;33m=\u001b[0m\u001b[0mengine\u001b[0m\u001b[1;33m)\u001b[0m\u001b[1;33m\u001b[0m\u001b[0m\n\u001b[0m\u001b[0;32m    308\u001b[0m \u001b[1;33m\u001b[0m\u001b[0m\n\u001b[0;32m    309\u001b[0m     return io.parse(\n",
      "\u001b[1;32m~\\virtualenvironments\\rpa_project\\lib\\site-packages\\pandas\\io\\excel.py\u001b[0m in \u001b[0;36m__init__\u001b[1;34m(self, io, **kwds)\u001b[0m\n\u001b[0;32m    392\u001b[0m             \u001b[0mself\u001b[0m\u001b[1;33m.\u001b[0m\u001b[0mbook\u001b[0m \u001b[1;33m=\u001b[0m \u001b[0mxlrd\u001b[0m\u001b[1;33m.\u001b[0m\u001b[0mopen_workbook\u001b[0m\u001b[1;33m(\u001b[0m\u001b[0mfile_contents\u001b[0m\u001b[1;33m=\u001b[0m\u001b[0mdata\u001b[0m\u001b[1;33m)\u001b[0m\u001b[1;33m\u001b[0m\u001b[0m\n\u001b[0;32m    393\u001b[0m         \u001b[1;32melif\u001b[0m \u001b[0misinstance\u001b[0m\u001b[1;33m(\u001b[0m\u001b[0mself\u001b[0m\u001b[1;33m.\u001b[0m\u001b[0m_io\u001b[0m\u001b[1;33m,\u001b[0m \u001b[0mcompat\u001b[0m\u001b[1;33m.\u001b[0m\u001b[0mstring_types\u001b[0m\u001b[1;33m)\u001b[0m\u001b[1;33m:\u001b[0m\u001b[1;33m\u001b[0m\u001b[0m\n\u001b[1;32m--> 394\u001b[1;33m             \u001b[0mself\u001b[0m\u001b[1;33m.\u001b[0m\u001b[0mbook\u001b[0m \u001b[1;33m=\u001b[0m \u001b[0mxlrd\u001b[0m\u001b[1;33m.\u001b[0m\u001b[0mopen_workbook\u001b[0m\u001b[1;33m(\u001b[0m\u001b[0mself\u001b[0m\u001b[1;33m.\u001b[0m\u001b[0m_io\u001b[0m\u001b[1;33m)\u001b[0m\u001b[1;33m\u001b[0m\u001b[0m\n\u001b[0m\u001b[0;32m    395\u001b[0m         \u001b[1;32melse\u001b[0m\u001b[1;33m:\u001b[0m\u001b[1;33m\u001b[0m\u001b[0m\n\u001b[0;32m    396\u001b[0m             raise ValueError('Must explicitly set engine if not passing in'\n",
      "\u001b[1;32m~\\virtualenvironments\\rpa_project\\lib\\site-packages\\xlrd\\__init__.py\u001b[0m in \u001b[0;36mopen_workbook\u001b[1;34m(filename, logfile, verbosity, use_mmap, file_contents, encoding_override, formatting_info, on_demand, ragged_rows)\u001b[0m\n\u001b[0;32m    109\u001b[0m     \u001b[1;32melse\u001b[0m\u001b[1;33m:\u001b[0m\u001b[1;33m\u001b[0m\u001b[0m\n\u001b[0;32m    110\u001b[0m         \u001b[0mfilename\u001b[0m \u001b[1;33m=\u001b[0m \u001b[0mos\u001b[0m\u001b[1;33m.\u001b[0m\u001b[0mpath\u001b[0m\u001b[1;33m.\u001b[0m\u001b[0mexpanduser\u001b[0m\u001b[1;33m(\u001b[0m\u001b[0mfilename\u001b[0m\u001b[1;33m)\u001b[0m\u001b[1;33m\u001b[0m\u001b[0m\n\u001b[1;32m--> 111\u001b[1;33m         \u001b[1;32mwith\u001b[0m \u001b[0mopen\u001b[0m\u001b[1;33m(\u001b[0m\u001b[0mfilename\u001b[0m\u001b[1;33m,\u001b[0m \u001b[1;34m\"rb\"\u001b[0m\u001b[1;33m)\u001b[0m \u001b[1;32mas\u001b[0m \u001b[0mf\u001b[0m\u001b[1;33m:\u001b[0m\u001b[1;33m\u001b[0m\u001b[0m\n\u001b[0m\u001b[0;32m    112\u001b[0m             \u001b[0mpeek\u001b[0m \u001b[1;33m=\u001b[0m \u001b[0mf\u001b[0m\u001b[1;33m.\u001b[0m\u001b[0mread\u001b[0m\u001b[1;33m(\u001b[0m\u001b[0mpeeksz\u001b[0m\u001b[1;33m)\u001b[0m\u001b[1;33m\u001b[0m\u001b[0m\n\u001b[0;32m    113\u001b[0m     \u001b[1;32mif\u001b[0m \u001b[0mpeek\u001b[0m \u001b[1;33m==\u001b[0m \u001b[1;34mb\"PK\\x03\\x04\"\u001b[0m\u001b[1;33m:\u001b[0m \u001b[1;31m# a ZIP file\u001b[0m\u001b[1;33m\u001b[0m\u001b[0m\n",
      "\u001b[1;31mFileNotFoundError\u001b[0m: [Errno 2] No such file or directory: 'C:\\\\dev\\\\files\\\\신한은행_거래내역조회_20190310131456.xls'"
     ]
    }
   ],
   "source": [
    "df_result = pd.read_excel(io=\"C:\\\\dev\\\\files\\\\신한은행_거래내역조회_20190310131456.xls\", skiprows=6, header=0)\n",
    "\n",
    "\n",
    "print(df_result.columns)"
   ]
  },
  {
   "cell_type": "code",
   "execution_count": null,
   "metadata": {},
   "outputs": [],
   "source": []
  },
  {
   "cell_type": "code",
   "execution_count": 32,
   "metadata": {},
   "outputs": [
    {
     "name": "stdout",
     "output_type": "stream",
     "text": [
      "          거래일자      거래시간    적요    출금(원)    입금(원)            내용    잔액(원)   거래점\n",
      "0   2019-03-10  10:46:34  FB이체        0   100000           오지환  1274377   한남동\n",
      "1   2019-03-07  13:29:49  타행PC        0    40000        삼일회계법인  1174377  (우리)\n",
      "2   2019-03-06  18:40:38  FB이체        0    13000           오지환  1134377   한남동\n",
      "3   2019-03-06  18:30:14  FB이체        0   148800           오지환  1121377   한남동\n",
      "4   2019-03-04  18:40:04  FB카드   128600        0       롯데카드(주)   972577   대업2\n",
      "5   2019-03-01  16:18:20   신한체    23000        0         PAYCO  1101177   원신한\n",
      "6   2019-02-28  11:30:10  타행PC        0    34200        삼일회계법인  1124177  (우리)\n",
      "7   2019-02-28  11:29:35  타행PC        0    60000        삼일회계법인  1089977  (우리)\n",
      "8   2019-02-27  09:13:51  FB이체   700000        0           오지환  1029977   역삼역\n",
      "9   2019-02-27  09:12:34  FB이체        0    70800           오지환  1729977   한남동\n",
      "10  2019-02-25  18:03:27   카드결  1139970        0          신한카드  1659177   원신한\n",
      "11  2019-02-25  10:48:55  FB이체  2000000        0           오지환  2799147   역삼역\n",
      "12  2019-02-25  10:01:07  타행PC        0  3813840       급여삼일회계법  4799147  (우리)\n",
      "13  2019-02-25  08:30:55  적립CC   100000        0  223073782806   985307   종로3\n",
      "14  2019-02-24  18:14:58  FB이체    10000        0           오지환  1085307   역삼역\n",
      "15  2019-02-24  13:33:47  FB이체        0    72000           오지환  1095307   한남동\n",
      "16  2019-02-21  09:39:09  타행PC        0    80000        삼일회계법인  1023307  (우리)\n",
      "17  2019-02-15  18:53:01   신한체    18959        0       PAYCO_4   943307   원신한\n",
      "18  2019-02-14  15:03:00  FB이체   100000        0           이대로   962266   역삼역\n",
      "19  2019-02-10  23:23:00  FB이체        0    31500           오지환  1062266   한남동\n",
      "20  2019-02-09  18:48:00  FB이체        0    17350           오지환  1030766   한남동\n",
      "21  2019-02-08  18:12:47  FB이체   100000        0           오지환  1013416   역삼역\n",
      "22  2019-02-08  11:49:41  FB이체   100000        0           오지환  1113416   역삼역\n",
      "23  2019-02-07  23:19:45  FB이체   300000        0           오지환  1213416   역삼역\n",
      "24  2019-02-06  11:45:42  FB이체        0   720000           오지환  1513416   한남동\n",
      "25  2019-02-05  20:42:17   신한체    25500        0         PAYCO   793416   원신한\n",
      "26  2019-02-03  10:30:05  FB이체    20000        0           황병찬   818916   분당중\n",
      "27  2019-02-01  18:36:27  FB카드   294890        0       롯데카드(주)   838916   대업2\n"
     ]
    }
   ],
   "source": [
    "for file_path in file_list:\n",
    "    workbook = open_workbook(file_path)\n",
    "    sheet = workbook.sheet_by_index(0)\n",
    "    account_number = sheet.cell_value(rowx=2, colx=1)\n",
    "    \n",
    "    \n",
    "    new_dataframe = pd.read_excel(io=file_path, skiprows=6, header=0)\n",
    "    if \"거래시간\" in new_dataframe.columns:\n",
    "        new_dataframe = new_dataframe.set_index([new_dataframe[\"거래일자\"],new_dataframe[\"거래시간\"], new_dataframe[\"내용\"]])\n",
    "    else:\n",
    "        new_dataframe = new_dataframe.set_index([new_dataframe[\"거래일자\"],new_dataframe[\"내용\"]])\n",
    "    \n",
    "    sheet_name = \"\"\n",
    "    isUpdated = False\n",
    "    with pd.ExcelFile(account_info_path) as excel_object:\n",
    "        for tmp_sheet in excel_object.sheet_names:\n",
    "            if account_number in tmp_sheet:\n",
    "                sheet_name = tmp_sheet\n",
    "                isUpdated = True\n",
    "                break\n",
    "            else:\n",
    "                sheet_name = account_number + \"_신한은행\"\n",
    "                isUpdated = False\n",
    "        \n",
    "        if isUpdated:\n",
    "            old_dataframe = excel_object.parse(sheet_name=sheet_name, header=0)\n",
    "            if \"거래시간\" in old_dataframe.columns:\n",
    "                old_dataframe = old_dataframe.set_index([old_dataframe[\"거래일자\"], old_dataframe[\"거래시간\"], old_dataframe[\"내용\"]])\n",
    "            else:\n",
    "                old_dataframe = old_dataframe.set_index([old_dataframe[\"거래일자\"], old_dataframe[\"내용\"]])\n",
    "            new_dataframe = new_dataframe.append(old_dataframe)\n",
    "            new_dataframe = new_dataframe[~new_dataframe.index.duplicated(keep='first')]\n",
    "            wb = load_workbook(account_info_path)\n",
    "            ws = wb[sheet_name]\n",
    "            wb.remove(ws)\n",
    "            wb.save(account_info_path)\n",
    "            \n",
    "        with pd.ExcelWriter(account_info_path, engine='openpyxl') as excel_writer:\n",
    "            wb = load_workbook(account_info_path)\n",
    "            excel_writer.book = wb\n",
    "            new_dataframe.to_excel(excel_writer, sheet_name=sheet_name, index=False)\n",
    "            excel_writer.save()\n",
    "            \n",
    "    \n",
    "    os.remove(file_path)\n",
    "    print(df_result)\n",
    "#     adjusted_file_path = file_path.replace(\".xls\", \".xlsx\")\n",
    "#     os.rename(file_path, adjusted_file_path)\n",
    "#     wb = load_workbook(adjusted_file_path)\n",
    "#     print(wb.sheetnames)"
   ]
  },
  {
   "cell_type": "code",
   "execution_count": null,
   "metadata": {},
   "outputs": [],
   "source": []
  }
 ],
 "metadata": {
  "kernelspec": {
   "display_name": "rpa_project",
   "language": "python",
   "name": "rpa_project"
  },
  "language_info": {
   "codemirror_mode": {
    "name": "ipython",
    "version": 3
   },
   "file_extension": ".py",
   "mimetype": "text/x-python",
   "name": "python",
   "nbconvert_exporter": "python",
   "pygments_lexer": "ipython3",
   "version": "3.7.0"
  }
 },
 "nbformat": 4,
 "nbformat_minor": 2
}
