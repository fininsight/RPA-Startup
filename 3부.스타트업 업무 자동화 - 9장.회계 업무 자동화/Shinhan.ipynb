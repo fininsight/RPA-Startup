{
 "cells": [
  {
   "cell_type": "code",
   "execution_count": 1,
   "metadata": {},
   "outputs": [],
   "source": [
    "import os\n",
    "import time\n",
    "\n",
    "\n",
    "from selenium import webdriver\n",
    "from selenium.webdriver.chrome.options import Options\n",
    "from selenium.webdriver.support.ui import Select\n",
    "from selenium.webdriver.common.action_chains import ActionChains\n",
    "\n",
    "from selenium.webdriver.common.by import By\n",
    "from selenium.webdriver.support.ui import WebDriverWait\n",
    "from selenium.webdriver.support import expected_conditions as EC\n",
    "\n",
    "import pyautogui"
   ]
  },
  {
   "cell_type": "code",
   "execution_count": 28,
   "metadata": {},
   "outputs": [],
   "source": [
    "certificate_password = os.getenv(\"CERTIFICATE_PASSWORD\")\n",
    "driver_path = os.getenv(\"DRIVER_PATH\", \"C:/dev/Chrome/chromedriver\")\n",
    "file_download_path = os.getenv(\"FILE_DOWNLOAD_PATH\", \"C:\\\\dev\\\\files\")\n",
    "date_from = \"20190201\"\n",
    "date_to = \"20190310\"\n",
    "account_info_path = os.getenv(\"ACCOUNT_INFO_PATH\", \"bank/계좌내역_통합1.xlsx\")"
   ]
  },
  {
   "cell_type": "markdown",
   "metadata": {},
   "source": [
    "### <a id=\"btn_certLogin\" class=\"w2anchor2 \" href=\"javascript:void(null);\">공인인증서로그인</a>"
   ]
  },
  {
   "cell_type": "code",
   "execution_count": 29,
   "metadata": {},
   "outputs": [],
   "source": [
    "options = Options()\n",
    "# chrome user agent를 지정해주기\n",
    "options.add_argument(\"user-agent=Mozilla/5.0 (Windows NT 10.0; Win64; x64) AppleWebKit/537.36 (KHTML, like Gecko) Chrome/60.0.3112.113 Safari/537.36\")\n",
    "\n",
    "#     \"download.default_directory\" : // String which specifies where to download files to by default.\n",
    "#     \"download.prompt_for_download\" : // Boolean which specifies whether we should ask the user if we should download // a file (true) or just download it automatically.\n",
    "#     \"download.directory_upgrade\" : // Boolean that records if the download directory was changed by an // upgrade a unsafe location to a safe location.\n",
    "#     \"safebrowsing.enabled\" : \n",
    "\n",
    "options.add_experimental_option('prefs', {\n",
    "    \"download.default_directory\": file_download_path,\n",
    "    \"download.prompt_for_download\": False,\n",
    "    \"download.directory_upgrade\": True,\n",
    "    \"safebrowsing.enabled\": True\n",
    "})\n",
    "\n",
    "driver = webdriver.Chrome(driver_path, options=options)\n",
    "driver.implicitly_wait(10)\n",
    "driver.maximize_window()\n"
   ]
  },
  {
   "cell_type": "markdown",
   "metadata": {},
   "source": [
    "<tr id=\"id=cn%3DyessignCA%20Class%202%2Cou%3DAccreditedCA%2Co%3Dyessign%2Cc%3Dkr&amp;sn=24%3A36%3A18%3A41%3A\" class=\"data active\"><td><span class=\"ico cert1\">정상</span><span>은행/신용카드/보험(개인) - 신한은행</span></td><td><a href=\"javascript:void(null);\"><span>오지환()</span></a></td><td><a href=\"javascript:void(null);\"><span>2019-10-23</span></a></td><td><a href=\"javascript:void(null);\"><span>금융결제원</span></a></td></tr>"
   ]
  },
  {
   "cell_type": "markdown",
   "metadata": {},
   "source": [
    "### <input type=\"password\" title=\"password\" id=\"INI_userPw\" name=\"INI_userPw\" autocomplete=\"off\" placeholder=\"인증서 암호는 대소문자를 구분합니다.\" data-enc=\"on\" tk_security=\"true\">"
   ]
  },
  {
   "cell_type": "code",
   "execution_count": 30,
   "metadata": {},
   "outputs": [],
   "source": [
    "driver.get(\"https://bank.shinhan.com/index.jsp#252400000000\") #신한은행 로그인 화면\n",
    "button_for_certificate = driver.find_element_by_xpath(\"//a[@id='btn_certLogin']\")\n",
    "time.sleep(4)\n",
    "button_for_certificate.click()"
   ]
  },
  {
   "cell_type": "markdown",
   "metadata": {},
   "source": [
    "### 인증서 로그인"
   ]
  },
  {
   "cell_type": "markdown",
   "metadata": {},
   "source": [
    "#### 인증서선택"
   ]
  },
  {
   "cell_type": "code",
   "execution_count": 32,
   "metadata": {},
   "outputs": [],
   "source": [
    "storage_list = driver.find_element_by_xpath(\"//div[@id='INI_storage_list']\")\n",
    "hardisk = storage_list.find_element_by_xpath(\"//a[text()='하드디스크']\")\n",
    "hardisk.click()\n",
    "\n",
    "cert_table = driver.find_element_by_xpath(\"//table[@id='INI_certList']\")\n",
    "certificate_tag = cert_table.find_element_by_xpath(\"//tr[descendant::span[contains(text(), '오지환')]]\") # 이 정보는 있어야함.\n",
    "certificate_tag.click()\n",
    "input_certificate = driver.find_element_by_xpath(\"//input[@id='INI_userPw']\")\n",
    "input_certificate.click()\n",
    "driver.execute_script(\"arguments[0].focus();\", input_certificate)\n",
    "time.sleep(2)\n",
    "\n",
    "# pyautogui.typewrite(certificate_password)\n",
    "input_certificate.send_keys(certificate_password)\n",
    "\n",
    "time.sleep(1)\n",
    "button_for_click = driver.find_element_by_xpath(\"//button[text()='확인'][@id='INI_certSubmit']\")\n",
    "button_for_click.click()"
   ]
  },
  {
   "cell_type": "markdown",
   "metadata": {},
   "source": [
    "### <a id=\"wq_uuid_203\" class=\"w2group\" href=\"javascript:void(null);\"><span id=\"wq_uuid_204\" class=\"w2span \">조회</span></a>"
   ]
  },
  {
   "cell_type": "code",
   "execution_count": null,
   "metadata": {},
   "outputs": [],
   "source": [
    "# <a id=\"btn_personal\" class=\"w2anchor2 on\" href=\"javascript:void(null);\">개인</a>"
   ]
  },
  {
   "cell_type": "code",
   "execution_count": 33,
   "metadata": {},
   "outputs": [],
   "source": [
    "personal_info_button = driver.find_element_by_xpath(\"//a[@id='btn_personal'][text()='개인']\")\n",
    "personal_info_button.click()\n",
    "\n",
    "inquiry_account_info = driver.find_element_by_xpath(\"//a[contains(@href,'javascript:shbObj.IB00000RF01.fncShowGridClick')][text()='조회'][1]\")\n",
    "inquiry_account_info.click()"
   ]
  },
  {
   "cell_type": "code",
   "execution_count": null,
   "metadata": {},
   "outputs": [],
   "source": [
    "selector_for_enquiry = driver.find_element_by_xpath(\"//select[@title='조회계좌번호']\")\n",
    "selector_for_enquiry = Select(selector_for_enquiry)"
   ]
  },
  {
   "cell_type": "markdown",
   "metadata": {},
   "source": [
    "### <a id=\"wfr_grd_inq_btngrp_div_btn_downFile\" style=\"visibility: visible;\" class=\"w2anchor2 \" href=\"javascript:void(null);\" aria-hidden=\"false\">파일저장</a>"
   ]
  },
  {
   "cell_type": "code",
   "execution_count": 36,
   "metadata": {},
   "outputs": [],
   "source": [
    "def find_element_by_xpath_until_presence(driver, xpath):\n",
    "    wait = WebDriverWait(driver, 10)\n",
    "    return wait.until(EC.presence_of_element_located((By.XPATH, xpath)))\n",
    "\n",
    "def find_element_by_xpath_until_visible(driver, xpath):\n",
    "    wait = WebDriverWait(driver, 10)\n",
    "    return wait.until(EC.visibility_of_element_located((By.XPATH, xpath)))\n",
    "\n",
    "def find_element_by_xpath_until_clickable(driver, xpath, waiting_time=10):\n",
    "    wait = WebDriverWait(driver, waiting_time)\n",
    "    return wait.until(EC.element_to_be_clickable((By.XPATH, xpath)))"
   ]
  },
  {
   "cell_type": "markdown",
   "metadata": {},
   "source": [
    "### <a id=\"wfr_grd_inq_btngrp_div_btn_downFile\" style=\"visibility: visible;\" class=\"w2anchor2 \" href=\"javascript:void(null);\" aria-hidden=\"false\">파일저장</a>"
   ]
  },
  {
   "cell_type": "code",
   "execution_count": 45,
   "metadata": {},
   "outputs": [
    {
     "ename": "NameError",
     "evalue": "name 'account_list' is not defined",
     "output_type": "error",
     "traceback": [
      "\u001b[1;31m---------------------------------------------------------------------------\u001b[0m",
      "\u001b[1;31mNameError\u001b[0m                                 Traceback (most recent call last)",
      "\u001b[1;32m<ipython-input-45-ca6f2dbc3f88>\u001b[0m in \u001b[0;36m<module>\u001b[1;34m\u001b[0m\n\u001b[0;32m      2\u001b[0m \u001b[0mselector_for_enquiry\u001b[0m \u001b[1;33m=\u001b[0m \u001b[0mSelect\u001b[0m\u001b[1;33m(\u001b[0m\u001b[0mselector_for_enquiry\u001b[0m\u001b[1;33m)\u001b[0m\u001b[1;33m\u001b[0m\u001b[0m\n\u001b[0;32m      3\u001b[0m \u001b[1;33m\u001b[0m\u001b[0m\n\u001b[1;32m----> 4\u001b[1;33m \u001b[1;32mfor\u001b[0m \u001b[0maccount\u001b[0m \u001b[1;32min\u001b[0m \u001b[0maccount_list\u001b[0m\u001b[1;33m:\u001b[0m\u001b[1;33m\u001b[0m\u001b[0m\n\u001b[0m\u001b[0;32m      5\u001b[0m     \u001b[0mselector_for_enquiry\u001b[0m \u001b[1;33m=\u001b[0m \u001b[0mdriver\u001b[0m\u001b[1;33m.\u001b[0m\u001b[0mfind_element_by_xpath\u001b[0m\u001b[1;33m(\u001b[0m\u001b[1;34m\"//select[@title='조회계좌번호']\"\u001b[0m\u001b[1;33m)\u001b[0m\u001b[1;33m\u001b[0m\u001b[0m\n\u001b[0;32m      6\u001b[0m     \u001b[0mselector_for_enquiry\u001b[0m \u001b[1;33m=\u001b[0m \u001b[0mSelect\u001b[0m\u001b[1;33m(\u001b[0m\u001b[0mselector_for_enquiry\u001b[0m\u001b[1;33m)\u001b[0m\u001b[1;33m\u001b[0m\u001b[0m\n",
      "\u001b[1;31mNameError\u001b[0m: name 'account_list' is not defined"
     ]
    }
   ],
   "source": [
    "selector_for_enquiry = driver.find_element_by_xpath(\"//select[@title='조회계좌번호']\")\n",
    "selector_for_enquiry = Select(selector_for_enquiry)\n",
    "\n",
    "for account in account_list:\n",
    "    selector_for_enquiry = driver.find_element_by_xpath(\"//select[@title='조회계좌번호']\")\n",
    "    selector_for_enquiry = Select(selector_for_enquiry)\n",
    "    if account in selector_for_enquiry.options:\n",
    "        print(account)\n"
   ]
  },
  {
   "cell_type": "code",
   "execution_count": 46,
   "metadata": {},
   "outputs": [
    {
     "name": "stdout",
     "output_type": "stream",
     "text": [
      "<selenium.webdriver.remote.webelement.WebElement (session=\"48a748b7888588a174a4e0c71f5f28fc\", element=\"0.07413444514648182-27\")>\n",
      "<selenium.webdriver.remote.webelement.WebElement (session=\"48a748b7888588a174a4e0c71f5f28fc\", element=\"0.07413444514648182-36\")>\n"
     ]
    }
   ],
   "source": [
    "account_number_list = []\n",
    "\n",
    "selector_for_enquiry = driver.find_element_by_xpath(\"//select[@title='조회계좌번호']\")\n",
    "selector_for_enquiry = Select(selector_for_enquiry)\n",
    "\n",
    "for option in selector_for_enquiry.options:\n",
    "    if option.get_attribute(\"value\") == \"선택\":\n",
    "        continue\n",
    "    inquiry_account_info(driver, option.get_attribute(\"value\"))"
   ]
  },
  {
   "cell_type": "markdown",
   "metadata": {},
   "source": [
    "<select class=\"w2selectbox_native_select\" id=\"sbx_accno_input_0\" title=\"조회계좌번호\"><option>110-332-717310 [신한 주거래 우대통장(저…]</option><option>223-073-782806 [마이홈플랜 주택청약 종합…]</option></select>\n",
    "<input id=\"wfr_searchCalendar_ica_fr_input\" name=\"wfr_searchCalendar_ica_fr_input\" class=\"w2inputCalendar_divInput\" title=\"시작일자\" style=\"width: 88px; height: 28px;\">\n",
    "<input id=\"wfr_searchCalendar_ica_to_input\" name=\"wfr_searchCalendar_ica_to_input\" class=\"w2inputCalendar_divInput\" title=\"종료일자\" style=\"width: 88px; height: 28px;\">\n",
    "<a id=\"btn_inquiry\" class=\"w2anchor2 btnTySky01 large\" href=\"javascript:void(null);\">조회</a>\n",
    "<a id=\"wfr_grd_inq_btngrp_div_btn_downFile\" style=\"visibility: visible;\" class=\"w2anchor2 \" href=\"javascript:void(null);\" aria-hidden=\"false\">파일저장</a>\n",
    "<input type=\"checkbox\" class=\"w2checkbox_input\" name=\"cbx_columnAll_input\" index=\"0\" id=\"cbx_columnAll_input_0\">\n",
    "<a id=\"btn_saveXls\" class=\"w2anchor2 btnTyBlue01 large\" href=\"javascript:void(null);\">엑셀저장</a>"
   ]
  },
  {
   "cell_type": "code",
   "execution_count": 43,
   "metadata": {},
   "outputs": [],
   "source": [
    "def inquiry_account_info(driver, account_info):\n",
    "    selector_for_enquiry = driver.find_element_by_xpath(\"//select[@title='조회계좌번호']\")\n",
    "    selector_for_enquiry = Select(selector_for_enquiry)\n",
    "\n",
    "    for option in selector_for_enquiry.options:\n",
    "        \n",
    "        if account_info in option.get_attribute(\"value\"):\n",
    "            option.click()\n",
    "            break\n",
    "        \n",
    "    inquiry_duration_from = find_element_by_xpath_until_presence(driver, \"//input[@id='wfr_searchCalendar_ica_fr_input']\")\n",
    "    inquiry_duration_to = find_element_by_xpath_until_presence(driver, \"//input[@id='wfr_searchCalendar_ica_to_input']\")\n",
    "    inquiry_button = find_element_by_xpath_until_presence(driver, \"//a[@id='btn_inquiry']\")\n",
    "\n",
    "    inquiry_duration_from.clear()\n",
    "    inquiry_duration_from.send_keys(date_from)\n",
    "    inquiry_duration_to.clear()\n",
    "    inquiry_duration_to.send_keys(date_to)\n",
    "    driver.execute_script(\"arguments[0].click();\", inquiry_button)\n",
    "    time.sleep(3)\n",
    "#     enquiry_button.click()\n",
    "\n",
    "\n",
    "    download_popup_button = find_element_by_xpath_until_clickable(driver, \"//a[@id='wfr_grd_inq_btngrp_div_btn_downFile']\")\n",
    "    download_popup_button.click()\n",
    "\n",
    "    \n",
    "    time.sleep(3)\n",
    "    iframe = driver.find_element_by_xpath(\"//iframe[@title='파일저장 프레임']\")\n",
    "    driver.switch_to.frame(iframe)\n",
    "    checkbox_for_download = driver.find_element_by_xpath(\"//input[@id='cbx_columnAll_input_0']\")\n",
    "    excel_download_button = driver.find_element_by_xpath(\"//a[@id='btn_saveXls'][text()='엑셀저장']\")\n",
    "    checkbox_for_download.click()\n",
    "    excel_download_button.click()\n",
    "    driver.switch_to.default_content()"
   ]
  },
  {
   "cell_type": "markdown",
   "metadata": {},
   "source": [
    "### 거래내역취합"
   ]
  },
  {
   "cell_type": "code",
   "execution_count": null,
   "metadata": {},
   "outputs": [],
   "source": [
    "import glob\n",
    "import pandas as pd \n",
    "from openpyxl import load_workbook\n",
    "from xlrd import open_workbook"
   ]
  },
  {
   "cell_type": "markdown",
   "metadata": {},
   "source": [
    "### 신한은행에서 다운로드받은 내역은 신한은행_거래내역조회_{거래일시}로 되어있기에 신한은행*.xls로 검색함\n",
    "*가 의미하는 바는 신한은행으로 시작하는 모든 파일명 중 .xls 확장자만을 가지기"
   ]
  },
  {
   "cell_type": "code",
   "execution_count": null,
   "metadata": {},
   "outputs": [],
   "source": [
    "folder_path = os.path.join(file_download_path, \"신한은행*.xls\")\n",
    "file_list = glob.glob(folder_path)\n",
    "print(file_list)"
   ]
  },
  {
   "cell_type": "markdown",
   "metadata": {},
   "source": [
    "### b3셀에 계좌정보가 들어있음.\n",
    "이 다운로드 받은 엑셀파일은 시트가 1개라서 따로 시트를 찾는 로직을 작성할 필요가없다."
   ]
  },
  {
   "cell_type": "code",
   "execution_count": null,
   "metadata": {},
   "outputs": [],
   "source": [
    "df_result = pd.read_excel(io=\"C:\\\\dev\\\\files\\\\신한은행_거래내역조회_20190310131456.xls\", skiprows=6, header=0)\n",
    "\n",
    "\n",
    "print(df_result.columns)"
   ]
  },
  {
   "cell_type": "code",
   "execution_count": null,
   "metadata": {},
   "outputs": [],
   "source": []
  },
  {
   "cell_type": "code",
   "execution_count": null,
   "metadata": {},
   "outputs": [],
   "source": [
    "import glob\n",
    "import pandas as pd \n",
    "from openpyxl import load_workbook\n",
    "\n",
    "def xls_to_xlsx(xls_file_path):\n",
    "    \n",
    "    # replace 함수를 통해서 *.xls 에서 *.xlsx로 새로운 문자열을 만들어줍니다.\n",
    "    xlsx_file_path = xls_file_path.replace(\".xls\", \".xlsx\").replace(\"/\", \"\\\\\")\n",
    "    excel = Dispatch('Excel.Application')\n",
    "    wb = excel.Workbooks.Open(xls_file_path)\n",
    "    \n",
    "    # fileformat 51은 xlsx에 대한 magic number입니다. \n",
    "    wb.SaveAs(xlsx_file_path, FileFormat=51)\n",
    "    wb.close\n",
    "    excel.Quit()\n",
    "    \n",
    "#     os.remove(xls_file_path)\n",
    "    return xlsx_file_path\n",
    "\n",
    "# skiprows, row, column, index, 은행이름\n",
    "\n",
    "\n",
    "for file_path in file_list:    \n",
    "    file_path = xls_to_xlsx(file_path)\n",
    "    wb = load_workbook(file_path)\n",
    "    ws = wb.worksheets[0]\n",
    "    account_number = ws.cell(row=2, column=1).value\n",
    "    wb.close()\n",
    "    \n",
    "    new_dataframe = pd.read_excel(io=file_path, skiprows=6, header=0)\n",
    "    if \"거래시간\" in new_dataframe.columns:\n",
    "        new_dataframe = new_dataframe.set_index([new_dataframe[\"거래일자\"],new_dataframe[\"거래시간\"], new_dataframe[\"내용\"]])\n",
    "    else:\n",
    "        new_dataframe = new_dataframe.set_index([new_dataframe[\"거래일자\"],new_dataframe[\"내용\"]])\n",
    "    \n",
    "    sheet_name = \"\"\n",
    "    isUpdated = False\n",
    "    with pd.ExcelFile(account_info_path) as excel_object:\n",
    "        for tmp_sheet in excel_object.sheet_names:\n",
    "            if account_number in tmp_sheet:\n",
    "                sheet_name = tmp_sheet\n",
    "                isUpdated = True\n",
    "                break\n",
    "            else:\n",
    "                sheet_name = account_number + \"_신한은행\"\n",
    "                isUpdated = False\n",
    "        \n",
    "        if isUpdated:\n",
    "            old_dataframe = excel_object.parse(sheet_name=sheet_name, header=0)\n",
    "            if \"거래시간\" in old_dataframe.columns:\n",
    "                old_dataframe = old_dataframe.set_index([old_dataframe[\"거래일자\"], old_dataframe[\"거래시간\"], old_dataframe[\"내용\"]])\n",
    "            else:\n",
    "                old_dataframe = old_dataframe.set_index([old_dataframe[\"거래일자\"], old_dataframe[\"내용\"]])\n",
    "            new_dataframe = new_dataframe.append(old_dataframe)\n",
    "            new_dataframe = new_dataframe[~new_dataframe.index.duplicated(keep='first')]\n",
    "            wb = load_workbook(account_info_path)\n",
    "            ws = wb[sheet_name]\n",
    "            wb.remove(ws)\n",
    "            wb.save(account_info_path)\n",
    "            \n",
    "        with pd.ExcelWriter(account_info_path, engine='openpyxl') as excel_writer:\n",
    "            wb = load_workbook(account_info_path)\n",
    "            excel_writer.book = wb\n",
    "            new_dataframe.to_excel(excel_writer, sheet_name=sheet_name, index=False)\n",
    "            excel_writer.save()\n",
    "            \n",
    "    \n",
    "    os.remove(file_path)\n",
    "    print(df_result)\n",
    "#     adjusted_file_path = file_path.replace(\".xls\", \".xlsx\")\n",
    "#     os.rename(file_path, adjusted_file_path)\n",
    "#     wb = load_workbook(adjusted_file_path)\n",
    "#     print(wb.sheetnames)"
   ]
  },
  {
   "cell_type": "code",
   "execution_count": null,
   "metadata": {},
   "outputs": [],
   "source": []
  },
  {
   "cell_type": "code",
   "execution_count": null,
   "metadata": {},
   "outputs": [],
   "source": []
  }
 ],
 "metadata": {
  "kernelspec": {
   "display_name": "rpa_project",
   "language": "python",
   "name": "rpa_project"
  },
  "language_info": {
   "codemirror_mode": {
    "name": "ipython",
    "version": 3
   },
   "file_extension": ".py",
   "mimetype": "text/x-python",
   "name": "python",
   "nbconvert_exporter": "python",
   "pygments_lexer": "ipython3",
   "version": "3.7.0"
  }
 },
 "nbformat": 4,
 "nbformat_minor": 2
}
