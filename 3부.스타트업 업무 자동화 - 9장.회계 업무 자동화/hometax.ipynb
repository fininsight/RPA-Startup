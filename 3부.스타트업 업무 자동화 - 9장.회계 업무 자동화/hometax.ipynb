{
 "cells": [
  {
   "cell_type": "code",
   "execution_count": 57,
   "metadata": {},
   "outputs": [],
   "source": [
    "import time\n",
    "import os\n",
    "\n",
    "import numpy as np\n",
    "import cv2\n",
    "from selenium import webdriver\n",
    "from selenium.webdriver.chrome.options import Options\n",
    "\n",
    "import pyautogui"
   ]
  },
  {
   "cell_type": "code",
   "execution_count": 58,
   "metadata": {},
   "outputs": [],
   "source": [
    "def click_and_write_current_screen(img_background, gry_background, template, sentence, result_file_path):\n",
    "    location = template_match(gry_background, template)\n",
    "    draw_rectangle(img_background, template, location)\n",
    "    click_location = get_click_location(template, location)\n",
    "    cv2.imwrite(result_file_path, img_background)\n",
    "    pyautogui.click(click_location)\n",
    "    pyautogui.typewrite(sentence)\n",
    "    \n",
    "def click_current_screen(img_background, gry_background, template, result_file_path):\n",
    "    location = template_match(gry_background, template)\n",
    "    draw_rectangle(img_background, template, location)\n",
    "    click_location = get_click_location(template, location)\n",
    "    cv2.imwrite(result_file_path, img_background)\n",
    "    pyautogui.click(click_location)\n",
    "    \n",
    "def template_match(img_grey, template):\n",
    "    res = cv2.matchTemplate(img_grey, template, cv2.TM_CCOEFF_NORMED)\n",
    "    threshold = get_threshold(res)\n",
    "    result = np.where(res > threshold)\n",
    "    result = zip(*result[::-1])\n",
    "    return list(result)[0]\n",
    "\n",
    "def get_click_location(template, res):\n",
    "    w, h = template.shape[::-1]\n",
    "    return (res[0] + w / 2, res[1] + h / 2)\n",
    "\n",
    "def draw_rectangle(original, template, res):\n",
    "    w, h = template.shape[::-1]\n",
    "    cv2.rectangle(original, res, (res[0] + w, res[1] + h), (0,0,255), 2)\n",
    "\n",
    "def get_threshold(nd_array):\n",
    "    threshold = 0.6\n",
    "    while not select_specific_position(nd_array, threshold):\n",
    "        print(threshold)\n",
    "        threshold += 0.02\n",
    "    \n",
    "    return threshold\n",
    "\n",
    "def select_specific_position(nd_array, threshold):\n",
    "    tmp_array = np.where(nd_array > threshold)\n",
    "    if len(tmp_array) == 2:\n",
    "        return True\n",
    "    else:\n",
    "        return False"
   ]
  },
  {
   "cell_type": "code",
   "execution_count": 59,
   "metadata": {},
   "outputs": [],
   "source": [
    "certificate_password = os.getenv(\"CERTIFICATE_PASSWORD\")\n",
    "driver_path = os.getenv(\"DRIVER_PATH\")\n",
    "dert_path = os.getenv('DERT_PATH')\n",
    "key_path = os.getenv('KEY_PATH')"
   ]
  },
  {
   "cell_type": "markdown",
   "metadata": {},
   "source": [
    "### 홈택스 페이지접근\n"
   ]
  },
  {
   "cell_type": "code",
   "execution_count": 60,
   "metadata": {},
   "outputs": [
    {
     "data": {
      "text/plain": [
       "True"
      ]
     },
     "execution_count": 60,
     "metadata": {},
     "output_type": "execute_result"
    }
   ],
   "source": [
    "options = Options()\n",
    "# chrome user agent를 지정해주기\n",
    "options.add_argument(\"user-agent=Mozilla/5.0 (Windows NT 10.0; Win64; x64) AppleWebKit/537.36 (KHTML, like Gecko) Chrome/60.0.3112.113 Safari/537.36\")\n",
    "\n",
    "\n",
    "driver = webdriver.Chrome(driver_path, options=options)\n",
    "\n",
    "driver.get('https://www.hometax.go.kr/websquare/websquare.wq?w2xPath=/ui/pp/index.xml&tmIdx=0&tm2lIdx=&tm3lIdx=')\n",
    "\n",
    "cookies = driver.get_cookies()\n",
    "\n",
    "button_for_login = driver.find_element_by_xpath(\"//a[@id='group1544'][@class='w2group ']\")\n",
    "time.sleep(5)\n",
    "driver.save_screenshot('hometax/current_page.png')"
   ]
  },
  {
   "cell_type": "markdown",
   "metadata": {},
   "source": [
    "### 홈택스 로그인페이지 "
   ]
  },
  {
   "cell_type": "code",
   "execution_count": 61,
   "metadata": {},
   "outputs": [
    {
     "data": {
      "text/plain": [
       "True"
      ]
     },
     "execution_count": 61,
     "metadata": {},
     "output_type": "execute_result"
    }
   ],
   "source": [
    "button_for_login.click()\n",
    "time.sleep(5)\n",
    "driver.maximize_window()\n",
    "driver.switch_to.frame('txppIframe')\n",
    "driver.save_screenshot('hometax/current_page.png')"
   ]
  },
  {
   "cell_type": "markdown",
   "metadata": {},
   "source": [
    "### 홈택스 공인인증서 창 클릭 "
   ]
  },
  {
   "cell_type": "code",
   "execution_count": null,
   "metadata": {},
   "outputs": [],
   "source": [
    "button_for_login = driver.find_element_by_xpath(\"//input[@type='button'][@id='trigger38'][@value='공인인증서 로그인']\")\n",
    "time.sleep(5)\n",
    "button_for_login.click()\n",
    "driver.save_screenshot('hometax/current_page.png')"
   ]
  },
  {
   "cell_type": "markdown",
   "metadata": {},
   "source": [
    "### 인증서 로그인을 위한 클릭"
   ]
  },
  {
   "cell_type": "code",
   "execution_count": null,
   "metadata": {},
   "outputs": [],
   "source": [
    "time.sleep(5)\n",
    "driver.switch_to.default_content()\n",
    "driver.switch_to.frame('txppIframe')\n",
    "driver.switch_to.frame(\"dscert\")\n",
    "button_for_searching_certificate = driver.find_element_by_xpath(\"//span[@id='get_cert']\")\n",
    "button_for_searching_certificate.click()\n",
    "driver.save_screenshot('hometax/current_page.png')"
   ]
  },
  {
   "cell_type": "markdown",
   "metadata": {},
   "source": [
    "### 인증서 찾기"
   ]
  },
  {
   "cell_type": "code",
   "execution_count": null,
   "metadata": {},
   "outputs": [],
   "source": [
    "time.sleep(3)\n",
    "input_for_cert_path = driver.find_element_by_xpath(\"//input[@type='file'][@id='filefile2']\")\n",
    "input_for_cert_path.click()\n",
    "driver.save_screenshot('hometax/current_page.png')"
   ]
  },
  {
   "cell_type": "code",
   "execution_count": null,
   "metadata": {},
   "outputs": [],
   "source": [
    "time.sleep(3)\n",
    "pyautogui.screenshot('hometax/current.png')"
   ]
  },
  {
   "cell_type": "code",
   "execution_count": null,
   "metadata": {},
   "outputs": [],
   "source": [
    "img_file_dialog = cv2.imread('hometax/current.png')\n",
    "grey_file_dialog = cv2.cvtColor(img_file_dialog, cv2.COLOR_BGR2GRAY)\n",
    "template_for_filedialog = cv2.imread('hometax/cert.png', 0)\n",
    "template_for_button = cv2.imread('hometax/button.png', 0)"
   ]
  },
  {
   "cell_type": "markdown",
   "metadata": {},
   "source": [
    "### FILE PATH 세팅 "
   ]
  },
  {
   "cell_type": "code",
   "execution_count": null,
   "metadata": {},
   "outputs": [],
   "source": [
    "file_path = '\\\"' + dert_path + '\\\"  \\\"' + key_path + '\\\"'"
   ]
  },
  {
   "cell_type": "code",
   "execution_count": null,
   "metadata": {},
   "outputs": [],
   "source": [
    "time.sleep(3)\n",
    "click_and_write_current_screen(img_file_dialog, grey_file_dialog, template_for_filedialog, file_path, result_file_path='hometax/res.png')\n",
    "click_current_screen(img_file_dialog, grey_file_dialog, template_for_button, result_file_path='hometax/res.png')"
   ]
  },
  {
   "cell_type": "markdown",
   "metadata": {},
   "source": [
    "### file path 및 비밀번호 입력"
   ]
  },
  {
   "cell_type": "code",
   "execution_count": null,
   "metadata": {},
   "outputs": [],
   "source": [
    "input_for_password = driver.find_element_by_xpath(\"//input[@type='password'][@id='add_browser_password']\")\n",
    "input_for_password.send_keys(certificate_password)\n",
    "time.sleep(3)\n",
    "button_for_login = driver.find_element_by_xpath(\"//button[@type='button'][@id='btn_common_confirm']\")\n",
    "button_for_login.click()\n",
    "driver.save_screenshot('hometax/current_page.png')"
   ]
  },
  {
   "cell_type": "code",
   "execution_count": null,
   "metadata": {},
   "outputs": [],
   "source": []
  },
  {
   "cell_type": "code",
   "execution_count": null,
   "metadata": {},
   "outputs": [],
   "source": []
  },
  {
   "cell_type": "code",
   "execution_count": null,
   "metadata": {},
   "outputs": [],
   "source": []
  }
 ],
 "metadata": {
  "kernelspec": {
   "display_name": "rpa_project",
   "language": "python",
   "name": "rpa_project"
  },
  "language_info": {
   "codemirror_mode": {
    "name": "ipython",
    "version": 3
   },
   "file_extension": ".py",
   "mimetype": "text/x-python",
   "name": "python",
   "nbconvert_exporter": "python",
   "pygments_lexer": "ipython3",
   "version": "3.7.0"
  }
 },
 "nbformat": 4,
 "nbformat_minor": 2
}
