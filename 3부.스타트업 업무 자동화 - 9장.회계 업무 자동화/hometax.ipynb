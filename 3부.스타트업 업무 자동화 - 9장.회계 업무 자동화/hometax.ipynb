{
 "cells": [
  {
   "cell_type": "code",
   "execution_count": 209,
   "metadata": {},
   "outputs": [],
   "source": [
    "import time\n",
    "import os\n",
    "\n",
    "import numpy as np\n",
    "import cv2\n",
    "from selenium import webdriver\n",
    "from selenium.webdriver.chrome.options import Options\n",
    "import psutil\n",
    "import pyautogui\n",
    "from pywinauto import Application"
   ]
  },
  {
   "cell_type": "markdown",
   "metadata": {},
   "source": [
    "### 필요한 변수선언"
   ]
  },
  {
   "cell_type": "code",
   "execution_count": 210,
   "metadata": {},
   "outputs": [],
   "source": [
    "certificate_password = os.getenv(\"CERTIFICATE_PASSWORD\")\n",
    "driver_path = os.getenv(\"DRIVER_PATH\")\n",
    "dert_path = os.getenv('DERT_PATH')\n",
    "key_path = os.getenv('KEY_PATH')"
   ]
  },
  {
   "cell_type": "markdown",
   "metadata": {},
   "source": [
    "### 홈택스 페이지접근\n"
   ]
  },
  {
   "cell_type": "code",
   "execution_count": 211,
   "metadata": {},
   "outputs": [
    {
     "data": {
      "text/plain": [
       "True"
      ]
     },
     "execution_count": 211,
     "metadata": {},
     "output_type": "execute_result"
    }
   ],
   "source": [
    "options = Options()\n",
    "# chrome user agent를 지정해주기\n",
    "options.add_argument(\"user-agent=Mozilla/5.0 (Windows NT 10.0; Win64; x64) AppleWebKit/537.36 (KHTML, like Gecko) Chrome/60.0.3112.113 Safari/537.36\")\n",
    "# chrome의 user-agent를 지정해준다.\n",
    "\n",
    "\n",
    "driver = webdriver.Chrome(driver_path, options=options)\n",
    "driver.implicitly_wait(10)\n",
    "driver.get('https://www.hometax.go.kr/websquare/websquare.wq?w2xPath=/ui/pp/index.xml&tmIdx=0&tm2lIdx=&tm3lIdx=')\n",
    "\n",
    "cookies = driver.get_cookies()\n",
    "\n",
    "button_for_login = driver.find_element_by_xpath(\"//a[@id='group1544'][@class='w2group ']\")\n",
    "time.sleep(5)\n",
    "driver.save_screenshot('hometax/current_page.png')"
   ]
  },
  {
   "cell_type": "markdown",
   "metadata": {},
   "source": [
    "### 홈택스 로그인페이지 "
   ]
  },
  {
   "cell_type": "code",
   "execution_count": 212,
   "metadata": {},
   "outputs": [
    {
     "data": {
      "text/plain": [
       "True"
      ]
     },
     "execution_count": 212,
     "metadata": {},
     "output_type": "execute_result"
    }
   ],
   "source": [
    "button_for_login.click()\n",
    "time.sleep(5)\n",
    "driver.maximize_window()\n",
    "driver.save_screenshot('hometax/current_page.png')"
   ]
  },
  {
   "cell_type": "markdown",
   "metadata": {},
   "source": [
    "### 홈택스 공인인증서 창 클릭 "
   ]
  },
  {
   "cell_type": "code",
   "execution_count": 213,
   "metadata": {},
   "outputs": [
    {
     "data": {
      "text/plain": [
       "True"
      ]
     },
     "execution_count": 213,
     "metadata": {},
     "output_type": "execute_result"
    }
   ],
   "source": [
    "driver.switch_to.frame('txppIframe')\n",
    "button_for_login = driver.find_element_by_xpath(\"//input[@type='button'][@id='trigger38'][@value='공인인증서 로그인']\")\n",
    "time.sleep(5)\n",
    "button_for_login.click()\n",
    "driver.save_screenshot('hometax/current_page.png')"
   ]
  },
  {
   "cell_type": "markdown",
   "metadata": {},
   "source": [
    "### 인증서 로그인을 위한 클릭"
   ]
  },
  {
   "cell_type": "code",
   "execution_count": 214,
   "metadata": {},
   "outputs": [
    {
     "data": {
      "text/plain": [
       "True"
      ]
     },
     "execution_count": 214,
     "metadata": {},
     "output_type": "execute_result"
    }
   ],
   "source": [
    "time.sleep(5)\n",
    "driver.switch_to.default_content()\n",
    "driver.switch_to.frame('txppIframe')\n",
    "driver.switch_to.frame(\"dscert\")\n",
    "certificate_type = driver.find_element_by_xpath(\"//a[@id='stg_web']\") # 브라우저 공인인증서 방법으로 로그인합니다.\n",
    "certificate_type.click() # 선택을 위한 클릭\n",
    "search_certificate_file = driver.find_element_by_xpath(\"//button[@id='in_browser']\") # 브라우저 공인인증서를 찾기위한 버튼\n",
    "search_certificate_file.click()\n",
    "driver.save_screenshot('hometax/current_page.png')"
   ]
  },
  {
   "cell_type": "markdown",
   "metadata": {},
   "source": [
    "### 인증서 찾기"
   ]
  },
  {
   "cell_type": "code",
   "execution_count": 215,
   "metadata": {},
   "outputs": [
    {
     "data": {
      "text/plain": [
       "True"
      ]
     },
     "execution_count": 215,
     "metadata": {},
     "output_type": "execute_result"
    }
   ],
   "source": [
    "time.sleep(3)\n",
    "input_for_cert_path = driver.find_element_by_xpath(\"//input[@id='filefile2']\")\n",
    "input_for_cert_path.click()\n",
    "driver.save_screenshot('hometax/current_page.png')"
   ]
  },
  {
   "cell_type": "markdown",
   "metadata": {},
   "source": [
    "### FILE PATH 세팅 "
   ]
  },
  {
   "cell_type": "code",
   "execution_count": 216,
   "metadata": {},
   "outputs": [],
   "source": [
    "file_path = '\\\"' + dert_path + '\\\"  \\\"' + key_path + '\\\"' # cert 파일과 der파일을 한꺼번에 입력해주어야 하기 때문에, 이렇게 경로를 설정해준다. "
   ]
  },
  {
   "cell_type": "markdown",
   "metadata": {},
   "source": [
    "### Pywinauto를 위한 process id 얻기"
   ]
  },
  {
   "cell_type": "markdown",
   "metadata": {},
   "source": [
    "### 구조 : chromedriver.exe(부모프로세스) -> chrome.exe 실행(자식프로세스) "
   ]
  },
  {
   "cell_type": "code",
   "execution_count": 217,
   "metadata": {},
   "outputs": [
    {
     "name": "stdout",
     "output_type": "stream",
     "text": [
      "psutil.Process(pid=1804, name='chromedriver.exe', started='14:39:53')\n",
      "psutil.Process(pid=1064, name='chrome.exe', started='14:39:54')\n"
     ]
    }
   ],
   "source": [
    "chrome_driver_process_id = driver.service.process.pid # 현재 구동되고있는 크롬드라이버의 process id를 얻는다.\n",
    "chrome_driver_process = psutil.Process(chrome_driver_process_id)  # 크롬드라이버의 pid로 psutil의 process 객체를 생성한다.\n",
    "print(chrome_driver_process)\n",
    "children_pid = 0\n",
    "for children in chrome_driver_process.children(recursive=False): # 크롬드라이버의 자식프로세스인 chrome.exe 프로세스의 id를 얻는다.\n",
    "    children_pid = children.pid\n",
    "    print(children)"
   ]
  },
  {
   "cell_type": "code",
   "execution_count": 218,
   "metadata": {},
   "outputs": [],
   "source": [
    "chrome_application = Application(backend='uia').connect(process=children_pid) # chrome.exe의 pid로 Application 객체를 생성한다.\n",
    "file_dialog = chrome_application.top_window() # Application객체에서 window specification 객체를 생성한다.\n",
    "dialog = file_dialog.OpenDialog # 크롬에서 file dialog부분만을 얻어온다.\n",
    "ok_button = file_dialog.child_window(title=\"Open\", control_type=\"Button\", auto_id=\"1\") # 경로입력후 열기버튼객체"
   ]
  },
  {
   "cell_type": "code",
   "execution_count": 219,
   "metadata": {},
   "outputs": [
    {
     "data": {
      "text/plain": [
       "<uia_controls.ButtonWrapper - 'Open', Button, 3713041255950518931>"
      ]
     },
     "execution_count": 219,
     "metadata": {},
     "output_type": "execute_result"
    }
   ],
   "source": [
    "edit_file_path = dialog.child_window(title_re=\"File name.*\", control_type=\"ComboBox\").child_window(title_re=\"File name.*\")\n",
    "edit_file_path.set_focus() # set focus 메소드는 화면으로 띄워줌 ! (보장됨) AOT\n",
    "pyautogui.typewrite(file_path) \n",
    "ok_button.click()"
   ]
  },
  {
   "cell_type": "code",
   "execution_count": 220,
   "metadata": {},
   "outputs": [],
   "source": [
    "input_for_password = driver.find_element_by_xpath(\"//input[@type='password'][@id='add_browser_password']\")\n",
    "input_for_password.send_keys(certificate_password)\n",
    "button_for_login = driver.find_element_by_xpath(\"//button[@type='button'][@id='btn_common_confirm']\")\n",
    "button_for_login.click()"
   ]
  },
  {
   "cell_type": "markdown",
   "metadata": {},
   "source": [
    "### 조회/발급탭 클릭"
   ]
  },
  {
   "cell_type": "code",
   "execution_count": 221,
   "metadata": {},
   "outputs": [],
   "source": [
    "time.sleep(1)\n",
    "\n",
    "driver.switch_to.default_content()\n",
    "inquiry_button = driver.find_element_by_xpath(\"//a[descendant::span[text()='조회/발급']][@class='w2group ']\")\n",
    "inquiry_button.click()"
   ]
  },
  {
   "cell_type": "markdown",
   "metadata": {},
   "source": [
    "### 세금계산서 발행을 위한 정보가져오기 from excel"
   ]
  },
  {
   "cell_type": "code",
   "execution_count": 222,
   "metadata": {},
   "outputs": [],
   "source": [
    "from openpyxl import load_workbook\n",
    "\n",
    "wb = load_workbook(filename='hometax/hometax_세금계산서발행.xlsx', data_only=True) # hometax 폴더에 있는 hometax_세금계산서발행.xlsx을 엽니다. \n",
    "ws = wb['발급'] # excel sheet중 발급시트를 가져옵니다.\n"
   ]
  },
  {
   "cell_type": "code",
   "execution_count": 223,
   "metadata": {},
   "outputs": [],
   "source": [
    "necessary_input_row = ws[\"A3:L3\"]\n",
    "tax_filing_info = ws[\"A7:H22\"]"
   ]
  },
  {
   "cell_type": "code",
   "execution_count": 224,
   "metadata": {},
   "outputs": [],
   "source": [
    "register_number = \"\" # 사업자등록번호\n",
    "company_name = \"\" # 상호명\n",
    "ceo_name = \"\" # 대표이름\n",
    "company_address = \"\" # 회사주소\n",
    "business_topic = \"\" # 업종\n",
    "business_detail = \"\" # 설명\n",
    "company_email_id = \"\" #  email_id\n",
    "company_email_domain = \"\" # email_id_domain\n",
    "issue_date = \"\" # O\n",
    "\n",
    "for row in necessary_input_row:\n",
    "    register_number = str(row[1].value)\n",
    "    company_name = str(row[2].value)\n",
    "    ceo_name = str(row[3].value)\n",
    "    company_address = str(row[4].value)\n",
    "    business_topic = str(row[5].value)\n",
    "    business_detail = str(row[6].value)\n",
    "    company_email_id = str(row[7].value).split('@')[0]\n",
    "    company_email_domain = str(row[7].value).split('@')[1] \n",
    "    issue_date = str(row[8].value)"
   ]
  },
  {
   "cell_type": "code",
   "execution_count": 225,
   "metadata": {},
   "outputs": [
    {
     "name": "stdout",
     "output_type": "stream",
     "text": [
      "iteyes.co.kr\n"
     ]
    }
   ],
   "source": [
    "print(company_email_domain)"
   ]
  },
  {
   "cell_type": "markdown",
   "metadata": {},
   "source": [
    "###  전자세금계산서 발행"
   ]
  },
  {
   "cell_type": "code",
   "execution_count": 226,
   "metadata": {},
   "outputs": [],
   "source": [
    "time.sleep(2)\n",
    "driver.switch_to.default_content()\n",
    "driver.switch_to.frame('txppIframe')\n",
    "issue_tab = driver.find_element_by_xpath(\"//a[@id][text()='발급']\")\n",
    "issue_tab.click()\n",
    "issue_button = driver.find_element_by_xpath(\"//a[@id][text()='건별발급']\")\n",
    "issue_button.click()"
   ]
  },
  {
   "cell_type": "code",
   "execution_count": 227,
   "metadata": {},
   "outputs": [],
   "source": [
    "driver.switch_to.default_content()\n",
    "driver.switch_to.frame('txppIframe')\n",
    "input_registration_number = driver.find_element_by_xpath(\"//input[@id='edtDmnrBsnoTop']\") # 사업자등록번호 input\n",
    "button_registration_number = driver.find_element_by_xpath(\"//input[@type='button'][@id='btnDmnrBsnoCnfrTop']\") # 사업자 등록번호 input 후 확인버튼\n",
    "input_counterpart_company_name = driver.find_element_by_xpath(\"//input[@id='edtDmnrTnmNmTop']\") # 거래상대방 상호\n",
    "input_counterpart_ceo_name = driver.find_element_by_xpath(\"//input[@id='edtDmnrRprsFnmTop']\") # 거래상대방 대표이름\n",
    "input_counterpart_address = driver.find_element_by_xpath(\"//input[@id='edtDmnrPfbAdrTop']\")\n",
    "input_counterpart_business_topic = driver.find_element_by_xpath(\"//input[@id='edtDmnrBcNmTop']\")\n",
    "input_counterpart_business_detail = driver.find_element_by_xpath(\"//input[@id='edtDmnrItmNmTop']\")\n",
    "input_counterpart_email_id = driver.find_element_by_xpath(\"//input[@id='edtDmnrMchrgEmlIdTop']\") # 이메일 아이디\n",
    "input_counterpart_email_domain = driver.find_element_by_xpath(\"//input[@id='edtDmnrMchrgEmlDmanTop']\") # 이메일 도메인(naver.com)\n",
    "input_issue_date = driver.find_element_by_xpath(\"//input[@id='calWrtDtTop_input']\") # 작성일자\n",
    "button_issue = driver.find_element_by_xpath(\"//input[@id='btnIsn']\") # 발행하기버튼\n",
    "# date : genEtxivLsatTop_0_edtLsatSplDdTop"
   ]
  },
  {
   "cell_type": "code",
   "execution_count": 228,
   "metadata": {},
   "outputs": [],
   "source": [
    "input_registration_number.send_keys(register_number)\n",
    "button_registration_number.click()\n",
    "time.sleep(1)\n",
    "driver.switch_to.alert.accept()"
   ]
  },
  {
   "cell_type": "code",
   "execution_count": 229,
   "metadata": {},
   "outputs": [],
   "source": [
    "def clear_and_send_keys(input_tag, key):\n",
    "    print(key)\n",
    "    if type(key) is not str:\n",
    "        key = \"\"\n",
    "    elif key == \"None\":\n",
    "        key = \"\"\n",
    "        \n",
    "    input_tag.clear()\n",
    "    input_tag.send_keys(key)"
   ]
  },
  {
   "cell_type": "code",
   "execution_count": 2,
   "metadata": {},
   "outputs": [
    {
     "ename": "NameError",
     "evalue": "name 'clear_and_send_keys' is not defined",
     "output_type": "error",
     "traceback": [
      "\u001b[1;31m---------------------------------------------------------------------------\u001b[0m",
      "\u001b[1;31mNameError\u001b[0m                                 Traceback (most recent call last)",
      "\u001b[1;32m<ipython-input-2-b06f903d4102>\u001b[0m in \u001b[0;36m<module>\u001b[1;34m\u001b[0m\n\u001b[1;32m----> 1\u001b[1;33m \u001b[0mclear_and_send_keys\u001b[0m\u001b[1;33m(\u001b[0m\u001b[0minput_counterpart_company_name\u001b[0m\u001b[1;33m,\u001b[0m \u001b[0mcompany_name\u001b[0m\u001b[1;33m)\u001b[0m\u001b[1;33m\u001b[0m\u001b[0m\n\u001b[0m\u001b[0;32m      2\u001b[0m \u001b[0mclear_and_send_keys\u001b[0m\u001b[1;33m(\u001b[0m\u001b[0minput_counterpart_ceo_name\u001b[0m\u001b[1;33m,\u001b[0m \u001b[0mceo_name\u001b[0m\u001b[1;33m)\u001b[0m\u001b[1;33m\u001b[0m\u001b[0m\n\u001b[0;32m      3\u001b[0m \u001b[0mclear_and_send_keys\u001b[0m\u001b[1;33m(\u001b[0m\u001b[0minput_counterpart_email_id\u001b[0m\u001b[1;33m,\u001b[0m \u001b[0mcompany_email_id\u001b[0m\u001b[1;33m)\u001b[0m\u001b[1;33m\u001b[0m\u001b[0m\n\u001b[0;32m      4\u001b[0m \u001b[0mclear_and_send_keys\u001b[0m\u001b[1;33m(\u001b[0m\u001b[0minput_counterpart_email_domain\u001b[0m\u001b[1;33m,\u001b[0m \u001b[0mcompany_email_domain\u001b[0m\u001b[1;33m)\u001b[0m\u001b[1;33m\u001b[0m\u001b[0m\n\u001b[0;32m      5\u001b[0m \u001b[0mclear_and_send_keys\u001b[0m\u001b[1;33m(\u001b[0m\u001b[0minput_counterpart_business_topic\u001b[0m\u001b[1;33m,\u001b[0m \u001b[0mbusiness_topic\u001b[0m\u001b[1;33m)\u001b[0m\u001b[1;33m\u001b[0m\u001b[0m\n",
      "\u001b[1;31mNameError\u001b[0m: name 'clear_and_send_keys' is not defined"
     ]
    }
   ],
   "source": [
    "clear_and_send_keys(input_counterpart_company_name, company_name)\n",
    "clear_and_send_keys(input_counterpart_ceo_name, ceo_name)\n",
    "clear_and_send_keys(input_counterpart_email_id, company_email_id)\n",
    "clear_and_send_keys(input_counterpart_email_domain, company_email_domain)\n",
    "clear_and_send_keys(input_counterpart_business_topic, business_topic)\n",
    "clear_and_send_keys(input_counterpart_business_detail, business_detail)"
   ]
  },
  {
   "cell_type": "markdown",
   "metadata": {},
   "source": [
    "### 가격, 수량정보 (For-loop 필요)"
   ]
  },
  {
   "cell_type": "code",
   "execution_count": 231,
   "metadata": {},
   "outputs": [],
   "source": [
    "\"\"\"\n",
    "input 창의 id가 genEtxivLsatTop_{index}__edtLsatSplDdTop 형식으로 되어있음.\n",
    "genEtxivLsatTop_0__edtLsatSplDdTop\n",
    "genEtxivLsatTop_1__edtLsatSplDdTop\n",
    "genEtxivLsatTop_2__edtLsatSplDdTop\n",
    "genEtxivLsatTop_3__edtLsatSplDdTop\n",
    "...\n",
    "\n",
    "\"\"\" \n",
    "def get_input_element_dynamically(index):\n",
    "    input_specific_day = driver.find_element_by_xpath(f\"//input[@id='genEtxivLsatTop_{index}_edtLsatSplDdTop']\") #  발행일자 \n",
    "    input_commodity_name = driver.find_element_by_xpath(f\"//input[@id='genEtxivLsatTop_{index}_edtLsatNmTop']\") # 상품이름\n",
    "    input_criteria = driver.find_element_by_xpath(f\"//input[@id='genEtxivLsatTop_{index}_edtLsatRszeNmTop']\") # 상품 측정 척도 (개, kg 등)\n",
    "    input_quantity = driver.find_element_by_xpath(f\"//input[@id='genEtxivLsatTop_{index}_edtLsatQtyTop']\") # 상품 개수\n",
    "    input_price = driver.find_element_by_xpath(f\"//input[@id='genEtxivLsatTop_{index}_edtLsatUtprcTop']\") # 상품 가격\n",
    "    input_value_of_supply = driver.find_element_by_xpath(f\"//input[@id='genEtxivLsatTop_{index}_edtLsatSplCftTop']\")\n",
    "    input_tax_amount = driver.find_element_by_xpath(f\"//input[@id='genEtxivLsatTop_{index}_edtLsatTxamtTop']\")\n",
    "    input_sales_detail = driver.find_element_by_xpath(f\"//input[@id='genEtxivLsatTop_{index}_edtLsatRmrkCntnTop']\")\n",
    "    return (input_specific_day, \n",
    "            input_commodity_name, \n",
    "            input_criteria, \n",
    "            input_quantity, \n",
    "            input_price, \n",
    "            input_value_of_supply, \n",
    "            input_tax_amount,\n",
    "            input_sales_detail\n",
    "            )"
   ]
  },
  {
   "cell_type": "code",
   "execution_count": 1,
   "metadata": {},
   "outputs": [
    {
     "ename": "NameError",
     "evalue": "name 'tax_filing_info' is not defined",
     "output_type": "error",
     "traceback": [
      "\u001b[1;31m---------------------------------------------------------------------------\u001b[0m",
      "\u001b[1;31mNameError\u001b[0m                                 Traceback (most recent call last)",
      "\u001b[1;32m<ipython-input-1-71bff24a52c0>\u001b[0m in \u001b[0;36m<module>\u001b[1;34m\u001b[0m\n\u001b[0;32m     12\u001b[0m \"\"\"\n\u001b[0;32m     13\u001b[0m \u001b[1;33m\u001b[0m\u001b[0m\n\u001b[1;32m---> 14\u001b[1;33m \u001b[1;32mfor\u001b[0m \u001b[0mindex\u001b[0m\u001b[1;33m,\u001b[0m \u001b[0mrow\u001b[0m \u001b[1;32min\u001b[0m \u001b[0menumerate\u001b[0m\u001b[1;33m(\u001b[0m\u001b[0mtax_filing_info\u001b[0m\u001b[1;33m)\u001b[0m\u001b[1;33m:\u001b[0m\u001b[1;33m\u001b[0m\u001b[0m\n\u001b[0m\u001b[0;32m     15\u001b[0m     \u001b[1;32mif\u001b[0m \u001b[0mrow\u001b[0m\u001b[1;33m[\u001b[0m\u001b[1;36m1\u001b[0m\u001b[1;33m]\u001b[0m\u001b[1;33m.\u001b[0m\u001b[0mvalue\u001b[0m \u001b[1;32mis\u001b[0m \u001b[1;32mNone\u001b[0m\u001b[1;33m:\u001b[0m \u001b[1;31m# 품목이 없음면 loop를 종료한다.\u001b[0m\u001b[1;33m\u001b[0m\u001b[0m\n\u001b[0;32m     16\u001b[0m         \u001b[1;32mbreak\u001b[0m\u001b[1;33m\u001b[0m\u001b[0m\n",
      "\u001b[1;31mNameError\u001b[0m: name 'tax_filing_info' is not defined"
     ]
    }
   ],
   "source": [
    "# 일자\t품목\t규격\t수량\t단가\t공급가액\t세액\t비고\n",
    "# [0]   [1]   [2]   [3]   [4]   [5]         [6]   [7]\n",
    "\"\"\"\n",
    "row[0] : 일자정보\n",
    "row[1] : 품목정보\n",
    "row[2] : 규격\n",
    "row[3] : 수량\n",
    "row[4] : 단가\n",
    "row[5] : 공급가액\n",
    "row[6] : 세액\n",
    "row[7] : 비고\n",
    "\"\"\"\n",
    "\n",
    "for index, row in enumerate(tax_filing_info):\n",
    "    if row[1].value is None: # 품목이 없음면 loop를 종료한다.\n",
    "        break \n",
    "        \n",
    "    input_specific_day, input_commodity_name, input_criteria, input_quantity, input_price, input_value_of_supply, input_tax_amount, input_sales_detail = get_input_element_dynamically(index)\n",
    "    clear_and_send_keys(input_specific_day, str(row[0].internal_value))\n",
    "    clear_and_send_keys(input_commodity_name, str(row[1].value))\n",
    "    clear_and_send_keys(input_criteria, str(row[2].value))\n",
    "    clear_and_send_keys(input_quantity, str(row[3].value))\n",
    "    clear_and_send_keys(input_price, str(row[4].value))\n",
    "#     clear_and_send_keys(input_value_of_supply, str(row[5].internal_value))\n",
    "#     clear_and_send_keys(input_tax_amount, str(row[6].internal_value))\n",
    "    clear_and_send_keys(input_sales_detail, str(row[7].value))"
   ]
  },
  {
   "cell_type": "code",
   "execution_count": 233,
   "metadata": {},
   "outputs": [],
   "source": [
    "button_for_issue = driver.find_element_by_xpath(\"//input[@id='btnIsn']\")\n",
    "button_for_issue.click()"
   ]
  },
  {
   "cell_type": "code",
   "execution_count": null,
   "metadata": {},
   "outputs": [],
   "source": []
  }
 ],
 "metadata": {
  "kernelspec": {
   "display_name": "rpa_project",
   "language": "python",
   "name": "rpa_project"
  },
  "language_info": {
   "codemirror_mode": {
    "name": "ipython",
    "version": 3
   },
   "file_extension": ".py",
   "mimetype": "text/x-python",
   "name": "python",
   "nbconvert_exporter": "python",
   "pygments_lexer": "ipython3",
   "version": "3.7.0"
  }
 },
 "nbformat": 4,
 "nbformat_minor": 2
}
